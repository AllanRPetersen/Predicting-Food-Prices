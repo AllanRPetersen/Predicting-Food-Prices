{
 "cells": [
  {
   "cell_type": "markdown",
   "id": "69e967f5",
   "metadata": {},
   "source": [
    "# Exploring the food price global database"
   ]
  },
  {
   "cell_type": "markdown",
   "id": "e74222e6",
   "metadata": {},
   "source": [
    "## Load the libraries and the csv"
   ]
  },
  {
   "cell_type": "code",
   "execution_count": 2,
   "id": "05b535da",
   "metadata": {},
   "outputs": [],
   "source": [
    "import pandas as pd\n",
    "import numpy as np\n",
    "import matplotlib.pyplot as plt\n",
    "import seaborn as sns\n",
    "from sklearn.impute import SimpleImputer"
   ]
  },
  {
   "cell_type": "code",
   "execution_count": 4,
   "id": "8f88476f",
   "metadata": {},
   "outputs": [
    {
     "name": "stdout",
     "output_type": "stream",
     "text": [
      "adrian_food_global_pricing.ipynb  adrian_nutrients.ipynb\r\n"
     ]
    }
   ],
   "source": [
    "!ls"
   ]
  },
  {
   "cell_type": "code",
   "execution_count": 8,
   "id": "a462b879",
   "metadata": {},
   "outputs": [
    {
     "name": "stderr",
     "output_type": "stream",
     "text": [
      "/home/drifter/.pyenv/versions/3.8.12/envs/lewagon/lib/python3.8/site-packages/IPython/core/interactiveshell.py:3444: DtypeWarning: Columns (3) have mixed types.Specify dtype option on import or set low_memory=False.\n",
      "  exec(code_obj, self.user_global_ns, self.user_ns)\n"
     ]
    },
    {
     "data": {
      "text/html": [
       "<div>\n",
       "<style scoped>\n",
       "    .dataframe tbody tr th:only-of-type {\n",
       "        vertical-align: middle;\n",
       "    }\n",
       "\n",
       "    .dataframe tbody tr th {\n",
       "        vertical-align: top;\n",
       "    }\n",
       "\n",
       "    .dataframe thead th {\n",
       "        text-align: right;\n",
       "    }\n",
       "</style>\n",
       "<table border=\"1\" class=\"dataframe\">\n",
       "  <thead>\n",
       "    <tr style=\"text-align: right;\">\n",
       "      <th></th>\n",
       "      <th>adm0_id</th>\n",
       "      <th>adm0_name</th>\n",
       "      <th>adm1_id</th>\n",
       "      <th>adm1_name</th>\n",
       "      <th>mkt_id</th>\n",
       "      <th>mkt_name</th>\n",
       "      <th>cm_id</th>\n",
       "      <th>cm_name</th>\n",
       "      <th>cur_id</th>\n",
       "      <th>cur_name</th>\n",
       "      <th>pt_id</th>\n",
       "      <th>pt_name</th>\n",
       "      <th>um_id</th>\n",
       "      <th>um_name</th>\n",
       "      <th>mp_month</th>\n",
       "      <th>mp_year</th>\n",
       "      <th>mp_price</th>\n",
       "      <th>mp_commoditysource</th>\n",
       "    </tr>\n",
       "  </thead>\n",
       "  <tbody>\n",
       "    <tr>\n",
       "      <th>0</th>\n",
       "      <td>1.0</td>\n",
       "      <td>Afghanistan</td>\n",
       "      <td>272</td>\n",
       "      <td>Badakhshan</td>\n",
       "      <td>266</td>\n",
       "      <td>Fayzabad</td>\n",
       "      <td>55</td>\n",
       "      <td>Bread - Retail</td>\n",
       "      <td>0.0</td>\n",
       "      <td>AFN</td>\n",
       "      <td>15</td>\n",
       "      <td>Retail</td>\n",
       "      <td>5</td>\n",
       "      <td>KG</td>\n",
       "      <td>1</td>\n",
       "      <td>2014</td>\n",
       "      <td>50.0</td>\n",
       "      <td>NaN</td>\n",
       "    </tr>\n",
       "    <tr>\n",
       "      <th>1</th>\n",
       "      <td>1.0</td>\n",
       "      <td>Afghanistan</td>\n",
       "      <td>272</td>\n",
       "      <td>Badakhshan</td>\n",
       "      <td>266</td>\n",
       "      <td>Fayzabad</td>\n",
       "      <td>55</td>\n",
       "      <td>Bread - Retail</td>\n",
       "      <td>0.0</td>\n",
       "      <td>AFN</td>\n",
       "      <td>15</td>\n",
       "      <td>Retail</td>\n",
       "      <td>5</td>\n",
       "      <td>KG</td>\n",
       "      <td>2</td>\n",
       "      <td>2014</td>\n",
       "      <td>50.0</td>\n",
       "      <td>NaN</td>\n",
       "    </tr>\n",
       "    <tr>\n",
       "      <th>2</th>\n",
       "      <td>1.0</td>\n",
       "      <td>Afghanistan</td>\n",
       "      <td>272</td>\n",
       "      <td>Badakhshan</td>\n",
       "      <td>266</td>\n",
       "      <td>Fayzabad</td>\n",
       "      <td>55</td>\n",
       "      <td>Bread - Retail</td>\n",
       "      <td>0.0</td>\n",
       "      <td>AFN</td>\n",
       "      <td>15</td>\n",
       "      <td>Retail</td>\n",
       "      <td>5</td>\n",
       "      <td>KG</td>\n",
       "      <td>3</td>\n",
       "      <td>2014</td>\n",
       "      <td>50.0</td>\n",
       "      <td>NaN</td>\n",
       "    </tr>\n",
       "    <tr>\n",
       "      <th>3</th>\n",
       "      <td>1.0</td>\n",
       "      <td>Afghanistan</td>\n",
       "      <td>272</td>\n",
       "      <td>Badakhshan</td>\n",
       "      <td>266</td>\n",
       "      <td>Fayzabad</td>\n",
       "      <td>55</td>\n",
       "      <td>Bread - Retail</td>\n",
       "      <td>0.0</td>\n",
       "      <td>AFN</td>\n",
       "      <td>15</td>\n",
       "      <td>Retail</td>\n",
       "      <td>5</td>\n",
       "      <td>KG</td>\n",
       "      <td>4</td>\n",
       "      <td>2014</td>\n",
       "      <td>50.0</td>\n",
       "      <td>NaN</td>\n",
       "    </tr>\n",
       "    <tr>\n",
       "      <th>4</th>\n",
       "      <td>1.0</td>\n",
       "      <td>Afghanistan</td>\n",
       "      <td>272</td>\n",
       "      <td>Badakhshan</td>\n",
       "      <td>266</td>\n",
       "      <td>Fayzabad</td>\n",
       "      <td>55</td>\n",
       "      <td>Bread - Retail</td>\n",
       "      <td>0.0</td>\n",
       "      <td>AFN</td>\n",
       "      <td>15</td>\n",
       "      <td>Retail</td>\n",
       "      <td>5</td>\n",
       "      <td>KG</td>\n",
       "      <td>5</td>\n",
       "      <td>2014</td>\n",
       "      <td>50.0</td>\n",
       "      <td>NaN</td>\n",
       "    </tr>\n",
       "  </tbody>\n",
       "</table>\n",
       "</div>"
      ],
      "text/plain": [
       "   adm0_id    adm0_name  adm1_id   adm1_name  mkt_id  mkt_name  cm_id  \\\n",
       "0      1.0  Afghanistan      272  Badakhshan     266  Fayzabad     55   \n",
       "1      1.0  Afghanistan      272  Badakhshan     266  Fayzabad     55   \n",
       "2      1.0  Afghanistan      272  Badakhshan     266  Fayzabad     55   \n",
       "3      1.0  Afghanistan      272  Badakhshan     266  Fayzabad     55   \n",
       "4      1.0  Afghanistan      272  Badakhshan     266  Fayzabad     55   \n",
       "\n",
       "          cm_name  cur_id cur_name  pt_id pt_name  um_id um_name  mp_month  \\\n",
       "0  Bread - Retail     0.0      AFN     15  Retail      5      KG         1   \n",
       "1  Bread - Retail     0.0      AFN     15  Retail      5      KG         2   \n",
       "2  Bread - Retail     0.0      AFN     15  Retail      5      KG         3   \n",
       "3  Bread - Retail     0.0      AFN     15  Retail      5      KG         4   \n",
       "4  Bread - Retail     0.0      AFN     15  Retail      5      KG         5   \n",
       "\n",
       "   mp_year  mp_price  mp_commoditysource  \n",
       "0     2014      50.0                 NaN  \n",
       "1     2014      50.0                 NaN  \n",
       "2     2014      50.0                 NaN  \n",
       "3     2014      50.0                 NaN  \n",
       "4     2014      50.0                 NaN  "
      ]
     },
     "execution_count": 8,
     "metadata": {},
     "output_type": "execute_result"
    }
   ],
   "source": [
    "price_df = pd.read_csv('../raw_data/wfp_food_prices_database.csv')\n",
    "price_df.head()"
   ]
  },
  {
   "cell_type": "code",
   "execution_count": 9,
   "id": "1be27e3b",
   "metadata": {},
   "outputs": [
    {
     "data": {
      "text/plain": [
       "(1560551, 18)"
      ]
     },
     "execution_count": 9,
     "metadata": {},
     "output_type": "execute_result"
    }
   ],
   "source": [
    "price_df.shape"
   ]
  },
  {
   "cell_type": "code",
   "execution_count": 10,
   "id": "724f1b73",
   "metadata": {},
   "outputs": [
    {
     "data": {
      "text/plain": [
       "Index(['adm0_id', 'adm0_name', 'adm1_id', 'adm1_name', 'mkt_id', 'mkt_name',\n",
       "       'cm_id', 'cm_name', 'cur_id', 'cur_name', 'pt_id', 'pt_name', 'um_id',\n",
       "       'um_name', 'mp_month', 'mp_year', 'mp_price', 'mp_commoditysource'],\n",
       "      dtype='object')"
      ]
     },
     "execution_count": 10,
     "metadata": {},
     "output_type": "execute_result"
    }
   ],
   "source": [
    "price_df.columns"
   ]
  },
  {
   "cell_type": "code",
   "execution_count": 24,
   "id": "d1a82be0",
   "metadata": {},
   "outputs": [
    {
     "data": {
      "text/plain": [
       "777"
      ]
     },
     "execution_count": 24,
     "metadata": {},
     "output_type": "execute_result"
    }
   ],
   "source": [
    "price_df['cm_name'].nunique()"
   ]
  },
  {
   "cell_type": "code",
   "execution_count": 31,
   "id": "c84764b4",
   "metadata": {},
   "outputs": [
    {
     "data": {
      "text/plain": [
       "'Wage (non-qualified labour) - Retail'"
      ]
     },
     "execution_count": 31,
     "metadata": {},
     "output_type": "execute_result"
    }
   ],
   "source": [
    "price_df['cm_name'].sort_values().unique()[-50]"
   ]
  },
  {
   "cell_type": "code",
   "execution_count": 27,
   "id": "92df99c1",
   "metadata": {},
   "outputs": [
    {
     "data": {
      "text/plain": [
       "adm0_id               0.000000\n",
       "adm0_name             0.000000\n",
       "adm1_id               0.000000\n",
       "adm1_name             0.302027\n",
       "mkt_id                0.000000\n",
       "mkt_name              0.000000\n",
       "cm_id                 0.000000\n",
       "cm_name               0.000000\n",
       "cur_id                0.000000\n",
       "cur_name              0.000000\n",
       "pt_id                 0.000000\n",
       "pt_name               0.000000\n",
       "um_id                 0.000000\n",
       "um_name               0.000000\n",
       "mp_month              0.000000\n",
       "mp_year               0.000000\n",
       "mp_price              0.000000\n",
       "mp_commoditysource    1.000000\n",
       "dtype: float64"
      ]
     },
     "execution_count": 27,
     "metadata": {},
     "output_type": "execute_result"
    }
   ],
   "source": [
    "price_df.isnull().sum()/len(price_df)"
   ]
  },
  {
   "cell_type": "code",
   "execution_count": 28,
   "id": "48d9239f",
   "metadata": {},
   "outputs": [],
   "source": [
    "#dropping the mp_commoditysource because it's 100% Nan's\n",
    "\n",
    "#price_df.drop(columns='mp_commoditysource', inplace=True)"
   ]
  },
  {
   "cell_type": "code",
   "execution_count": 30,
   "id": "da49f4f0",
   "metadata": {},
   "outputs": [
    {
     "data": {
      "text/plain": [
       "array(['Abia', 'Abim', 'Abyan', 'Adamaoua', 'Adamawa', 'Addis Ababa',\n",
       "       'Aden', 'Adrar', 'Afar', 'Agadez', 'Akmolinskaya', 'Al Bayda',\n",
       "       \"Al Dhale'e\", 'Al Hudaydah', 'Al Jawf', 'Al Khalil (Hebron)',\n",
       "       'Al Maharah', 'Al Mahwit', 'Al_Qunaytirah', 'Alaotra Mangoro',\n",
       "       'Aleppo', 'Alger', 'Ali Sabieh', 'Alibori', 'Almaty City area',\n",
       "       'Altay Rep.', 'Amanat Al Asimah', 'Amhara', 'Amoron I Mania',\n",
       "       'Amran', 'Amudat', 'An Giang', 'Analamanga', 'Analanjirofo',\n",
       "       'Androy', 'Anosy', 'Antioquia', 'Ariha (Jericho)', 'Artibonite',\n",
       "       'Arusha', 'As_Suweida', 'Ashanti', 'Assaba', 'Atakora',\n",
       "       'Atlantico', 'Atlantique', 'Atsimo Andrefana', 'Atsimo Atsinanana',\n",
       "       'Atsinanana', 'Attapu',\n",
       "       'Autonomous region in Muslim Mindanao (ARMM)', 'Awdal', 'Azuay',\n",
       "       'Badakhshan', 'Badghis', 'Bafata', 'Baghlan', 'Bakool', 'Balkh',\n",
       "       'Balochistan', 'Bamako', 'Bamingui-Bangoran', 'Bamyan', 'Banadir',\n",
       "       'Bandundu', 'Bangkok', 'Bangui', 'Banteay Meanchey', 'Bari',\n",
       "       'Barisal', 'Bas-Congo', 'Battambang', 'Baucau', 'Bay',\n",
       "       \"Bayan-O'lgii\", 'Beneshangul Gumu', 'Beni', 'Berea', 'Bethlehem',\n",
       "       'Betsiboka', 'Biombo', 'Blue Nile', 'Bobonaro', 'Boeny', 'Boke',\n",
       "       'Bokeo', 'Bolama', 'Bolikhamxai', 'Bolivar', 'Bomi', 'Bong',\n",
       "       'Borgou', 'Borno', 'Boucle Du Mouhoun', 'Bouenza', 'Boyaca',\n",
       "       'Brakna', 'Brazzaville', 'Brong Ahafo', 'Bubanza',\n",
       "       'Buenos Aires D.f.', 'Bujumbura Mairie', 'Bujumbura Rural',\n",
       "       'Bulawayo', 'Bururi', 'Busia', 'Butha Buthe', 'Cacheu', 'Caldas',\n",
       "       'Cankuzo', 'Caprivi', 'Caqueta', 'Cascades', 'Cauca', 'Central',\n",
       "       'Central Region', 'Central River', 'Centre', 'Centre-est',\n",
       "       'Centre-nord', 'Centre-ouest', 'Centre-sud', 'Cesar', 'Champasak',\n",
       "       'Chimborazo', 'Chin', 'Chisinau', 'Chittagong', 'Chuquisaca',\n",
       "       'Chuvashiya Rep.', 'Cibitoke', 'City_Damascus', 'Coast',\n",
       "       'Cochabamba', 'Collines', 'Comoe', 'Conakry', 'Copperbelt',\n",
       "       'Cordillera Administrative region (CAR)', 'Cordoba', 'Couffo',\n",
       "       'Cundinamarca', 'Cuvette', 'Dakar', 'Dakhlet-Nouadhibou',\n",
       "       'Damascus', 'Dar-es-salaam', 'Dara', 'Daykundi', 'Dayr_Az_Zor',\n",
       "       'Denguele', 'Dhaka', 'Dhamar', 'Diana', 'Diffa', 'Dikhil', 'Dili',\n",
       "       'Diourbel', 'Dire Dawa', 'Distrito Federal', 'Djibouti', 'Dodoma',\n",
       "       'Dong Thap', 'Donga', 'Dornod', 'Dosso', 'East/Iburasirazuba',\n",
       "       'Eastern', 'Equateur', 'Erongo', 'Est', 'Estuaire',\n",
       "       'Extreme - Nord', 'Far Western', 'Farah', 'Faranah', 'Faryab',\n",
       "       'Fatick', 'Gabu', 'Galgaduud', 'Gambela', 'Gao', 'Gauteng', 'Gaza',\n",
       "       'Gbarpolu', 'Gedaref', 'Gedo', 'Geita', 'Ghazni', 'Ghor', 'Gitega',\n",
       "       'Gombe', 'Gorgol', 'Grand Bassa', 'Grand Cape Mount',\n",
       "       'Grand Gedeh', 'Grand Kru', 'Grande Anse', 'Greater Accra',\n",
       "       'Guayas', 'Guidimakha', 'Gulu', 'Hadramaut', 'Hajjah', 'Hama',\n",
       "       'Harare', 'Hardap', 'Hareri', 'Hassakeh', 'Haut-Mbomou',\n",
       "       'Haute Matsiatra', 'Haute-Kotto', 'Hauts-bassins', 'Hebei Sheng',\n",
       "       'Heilongjiang Sheng', 'Henan Sheng', 'Hilmand', 'Hiraan', 'Hirat',\n",
       "       'Hodh Ech Chargi', 'Hodh El Gharbi', 'Homs', 'Houaphan',\n",
       "       'Hubei Sheng', 'Huila', 'Ibb', 'Idleb', 'Iganga', 'Ihorombe',\n",
       "       'Iringa', 'Jabalya', 'Jalisco', 'Jawzjan', 'Jenin',\n",
       "       'Jiangxi Sheng', 'Jigawa', 'Jilin Sheng', 'Jinja', 'Juba Dhexe',\n",
       "       'Juba Hoose', 'Kaabong', 'Kabale', 'Kabul', 'Kachin', 'Kaduna',\n",
       "       'Kaffrine', 'Kagera', 'Kampala', 'Kampong Cham', 'Kampong Chhnang',\n",
       "       'Kampong Speu', 'Kampong Thom', 'Kampot', 'Kandahar', 'Kandal',\n",
       "       'Kanifing Municipal Council', 'Kankan', 'Kano', 'Kaolack',\n",
       "       'Kapisa', 'Kara', 'Karas', 'Karuzi', 'Kasai Occidental',\n",
       "       'Kasai Oriental', 'Kassala', 'Katanga', 'Katavi', 'Katsina',\n",
       "       'Kayanza', 'Kayar', 'Kayes', 'Kayin', 'Kebbi', 'Kedougou', 'Kep',\n",
       "       'Khammouan', 'Khartoum', 'Khomas', 'Khost', 'Khulna',\n",
       "       'Khyber Pakhtunkhwa', 'Kidal', 'Kigali City/Umujyi wa Kigali',\n",
       "       'Kigoma', 'Kilimanjaro', 'Kindia', 'Kinshasa', 'Kirundo',\n",
       "       'Koh Kong', 'Kolda', 'Kotido', 'Koulikoro', 'Kratie', 'Kunar',\n",
       "       'Kunduz', 'Kustanayskaya', 'Kween', 'Kyankwanzi', 'Kémo', 'La Paz',\n",
       "       'Labe', 'Laghman', 'Lagos', 'Lahj', 'Lattakia', 'Lekoumou',\n",
       "       'Leribe', 'Likouala', 'Lima', 'Lindi', 'Lipetskaya Oblast', 'Lira',\n",
       "       'Littoral', 'Lobaye', 'Lofa', 'Logar', 'Louang-Namtha',\n",
       "       'Louangphabang', 'Louga', 'Lower River', 'Luanda', 'Luapula',\n",
       "       'Lunda Norte', 'Lusaka', 'Maekel', 'Mafeteng', 'Magdalena',\n",
       "       'Magway', 'Makamba', 'Mambéré-Kadéï', 'Mamou', 'Manabi',\n",
       "       'Mangistauskaya', 'Manicaland', 'Maniema', 'Manyara', 'Mara',\n",
       "       'Maradi', 'Margibi', 'Marib', 'Maritime', 'Maryland', 'Maseru',\n",
       "       'Mashonaland Central', 'Mashonaland East', 'Mashonaland West',\n",
       "       'Masindi', 'Masvingo', 'Matabeleland North', 'Matabeleland South',\n",
       "       'Matam', 'Mbale', 'Mbarara', 'Mbeya', 'Mbomou', 'Melaky', 'Menabe',\n",
       "       'Meta', 'Mid Western', 'Midlands', 'Minsk City', \"Mohale's Hoek\",\n",
       "       'Mokhotlong', 'Mon', 'Mondul Kiri', 'Mono', 'Montagnes',\n",
       "       'Montserrado', 'Mopti', 'Morogoro', 'Moskva', 'Mtwara', 'Mudug',\n",
       "       'Muramvya', 'Muyinga', 'Mwanza', 'Mwaro', 'Nablus', 'Nairobi',\n",
       "       'Nakapiripirit', 'Nana-Gribizi', 'Nana-Mambéré', 'Nangarhar',\n",
       "       'Narino', 'National Capital region (NCR)', 'Ngozi', 'Niamey',\n",
       "       'Nimba', 'Nimroz', 'Njombe', 'Nord', 'Nord - Ouest', 'Nord Est',\n",
       "       'Nord Ouest', 'Nord-Kivu', 'Norte De Santander', 'North Bank',\n",
       "       'North Darfur', 'North Eastern', 'North Kordofan', 'North-Western',\n",
       "       'North/Amajyaruguru', 'Northern', 'Northern Region', 'Nouakchott',\n",
       "       'Nugaal', 'Nuristan', 'Nyanza', 'Nzerekore', \"O'vorxangai\",\n",
       "       'Obock', 'Oecussi', 'Oio', 'Omaheke', \"Ombella M'Poko\", 'Oosaka',\n",
       "       'Orientale', 'Oromia', 'Oruro', 'Oshana', 'Otdar Meanchey',\n",
       "       'Otjozondjupa', 'Ouaka', 'Oudomxai', 'Oueme', 'Ouest', 'Ouham',\n",
       "       'Ouham Pendé', 'Oyo', 'Pailin', 'Paktika', 'Paktya', 'Pando',\n",
       "       'Panjsher', 'Parwan', 'Phnom Penh', 'Phongsali', 'Pichincha',\n",
       "       'Plateau', 'Plateau Central', 'Plateaux', 'Point-Noire', 'Pool',\n",
       "       'Potosi', 'Preah Sihanouk', 'Preah Vihear', 'Prey Veng', 'Puebla',\n",
       "       'Punjab', 'Pursat', \"Qacha's Nek\", 'Qalqiliya', 'Quinara',\n",
       "       'Quindio', 'Quthing', 'Rafah', 'Rajshahi', 'Rakhine', 'Ramallah',\n",
       "       'Rangpur', 'Raqqa', 'Ratanak Kiri', 'Raymah', 'Red Sea',\n",
       "       'Region I (Ilocos region)', 'Region II (Cagayan Valley)',\n",
       "       'Region III (Central Luzon)', 'Region IV (Southern Tagalog)',\n",
       "       'Region IV-A (Calabarzon)', 'Region IX (Zamboanga Peninsula)',\n",
       "       'Region V (Bicol region)', 'Region VI (Western Visayas)',\n",
       "       'Region VII (Central Visayas)', 'Region VIII (Eastern Visayas)',\n",
       "       'Region X (Northern Mindanao)', 'Region XI (Davao Region)',\n",
       "       'Region XII (Soccsksargen)', 'Region XIII (Caraga)', 'Rift Valley',\n",
       "       'Risaralda', 'River Gee', 'Rivercess', 'Rostovskaya Oblast',\n",
       "       'Rukwa', 'Rutana', 'Ruvuma', 'Ruyigi', 'SNNPR', \"Sa'ada\",\n",
       "       'Sagaing', 'Sahel', 'Saint louis', 'Salavan', 'Samangan', \"Sana'a\",\n",
       "       'Sanaag', 'Sangha-Mbaéré', 'Sankt-peterburg', 'Santa Cruz',\n",
       "       'Santa Fe', 'Santander', 'Santiago', 'Santo Antao', 'Sao Vicente',\n",
       "       'Sar-e-Pul', 'Savanes', 'Savannakhet', 'Sector Autonomo De Bissau',\n",
       "       'Sedhiou', 'Segou', 'Selenge', 'Semenawi Keih Bahri',\n",
       "       'Shabelle Dhexe', 'Shabelle Hoose', 'Shabwah', 'Shan (E)',\n",
       "       'Shan (N)', 'Shan (S)', 'Shandong Sheng', 'Shanxi Sheng',\n",
       "       'Shinyanga', 'Siem Reap', 'Sikasso', 'Sinaloa', 'Sindh', 'Singida',\n",
       "       'Sinoe', 'Sofia', 'Sokoto', 'Somali', 'Sool', 'Soroti',\n",
       "       'South Darfur', 'South Kordofan', 'South/Amajyepfo', 'Southern',\n",
       "       'Southern Region', 'Stung Treng', 'Sucre', 'Sud', 'Sud Est',\n",
       "       'Sud-Kivu', 'Sud-ouest', 'Svay Rieng', 'Sverdlovskaya Oblast',\n",
       "       'Sylhet', 'Tabora', 'Tadjourah', 'Tagant', 'Tahoua', 'Taizz',\n",
       "       'Takeo', 'Takhar', 'Tambacounda', 'Tanga', 'Taninthayi', 'Tarija',\n",
       "       'Tartous', 'Tatarstan Rep.', 'Tbilisi', 'Tehran', 'Thaba Tseka',\n",
       "       'Thies', 'Tighina', 'Tigray', 'Tillaberi', 'Tindouf',\n",
       "       'Tiris-Zemmour', 'Togdheer', 'Toliara', 'Tolima', 'Tombali',\n",
       "       'Tombouctou', 'Tookyoo', 'Trarza', 'Tulkarm', 'Tungurahua',\n",
       "       'Ulaanbaatar', 'Upper East', 'Upper River', 'Upper West',\n",
       "       'Uruzgan', 'Vakaga', 'Vakinankaratra', 'Valle Del Cauca',\n",
       "       'Vallee Du Bandama', 'Vatovavy Fitovinany', 'Veracruz',\n",
       "       'Vientiane', 'Vientiane capital', 'Volta', 'Wardak', 'West Coast',\n",
       "       'West Darfur', 'West Kordofan', 'West/Iburengerazuba', 'Western',\n",
       "       'Western Area', 'White Nile', 'Woqooyi Galbeed', 'Xaignabouli',\n",
       "       'Xekong', 'Xiangkhouang', 'Yamoussoukro', 'Yangon', 'Yobe',\n",
       "       'Zabul', 'Zamfara', 'Zhejiang Sheng', 'Ziguinchor', 'Zinder',\n",
       "       'Zou', nan], dtype=object)"
      ]
     },
     "execution_count": 30,
     "metadata": {},
     "output_type": "execute_result"
    }
   ],
   "source": [
    "price_df['adm1_name'].sort_values().unique()"
   ]
  },
  {
   "cell_type": "code",
   "execution_count": 33,
   "id": "da856261",
   "metadata": {},
   "outputs": [],
   "source": [
    "freq_imputer = SimpleImputer(missing_values=np.nan, strategy='most_frequent')"
   ]
  },
  {
   "cell_type": "code",
   "execution_count": 34,
   "id": "1f366d1e",
   "metadata": {},
   "outputs": [],
   "source": [
    "price_df.dropna(subset=['adm1_name'], inplace=True)"
   ]
  },
  {
   "cell_type": "code",
   "execution_count": 35,
   "id": "9f5786c8",
   "metadata": {},
   "outputs": [
    {
     "data": {
      "text/plain": [
       "adm0_id      0.0\n",
       "adm0_name    0.0\n",
       "adm1_id      0.0\n",
       "adm1_name    0.0\n",
       "mkt_id       0.0\n",
       "mkt_name     0.0\n",
       "cm_id        0.0\n",
       "cm_name      0.0\n",
       "cur_id       0.0\n",
       "cur_name     0.0\n",
       "pt_id        0.0\n",
       "pt_name      0.0\n",
       "um_id        0.0\n",
       "um_name      0.0\n",
       "mp_month     0.0\n",
       "mp_year      0.0\n",
       "mp_price     0.0\n",
       "dtype: float64"
      ]
     },
     "execution_count": 35,
     "metadata": {},
     "output_type": "execute_result"
    }
   ],
   "source": [
    "price_df.isnull().sum()/len(price_df)"
   ]
  },
  {
   "cell_type": "code",
   "execution_count": 45,
   "id": "8af9e375",
   "metadata": {},
   "outputs": [
    {
     "data": {
      "text/plain": [
       "'Bread'"
      ]
     },
     "execution_count": 45,
     "metadata": {},
     "output_type": "execute_result"
    }
   ],
   "source": [
    "#trying the format to pick the type of food\n",
    "price_df['cm_name'][0].split(' ')[0]"
   ]
  },
  {
   "cell_type": "code",
   "execution_count": 48,
   "id": "efc4aad7",
   "metadata": {},
   "outputs": [
    {
     "data": {
      "text/html": [
       "<div>\n",
       "<style scoped>\n",
       "    .dataframe tbody tr th:only-of-type {\n",
       "        vertical-align: middle;\n",
       "    }\n",
       "\n",
       "    .dataframe tbody tr th {\n",
       "        vertical-align: top;\n",
       "    }\n",
       "\n",
       "    .dataframe thead th {\n",
       "        text-align: right;\n",
       "    }\n",
       "</style>\n",
       "<table border=\"1\" class=\"dataframe\">\n",
       "  <thead>\n",
       "    <tr style=\"text-align: right;\">\n",
       "      <th></th>\n",
       "      <th>adm0_id</th>\n",
       "      <th>adm0_name</th>\n",
       "      <th>adm1_id</th>\n",
       "      <th>adm1_name</th>\n",
       "      <th>mkt_id</th>\n",
       "      <th>mkt_name</th>\n",
       "      <th>cm_id</th>\n",
       "      <th>cm_name</th>\n",
       "      <th>cur_id</th>\n",
       "      <th>cur_name</th>\n",
       "      <th>pt_id</th>\n",
       "      <th>pt_name</th>\n",
       "      <th>um_id</th>\n",
       "      <th>um_name</th>\n",
       "      <th>mp_month</th>\n",
       "      <th>mp_year</th>\n",
       "      <th>mp_price</th>\n",
       "    </tr>\n",
       "  </thead>\n",
       "  <tbody>\n",
       "    <tr>\n",
       "      <th>0</th>\n",
       "      <td>1.0</td>\n",
       "      <td>Afghanistan</td>\n",
       "      <td>272</td>\n",
       "      <td>Badakhshan</td>\n",
       "      <td>266</td>\n",
       "      <td>Fayzabad</td>\n",
       "      <td>55</td>\n",
       "      <td>Bread - Retail</td>\n",
       "      <td>0.0</td>\n",
       "      <td>AFN</td>\n",
       "      <td>15</td>\n",
       "      <td>Retail</td>\n",
       "      <td>5</td>\n",
       "      <td>KG</td>\n",
       "      <td>1</td>\n",
       "      <td>2014</td>\n",
       "      <td>50.0</td>\n",
       "    </tr>\n",
       "    <tr>\n",
       "      <th>1</th>\n",
       "      <td>1.0</td>\n",
       "      <td>Afghanistan</td>\n",
       "      <td>272</td>\n",
       "      <td>Badakhshan</td>\n",
       "      <td>266</td>\n",
       "      <td>Fayzabad</td>\n",
       "      <td>55</td>\n",
       "      <td>Bread - Retail</td>\n",
       "      <td>0.0</td>\n",
       "      <td>AFN</td>\n",
       "      <td>15</td>\n",
       "      <td>Retail</td>\n",
       "      <td>5</td>\n",
       "      <td>KG</td>\n",
       "      <td>2</td>\n",
       "      <td>2014</td>\n",
       "      <td>50.0</td>\n",
       "    </tr>\n",
       "    <tr>\n",
       "      <th>2</th>\n",
       "      <td>1.0</td>\n",
       "      <td>Afghanistan</td>\n",
       "      <td>272</td>\n",
       "      <td>Badakhshan</td>\n",
       "      <td>266</td>\n",
       "      <td>Fayzabad</td>\n",
       "      <td>55</td>\n",
       "      <td>Bread - Retail</td>\n",
       "      <td>0.0</td>\n",
       "      <td>AFN</td>\n",
       "      <td>15</td>\n",
       "      <td>Retail</td>\n",
       "      <td>5</td>\n",
       "      <td>KG</td>\n",
       "      <td>3</td>\n",
       "      <td>2014</td>\n",
       "      <td>50.0</td>\n",
       "    </tr>\n",
       "    <tr>\n",
       "      <th>3</th>\n",
       "      <td>1.0</td>\n",
       "      <td>Afghanistan</td>\n",
       "      <td>272</td>\n",
       "      <td>Badakhshan</td>\n",
       "      <td>266</td>\n",
       "      <td>Fayzabad</td>\n",
       "      <td>55</td>\n",
       "      <td>Bread - Retail</td>\n",
       "      <td>0.0</td>\n",
       "      <td>AFN</td>\n",
       "      <td>15</td>\n",
       "      <td>Retail</td>\n",
       "      <td>5</td>\n",
       "      <td>KG</td>\n",
       "      <td>4</td>\n",
       "      <td>2014</td>\n",
       "      <td>50.0</td>\n",
       "    </tr>\n",
       "    <tr>\n",
       "      <th>4</th>\n",
       "      <td>1.0</td>\n",
       "      <td>Afghanistan</td>\n",
       "      <td>272</td>\n",
       "      <td>Badakhshan</td>\n",
       "      <td>266</td>\n",
       "      <td>Fayzabad</td>\n",
       "      <td>55</td>\n",
       "      <td>Bread - Retail</td>\n",
       "      <td>0.0</td>\n",
       "      <td>AFN</td>\n",
       "      <td>15</td>\n",
       "      <td>Retail</td>\n",
       "      <td>5</td>\n",
       "      <td>KG</td>\n",
       "      <td>5</td>\n",
       "      <td>2014</td>\n",
       "      <td>50.0</td>\n",
       "    </tr>\n",
       "  </tbody>\n",
       "</table>\n",
       "</div>"
      ],
      "text/plain": [
       "   adm0_id    adm0_name  adm1_id   adm1_name  mkt_id  mkt_name  cm_id  \\\n",
       "0      1.0  Afghanistan      272  Badakhshan     266  Fayzabad     55   \n",
       "1      1.0  Afghanistan      272  Badakhshan     266  Fayzabad     55   \n",
       "2      1.0  Afghanistan      272  Badakhshan     266  Fayzabad     55   \n",
       "3      1.0  Afghanistan      272  Badakhshan     266  Fayzabad     55   \n",
       "4      1.0  Afghanistan      272  Badakhshan     266  Fayzabad     55   \n",
       "\n",
       "          cm_name  cur_id cur_name  pt_id pt_name  um_id um_name  mp_month  \\\n",
       "0  Bread - Retail     0.0      AFN     15  Retail      5      KG         1   \n",
       "1  Bread - Retail     0.0      AFN     15  Retail      5      KG         2   \n",
       "2  Bread - Retail     0.0      AFN     15  Retail      5      KG         3   \n",
       "3  Bread - Retail     0.0      AFN     15  Retail      5      KG         4   \n",
       "4  Bread - Retail     0.0      AFN     15  Retail      5      KG         5   \n",
       "\n",
       "   mp_year  mp_price  \n",
       "0     2014      50.0  \n",
       "1     2014      50.0  \n",
       "2     2014      50.0  \n",
       "3     2014      50.0  \n",
       "4     2014      50.0  "
      ]
     },
     "execution_count": 48,
     "metadata": {},
     "output_type": "execute_result"
    }
   ],
   "source": [
    "price_df.head()"
   ]
  },
  {
   "cell_type": "code",
   "execution_count": 50,
   "id": "81173eac",
   "metadata": {},
   "outputs": [
    {
     "data": {
      "text/plain": [
       "0    Bread\n",
       "1    Bread\n",
       "2    Bread\n",
       "3    Bread\n",
       "4    Bread\n",
       "Name: type, dtype: object"
      ]
     },
     "execution_count": 50,
     "metadata": {},
     "output_type": "execute_result"
    }
   ],
   "source": [
    "price_df['type'] = price_df['cm_name'].apply(lambda x: x.split(' ')[0])\n",
    "price_df['type'].head()"
   ]
  },
  {
   "cell_type": "code",
   "execution_count": 51,
   "id": "607bae59",
   "metadata": {},
   "outputs": [
    {
     "data": {
      "text/plain": [
       "array(['Bread', 'Wheat', 'Rice', 'Wage', 'Livestock', 'Fuel', 'Exchange',\n",
       "       'Oil', 'Sugar', 'Pulses', 'Salt', 'Beans', 'Milk', 'Potatoes',\n",
       "       'Eggs', 'Meat', 'Lentils', 'Pasta', 'Tomatoes', 'Cheese',\n",
       "       'Carrots', 'Onions', 'Bananas', 'Tea', 'Fish', 'Apples', 'Oranges',\n",
       "       'Cassava', 'Maize', 'Sorghum', 'Millet', 'Sweet', 'Yam',\n",
       "       'Plantains', 'Cabbage', 'Soybeans', 'Lemons', 'Papaya', 'Okra',\n",
       "       'Groundnuts', 'Peppers', 'Coconut', 'Leafy', 'Peas', 'Shrimps',\n",
       "       'Taro', 'Snail', 'Noodles', 'Quinoa', 'Avocados', 'Eggplants',\n",
       "       'Snake', 'Water', 'Wax', 'Prawn', 'Sesame', 'Squashes', 'Charcoal',\n",
       "       'Laundry', 'Chicken', 'Garlic', 'Cocoa', 'Coffee', 'Chickpeas',\n",
       "       'Cauliflower', 'Cucumbers', 'Beetroots', 'Spinach', 'Blackberry',\n",
       "       'Broccoli', 'Mangoes', 'Pumpkin', 'Passion', 'Guava', 'Barley',\n",
       "       'Cashew', 'Cornstarch', 'Peanut', 'Cotton', 'Transport', 'Cowpeas',\n",
       "       'Lettuce', 'Pineapples', 'Watermelons', 'Oat', 'Strawberries',\n",
       "       'Melons', 'Naranjilla', 'Tree', 'Grapes', 'Teff', 'Lin', 'Niger',\n",
       "       'Rape', 'Butter', 'Kale', 'Honey', 'Corn', 'Kocho', 'Fonio',\n",
       "       'Dates', 'Yogurt', 'Gari', 'Chili', 'Handwash', 'Firewood',\n",
       "       'Candles', 'Batteries', 'Radish', 'Cane', 'Bitterball', 'Pigeon',\n",
       "       'Couscous', 'Semolina', 'Feed', 'Straw', 'Tortilla', 'Ghee',\n",
       "       'Poultry', 'Beans(mash)', 'Zucchini', 'Potato', 'Labaneh',\n",
       "       'Bulgur', 'Parsley', 'Yeast', 'Diapers', 'Dishwashing', 'Sanitary',\n",
       "       'Toothpaste', 'Multipurpose', 'Milling'], dtype=object)"
      ]
     },
     "execution_count": 51,
     "metadata": {},
     "output_type": "execute_result"
    }
   ],
   "source": [
    "price_df['type'].unique()"
   ]
  },
  {
   "cell_type": "code",
   "execution_count": 52,
   "id": "641c2942",
   "metadata": {},
   "outputs": [
    {
     "data": {
      "text/plain": [
       "array([2014, 2015, 2016, 2017, 2018, 2019, 2020, 2003, 2004, 2005, 2006,\n",
       "       2007, 2008, 2009, 2010, 2011, 2012, 2013, 2000, 2001, 2002, 1998,\n",
       "       1999, 1992, 1993, 1994, 1995, 1996, 1997, 1990, 1991])"
      ]
     },
     "execution_count": 52,
     "metadata": {},
     "output_type": "execute_result"
    }
   ],
   "source": [
    "price_df['mp_year'].unique()"
   ]
  },
  {
   "cell_type": "code",
   "execution_count": null,
   "id": "e5cb76a2",
   "metadata": {},
   "outputs": [],
   "source": [
    "import requests\n",
    "\n"
   ]
  }
 ],
 "metadata": {
  "kernelspec": {
   "display_name": "Python 3 (ipykernel)",
   "language": "python",
   "name": "python3"
  },
  "language_info": {
   "codemirror_mode": {
    "name": "ipython",
    "version": 3
   },
   "file_extension": ".py",
   "mimetype": "text/x-python",
   "name": "python",
   "nbconvert_exporter": "python",
   "pygments_lexer": "ipython3",
   "version": "3.8.12"
  }
 },
 "nbformat": 4,
 "nbformat_minor": 5
}
