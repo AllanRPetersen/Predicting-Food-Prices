{
 "cells": [
  {
   "cell_type": "code",
   "execution_count": 1,
   "id": "de6b0df4",
   "metadata": {},
   "outputs": [],
   "source": [
    "import pandas as pd\n",
    "import numpy as np\n",
    "import seaborn as sns\n",
    "import matplotlib.pyplot as plt\n",
    "import requests"
   ]
  },
  {
   "cell_type": "code",
   "execution_count": 2,
   "id": "fc9ef9d4",
   "metadata": {},
   "outputs": [],
   "source": [
    "pd.set_option('display.max_columns', None)"
   ]
  },
  {
   "cell_type": "markdown",
   "id": "0bd182d7",
   "metadata": {},
   "source": [
    "## Global Food Prices Database (Cleaned)\n",
    "Updated Global Market Food Prices with 1.048M rows"
   ]
  },
  {
   "cell_type": "code",
   "execution_count": 3,
   "id": "4e3d3c41",
   "metadata": {},
   "outputs": [
    {
     "name": "stderr",
     "output_type": "stream",
     "text": [
      "/Users/plyck/.pyenv/versions/3.8.12/envs/lewagon/lib/python3.8/site-packages/IPython/core/interactiveshell.py:3444: DtypeWarning: Columns (3) have mixed types.Specify dtype option on import or set low_memory=False.\n",
      "  exec(code_obj, self.user_global_ns, self.user_ns)\n"
     ]
    }
   ],
   "source": [
    "price_df = pd.read_csv('../raw_data/Global Food Prices Database/wfp_food_prices_database.csv')"
   ]
  },
  {
   "cell_type": "code",
   "execution_count": 4,
   "id": "6bad525a",
   "metadata": {},
   "outputs": [
    {
     "data": {
      "text/html": [
       "<div>\n",
       "<style scoped>\n",
       "    .dataframe tbody tr th:only-of-type {\n",
       "        vertical-align: middle;\n",
       "    }\n",
       "\n",
       "    .dataframe tbody tr th {\n",
       "        vertical-align: top;\n",
       "    }\n",
       "\n",
       "    .dataframe thead th {\n",
       "        text-align: right;\n",
       "    }\n",
       "</style>\n",
       "<table border=\"1\" class=\"dataframe\">\n",
       "  <thead>\n",
       "    <tr style=\"text-align: right;\">\n",
       "      <th></th>\n",
       "      <th>adm0_id</th>\n",
       "      <th>adm0_name</th>\n",
       "      <th>adm1_id</th>\n",
       "      <th>adm1_name</th>\n",
       "      <th>mkt_id</th>\n",
       "      <th>mkt_name</th>\n",
       "      <th>cm_id</th>\n",
       "      <th>cm_name</th>\n",
       "      <th>cur_id</th>\n",
       "      <th>cur_name</th>\n",
       "      <th>pt_id</th>\n",
       "      <th>pt_name</th>\n",
       "      <th>um_id</th>\n",
       "      <th>um_name</th>\n",
       "      <th>mp_month</th>\n",
       "      <th>mp_year</th>\n",
       "      <th>mp_price</th>\n",
       "      <th>mp_commoditysource</th>\n",
       "    </tr>\n",
       "  </thead>\n",
       "  <tbody>\n",
       "    <tr>\n",
       "      <th>0</th>\n",
       "      <td>1.0</td>\n",
       "      <td>Afghanistan</td>\n",
       "      <td>272</td>\n",
       "      <td>Badakhshan</td>\n",
       "      <td>266</td>\n",
       "      <td>Fayzabad</td>\n",
       "      <td>55</td>\n",
       "      <td>Bread - Retail</td>\n",
       "      <td>0.0</td>\n",
       "      <td>AFN</td>\n",
       "      <td>15</td>\n",
       "      <td>Retail</td>\n",
       "      <td>5</td>\n",
       "      <td>KG</td>\n",
       "      <td>1</td>\n",
       "      <td>2014</td>\n",
       "      <td>50.0</td>\n",
       "      <td>NaN</td>\n",
       "    </tr>\n",
       "    <tr>\n",
       "      <th>1</th>\n",
       "      <td>1.0</td>\n",
       "      <td>Afghanistan</td>\n",
       "      <td>272</td>\n",
       "      <td>Badakhshan</td>\n",
       "      <td>266</td>\n",
       "      <td>Fayzabad</td>\n",
       "      <td>55</td>\n",
       "      <td>Bread - Retail</td>\n",
       "      <td>0.0</td>\n",
       "      <td>AFN</td>\n",
       "      <td>15</td>\n",
       "      <td>Retail</td>\n",
       "      <td>5</td>\n",
       "      <td>KG</td>\n",
       "      <td>2</td>\n",
       "      <td>2014</td>\n",
       "      <td>50.0</td>\n",
       "      <td>NaN</td>\n",
       "    </tr>\n",
       "    <tr>\n",
       "      <th>2</th>\n",
       "      <td>1.0</td>\n",
       "      <td>Afghanistan</td>\n",
       "      <td>272</td>\n",
       "      <td>Badakhshan</td>\n",
       "      <td>266</td>\n",
       "      <td>Fayzabad</td>\n",
       "      <td>55</td>\n",
       "      <td>Bread - Retail</td>\n",
       "      <td>0.0</td>\n",
       "      <td>AFN</td>\n",
       "      <td>15</td>\n",
       "      <td>Retail</td>\n",
       "      <td>5</td>\n",
       "      <td>KG</td>\n",
       "      <td>3</td>\n",
       "      <td>2014</td>\n",
       "      <td>50.0</td>\n",
       "      <td>NaN</td>\n",
       "    </tr>\n",
       "    <tr>\n",
       "      <th>3</th>\n",
       "      <td>1.0</td>\n",
       "      <td>Afghanistan</td>\n",
       "      <td>272</td>\n",
       "      <td>Badakhshan</td>\n",
       "      <td>266</td>\n",
       "      <td>Fayzabad</td>\n",
       "      <td>55</td>\n",
       "      <td>Bread - Retail</td>\n",
       "      <td>0.0</td>\n",
       "      <td>AFN</td>\n",
       "      <td>15</td>\n",
       "      <td>Retail</td>\n",
       "      <td>5</td>\n",
       "      <td>KG</td>\n",
       "      <td>4</td>\n",
       "      <td>2014</td>\n",
       "      <td>50.0</td>\n",
       "      <td>NaN</td>\n",
       "    </tr>\n",
       "    <tr>\n",
       "      <th>4</th>\n",
       "      <td>1.0</td>\n",
       "      <td>Afghanistan</td>\n",
       "      <td>272</td>\n",
       "      <td>Badakhshan</td>\n",
       "      <td>266</td>\n",
       "      <td>Fayzabad</td>\n",
       "      <td>55</td>\n",
       "      <td>Bread - Retail</td>\n",
       "      <td>0.0</td>\n",
       "      <td>AFN</td>\n",
       "      <td>15</td>\n",
       "      <td>Retail</td>\n",
       "      <td>5</td>\n",
       "      <td>KG</td>\n",
       "      <td>5</td>\n",
       "      <td>2014</td>\n",
       "      <td>50.0</td>\n",
       "      <td>NaN</td>\n",
       "    </tr>\n",
       "  </tbody>\n",
       "</table>\n",
       "</div>"
      ],
      "text/plain": [
       "   adm0_id    adm0_name  adm1_id   adm1_name  mkt_id  mkt_name  cm_id  \\\n",
       "0      1.0  Afghanistan      272  Badakhshan     266  Fayzabad     55   \n",
       "1      1.0  Afghanistan      272  Badakhshan     266  Fayzabad     55   \n",
       "2      1.0  Afghanistan      272  Badakhshan     266  Fayzabad     55   \n",
       "3      1.0  Afghanistan      272  Badakhshan     266  Fayzabad     55   \n",
       "4      1.0  Afghanistan      272  Badakhshan     266  Fayzabad     55   \n",
       "\n",
       "          cm_name  cur_id cur_name  pt_id pt_name  um_id um_name  mp_month  \\\n",
       "0  Bread - Retail     0.0      AFN     15  Retail      5      KG         1   \n",
       "1  Bread - Retail     0.0      AFN     15  Retail      5      KG         2   \n",
       "2  Bread - Retail     0.0      AFN     15  Retail      5      KG         3   \n",
       "3  Bread - Retail     0.0      AFN     15  Retail      5      KG         4   \n",
       "4  Bread - Retail     0.0      AFN     15  Retail      5      KG         5   \n",
       "\n",
       "   mp_year  mp_price  mp_commoditysource  \n",
       "0     2014      50.0                 NaN  \n",
       "1     2014      50.0                 NaN  \n",
       "2     2014      50.0                 NaN  \n",
       "3     2014      50.0                 NaN  \n",
       "4     2014      50.0                 NaN  "
      ]
     },
     "execution_count": 4,
     "metadata": {},
     "output_type": "execute_result"
    }
   ],
   "source": [
    "price_df.head()"
   ]
  },
  {
   "cell_type": "code",
   "execution_count": 5,
   "id": "74b7a290",
   "metadata": {},
   "outputs": [
    {
     "data": {
      "text/plain": [
       "adm0_id               0.000000\n",
       "adm0_name             0.000000\n",
       "adm1_id               0.000000\n",
       "adm1_name             0.302027\n",
       "mkt_id                0.000000\n",
       "mkt_name              0.000000\n",
       "cm_id                 0.000000\n",
       "cm_name               0.000000\n",
       "cur_id                0.000000\n",
       "cur_name              0.000000\n",
       "pt_id                 0.000000\n",
       "pt_name               0.000000\n",
       "um_id                 0.000000\n",
       "um_name               0.000000\n",
       "mp_month              0.000000\n",
       "mp_year               0.000000\n",
       "mp_price              0.000000\n",
       "mp_commoditysource    1.000000\n",
       "dtype: float64"
      ]
     },
     "execution_count": 5,
     "metadata": {},
     "output_type": "execute_result"
    }
   ],
   "source": [
    "price_df.isnull().sum()/len(price_df)"
   ]
  },
  {
   "cell_type": "code",
   "execution_count": 6,
   "id": "fee074dc",
   "metadata": {},
   "outputs": [],
   "source": [
    "#dropping the mp_commoditysource because it's 100% Nan's\n",
    "\n",
    "#price_df.drop(columns='mp_commoditysource', inplace=True)"
   ]
  },
  {
   "cell_type": "code",
   "execution_count": 7,
   "id": "5177439d",
   "metadata": {},
   "outputs": [
    {
     "data": {
      "text/plain": [
       "613"
      ]
     },
     "execution_count": 7,
     "metadata": {},
     "output_type": "execute_result"
    }
   ],
   "source": [
    "price_df['adm1_name'].nunique()"
   ]
  },
  {
   "cell_type": "code",
   "execution_count": 8,
   "id": "6f8ae265",
   "metadata": {},
   "outputs": [],
   "source": [
    "price_df['adm1_name'].fillna(\"Unknown\", inplace=True)"
   ]
  },
  {
   "cell_type": "code",
   "execution_count": 9,
   "id": "f349aff1",
   "metadata": {},
   "outputs": [
    {
     "data": {
      "text/plain": [
       "614"
      ]
     },
     "execution_count": 9,
     "metadata": {},
     "output_type": "execute_result"
    }
   ],
   "source": [
    "price_df['adm1_name'].nunique()"
   ]
  },
  {
   "cell_type": "code",
   "execution_count": 10,
   "id": "a439321c",
   "metadata": {},
   "outputs": [
    {
     "data": {
      "text/plain": [
       "adm0_id               0.0\n",
       "adm0_name             0.0\n",
       "adm1_id               0.0\n",
       "adm1_name             0.0\n",
       "mkt_id                0.0\n",
       "mkt_name              0.0\n",
       "cm_id                 0.0\n",
       "cm_name               0.0\n",
       "cur_id                0.0\n",
       "cur_name              0.0\n",
       "pt_id                 0.0\n",
       "pt_name               0.0\n",
       "um_id                 0.0\n",
       "um_name               0.0\n",
       "mp_month              0.0\n",
       "mp_year               0.0\n",
       "mp_price              0.0\n",
       "mp_commoditysource    1.0\n",
       "dtype: float64"
      ]
     },
     "execution_count": 10,
     "metadata": {},
     "output_type": "execute_result"
    }
   ],
   "source": [
    "price_df.isnull().sum()/len(price_df)"
   ]
  },
  {
   "cell_type": "code",
   "execution_count": 11,
   "id": "afb47f55",
   "metadata": {},
   "outputs": [],
   "source": [
    "# Introducing new column 'type' where the cm_name (commodity name) is split to make it easier to read by the nutrition API"
   ]
  },
  {
   "cell_type": "code",
   "execution_count": 12,
   "id": "9ad24b22",
   "metadata": {},
   "outputs": [],
   "source": [
    "price_df['type'] = price_df['cm_name'].apply(lambda x: x.split('-')[0])"
   ]
  },
  {
   "cell_type": "code",
   "execution_count": 13,
   "id": "575e182f",
   "metadata": {},
   "outputs": [
    {
     "data": {
      "text/html": [
       "<div>\n",
       "<style scoped>\n",
       "    .dataframe tbody tr th:only-of-type {\n",
       "        vertical-align: middle;\n",
       "    }\n",
       "\n",
       "    .dataframe tbody tr th {\n",
       "        vertical-align: top;\n",
       "    }\n",
       "\n",
       "    .dataframe thead th {\n",
       "        text-align: right;\n",
       "    }\n",
       "</style>\n",
       "<table border=\"1\" class=\"dataframe\">\n",
       "  <thead>\n",
       "    <tr style=\"text-align: right;\">\n",
       "      <th></th>\n",
       "      <th>adm0_id</th>\n",
       "      <th>adm0_name</th>\n",
       "      <th>adm1_id</th>\n",
       "      <th>adm1_name</th>\n",
       "      <th>mkt_id</th>\n",
       "      <th>mkt_name</th>\n",
       "      <th>cm_id</th>\n",
       "      <th>cm_name</th>\n",
       "      <th>cur_id</th>\n",
       "      <th>cur_name</th>\n",
       "      <th>pt_id</th>\n",
       "      <th>pt_name</th>\n",
       "      <th>um_id</th>\n",
       "      <th>um_name</th>\n",
       "      <th>mp_month</th>\n",
       "      <th>mp_year</th>\n",
       "      <th>mp_price</th>\n",
       "      <th>mp_commoditysource</th>\n",
       "      <th>type</th>\n",
       "    </tr>\n",
       "  </thead>\n",
       "  <tbody>\n",
       "    <tr>\n",
       "      <th>0</th>\n",
       "      <td>1.0</td>\n",
       "      <td>Afghanistan</td>\n",
       "      <td>272</td>\n",
       "      <td>Badakhshan</td>\n",
       "      <td>266</td>\n",
       "      <td>Fayzabad</td>\n",
       "      <td>55</td>\n",
       "      <td>Bread - Retail</td>\n",
       "      <td>0.0</td>\n",
       "      <td>AFN</td>\n",
       "      <td>15</td>\n",
       "      <td>Retail</td>\n",
       "      <td>5</td>\n",
       "      <td>KG</td>\n",
       "      <td>1</td>\n",
       "      <td>2014</td>\n",
       "      <td>50.0</td>\n",
       "      <td>NaN</td>\n",
       "      <td>Bread</td>\n",
       "    </tr>\n",
       "    <tr>\n",
       "      <th>1</th>\n",
       "      <td>1.0</td>\n",
       "      <td>Afghanistan</td>\n",
       "      <td>272</td>\n",
       "      <td>Badakhshan</td>\n",
       "      <td>266</td>\n",
       "      <td>Fayzabad</td>\n",
       "      <td>55</td>\n",
       "      <td>Bread - Retail</td>\n",
       "      <td>0.0</td>\n",
       "      <td>AFN</td>\n",
       "      <td>15</td>\n",
       "      <td>Retail</td>\n",
       "      <td>5</td>\n",
       "      <td>KG</td>\n",
       "      <td>2</td>\n",
       "      <td>2014</td>\n",
       "      <td>50.0</td>\n",
       "      <td>NaN</td>\n",
       "      <td>Bread</td>\n",
       "    </tr>\n",
       "    <tr>\n",
       "      <th>2</th>\n",
       "      <td>1.0</td>\n",
       "      <td>Afghanistan</td>\n",
       "      <td>272</td>\n",
       "      <td>Badakhshan</td>\n",
       "      <td>266</td>\n",
       "      <td>Fayzabad</td>\n",
       "      <td>55</td>\n",
       "      <td>Bread - Retail</td>\n",
       "      <td>0.0</td>\n",
       "      <td>AFN</td>\n",
       "      <td>15</td>\n",
       "      <td>Retail</td>\n",
       "      <td>5</td>\n",
       "      <td>KG</td>\n",
       "      <td>3</td>\n",
       "      <td>2014</td>\n",
       "      <td>50.0</td>\n",
       "      <td>NaN</td>\n",
       "      <td>Bread</td>\n",
       "    </tr>\n",
       "    <tr>\n",
       "      <th>3</th>\n",
       "      <td>1.0</td>\n",
       "      <td>Afghanistan</td>\n",
       "      <td>272</td>\n",
       "      <td>Badakhshan</td>\n",
       "      <td>266</td>\n",
       "      <td>Fayzabad</td>\n",
       "      <td>55</td>\n",
       "      <td>Bread - Retail</td>\n",
       "      <td>0.0</td>\n",
       "      <td>AFN</td>\n",
       "      <td>15</td>\n",
       "      <td>Retail</td>\n",
       "      <td>5</td>\n",
       "      <td>KG</td>\n",
       "      <td>4</td>\n",
       "      <td>2014</td>\n",
       "      <td>50.0</td>\n",
       "      <td>NaN</td>\n",
       "      <td>Bread</td>\n",
       "    </tr>\n",
       "    <tr>\n",
       "      <th>4</th>\n",
       "      <td>1.0</td>\n",
       "      <td>Afghanistan</td>\n",
       "      <td>272</td>\n",
       "      <td>Badakhshan</td>\n",
       "      <td>266</td>\n",
       "      <td>Fayzabad</td>\n",
       "      <td>55</td>\n",
       "      <td>Bread - Retail</td>\n",
       "      <td>0.0</td>\n",
       "      <td>AFN</td>\n",
       "      <td>15</td>\n",
       "      <td>Retail</td>\n",
       "      <td>5</td>\n",
       "      <td>KG</td>\n",
       "      <td>5</td>\n",
       "      <td>2014</td>\n",
       "      <td>50.0</td>\n",
       "      <td>NaN</td>\n",
       "      <td>Bread</td>\n",
       "    </tr>\n",
       "  </tbody>\n",
       "</table>\n",
       "</div>"
      ],
      "text/plain": [
       "   adm0_id    adm0_name  adm1_id   adm1_name  mkt_id  mkt_name  cm_id  \\\n",
       "0      1.0  Afghanistan      272  Badakhshan     266  Fayzabad     55   \n",
       "1      1.0  Afghanistan      272  Badakhshan     266  Fayzabad     55   \n",
       "2      1.0  Afghanistan      272  Badakhshan     266  Fayzabad     55   \n",
       "3      1.0  Afghanistan      272  Badakhshan     266  Fayzabad     55   \n",
       "4      1.0  Afghanistan      272  Badakhshan     266  Fayzabad     55   \n",
       "\n",
       "          cm_name  cur_id cur_name  pt_id pt_name  um_id um_name  mp_month  \\\n",
       "0  Bread - Retail     0.0      AFN     15  Retail      5      KG         1   \n",
       "1  Bread - Retail     0.0      AFN     15  Retail      5      KG         2   \n",
       "2  Bread - Retail     0.0      AFN     15  Retail      5      KG         3   \n",
       "3  Bread - Retail     0.0      AFN     15  Retail      5      KG         4   \n",
       "4  Bread - Retail     0.0      AFN     15  Retail      5      KG         5   \n",
       "\n",
       "   mp_year  mp_price  mp_commoditysource    type  \n",
       "0     2014      50.0                 NaN  Bread   \n",
       "1     2014      50.0                 NaN  Bread   \n",
       "2     2014      50.0                 NaN  Bread   \n",
       "3     2014      50.0                 NaN  Bread   \n",
       "4     2014      50.0                 NaN  Bread   "
      ]
     },
     "execution_count": 13,
     "metadata": {},
     "output_type": "execute_result"
    }
   ],
   "source": [
    "price_df.head()"
   ]
  },
  {
   "cell_type": "code",
   "execution_count": 14,
   "id": "b2e477a3",
   "metadata": {},
   "outputs": [],
   "source": [
    "#Filtering for year 2020 only"
   ]
  },
  {
   "cell_type": "code",
   "execution_count": 15,
   "id": "2613bfed",
   "metadata": {},
   "outputs": [],
   "source": [
    "price_2020_df = price_df[price_df['mp_year'] == 2020]"
   ]
  },
  {
   "cell_type": "code",
   "execution_count": 16,
   "id": "e9eac044",
   "metadata": {},
   "outputs": [
    {
     "data": {
      "text/plain": [
       "(165098, 19)"
      ]
     },
     "execution_count": 16,
     "metadata": {},
     "output_type": "execute_result"
    }
   ],
   "source": [
    "price_2020_df.shape"
   ]
  },
  {
   "cell_type": "code",
   "execution_count": 17,
   "id": "cda7391d",
   "metadata": {},
   "outputs": [],
   "source": [
    "#Dropping unneccesary columns"
   ]
  },
  {
   "cell_type": "code",
   "execution_count": 18,
   "id": "340cee77",
   "metadata": {},
   "outputs": [
    {
     "name": "stderr",
     "output_type": "stream",
     "text": [
      "/Users/plyck/.pyenv/versions/3.8.12/envs/lewagon/lib/python3.8/site-packages/pandas/core/frame.py:4906: SettingWithCopyWarning: \n",
      "A value is trying to be set on a copy of a slice from a DataFrame\n",
      "\n",
      "See the caveats in the documentation: https://pandas.pydata.org/pandas-docs/stable/user_guide/indexing.html#returning-a-view-versus-a-copy\n",
      "  return super().drop(\n"
     ]
    }
   ],
   "source": [
    "price_2020_df.drop(columns=['adm0_id', 'adm1_id', 'mkt_id', 'cm_id', 'cur_id', 'cm_name', 'pt_id', 'mp_commoditysource','um_id'], inplace=True)"
   ]
  },
  {
   "cell_type": "code",
   "execution_count": 19,
   "id": "1066b580",
   "metadata": {},
   "outputs": [],
   "source": [
    "#Removing rows with other units than 'KG' and 'L'."
   ]
  },
  {
   "cell_type": "code",
   "execution_count": 20,
   "id": "a4f521d8",
   "metadata": {},
   "outputs": [],
   "source": [
    "price_2020_df = price_2020_df.loc[price_2020_df['um_name'].isin(['KG','L'])]"
   ]
  },
  {
   "cell_type": "code",
   "execution_count": 24,
   "id": "8ae523be",
   "metadata": {},
   "outputs": [
    {
     "data": {
      "text/plain": [
       "array(['AFN', 'AOA', 'ARS', 'AMD', 'BDT', 'INR', 'BYR', 'XOF', 'BTN',\n",
       "       'BOB', 'BIF', 'KHR', 'CVE', 'XAF', 'COP', 'CDF', 'DJF', 'USD',\n",
       "       'EGP', 'ETB', 'GMD', 'GHS', 'GNF', 'IDR', 'IRR', 'IQD', 'JPY',\n",
       "       'JOD', 'KZT', 'KES', 'KGS', 'LAK', 'LBP', 'LRD', 'LYD', 'MWK',\n",
       "       'SOS', 'MRO', 'MXN', 'MNT', 'MZN', 'MMK', 'NAD', 'NPR', 'NGN',\n",
       "       'PKR', 'PYG', 'PEN', 'PHP', 'RWF', 'SLL', 'SSP', 'LKR', 'NIS',\n",
       "       'SZL', 'SYP', 'TJS', 'THB', 'TRY', 'UGX', 'YER', 'ZMW'],\n",
       "      dtype=object)"
      ]
     },
     "execution_count": 24,
     "metadata": {},
     "output_type": "execute_result"
    }
   ],
   "source": [
    "price_2020_df['cur_name'].unique()"
   ]
  },
  {
   "cell_type": "code",
   "execution_count": 25,
   "id": "325b5fb2",
   "metadata": {},
   "outputs": [],
   "source": [
    "# Source Wiki: It was previously known as the new Israeli shekel and the non-official abbreviation of NIS.\n",
    "# Need to change NIS to ILS (Israeli New Shekel)"
   ]
  },
  {
   "cell_type": "code",
   "execution_count": 26,
   "id": "565dbf6a",
   "metadata": {},
   "outputs": [],
   "source": [
    "price_2020_df['cur_name'] = price_2020_df['cur_name'].apply(lambda x: x.replace('NIS','ILS'))"
   ]
  },
  {
   "cell_type": "code",
   "execution_count": 27,
   "id": "02e1eee1",
   "metadata": {},
   "outputs": [],
   "source": [
    "currencies = price_2020_df['cur_name'].unique()"
   ]
  },
  {
   "cell_type": "code",
   "execution_count": 28,
   "id": "0dad353b",
   "metadata": {},
   "outputs": [
    {
     "data": {
      "text/plain": [
       "numpy.ndarray"
      ]
     },
     "execution_count": 28,
     "metadata": {},
     "output_type": "execute_result"
    }
   ],
   "source": [
    "type(currencies)"
   ]
  },
  {
   "cell_type": "code",
   "execution_count": 29,
   "id": "57d7f4d4",
   "metadata": {},
   "outputs": [],
   "source": [
    "currencies = currencies.tolist()"
   ]
  },
  {
   "cell_type": "code",
   "execution_count": 30,
   "id": "67b46361",
   "metadata": {},
   "outputs": [],
   "source": [
    "currencies.sort()"
   ]
  },
  {
   "cell_type": "code",
   "execution_count": 31,
   "id": "21e4219e",
   "metadata": {},
   "outputs": [
    {
     "data": {
      "text/plain": [
       "62"
      ]
     },
     "execution_count": 31,
     "metadata": {},
     "output_type": "execute_result"
    }
   ],
   "source": [
    "len(currencies)"
   ]
  },
  {
   "cell_type": "code",
   "execution_count": 32,
   "id": "07547833",
   "metadata": {},
   "outputs": [],
   "source": [
    "#SSP = South Sudanese pound\n",
    "# This is not in our currency exchange API so must be removed and added later."
   ]
  },
  {
   "cell_type": "code",
   "execution_count": 33,
   "id": "085b8a9e",
   "metadata": {},
   "outputs": [],
   "source": [
    "currencies.remove(\"SSP\")"
   ]
  },
  {
   "cell_type": "code",
   "execution_count": 34,
   "id": "1fba1577",
   "metadata": {},
   "outputs": [
    {
     "data": {
      "text/plain": [
       "61"
      ]
     },
     "execution_count": 34,
     "metadata": {},
     "output_type": "execute_result"
    }
   ],
   "source": [
    "len(currencies)"
   ]
  },
  {
   "cell_type": "code",
   "execution_count": 35,
   "id": "946d380b",
   "metadata": {},
   "outputs": [],
   "source": [
    "#API call to get the conversion rates in the list currencies"
   ]
  },
  {
   "cell_type": "code",
   "execution_count": 36,
   "id": "06dcb950",
   "metadata": {},
   "outputs": [],
   "source": [
    "api_key = 'e3479b3ac491d8699be3a12b7cf7e51d'"
   ]
  },
  {
   "cell_type": "code",
   "execution_count": 37,
   "id": "b20bb91c",
   "metadata": {},
   "outputs": [],
   "source": [
    "curr = ','.join(currencies)"
   ]
  },
  {
   "cell_type": "code",
   "execution_count": 38,
   "id": "68535186",
   "metadata": {},
   "outputs": [],
   "source": [
    "response = requests.get(f'http://api.currencylayer.com/live?access_key={api_key}&currencies={curr}&format=1')"
   ]
  },
  {
   "cell_type": "code",
   "execution_count": 39,
   "id": "2f44bd50",
   "metadata": {},
   "outputs": [
    {
     "data": {
      "text/plain": [
       "'http://api.currencylayer.com/live?access_key=e3479b3ac491d8699be3a12b7cf7e51d&currencies=AFN,AMD,AOA,ARS,BDT,BIF,BOB,BTN,BYR,CDF,COP,CVE,DJF,EGP,ETB,GHS,GMD,GNF,IDR,ILS,INR,IQD,IRR,JOD,JPY,KES,KGS,KHR,KZT,LAK,LBP,LKR,LRD,LYD,MMK,MNT,MRO,MWK,MXN,MZN,NAD,NGN,NPR,PEN,PHP,PKR,PYG,RWF,SLL,SOS,SYP,SZL,THB,TJS,TRY,UGX,USD,XAF,XOF,YER,ZMW&format=1'"
      ]
     },
     "execution_count": 39,
     "metadata": {},
     "output_type": "execute_result"
    }
   ],
   "source": [
    "response.url"
   ]
  },
  {
   "cell_type": "code",
   "execution_count": 40,
   "id": "cce6090d",
   "metadata": {
    "collapsed": true
   },
   "outputs": [
    {
     "data": {
      "text/plain": [
       "{'success': True,\n",
       " 'terms': 'https://currencylayer.com/terms',\n",
       " 'privacy': 'https://currencylayer.com/privacy',\n",
       " 'timestamp': 1638951004,\n",
       " 'source': 'USD',\n",
       " 'quotes': {'USDAFN': 96.25256,\n",
       "  'USDAMD': 491.785255,\n",
       "  'USDAOA': 564.209003,\n",
       "  'USDARS': 101.364698,\n",
       "  'USDBDT': 85.609632,\n",
       "  'USDBIF': 1988.457958,\n",
       "  'USDBOB': 6.88221,\n",
       "  'USDBTN': 75.266214,\n",
       "  'USDBYR': 19600,\n",
       "  'USDCDF': 2001.99979,\n",
       "  'USDCOP': 3910.98,\n",
       "  'USDCVE': 97.76566,\n",
       "  'USDDJF': 177.677891,\n",
       "  'USDEGP': 15.729398,\n",
       "  'USDETB': 48.065551,\n",
       "  'USDGHS': 6.113668,\n",
       "  'USDGMD': 52.50026,\n",
       "  'USDGNF': 9482.344389,\n",
       "  'USDIDR': 14360.45,\n",
       "  'USDILS': 3.11779,\n",
       "  'USDINR': 75.539018,\n",
       "  'USDIQD': 1456.183202,\n",
       "  'USDIRR': 42249.999669,\n",
       "  'USDJOD': 0.709198,\n",
       "  'USDJPY': 113.4265,\n",
       "  'USDKES': 112.839953,\n",
       "  'USDKGS': 84.797101,\n",
       "  'USDKHR': 4063.738309,\n",
       "  'USDKZT': 436.408126,\n",
       "  'USDLAK': 10905.995939,\n",
       "  'USDLBP': 1509.30014,\n",
       "  'USDLKR': 202.358104,\n",
       "  'USDLRD': 141.850169,\n",
       "  'USDLYD': 4.592539,\n",
       "  'USDMMK': 1776.528423,\n",
       "  'USDMNT': 2858.218612,\n",
       "  'USDMRO': 356.999828,\n",
       "  'USDMWK': 814.808149,\n",
       "  'USDMXN': 21.00577,\n",
       "  'USDMZN': 63.829886,\n",
       "  'USDNAD': 15.894963,\n",
       "  'USDNGN': 410.210115,\n",
       "  'USDNPR': 120.412777,\n",
       "  'USDPEN': 4.078072,\n",
       "  'USDPHP': 50.314971,\n",
       "  'USDPKR': 176.455193,\n",
       "  'USDPYG': 6803.996666,\n",
       "  'USDRWF': 1034.189588,\n",
       "  'USDSLL': 11129.99978,\n",
       "  'USDSOS': 583.999441,\n",
       "  'USDSYP': 1256.783558,\n",
       "  'USDSZL': 15.90544,\n",
       "  'USDTHB': 33.540494,\n",
       "  'USDTJS': 11.269052,\n",
       "  'USDTRY': 13.6339,\n",
       "  'USDUGX': 3563.417121,\n",
       "  'USDUSD': 1,\n",
       "  'USDXAF': 581.547941,\n",
       "  'USDXOF': 581.553097,\n",
       "  'USDYER': 250.24973,\n",
       "  'USDZMW': 17.416263}}"
      ]
     },
     "execution_count": 40,
     "metadata": {},
     "output_type": "execute_result"
    }
   ],
   "source": [
    "response.json()"
   ]
  },
  {
   "cell_type": "code",
   "execution_count": 41,
   "id": "1134f8cf",
   "metadata": {},
   "outputs": [],
   "source": [
    "conversion_rates = response.json()"
   ]
  },
  {
   "cell_type": "code",
   "execution_count": 42,
   "id": "db0c0d81",
   "metadata": {},
   "outputs": [],
   "source": [
    "conversion_rates = conversion_rates['quotes']"
   ]
  },
  {
   "cell_type": "code",
   "execution_count": 43,
   "id": "33077a76",
   "metadata": {},
   "outputs": [
    {
     "data": {
      "text/plain": [
       "(61, 61)"
      ]
     },
     "execution_count": 43,
     "metadata": {},
     "output_type": "execute_result"
    }
   ],
   "source": [
    "len(conversion_rates), len(currencies)"
   ]
  },
  {
   "cell_type": "code",
   "execution_count": 44,
   "id": "624d8363",
   "metadata": {},
   "outputs": [],
   "source": [
    "# Making a dictionary of the conversion rates"
   ]
  },
  {
   "cell_type": "code",
   "execution_count": 45,
   "id": "31c66c6f",
   "metadata": {},
   "outputs": [],
   "source": [
    "dic_values = []\n",
    "for x in conversion_rates.keys():\n",
    "    dic_values.append(conversion_rates[x])"
   ]
  },
  {
   "cell_type": "code",
   "execution_count": 46,
   "id": "43c35de4",
   "metadata": {},
   "outputs": [
    {
     "data": {
      "text/plain": [
       "61"
      ]
     },
     "execution_count": 46,
     "metadata": {},
     "output_type": "execute_result"
    }
   ],
   "source": [
    "len(dic_values)"
   ]
  },
  {
   "cell_type": "code",
   "execution_count": 47,
   "id": "0afd61d2",
   "metadata": {},
   "outputs": [],
   "source": [
    "conversion_rates_dict = dict(zip(currencies,dic_values))"
   ]
  },
  {
   "cell_type": "code",
   "execution_count": 48,
   "id": "bda296cb",
   "metadata": {},
   "outputs": [],
   "source": [
    "#SSP will be added as 1 USD = 130.26 SSP"
   ]
  },
  {
   "cell_type": "code",
   "execution_count": 49,
   "id": "fe475685",
   "metadata": {},
   "outputs": [],
   "source": [
    "conversion_rates_dict['SSP'] = 130.26"
   ]
  },
  {
   "cell_type": "code",
   "execution_count": 50,
   "id": "d913037b",
   "metadata": {},
   "outputs": [],
   "source": [
    "# Adding a new column to our data with the conversion rates"
   ]
  },
  {
   "cell_type": "code",
   "execution_count": 51,
   "id": "8d692cce",
   "metadata": {},
   "outputs": [],
   "source": [
    "price_2020_df['conv_rate'] = list(map(lambda x: conversion_rates_dict[x] , price_2020_df['cur_name']))"
   ]
  },
  {
   "cell_type": "code",
   "execution_count": 52,
   "id": "78105036",
   "metadata": {},
   "outputs": [
    {
     "data": {
      "text/plain": [
       "62"
      ]
     },
     "execution_count": 52,
     "metadata": {},
     "output_type": "execute_result"
    }
   ],
   "source": [
    "price_2020_df['conv_rate'].nunique()"
   ]
  },
  {
   "cell_type": "code",
   "execution_count": 53,
   "id": "26f5c7dc",
   "metadata": {},
   "outputs": [],
   "source": [
    "# Adding a new column to our data with the price in USD"
   ]
  },
  {
   "cell_type": "code",
   "execution_count": 54,
   "id": "cafac9a6",
   "metadata": {},
   "outputs": [],
   "source": [
    "price_2020_df[\"usd_rate\"] = price_2020_df[\"mp_price\"] / price_2020_df[\"conv_rate\"] "
   ]
  },
  {
   "cell_type": "code",
   "execution_count": 55,
   "id": "c19b824f",
   "metadata": {},
   "outputs": [
    {
     "data": {
      "text/html": [
       "<div>\n",
       "<style scoped>\n",
       "    .dataframe tbody tr th:only-of-type {\n",
       "        vertical-align: middle;\n",
       "    }\n",
       "\n",
       "    .dataframe tbody tr th {\n",
       "        vertical-align: top;\n",
       "    }\n",
       "\n",
       "    .dataframe thead th {\n",
       "        text-align: right;\n",
       "    }\n",
       "</style>\n",
       "<table border=\"1\" class=\"dataframe\">\n",
       "  <thead>\n",
       "    <tr style=\"text-align: right;\">\n",
       "      <th></th>\n",
       "      <th>adm0_name</th>\n",
       "      <th>adm1_name</th>\n",
       "      <th>mkt_name</th>\n",
       "      <th>cur_name</th>\n",
       "      <th>pt_name</th>\n",
       "      <th>um_name</th>\n",
       "      <th>mp_month</th>\n",
       "      <th>mp_year</th>\n",
       "      <th>mp_price</th>\n",
       "      <th>type</th>\n",
       "      <th>conv_rate</th>\n",
       "      <th>usd_rate</th>\n",
       "    </tr>\n",
       "  </thead>\n",
       "  <tbody>\n",
       "    <tr>\n",
       "      <th>69</th>\n",
       "      <td>Afghanistan</td>\n",
       "      <td>Badakhshan</td>\n",
       "      <td>Fayzabad</td>\n",
       "      <td>AFN</td>\n",
       "      <td>Retail</td>\n",
       "      <td>KG</td>\n",
       "      <td>1</td>\n",
       "      <td>2020</td>\n",
       "      <td>50.0000</td>\n",
       "      <td>Bread</td>\n",
       "      <td>96.252560</td>\n",
       "      <td>0.519467</td>\n",
       "    </tr>\n",
       "    <tr>\n",
       "      <th>70</th>\n",
       "      <td>Afghanistan</td>\n",
       "      <td>Badakhshan</td>\n",
       "      <td>Fayzabad</td>\n",
       "      <td>AFN</td>\n",
       "      <td>Retail</td>\n",
       "      <td>KG</td>\n",
       "      <td>2</td>\n",
       "      <td>2020</td>\n",
       "      <td>50.0000</td>\n",
       "      <td>Bread</td>\n",
       "      <td>96.252560</td>\n",
       "      <td>0.519467</td>\n",
       "    </tr>\n",
       "    <tr>\n",
       "      <th>71</th>\n",
       "      <td>Afghanistan</td>\n",
       "      <td>Badakhshan</td>\n",
       "      <td>Fayzabad</td>\n",
       "      <td>AFN</td>\n",
       "      <td>Retail</td>\n",
       "      <td>KG</td>\n",
       "      <td>3</td>\n",
       "      <td>2020</td>\n",
       "      <td>50.0000</td>\n",
       "      <td>Bread</td>\n",
       "      <td>96.252560</td>\n",
       "      <td>0.519467</td>\n",
       "    </tr>\n",
       "    <tr>\n",
       "      <th>72</th>\n",
       "      <td>Afghanistan</td>\n",
       "      <td>Badakhshan</td>\n",
       "      <td>Fayzabad</td>\n",
       "      <td>AFN</td>\n",
       "      <td>Retail</td>\n",
       "      <td>KG</td>\n",
       "      <td>4</td>\n",
       "      <td>2020</td>\n",
       "      <td>50.0000</td>\n",
       "      <td>Bread</td>\n",
       "      <td>96.252560</td>\n",
       "      <td>0.519467</td>\n",
       "    </tr>\n",
       "    <tr>\n",
       "      <th>275</th>\n",
       "      <td>Afghanistan</td>\n",
       "      <td>Badakhshan</td>\n",
       "      <td>Fayzabad</td>\n",
       "      <td>AFN</td>\n",
       "      <td>Retail</td>\n",
       "      <td>KG</td>\n",
       "      <td>1</td>\n",
       "      <td>2020</td>\n",
       "      <td>25.3750</td>\n",
       "      <td>Wheat</td>\n",
       "      <td>96.252560</td>\n",
       "      <td>0.263629</td>\n",
       "    </tr>\n",
       "    <tr>\n",
       "      <th>...</th>\n",
       "      <td>...</td>\n",
       "      <td>...</td>\n",
       "      <td>...</td>\n",
       "      <td>...</td>\n",
       "      <td>...</td>\n",
       "      <td>...</td>\n",
       "      <td>...</td>\n",
       "      <td>...</td>\n",
       "      <td>...</td>\n",
       "      <td>...</td>\n",
       "      <td>...</td>\n",
       "      <td>...</td>\n",
       "    </tr>\n",
       "    <tr>\n",
       "      <th>1556443</th>\n",
       "      <td>Zambia</td>\n",
       "      <td>Western</td>\n",
       "      <td>Kalabo</td>\n",
       "      <td>ZMW</td>\n",
       "      <td>Retail</td>\n",
       "      <td>KG</td>\n",
       "      <td>2</td>\n",
       "      <td>2020</td>\n",
       "      <td>6.4480</td>\n",
       "      <td>Maize meal (white, breakfast)</td>\n",
       "      <td>17.416263</td>\n",
       "      <td>0.370229</td>\n",
       "    </tr>\n",
       "    <tr>\n",
       "      <th>1556444</th>\n",
       "      <td>Zambia</td>\n",
       "      <td>Western</td>\n",
       "      <td>Kalabo</td>\n",
       "      <td>ZMW</td>\n",
       "      <td>Retail</td>\n",
       "      <td>KG</td>\n",
       "      <td>3</td>\n",
       "      <td>2020</td>\n",
       "      <td>6.6320</td>\n",
       "      <td>Maize meal (white, breakfast)</td>\n",
       "      <td>17.416263</td>\n",
       "      <td>0.380794</td>\n",
       "    </tr>\n",
       "    <tr>\n",
       "      <th>1556445</th>\n",
       "      <td>Zambia</td>\n",
       "      <td>Western</td>\n",
       "      <td>Kalabo</td>\n",
       "      <td>ZMW</td>\n",
       "      <td>Retail</td>\n",
       "      <td>KG</td>\n",
       "      <td>4</td>\n",
       "      <td>2020</td>\n",
       "      <td>6.4400</td>\n",
       "      <td>Maize meal (white, breakfast)</td>\n",
       "      <td>17.416263</td>\n",
       "      <td>0.369769</td>\n",
       "    </tr>\n",
       "    <tr>\n",
       "      <th>1556446</th>\n",
       "      <td>Zambia</td>\n",
       "      <td>Western</td>\n",
       "      <td>Kalabo</td>\n",
       "      <td>ZMW</td>\n",
       "      <td>Retail</td>\n",
       "      <td>KG</td>\n",
       "      <td>5</td>\n",
       "      <td>2020</td>\n",
       "      <td>6.5168</td>\n",
       "      <td>Maize meal (white, breakfast)</td>\n",
       "      <td>17.416263</td>\n",
       "      <td>0.374179</td>\n",
       "    </tr>\n",
       "    <tr>\n",
       "      <th>1556447</th>\n",
       "      <td>Zambia</td>\n",
       "      <td>Western</td>\n",
       "      <td>Kalabo</td>\n",
       "      <td>ZMW</td>\n",
       "      <td>Retail</td>\n",
       "      <td>KG</td>\n",
       "      <td>6</td>\n",
       "      <td>2020</td>\n",
       "      <td>5.3100</td>\n",
       "      <td>Maize meal (white, breakfast)</td>\n",
       "      <td>17.416263</td>\n",
       "      <td>0.304887</td>\n",
       "    </tr>\n",
       "  </tbody>\n",
       "</table>\n",
       "<p>128938 rows × 12 columns</p>\n",
       "</div>"
      ],
      "text/plain": [
       "           adm0_name   adm1_name  mkt_name cur_name pt_name um_name  mp_month  \\\n",
       "69       Afghanistan  Badakhshan  Fayzabad      AFN  Retail      KG         1   \n",
       "70       Afghanistan  Badakhshan  Fayzabad      AFN  Retail      KG         2   \n",
       "71       Afghanistan  Badakhshan  Fayzabad      AFN  Retail      KG         3   \n",
       "72       Afghanistan  Badakhshan  Fayzabad      AFN  Retail      KG         4   \n",
       "275      Afghanistan  Badakhshan  Fayzabad      AFN  Retail      KG         1   \n",
       "...              ...         ...       ...      ...     ...     ...       ...   \n",
       "1556443       Zambia     Western    Kalabo      ZMW  Retail      KG         2   \n",
       "1556444       Zambia     Western    Kalabo      ZMW  Retail      KG         3   \n",
       "1556445       Zambia     Western    Kalabo      ZMW  Retail      KG         4   \n",
       "1556446       Zambia     Western    Kalabo      ZMW  Retail      KG         5   \n",
       "1556447       Zambia     Western    Kalabo      ZMW  Retail      KG         6   \n",
       "\n",
       "         mp_year  mp_price                            type  conv_rate  \\\n",
       "69          2020   50.0000                          Bread   96.252560   \n",
       "70          2020   50.0000                          Bread   96.252560   \n",
       "71          2020   50.0000                          Bread   96.252560   \n",
       "72          2020   50.0000                          Bread   96.252560   \n",
       "275         2020   25.3750                          Wheat   96.252560   \n",
       "...          ...       ...                             ...        ...   \n",
       "1556443     2020    6.4480  Maize meal (white, breakfast)   17.416263   \n",
       "1556444     2020    6.6320  Maize meal (white, breakfast)   17.416263   \n",
       "1556445     2020    6.4400  Maize meal (white, breakfast)   17.416263   \n",
       "1556446     2020    6.5168  Maize meal (white, breakfast)   17.416263   \n",
       "1556447     2020    5.3100  Maize meal (white, breakfast)   17.416263   \n",
       "\n",
       "         usd_rate  \n",
       "69       0.519467  \n",
       "70       0.519467  \n",
       "71       0.519467  \n",
       "72       0.519467  \n",
       "275      0.263629  \n",
       "...           ...  \n",
       "1556443  0.370229  \n",
       "1556444  0.380794  \n",
       "1556445  0.369769  \n",
       "1556446  0.374179  \n",
       "1556447  0.304887  \n",
       "\n",
       "[128938 rows x 12 columns]"
      ]
     },
     "execution_count": 55,
     "metadata": {},
     "output_type": "execute_result"
    }
   ],
   "source": [
    "price_2020_df"
   ]
  },
  {
   "cell_type": "code",
   "execution_count": 56,
   "id": "68f96bf8",
   "metadata": {},
   "outputs": [
    {
     "data": {
      "text/plain": [
       "(128938, 12)"
      ]
     },
     "execution_count": 56,
     "metadata": {},
     "output_type": "execute_result"
    }
   ],
   "source": [
    "price_2020_df.shape"
   ]
  },
  {
   "cell_type": "code",
   "execution_count": 57,
   "id": "b25797d1",
   "metadata": {},
   "outputs": [
    {
     "data": {
      "text/plain": [
       "array([1, 2, 3, 4, 5, 6, 7, 8])"
      ]
     },
     "execution_count": 57,
     "metadata": {},
     "output_type": "execute_result"
    }
   ],
   "source": [
    "price_2020_df['mp_month'].unique()"
   ]
  },
  {
   "cell_type": "code",
   "execution_count": 61,
   "id": "3b551783",
   "metadata": {},
   "outputs": [],
   "source": [
    "list_of_foods = price_2020_df['type'].unique()"
   ]
  },
  {
   "cell_type": "code",
   "execution_count": 62,
   "id": "c5c160ca",
   "metadata": {},
   "outputs": [],
   "source": [
    "list_of_foods = list_of_foods.tolist()"
   ]
  },
  {
   "cell_type": "code",
   "execution_count": 65,
   "id": "6c08530d",
   "metadata": {},
   "outputs": [],
   "source": [
    "list_of_foods.sort()"
   ]
  },
  {
   "cell_type": "code",
   "execution_count": 66,
   "id": "1d0798ef",
   "metadata": {},
   "outputs": [
    {
     "data": {
      "text/plain": [
       "['Apples ',\n",
       " 'Apples (dried) ',\n",
       " 'Apples (red) ',\n",
       " 'Avocados ',\n",
       " 'Bananas ',\n",
       " 'Bananas (imported) ',\n",
       " 'Bananas (local) ',\n",
       " 'Bananas (medium size) ',\n",
       " 'Barley ',\n",
       " 'Beans ',\n",
       " 'Beans (black) ',\n",
       " 'Beans (black, Nayarit) ',\n",
       " 'Beans (black, Veracruz) ',\n",
       " 'Beans (black, Zacatecas) ',\n",
       " 'Beans (black, imported) ',\n",
       " 'Beans (butter) ',\n",
       " 'Beans (catarino) ',\n",
       " 'Beans (cranberry) ',\n",
       " 'Beans (dry) ',\n",
       " 'Beans (fava, dry) ',\n",
       " 'Beans (green, fresh) ',\n",
       " 'Beans (haricot) ',\n",
       " 'Beans (kidney red) ',\n",
       " 'Beans (magnum) ',\n",
       " 'Beans (niebe) ',\n",
       " 'Beans (niebe, white) ',\n",
       " 'Beans (pod) ',\n",
       " 'Beans (red) ',\n",
       " 'Beans (red, fresh) ',\n",
       " 'Beans (string) ',\n",
       " 'Beans (sugar) ',\n",
       " 'Beans (white) ',\n",
       " 'Beans (yardlong, green) ',\n",
       " 'Beans(mash) ',\n",
       " 'Beetroots ',\n",
       " 'Blackberry ',\n",
       " 'Bread ',\n",
       " 'Bread (common) ',\n",
       " 'Bread (first grade flour) ',\n",
       " 'Bread (high grade flour) ',\n",
       " 'Bread (pita) ',\n",
       " 'Bread (wheat) ',\n",
       " 'Broccoli ',\n",
       " 'Buckwheat ',\n",
       " 'Buckwheat grits ',\n",
       " 'Bulgur ',\n",
       " 'Bulgur (brown) ',\n",
       " 'Butter ',\n",
       " 'Butter (cow milk) ',\n",
       " 'Butter (goat milk) ',\n",
       " 'Cabbage ',\n",
       " 'Cabbage (chinese, flowering) ',\n",
       " 'Carrots ',\n",
       " 'Cashew ',\n",
       " 'Cassava ',\n",
       " 'Cassava (cossette) ',\n",
       " 'Cassava (dry) ',\n",
       " 'Cassava (fresh) ',\n",
       " 'Cassava flour ',\n",
       " 'Cassava leaves ',\n",
       " 'Cassava meal (attieke) ',\n",
       " 'Cassava meal (gari) ',\n",
       " 'Cassava meal (gari, fine) ',\n",
       " 'Cassava meal (gari, yellow) ',\n",
       " 'Cassava meal (tapioca) ',\n",
       " 'Cauliflower ',\n",
       " 'Charcoal ',\n",
       " 'Cheese ',\n",
       " 'Cheese (dry) ',\n",
       " 'Cheese (fat) ',\n",
       " 'Cheese (goat) ',\n",
       " 'Cheese (local) ',\n",
       " 'Cheese (low',\n",
       " 'Cheese (white, boiled) ',\n",
       " 'Chickpeas ',\n",
       " 'Chickpeas (local) ',\n",
       " \"Chili (bird's eye) \",\n",
       " \"Chili (bird's eye, green) \",\n",
       " \"Chili (bird's eye, red) \",\n",
       " 'Chili (green) ',\n",
       " 'Chili (red) ',\n",
       " 'Chili (red, curly) ',\n",
       " 'Chili (red, dry raw) ',\n",
       " 'Chili (red, large) ',\n",
       " 'Cocoa ',\n",
       " 'Cocoa (powder) ',\n",
       " 'Coconut (dried) ',\n",
       " 'Coffee ',\n",
       " 'Corn Soy Blend (CSB++, food aid) ',\n",
       " 'Cornstarch ',\n",
       " 'Cotton ',\n",
       " 'Couscous ',\n",
       " 'Cowpeas ',\n",
       " 'Cowpeas (brown) ',\n",
       " 'Cowpeas (white) ',\n",
       " 'Cucumbers ',\n",
       " 'Cucumbers (greenhouse) ',\n",
       " 'Dates ',\n",
       " 'Dishwashing liquid ',\n",
       " 'Disinfecting solution ',\n",
       " 'Eggplants ',\n",
       " 'Eggs ',\n",
       " 'Eggs (broiler) ',\n",
       " 'Fish ',\n",
       " 'Fish (appolo) ',\n",
       " 'Fish (barbel, sole) ',\n",
       " 'Fish (bonga) ',\n",
       " 'Fish (catfish) ',\n",
       " 'Fish (dry) ',\n",
       " 'Fish (dry, katta) ',\n",
       " 'Fish (dry, sprats) ',\n",
       " 'Fish (fresh) ',\n",
       " 'Fish (fresh, silvi) ',\n",
       " 'Fish (frozen) ',\n",
       " 'Fish (goldstripe sardinella) ',\n",
       " 'Fish (herring) ',\n",
       " 'Fish (jack) ',\n",
       " 'Fish (lates,dry,imported) ',\n",
       " 'Fish (lates,dry,local) ',\n",
       " 'Fish (mackerel, fresh) ',\n",
       " 'Fish (mullet, catfish) ',\n",
       " 'Fish (sail fish) ',\n",
       " 'Fish (salted) ',\n",
       " 'Fish (sardine, canned) ',\n",
       " 'Fish (skipjack tuna) ',\n",
       " 'Fish (smoked) ',\n",
       " 'Fish (snake head) ',\n",
       " 'Fish (snake head, dry) ',\n",
       " 'Fish (striped catfish) ',\n",
       " 'Fish (tilapia) ',\n",
       " 'Fish (tilapia, farmed) ',\n",
       " 'Fish (trenched sardinella) ',\n",
       " 'Fish (tuna, canned) ',\n",
       " 'Fish (yellowfin tuna) ',\n",
       " 'Fonio ',\n",
       " 'Fuel (Super Petrol) ',\n",
       " 'Fuel (diesel) ',\n",
       " 'Fuel (diesel, parallel market) ',\n",
       " 'Fuel (kerosene) ',\n",
       " 'Fuel (petrol',\n",
       " 'Gari ',\n",
       " 'Gari (white) ',\n",
       " 'Garlic ',\n",
       " 'Garlic (medium) ',\n",
       " 'Garlic (small) ',\n",
       " 'Ghee (artificial) ',\n",
       " 'Ghee (natural) ',\n",
       " 'Ghee (vanaspati) ',\n",
       " 'Grapes (black) ',\n",
       " 'Grapes (pink) ',\n",
       " 'Groundnuts (Bambara) ',\n",
       " 'Groundnuts (large, shelled) ',\n",
       " 'Groundnuts (paste) ',\n",
       " 'Groundnuts (shelled) ',\n",
       " 'Groundnuts (small, shelled) ',\n",
       " 'Groundnuts (small, unshelled) ',\n",
       " 'Groundnuts (unshelled) ',\n",
       " 'Guava ',\n",
       " 'Handwash soap ',\n",
       " 'Honey ',\n",
       " 'Kale ',\n",
       " 'Kefir ',\n",
       " 'Kocho ',\n",
       " 'Laundry detergent ',\n",
       " 'Laundry soap ',\n",
       " 'Leafy vegetables ',\n",
       " 'Lemons ',\n",
       " 'Lentils ',\n",
       " 'Lentils (broken) ',\n",
       " 'Lentils (green) ',\n",
       " 'Lentils (imported) ',\n",
       " 'Lentils (masur) ',\n",
       " 'Lentils (moong) ',\n",
       " 'Lentils (red) ',\n",
       " 'Lentils (urad) ',\n",
       " 'Lettuce ',\n",
       " 'Maize ',\n",
       " 'Maize (imported) ',\n",
       " 'Maize (local) ',\n",
       " 'Maize (white) ',\n",
       " 'Maize (white, dry) ',\n",
       " 'Maize (yellow) ',\n",
       " 'Maize flour ',\n",
       " 'Maize flour (imported) ',\n",
       " 'Maize flour (white) ',\n",
       " 'Maize flour (yellow) ',\n",
       " 'Maize meal ',\n",
       " 'Maize meal (imported) ',\n",
       " 'Maize meal (white, breakfast) ',\n",
       " 'Maize meal (white, first grade) ',\n",
       " 'Maize meal (white, roller) ',\n",
       " 'Maize meal (white, with bran) ',\n",
       " 'Maize meal (white, without bran) ',\n",
       " 'Mangoes ',\n",
       " 'Meat (beef) ',\n",
       " 'Meat (beef, chops with bones) ',\n",
       " 'Meat (beef, first quality) ',\n",
       " 'Meat (beef, minced) ',\n",
       " 'Meat (beef, second quality) ',\n",
       " 'Meat (beef, without bones) ',\n",
       " 'Meat (buffalo, first quality) ',\n",
       " 'Meat (buffalo, second quality) ',\n",
       " 'Meat (camel) ',\n",
       " 'Meat (chicken) ',\n",
       " 'Meat (chicken, broiler) ',\n",
       " 'Meat (chicken, frozen) ',\n",
       " 'Meat (chicken, frozen, imported) ',\n",
       " 'Meat (chicken, legs) ',\n",
       " 'Meat (chicken, plucked) ',\n",
       " 'Meat (chicken, whole) ',\n",
       " 'Meat (chicken, whole, frozen) ',\n",
       " 'Meat (goat) ',\n",
       " 'Meat (goat, with bones) ',\n",
       " 'Meat (lamb) ',\n",
       " 'Meat (mutton) ',\n",
       " 'Meat (pork) ',\n",
       " 'Meat (pork, first quality) ',\n",
       " 'Meat (pork, second quality) ',\n",
       " 'Meat (pork, with fat) ',\n",
       " 'Meat (sheep) ',\n",
       " 'Meat (veal) ',\n",
       " 'Melons (cantaloupe) ',\n",
       " 'Milk ',\n",
       " 'Milk (camel) ',\n",
       " 'Milk (cow, fresh) ',\n",
       " 'Milk (fresh) ',\n",
       " 'Milk (non',\n",
       " 'Milk (pasteurized) ',\n",
       " 'Milk (powder) ',\n",
       " 'Milk (powder, infant formula) ',\n",
       " 'Millet ',\n",
       " 'Naranjilla (hybrid) ',\n",
       " 'Noodles (short) ',\n",
       " 'Oat flakes ',\n",
       " 'Oil ',\n",
       " 'Oil (cooking) ',\n",
       " 'Oil (cotton) ',\n",
       " 'Oil (groundnut) ',\n",
       " 'Oil (maize) ',\n",
       " 'Oil (mixed) ',\n",
       " 'Oil (mixed, imported) ',\n",
       " 'Oil (mustard) ',\n",
       " 'Oil (olive) ',\n",
       " 'Oil (palm nut) ',\n",
       " 'Oil (palm) ',\n",
       " 'Oil (soybean) ',\n",
       " 'Oil (sunflower) ',\n",
       " 'Oil (vegetable) ',\n",
       " 'Oil (vegetable, bulk) ',\n",
       " 'Oil (vegetable, fortified, food aid) ',\n",
       " 'Oil (vegetable, imported) ',\n",
       " 'Oil (vegetable, local) ',\n",
       " 'Oil (vegetable, packaged) ',\n",
       " 'Okra (dry) ',\n",
       " 'Okra (fresh) ',\n",
       " 'Onions ',\n",
       " 'Onions (dry, local) ',\n",
       " 'Onions (imported) ',\n",
       " 'Onions (local) ',\n",
       " 'Onions (red) ',\n",
       " 'Onions (red, dry) ',\n",
       " 'Onions (red, imported) ',\n",
       " 'Onions (red, local) ',\n",
       " 'Onions (shallot) ',\n",
       " 'Onions (shallot, medium) ',\n",
       " 'Onions (white) ',\n",
       " 'Onions (white, dry) ',\n",
       " 'Oranges ',\n",
       " 'Oranges (big size) ',\n",
       " 'Papaya ',\n",
       " 'Passion fruit ',\n",
       " 'Pasta ',\n",
       " 'Pasta (macaroni) ',\n",
       " 'Pasta (spaghetti) ',\n",
       " 'Peanut ',\n",
       " 'Peas ',\n",
       " 'Peas (fresh) ',\n",
       " 'Peas (green, dry) ',\n",
       " 'Peas (split, dry) ',\n",
       " 'Peas (yellow, split) ',\n",
       " 'Peas (yellow, split, food aid) ',\n",
       " 'Peppers (dried) ',\n",
       " 'Peppers (fresh) ',\n",
       " 'Peppers (green) ',\n",
       " 'Peppers (red) ',\n",
       " 'Peppers (red, dry) ',\n",
       " 'Pigeon peas ',\n",
       " 'Pineapples ',\n",
       " 'Plantains ',\n",
       " 'Plantains (apem) ',\n",
       " 'Plantains (apentu) ',\n",
       " 'Plantains (barraganete, green) ',\n",
       " 'Plantains (barraganete, mature) ',\n",
       " 'Plantains (dominico, green) ',\n",
       " 'Plantains (dominico, mature) ',\n",
       " 'Potato Leaves ',\n",
       " 'Potatoes ',\n",
       " 'Potatoes (Irish) ',\n",
       " 'Potatoes (Irish, imilla) ',\n",
       " 'Potatoes (black) ',\n",
       " 'Potatoes (imported) ',\n",
       " 'Potatoes (local) ',\n",
       " 'Potatoes (medium size) ',\n",
       " 'Potatoes (red) ',\n",
       " 'Potatoes (super chola) ',\n",
       " 'Potatoes (unica) ',\n",
       " 'Poultry ',\n",
       " 'Prawn ',\n",
       " 'Pulses ',\n",
       " 'Pumpkin ',\n",
       " 'Radish ',\n",
       " 'Rice ',\n",
       " 'Rice (Emata) ',\n",
       " 'Rice (Grano de Oro) ',\n",
       " 'Rice (basmati, broken) ',\n",
       " 'Rice (broken, imported) ',\n",
       " 'Rice (carolina 2da) ',\n",
       " 'Rice (carolina, 1st) ',\n",
       " 'Rice (coarse) ',\n",
       " 'Rice (coarse, BR',\n",
       " 'Rice (denikassia, imported) ',\n",
       " 'Rice (estaquilla) ',\n",
       " 'Rice (glutinous, first quality) ',\n",
       " 'Rice (glutinous, second quality) ',\n",
       " 'Rice (glutinous, unmilled) ',\n",
       " 'Rice (high quality) ',\n",
       " 'Rice (high quality, local) ',\n",
       " 'Rice (imported) ',\n",
       " 'Rice (imported, Egyptian) ',\n",
       " 'Rice (local) ',\n",
       " 'Rice (long grain) ',\n",
       " 'Rice (long grain, Sinaloa) ',\n",
       " 'Rice (long grain, high quality, local) ',\n",
       " 'Rice (long grain, imported) ',\n",
       " 'Rice (low quality) ',\n",
       " 'Rice (low quality, local) ',\n",
       " 'Rice (medium grain) ',\n",
       " 'Rice (medium grain, imported) ',\n",
       " 'Rice (medium quality) ',\n",
       " 'Rice (milled, superior) ',\n",
       " 'Rice (mixed, low quality) ',\n",
       " 'Rice (ordinary, first quality) ',\n",
       " 'Rice (ordinary, second quality) ',\n",
       " 'Rice (ordinary, unmilled) ',\n",
       " 'Rice (paddy) ',\n",
       " 'Rice (paddy, long grain, local) ',\n",
       " 'Rice (red nadu) ',\n",
       " 'Rice (red) ',\n",
       " 'Rice (regular, milled) ',\n",
       " 'Rice (short grain, low quality, local) ',\n",
       " 'Rice (small grain, Morelos) ',\n",
       " 'Rice (small grain, imported) ',\n",
       " 'Rice (white) ',\n",
       " 'Salt ',\n",
       " 'Salt (iodised) ',\n",
       " 'Semolina ',\n",
       " 'Sesame ',\n",
       " 'Shampoo ',\n",
       " 'Shrimps ',\n",
       " 'Snail ',\n",
       " 'Snake gourd ',\n",
       " 'Sorghum ',\n",
       " 'Sorghum (berbere) ',\n",
       " 'Sorghum (brown) ',\n",
       " \"Sorghum (r'haya) \",\n",
       " 'Sorghum (red) ',\n",
       " 'Sorghum (taghalit) ',\n",
       " 'Sorghum (white) ',\n",
       " 'Sorghum flour ',\n",
       " 'Soybeans ',\n",
       " 'Spinach ',\n",
       " 'Squashes ',\n",
       " 'Strawberries ',\n",
       " 'Sugar ',\n",
       " 'Sugar (brown) ',\n",
       " 'Sugar (brown, imported) ',\n",
       " 'Sugar (brown, loaf) ',\n",
       " 'Sugar (brown, local) ',\n",
       " 'Sugar (jaggery/gur) ',\n",
       " 'Sugar (local) ',\n",
       " 'Sugar (premium) ',\n",
       " 'Sugar (white) ',\n",
       " 'Sweet potatoes ',\n",
       " 'Taro ',\n",
       " 'Tea ',\n",
       " 'Tea (black) ',\n",
       " 'Tea (green) ',\n",
       " 'Teff (Sergegna) ',\n",
       " 'Tomatoes ',\n",
       " 'Tomatoes (dried) ',\n",
       " 'Tomatoes (greenhouse) ',\n",
       " 'Tomatoes (local) ',\n",
       " 'Tomatoes (navrongo) ',\n",
       " 'Tomatoes (paste) ',\n",
       " 'Tortilla ',\n",
       " 'Tree tomatoes ',\n",
       " 'Walnuts ',\n",
       " 'Water (drinking) ',\n",
       " 'Water spinach ',\n",
       " 'Watermelons ',\n",
       " 'Wax gourd ',\n",
       " 'Wheat ',\n",
       " 'Wheat (food aid) ',\n",
       " 'Wheat (white) ',\n",
       " 'Wheat flour ',\n",
       " 'Wheat flour (first grade) ',\n",
       " 'Wheat flour (high quality) ',\n",
       " 'Wheat flour (imported) ',\n",
       " 'Wheat flour (local) ',\n",
       " 'Wheat flour (locally processed) ',\n",
       " 'Wheat flour (low quality) ',\n",
       " 'Wheat meal ',\n",
       " 'Yam ',\n",
       " 'Yam (Abuja) ',\n",
       " 'Yam (dry) ',\n",
       " 'Yam (florido) ',\n",
       " 'Yam (flour) ',\n",
       " 'Yam (puna) ',\n",
       " 'Yam (white) ',\n",
       " 'Yam (yellow) ',\n",
       " 'Yogurt ',\n",
       " 'Zucchini ']"
      ]
     },
     "execution_count": 66,
     "metadata": {},
     "output_type": "execute_result"
    }
   ],
   "source": [
    "list_of_foods"
   ]
  },
  {
   "cell_type": "code",
   "execution_count": 72,
   "id": "da658e51",
   "metadata": {},
   "outputs": [
    {
     "data": {
      "text/plain": [
       "422"
      ]
     },
     "execution_count": 72,
     "metadata": {},
     "output_type": "execute_result"
    }
   ],
   "source": [
    "len(list_of_foods)"
   ]
  },
  {
   "cell_type": "code",
   "execution_count": 86,
   "id": "5c7c181b",
   "metadata": {},
   "outputs": [],
   "source": [
    "list_of_non_food = ['Charcoal ','Corn Soy Blend (CSB++, food aid) ','Cotton ', 'Dishwashing liquid ','Disinfecting solution ','Fuel (Super Petrol) ','Fuel (diesel) ',\n",
    " 'Fuel (diesel, parallel market) ',\n",
    " 'Fuel (kerosene) ',\n",
    " 'Fuel (petrol','Handwash soap ','Laundry detergent ','Laundry soap ','Salt ','Salt (iodised) ','Shampoo ']"
   ]
  },
  {
   "cell_type": "code",
   "execution_count": 88,
   "id": "2d972c7d",
   "metadata": {},
   "outputs": [
    {
     "data": {
      "text/plain": [
       "16"
      ]
     },
     "execution_count": 88,
     "metadata": {},
     "output_type": "execute_result"
    }
   ],
   "source": [
    "len(list_of_non_food)"
   ]
  },
  {
   "cell_type": "code",
   "execution_count": 89,
   "id": "b7ab4004",
   "metadata": {},
   "outputs": [
    {
     "name": "stdout",
     "output_type": "stream",
     "text": [
      "Charcoal \n",
      "Corn Soy Blend (CSB++, food aid) \n",
      "Cotton \n",
      "Dishwashing liquid \n",
      "Disinfecting solution \n",
      "Fuel (Super Petrol) \n",
      "Fuel (diesel) \n",
      "Fuel (diesel, parallel market) \n",
      "Fuel (kerosene) \n",
      "Fuel (petrol\n",
      "Handwash soap \n",
      "Laundry detergent \n",
      "Laundry soap \n",
      "Salt \n",
      "Salt (iodised) \n",
      "Shampoo \n"
     ]
    }
   ],
   "source": [
    "for x in list_of_non_food:\n",
    "        print(x)\n",
    "        price_2020_df = price_2020_df.loc[price_2020_df[\"type\"] != x]"
   ]
  },
  {
   "cell_type": "code",
   "execution_count": 90,
   "id": "7976b993",
   "metadata": {},
   "outputs": [
    {
     "data": {
      "text/plain": [
       "406"
      ]
     },
     "execution_count": 90,
     "metadata": {},
     "output_type": "execute_result"
    }
   ],
   "source": [
    "price_2020_df['type'].nunique()"
   ]
  },
  {
   "cell_type": "markdown",
   "id": "331c058b",
   "metadata": {},
   "source": [
    "## Importing Adrians Dataset"
   ]
  },
  {
   "cell_type": "code",
   "execution_count": 91,
   "id": "1fc5bdd5",
   "metadata": {},
   "outputs": [],
   "source": [
    "food_types = pd.read_csv('../raw_data/Food Types/food_types_v1.csv')"
   ]
  },
  {
   "cell_type": "code",
   "execution_count": 92,
   "id": "494a0811",
   "metadata": {},
   "outputs": [
    {
     "data": {
      "text/html": [
       "<div>\n",
       "<style scoped>\n",
       "    .dataframe tbody tr th:only-of-type {\n",
       "        vertical-align: middle;\n",
       "    }\n",
       "\n",
       "    .dataframe tbody tr th {\n",
       "        vertical-align: top;\n",
       "    }\n",
       "\n",
       "    .dataframe thead th {\n",
       "        text-align: right;\n",
       "    }\n",
       "</style>\n",
       "<table border=\"1\" class=\"dataframe\">\n",
       "  <thead>\n",
       "    <tr style=\"text-align: right;\">\n",
       "      <th></th>\n",
       "      <th>food_type</th>\n",
       "      <th>protein</th>\n",
       "      <th>fat</th>\n",
       "      <th>carb</th>\n",
       "      <th>sugar</th>\n",
       "      <th>sodium</th>\n",
       "      <th>cholesterol</th>\n",
       "      <th>calcium</th>\n",
       "      <th>kcal</th>\n",
       "    </tr>\n",
       "  </thead>\n",
       "  <tbody>\n",
       "    <tr>\n",
       "      <th>0</th>\n",
       "      <td>Bread</td>\n",
       "      <td>5.88</td>\n",
       "      <td>7.06</td>\n",
       "      <td>51.8</td>\n",
       "      <td>15.3</td>\n",
       "      <td>247</td>\n",
       "      <td>0.0</td>\n",
       "      <td>24.0</td>\n",
       "      <td>306</td>\n",
       "    </tr>\n",
       "    <tr>\n",
       "      <th>1</th>\n",
       "      <td>Wheat</td>\n",
       "      <td>10.7</td>\n",
       "      <td>4.53</td>\n",
       "      <td>47.5</td>\n",
       "      <td>5.73</td>\n",
       "      <td>473</td>\n",
       "      <td>0.0</td>\n",
       "      <td>125</td>\n",
       "      <td>274</td>\n",
       "    </tr>\n",
       "    <tr>\n",
       "      <th>2</th>\n",
       "      <td>Rice (low quality)</td>\n",
       "      <td>0.3</td>\n",
       "      <td>19.2</td>\n",
       "      <td>16.0</td>\n",
       "      <td>4.2</td>\n",
       "      <td>110</td>\n",
       "      <td>24.0</td>\n",
       "      <td>0.0</td>\n",
       "      <td>967</td>\n",
       "    </tr>\n",
       "    <tr>\n",
       "      <th>3</th>\n",
       "      <td>Wage (qualified labour)</td>\n",
       "      <td>0.0</td>\n",
       "      <td>0.0</td>\n",
       "      <td>71.4</td>\n",
       "      <td>not found</td>\n",
       "      <td>5360.0</td>\n",
       "      <td>not found</td>\n",
       "      <td>not found</td>\n",
       "      <td>357</td>\n",
       "    </tr>\n",
       "    <tr>\n",
       "      <th>4</th>\n",
       "      <td>Fuel (diesel)</td>\n",
       "      <td>0.84</td>\n",
       "      <td>0.0</td>\n",
       "      <td>8.86</td>\n",
       "      <td>7.59</td>\n",
       "      <td>36.0</td>\n",
       "      <td>not found</td>\n",
       "      <td>15.0</td>\n",
       "      <td>38.0</td>\n",
       "    </tr>\n",
       "  </tbody>\n",
       "</table>\n",
       "</div>"
      ],
      "text/plain": [
       "                  food_type protein   fat  carb      sugar  sodium  \\\n",
       "0                    Bread     5.88  7.06  51.8       15.3     247   \n",
       "1                    Wheat     10.7  4.53  47.5       5.73     473   \n",
       "2       Rice (low quality)      0.3  19.2  16.0        4.2     110   \n",
       "3  Wage (qualified labour)      0.0   0.0  71.4  not found  5360.0   \n",
       "4            Fuel (diesel)     0.84   0.0  8.86       7.59    36.0   \n",
       "\n",
       "  cholesterol    calcium  kcal  \n",
       "0         0.0       24.0   306  \n",
       "1         0.0        125   274  \n",
       "2        24.0        0.0   967  \n",
       "3   not found  not found   357  \n",
       "4   not found       15.0  38.0  "
      ]
     },
     "execution_count": 92,
     "metadata": {},
     "output_type": "execute_result"
    }
   ],
   "source": [
    "food_types.head()"
   ]
  },
  {
   "cell_type": "code",
   "execution_count": 93,
   "id": "b65dc7f4",
   "metadata": {},
   "outputs": [
    {
     "data": {
      "text/plain": [
       "(522, 406)"
      ]
     },
     "execution_count": 93,
     "metadata": {},
     "output_type": "execute_result"
    }
   ],
   "source": [
    "food_types['food_type'].nunique(), price_2020_df['type'].nunique()"
   ]
  },
  {
   "cell_type": "code",
   "execution_count": 94,
   "id": "c78748b6",
   "metadata": {},
   "outputs": [
    {
     "data": {
      "text/plain": [
       "(119885, 12)"
      ]
     },
     "execution_count": 94,
     "metadata": {},
     "output_type": "execute_result"
    }
   ],
   "source": [
    "price_2020_df.shape"
   ]
  },
  {
   "cell_type": "code",
   "execution_count": 99,
   "id": "8ddf5b0b",
   "metadata": {},
   "outputs": [],
   "source": [
    "joined_df = pd.merge(price_2020_df, food_types, how='left', left_on = 'type', right_on = 'food_type')"
   ]
  },
  {
   "cell_type": "code",
   "execution_count": 102,
   "id": "46fb00f5",
   "metadata": {},
   "outputs": [
    {
     "data": {
      "text/html": [
       "<div>\n",
       "<style scoped>\n",
       "    .dataframe tbody tr th:only-of-type {\n",
       "        vertical-align: middle;\n",
       "    }\n",
       "\n",
       "    .dataframe tbody tr th {\n",
       "        vertical-align: top;\n",
       "    }\n",
       "\n",
       "    .dataframe thead th {\n",
       "        text-align: right;\n",
       "    }\n",
       "</style>\n",
       "<table border=\"1\" class=\"dataframe\">\n",
       "  <thead>\n",
       "    <tr style=\"text-align: right;\">\n",
       "      <th></th>\n",
       "      <th>adm0_name</th>\n",
       "      <th>adm1_name</th>\n",
       "      <th>mkt_name</th>\n",
       "      <th>cur_name</th>\n",
       "      <th>pt_name</th>\n",
       "      <th>um_name</th>\n",
       "      <th>mp_month</th>\n",
       "      <th>mp_year</th>\n",
       "      <th>mp_price</th>\n",
       "      <th>type</th>\n",
       "      <th>conv_rate</th>\n",
       "      <th>usd_rate</th>\n",
       "      <th>food_type</th>\n",
       "      <th>protein</th>\n",
       "      <th>fat</th>\n",
       "      <th>carb</th>\n",
       "      <th>sugar</th>\n",
       "      <th>sodium</th>\n",
       "      <th>cholesterol</th>\n",
       "      <th>calcium</th>\n",
       "      <th>kcal</th>\n",
       "    </tr>\n",
       "  </thead>\n",
       "  <tbody>\n",
       "    <tr>\n",
       "      <th>0</th>\n",
       "      <td>Afghanistan</td>\n",
       "      <td>Badakhshan</td>\n",
       "      <td>Fayzabad</td>\n",
       "      <td>AFN</td>\n",
       "      <td>Retail</td>\n",
       "      <td>KG</td>\n",
       "      <td>1</td>\n",
       "      <td>2020</td>\n",
       "      <td>50.000</td>\n",
       "      <td>Bread</td>\n",
       "      <td>96.25256</td>\n",
       "      <td>0.519467</td>\n",
       "      <td>Bread</td>\n",
       "      <td>5.88</td>\n",
       "      <td>7.06</td>\n",
       "      <td>51.8</td>\n",
       "      <td>15.3</td>\n",
       "      <td>247</td>\n",
       "      <td>0.0</td>\n",
       "      <td>24.0</td>\n",
       "      <td>306</td>\n",
       "    </tr>\n",
       "    <tr>\n",
       "      <th>1</th>\n",
       "      <td>Afghanistan</td>\n",
       "      <td>Badakhshan</td>\n",
       "      <td>Fayzabad</td>\n",
       "      <td>AFN</td>\n",
       "      <td>Retail</td>\n",
       "      <td>KG</td>\n",
       "      <td>2</td>\n",
       "      <td>2020</td>\n",
       "      <td>50.000</td>\n",
       "      <td>Bread</td>\n",
       "      <td>96.25256</td>\n",
       "      <td>0.519467</td>\n",
       "      <td>Bread</td>\n",
       "      <td>5.88</td>\n",
       "      <td>7.06</td>\n",
       "      <td>51.8</td>\n",
       "      <td>15.3</td>\n",
       "      <td>247</td>\n",
       "      <td>0.0</td>\n",
       "      <td>24.0</td>\n",
       "      <td>306</td>\n",
       "    </tr>\n",
       "    <tr>\n",
       "      <th>2</th>\n",
       "      <td>Afghanistan</td>\n",
       "      <td>Badakhshan</td>\n",
       "      <td>Fayzabad</td>\n",
       "      <td>AFN</td>\n",
       "      <td>Retail</td>\n",
       "      <td>KG</td>\n",
       "      <td>3</td>\n",
       "      <td>2020</td>\n",
       "      <td>50.000</td>\n",
       "      <td>Bread</td>\n",
       "      <td>96.25256</td>\n",
       "      <td>0.519467</td>\n",
       "      <td>Bread</td>\n",
       "      <td>5.88</td>\n",
       "      <td>7.06</td>\n",
       "      <td>51.8</td>\n",
       "      <td>15.3</td>\n",
       "      <td>247</td>\n",
       "      <td>0.0</td>\n",
       "      <td>24.0</td>\n",
       "      <td>306</td>\n",
       "    </tr>\n",
       "    <tr>\n",
       "      <th>3</th>\n",
       "      <td>Afghanistan</td>\n",
       "      <td>Badakhshan</td>\n",
       "      <td>Fayzabad</td>\n",
       "      <td>AFN</td>\n",
       "      <td>Retail</td>\n",
       "      <td>KG</td>\n",
       "      <td>4</td>\n",
       "      <td>2020</td>\n",
       "      <td>50.000</td>\n",
       "      <td>Bread</td>\n",
       "      <td>96.25256</td>\n",
       "      <td>0.519467</td>\n",
       "      <td>Bread</td>\n",
       "      <td>5.88</td>\n",
       "      <td>7.06</td>\n",
       "      <td>51.8</td>\n",
       "      <td>15.3</td>\n",
       "      <td>247</td>\n",
       "      <td>0.0</td>\n",
       "      <td>24.0</td>\n",
       "      <td>306</td>\n",
       "    </tr>\n",
       "    <tr>\n",
       "      <th>4</th>\n",
       "      <td>Afghanistan</td>\n",
       "      <td>Badakhshan</td>\n",
       "      <td>Fayzabad</td>\n",
       "      <td>AFN</td>\n",
       "      <td>Retail</td>\n",
       "      <td>KG</td>\n",
       "      <td>1</td>\n",
       "      <td>2020</td>\n",
       "      <td>25.375</td>\n",
       "      <td>Wheat</td>\n",
       "      <td>96.25256</td>\n",
       "      <td>0.263629</td>\n",
       "      <td>Wheat</td>\n",
       "      <td>10.7</td>\n",
       "      <td>4.53</td>\n",
       "      <td>47.5</td>\n",
       "      <td>5.73</td>\n",
       "      <td>473</td>\n",
       "      <td>0.0</td>\n",
       "      <td>125</td>\n",
       "      <td>274</td>\n",
       "    </tr>\n",
       "  </tbody>\n",
       "</table>\n",
       "</div>"
      ],
      "text/plain": [
       "     adm0_name   adm1_name  mkt_name cur_name pt_name um_name  mp_month  \\\n",
       "0  Afghanistan  Badakhshan  Fayzabad      AFN  Retail      KG         1   \n",
       "1  Afghanistan  Badakhshan  Fayzabad      AFN  Retail      KG         2   \n",
       "2  Afghanistan  Badakhshan  Fayzabad      AFN  Retail      KG         3   \n",
       "3  Afghanistan  Badakhshan  Fayzabad      AFN  Retail      KG         4   \n",
       "4  Afghanistan  Badakhshan  Fayzabad      AFN  Retail      KG         1   \n",
       "\n",
       "   mp_year  mp_price    type  conv_rate  usd_rate food_type protein   fat  \\\n",
       "0     2020    50.000  Bread    96.25256  0.519467    Bread     5.88  7.06   \n",
       "1     2020    50.000  Bread    96.25256  0.519467    Bread     5.88  7.06   \n",
       "2     2020    50.000  Bread    96.25256  0.519467    Bread     5.88  7.06   \n",
       "3     2020    50.000  Bread    96.25256  0.519467    Bread     5.88  7.06   \n",
       "4     2020    25.375  Wheat    96.25256  0.263629    Wheat     10.7  4.53   \n",
       "\n",
       "   carb sugar sodium cholesterol calcium kcal  \n",
       "0  51.8  15.3    247         0.0    24.0  306  \n",
       "1  51.8  15.3    247         0.0    24.0  306  \n",
       "2  51.8  15.3    247         0.0    24.0  306  \n",
       "3  51.8  15.3    247         0.0    24.0  306  \n",
       "4  47.5  5.73    473         0.0     125  274  "
      ]
     },
     "execution_count": 102,
     "metadata": {},
     "output_type": "execute_result"
    }
   ],
   "source": [
    "joined_df.head()"
   ]
  },
  {
   "cell_type": "code",
   "execution_count": 104,
   "id": "6318ab2b",
   "metadata": {},
   "outputs": [
    {
     "data": {
      "text/plain": [
       "406"
      ]
     },
     "execution_count": 104,
     "metadata": {},
     "output_type": "execute_result"
    }
   ],
   "source": [
    "joined_df['type'].nunique()"
   ]
  },
  {
   "cell_type": "markdown",
   "id": "36a3b42d",
   "metadata": {},
   "source": [
    "# Drop columns with XXX_id as they do not mean much for us"
   ]
  },
  {
   "cell_type": "code",
   "execution_count": null,
   "id": "a48ec36b",
   "metadata": {},
   "outputs": [],
   "source": [
    "#df_condensed = joined_df.drop(columns=['adm0_id', 'adm1_id', 'mkt_id', 'cm_id', 'cur_id', 'pt_id', 'um_id'])"
   ]
  },
  {
   "cell_type": "code",
   "execution_count": null,
   "id": "7a22c976",
   "metadata": {},
   "outputs": [],
   "source": [
    "#df_condensed.head()"
   ]
  },
  {
   "cell_type": "code",
   "execution_count": null,
   "id": "eb2efa31",
   "metadata": {},
   "outputs": [],
   "source": [
    "#df_condensed['um_name'].unique()"
   ]
  },
  {
   "cell_type": "code",
   "execution_count": null,
   "id": "5d170a21",
   "metadata": {},
   "outputs": [],
   "source": [
    "#Need to get rid of: Electricity (kWh), Milling cost (sorghum) - Retail (LCU/3.5kg), Dishwashing liquid - Retail (900 ML), Diapers - Retail (28 pcs), Shampoo - Retail (250 ML), Toothpaste - Retail (150 mL and 100 ML), Toothbrush - Retail (Brush), Toothbrush - Retail (4 pcs),     "
   ]
  },
  {
   "cell_type": "code",
   "execution_count": null,
   "id": "4ea0904e",
   "metadata": {},
   "outputs": [],
   "source": [
    "#Maybes: Straw - Retail (Heap), "
   ]
  },
  {
   "cell_type": "code",
   "execution_count": null,
   "id": "c8e7a6cf",
   "metadata": {},
   "outputs": [],
   "source": [
    "#df_condensed[df_condensed['um_name'] == '28 pcs'].head()"
   ]
  },
  {
   "cell_type": "code",
   "execution_count": null,
   "id": "8516f6d3",
   "metadata": {},
   "outputs": [],
   "source": [
    "# Removing everything that has 'not found' in kcal column. Like Diapers"
   ]
  },
  {
   "cell_type": "code",
   "execution_count": null,
   "id": "974189db",
   "metadata": {},
   "outputs": [],
   "source": [
    "#df_food_only = df_condensed.loc[df_condensed[\"kcal\"] != 'not found']"
   ]
  },
  {
   "cell_type": "code",
   "execution_count": null,
   "id": "0226f7e0",
   "metadata": {},
   "outputs": [],
   "source": [
    "#df_food_only['um_name'].unique()"
   ]
  },
  {
   "cell_type": "code",
   "execution_count": null,
   "id": "74b2386a",
   "metadata": {},
   "outputs": [],
   "source": [
    "#Converting kcal column from string to float"
   ]
  },
  {
   "cell_type": "code",
   "execution_count": null,
   "id": "b6e005fd",
   "metadata": {},
   "outputs": [],
   "source": [
    "#df_food_only['kcal'] = df_food_only['kcal'].astype(float)"
   ]
  },
  {
   "cell_type": "code",
   "execution_count": null,
   "id": "77245890",
   "metadata": {},
   "outputs": [],
   "source": [
    "# Removing everything that has 0 kCal"
   ]
  },
  {
   "cell_type": "code",
   "execution_count": null,
   "id": "1bbd7f6d",
   "metadata": {},
   "outputs": [],
   "source": [
    "#df_food_only = df_food_only.loc[(df_food_only[\"kcal\"] > 0.0) ]"
   ]
  },
  {
   "cell_type": "code",
   "execution_count": null,
   "id": "bdca7ec9",
   "metadata": {},
   "outputs": [],
   "source": [
    "#df_food_only.head()"
   ]
  },
  {
   "cell_type": "code",
   "execution_count": null,
   "id": "998f7e2a",
   "metadata": {
    "scrolled": true
   },
   "outputs": [],
   "source": [
    "#df_food_only['um_name'].unique()"
   ]
  },
  {
   "cell_type": "code",
   "execution_count": null,
   "id": "f00420b3",
   "metadata": {},
   "outputs": [],
   "source": [
    "#df_food_only[df_food_only['um_name'] == '11 KG'].head()"
   ]
  },
  {
   "cell_type": "code",
   "execution_count": null,
   "id": "37339973",
   "metadata": {},
   "outputs": [],
   "source": [
    "#test = df_food_only.loc[df_food_only[\"um_name\"].isin(['KG','L'])]"
   ]
  },
  {
   "cell_type": "code",
   "execution_count": null,
   "id": "c04fc5fb",
   "metadata": {},
   "outputs": [],
   "source": [
    "#test['cm_name'].nunique()"
   ]
  },
  {
   "cell_type": "code",
   "execution_count": null,
   "id": "956f96d0",
   "metadata": {},
   "outputs": [],
   "source": []
  }
 ],
 "metadata": {
  "kernelspec": {
   "display_name": "Python 3 (ipykernel)",
   "language": "python",
   "name": "python3"
  },
  "language_info": {
   "codemirror_mode": {
    "name": "ipython",
    "version": 3
   },
   "file_extension": ".py",
   "mimetype": "text/x-python",
   "name": "python",
   "nbconvert_exporter": "python",
   "pygments_lexer": "ipython3",
   "version": "3.8.12"
  },
  "toc": {
   "base_numbering": 1,
   "nav_menu": {},
   "number_sections": true,
   "sideBar": true,
   "skip_h1_title": false,
   "title_cell": "Table of Contents",
   "title_sidebar": "Contents",
   "toc_cell": false,
   "toc_position": {},
   "toc_section_display": true,
   "toc_window_display": false
  }
 },
 "nbformat": 4,
 "nbformat_minor": 5
}
