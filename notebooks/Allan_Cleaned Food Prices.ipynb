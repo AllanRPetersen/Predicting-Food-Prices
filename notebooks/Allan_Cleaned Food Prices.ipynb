{
 "cells": [
  {
   "cell_type": "code",
   "execution_count": 1,
   "id": "de6b0df4",
   "metadata": {},
   "outputs": [],
   "source": [
    "import pandas as pd\n",
    "import numpy as np\n",
    "import seaborn as sns\n",
    "import matplotlib.pyplot as plt\n",
    "import requests"
   ]
  },
  {
   "cell_type": "code",
   "execution_count": 2,
   "id": "fc9ef9d4",
   "metadata": {},
   "outputs": [],
   "source": [
    "pd.set_option('display.max_columns', None)"
   ]
  },
  {
   "cell_type": "markdown",
   "id": "0bd182d7",
   "metadata": {},
   "source": [
    "## Global Food Prices Database (Cleaned)\n",
    "Updated Global Market Food Prices with 1.048M rows"
   ]
  },
  {
   "cell_type": "code",
   "execution_count": 3,
   "id": "4e3d3c41",
   "metadata": {},
   "outputs": [
    {
     "name": "stderr",
     "output_type": "stream",
     "text": [
      "/Users/plyck/.pyenv/versions/3.8.12/envs/lewagon/lib/python3.8/site-packages/IPython/core/interactiveshell.py:3444: DtypeWarning: Columns (3) have mixed types.Specify dtype option on import or set low_memory=False.\n",
      "  exec(code_obj, self.user_global_ns, self.user_ns)\n"
     ]
    }
   ],
   "source": [
    "price_df = pd.read_csv('../raw_data/Global Food Prices Database/wfp_food_prices_database.csv')"
   ]
  },
  {
   "cell_type": "code",
   "execution_count": 4,
   "id": "6bad525a",
   "metadata": {},
   "outputs": [
    {
     "data": {
      "text/html": [
       "<div>\n",
       "<style scoped>\n",
       "    .dataframe tbody tr th:only-of-type {\n",
       "        vertical-align: middle;\n",
       "    }\n",
       "\n",
       "    .dataframe tbody tr th {\n",
       "        vertical-align: top;\n",
       "    }\n",
       "\n",
       "    .dataframe thead th {\n",
       "        text-align: right;\n",
       "    }\n",
       "</style>\n",
       "<table border=\"1\" class=\"dataframe\">\n",
       "  <thead>\n",
       "    <tr style=\"text-align: right;\">\n",
       "      <th></th>\n",
       "      <th>adm0_id</th>\n",
       "      <th>adm0_name</th>\n",
       "      <th>adm1_id</th>\n",
       "      <th>adm1_name</th>\n",
       "      <th>mkt_id</th>\n",
       "      <th>mkt_name</th>\n",
       "      <th>cm_id</th>\n",
       "      <th>cm_name</th>\n",
       "      <th>cur_id</th>\n",
       "      <th>cur_name</th>\n",
       "      <th>pt_id</th>\n",
       "      <th>pt_name</th>\n",
       "      <th>um_id</th>\n",
       "      <th>um_name</th>\n",
       "      <th>mp_month</th>\n",
       "      <th>mp_year</th>\n",
       "      <th>mp_price</th>\n",
       "      <th>mp_commoditysource</th>\n",
       "    </tr>\n",
       "  </thead>\n",
       "  <tbody>\n",
       "    <tr>\n",
       "      <th>0</th>\n",
       "      <td>1.0</td>\n",
       "      <td>Afghanistan</td>\n",
       "      <td>272</td>\n",
       "      <td>Badakhshan</td>\n",
       "      <td>266</td>\n",
       "      <td>Fayzabad</td>\n",
       "      <td>55</td>\n",
       "      <td>Bread - Retail</td>\n",
       "      <td>0.0</td>\n",
       "      <td>AFN</td>\n",
       "      <td>15</td>\n",
       "      <td>Retail</td>\n",
       "      <td>5</td>\n",
       "      <td>KG</td>\n",
       "      <td>1</td>\n",
       "      <td>2014</td>\n",
       "      <td>50.0</td>\n",
       "      <td>NaN</td>\n",
       "    </tr>\n",
       "    <tr>\n",
       "      <th>1</th>\n",
       "      <td>1.0</td>\n",
       "      <td>Afghanistan</td>\n",
       "      <td>272</td>\n",
       "      <td>Badakhshan</td>\n",
       "      <td>266</td>\n",
       "      <td>Fayzabad</td>\n",
       "      <td>55</td>\n",
       "      <td>Bread - Retail</td>\n",
       "      <td>0.0</td>\n",
       "      <td>AFN</td>\n",
       "      <td>15</td>\n",
       "      <td>Retail</td>\n",
       "      <td>5</td>\n",
       "      <td>KG</td>\n",
       "      <td>2</td>\n",
       "      <td>2014</td>\n",
       "      <td>50.0</td>\n",
       "      <td>NaN</td>\n",
       "    </tr>\n",
       "    <tr>\n",
       "      <th>2</th>\n",
       "      <td>1.0</td>\n",
       "      <td>Afghanistan</td>\n",
       "      <td>272</td>\n",
       "      <td>Badakhshan</td>\n",
       "      <td>266</td>\n",
       "      <td>Fayzabad</td>\n",
       "      <td>55</td>\n",
       "      <td>Bread - Retail</td>\n",
       "      <td>0.0</td>\n",
       "      <td>AFN</td>\n",
       "      <td>15</td>\n",
       "      <td>Retail</td>\n",
       "      <td>5</td>\n",
       "      <td>KG</td>\n",
       "      <td>3</td>\n",
       "      <td>2014</td>\n",
       "      <td>50.0</td>\n",
       "      <td>NaN</td>\n",
       "    </tr>\n",
       "    <tr>\n",
       "      <th>3</th>\n",
       "      <td>1.0</td>\n",
       "      <td>Afghanistan</td>\n",
       "      <td>272</td>\n",
       "      <td>Badakhshan</td>\n",
       "      <td>266</td>\n",
       "      <td>Fayzabad</td>\n",
       "      <td>55</td>\n",
       "      <td>Bread - Retail</td>\n",
       "      <td>0.0</td>\n",
       "      <td>AFN</td>\n",
       "      <td>15</td>\n",
       "      <td>Retail</td>\n",
       "      <td>5</td>\n",
       "      <td>KG</td>\n",
       "      <td>4</td>\n",
       "      <td>2014</td>\n",
       "      <td>50.0</td>\n",
       "      <td>NaN</td>\n",
       "    </tr>\n",
       "    <tr>\n",
       "      <th>4</th>\n",
       "      <td>1.0</td>\n",
       "      <td>Afghanistan</td>\n",
       "      <td>272</td>\n",
       "      <td>Badakhshan</td>\n",
       "      <td>266</td>\n",
       "      <td>Fayzabad</td>\n",
       "      <td>55</td>\n",
       "      <td>Bread - Retail</td>\n",
       "      <td>0.0</td>\n",
       "      <td>AFN</td>\n",
       "      <td>15</td>\n",
       "      <td>Retail</td>\n",
       "      <td>5</td>\n",
       "      <td>KG</td>\n",
       "      <td>5</td>\n",
       "      <td>2014</td>\n",
       "      <td>50.0</td>\n",
       "      <td>NaN</td>\n",
       "    </tr>\n",
       "  </tbody>\n",
       "</table>\n",
       "</div>"
      ],
      "text/plain": [
       "   adm0_id    adm0_name  adm1_id   adm1_name  mkt_id  mkt_name  cm_id  \\\n",
       "0      1.0  Afghanistan      272  Badakhshan     266  Fayzabad     55   \n",
       "1      1.0  Afghanistan      272  Badakhshan     266  Fayzabad     55   \n",
       "2      1.0  Afghanistan      272  Badakhshan     266  Fayzabad     55   \n",
       "3      1.0  Afghanistan      272  Badakhshan     266  Fayzabad     55   \n",
       "4      1.0  Afghanistan      272  Badakhshan     266  Fayzabad     55   \n",
       "\n",
       "          cm_name  cur_id cur_name  pt_id pt_name  um_id um_name  mp_month  \\\n",
       "0  Bread - Retail     0.0      AFN     15  Retail      5      KG         1   \n",
       "1  Bread - Retail     0.0      AFN     15  Retail      5      KG         2   \n",
       "2  Bread - Retail     0.0      AFN     15  Retail      5      KG         3   \n",
       "3  Bread - Retail     0.0      AFN     15  Retail      5      KG         4   \n",
       "4  Bread - Retail     0.0      AFN     15  Retail      5      KG         5   \n",
       "\n",
       "   mp_year  mp_price  mp_commoditysource  \n",
       "0     2014      50.0                 NaN  \n",
       "1     2014      50.0                 NaN  \n",
       "2     2014      50.0                 NaN  \n",
       "3     2014      50.0                 NaN  \n",
       "4     2014      50.0                 NaN  "
      ]
     },
     "execution_count": 4,
     "metadata": {},
     "output_type": "execute_result"
    }
   ],
   "source": [
    "price_df.head()"
   ]
  },
  {
   "cell_type": "code",
   "execution_count": 5,
   "id": "74b7a290",
   "metadata": {},
   "outputs": [
    {
     "data": {
      "text/plain": [
       "adm0_id               0.000000\n",
       "adm0_name             0.000000\n",
       "adm1_id               0.000000\n",
       "adm1_name             0.302027\n",
       "mkt_id                0.000000\n",
       "mkt_name              0.000000\n",
       "cm_id                 0.000000\n",
       "cm_name               0.000000\n",
       "cur_id                0.000000\n",
       "cur_name              0.000000\n",
       "pt_id                 0.000000\n",
       "pt_name               0.000000\n",
       "um_id                 0.000000\n",
       "um_name               0.000000\n",
       "mp_month              0.000000\n",
       "mp_year               0.000000\n",
       "mp_price              0.000000\n",
       "mp_commoditysource    1.000000\n",
       "dtype: float64"
      ]
     },
     "execution_count": 5,
     "metadata": {},
     "output_type": "execute_result"
    }
   ],
   "source": [
    "price_df.isnull().sum()/len(price_df)"
   ]
  },
  {
   "cell_type": "code",
   "execution_count": 6,
   "id": "fee074dc",
   "metadata": {},
   "outputs": [],
   "source": [
    "#dropping the mp_commoditysource because it's 100% Nan's\n",
    "\n",
    "price_df.drop(columns='mp_commoditysource', inplace=True)"
   ]
  },
  {
   "cell_type": "code",
   "execution_count": 7,
   "id": "5177439d",
   "metadata": {},
   "outputs": [
    {
     "data": {
      "text/plain": [
       "613"
      ]
     },
     "execution_count": 7,
     "metadata": {},
     "output_type": "execute_result"
    }
   ],
   "source": [
    "price_df['adm1_name'].nunique()"
   ]
  },
  {
   "cell_type": "code",
   "execution_count": 8,
   "id": "6f8ae265",
   "metadata": {},
   "outputs": [],
   "source": [
    "price_df['adm1_name'].fillna(\"Unknown\", inplace=True)"
   ]
  },
  {
   "cell_type": "code",
   "execution_count": 9,
   "id": "f349aff1",
   "metadata": {},
   "outputs": [
    {
     "data": {
      "text/plain": [
       "614"
      ]
     },
     "execution_count": 9,
     "metadata": {},
     "output_type": "execute_result"
    }
   ],
   "source": [
    "price_df['adm1_name'].nunique()"
   ]
  },
  {
   "cell_type": "code",
   "execution_count": 10,
   "id": "a439321c",
   "metadata": {},
   "outputs": [
    {
     "data": {
      "text/plain": [
       "adm0_id      0.0\n",
       "adm0_name    0.0\n",
       "adm1_id      0.0\n",
       "adm1_name    0.0\n",
       "mkt_id       0.0\n",
       "mkt_name     0.0\n",
       "cm_id        0.0\n",
       "cm_name      0.0\n",
       "cur_id       0.0\n",
       "cur_name     0.0\n",
       "pt_id        0.0\n",
       "pt_name      0.0\n",
       "um_id        0.0\n",
       "um_name      0.0\n",
       "mp_month     0.0\n",
       "mp_year      0.0\n",
       "mp_price     0.0\n",
       "dtype: float64"
      ]
     },
     "execution_count": 10,
     "metadata": {},
     "output_type": "execute_result"
    }
   ],
   "source": [
    "price_df.isnull().sum()/len(price_df)"
   ]
  },
  {
   "cell_type": "code",
   "execution_count": 11,
   "id": "afb47f55",
   "metadata": {},
   "outputs": [],
   "source": [
    "# Introducing new column 'type' where the cm_name (commodity name) is split to make it easier to read by the nutrition API"
   ]
  },
  {
   "cell_type": "code",
   "execution_count": 12,
   "id": "9ad24b22",
   "metadata": {},
   "outputs": [],
   "source": [
    "price_df['type'] = price_df['cm_name'].apply(lambda x: x.split('-')[0])"
   ]
  },
  {
   "cell_type": "code",
   "execution_count": 13,
   "id": "575e182f",
   "metadata": {},
   "outputs": [
    {
     "data": {
      "text/html": [
       "<div>\n",
       "<style scoped>\n",
       "    .dataframe tbody tr th:only-of-type {\n",
       "        vertical-align: middle;\n",
       "    }\n",
       "\n",
       "    .dataframe tbody tr th {\n",
       "        vertical-align: top;\n",
       "    }\n",
       "\n",
       "    .dataframe thead th {\n",
       "        text-align: right;\n",
       "    }\n",
       "</style>\n",
       "<table border=\"1\" class=\"dataframe\">\n",
       "  <thead>\n",
       "    <tr style=\"text-align: right;\">\n",
       "      <th></th>\n",
       "      <th>adm0_id</th>\n",
       "      <th>adm0_name</th>\n",
       "      <th>adm1_id</th>\n",
       "      <th>adm1_name</th>\n",
       "      <th>mkt_id</th>\n",
       "      <th>mkt_name</th>\n",
       "      <th>cm_id</th>\n",
       "      <th>cm_name</th>\n",
       "      <th>cur_id</th>\n",
       "      <th>cur_name</th>\n",
       "      <th>pt_id</th>\n",
       "      <th>pt_name</th>\n",
       "      <th>um_id</th>\n",
       "      <th>um_name</th>\n",
       "      <th>mp_month</th>\n",
       "      <th>mp_year</th>\n",
       "      <th>mp_price</th>\n",
       "      <th>type</th>\n",
       "    </tr>\n",
       "  </thead>\n",
       "  <tbody>\n",
       "    <tr>\n",
       "      <th>0</th>\n",
       "      <td>1.0</td>\n",
       "      <td>Afghanistan</td>\n",
       "      <td>272</td>\n",
       "      <td>Badakhshan</td>\n",
       "      <td>266</td>\n",
       "      <td>Fayzabad</td>\n",
       "      <td>55</td>\n",
       "      <td>Bread - Retail</td>\n",
       "      <td>0.0</td>\n",
       "      <td>AFN</td>\n",
       "      <td>15</td>\n",
       "      <td>Retail</td>\n",
       "      <td>5</td>\n",
       "      <td>KG</td>\n",
       "      <td>1</td>\n",
       "      <td>2014</td>\n",
       "      <td>50.0</td>\n",
       "      <td>Bread</td>\n",
       "    </tr>\n",
       "    <tr>\n",
       "      <th>1</th>\n",
       "      <td>1.0</td>\n",
       "      <td>Afghanistan</td>\n",
       "      <td>272</td>\n",
       "      <td>Badakhshan</td>\n",
       "      <td>266</td>\n",
       "      <td>Fayzabad</td>\n",
       "      <td>55</td>\n",
       "      <td>Bread - Retail</td>\n",
       "      <td>0.0</td>\n",
       "      <td>AFN</td>\n",
       "      <td>15</td>\n",
       "      <td>Retail</td>\n",
       "      <td>5</td>\n",
       "      <td>KG</td>\n",
       "      <td>2</td>\n",
       "      <td>2014</td>\n",
       "      <td>50.0</td>\n",
       "      <td>Bread</td>\n",
       "    </tr>\n",
       "    <tr>\n",
       "      <th>2</th>\n",
       "      <td>1.0</td>\n",
       "      <td>Afghanistan</td>\n",
       "      <td>272</td>\n",
       "      <td>Badakhshan</td>\n",
       "      <td>266</td>\n",
       "      <td>Fayzabad</td>\n",
       "      <td>55</td>\n",
       "      <td>Bread - Retail</td>\n",
       "      <td>0.0</td>\n",
       "      <td>AFN</td>\n",
       "      <td>15</td>\n",
       "      <td>Retail</td>\n",
       "      <td>5</td>\n",
       "      <td>KG</td>\n",
       "      <td>3</td>\n",
       "      <td>2014</td>\n",
       "      <td>50.0</td>\n",
       "      <td>Bread</td>\n",
       "    </tr>\n",
       "    <tr>\n",
       "      <th>3</th>\n",
       "      <td>1.0</td>\n",
       "      <td>Afghanistan</td>\n",
       "      <td>272</td>\n",
       "      <td>Badakhshan</td>\n",
       "      <td>266</td>\n",
       "      <td>Fayzabad</td>\n",
       "      <td>55</td>\n",
       "      <td>Bread - Retail</td>\n",
       "      <td>0.0</td>\n",
       "      <td>AFN</td>\n",
       "      <td>15</td>\n",
       "      <td>Retail</td>\n",
       "      <td>5</td>\n",
       "      <td>KG</td>\n",
       "      <td>4</td>\n",
       "      <td>2014</td>\n",
       "      <td>50.0</td>\n",
       "      <td>Bread</td>\n",
       "    </tr>\n",
       "    <tr>\n",
       "      <th>4</th>\n",
       "      <td>1.0</td>\n",
       "      <td>Afghanistan</td>\n",
       "      <td>272</td>\n",
       "      <td>Badakhshan</td>\n",
       "      <td>266</td>\n",
       "      <td>Fayzabad</td>\n",
       "      <td>55</td>\n",
       "      <td>Bread - Retail</td>\n",
       "      <td>0.0</td>\n",
       "      <td>AFN</td>\n",
       "      <td>15</td>\n",
       "      <td>Retail</td>\n",
       "      <td>5</td>\n",
       "      <td>KG</td>\n",
       "      <td>5</td>\n",
       "      <td>2014</td>\n",
       "      <td>50.0</td>\n",
       "      <td>Bread</td>\n",
       "    </tr>\n",
       "  </tbody>\n",
       "</table>\n",
       "</div>"
      ],
      "text/plain": [
       "   adm0_id    adm0_name  adm1_id   adm1_name  mkt_id  mkt_name  cm_id  \\\n",
       "0      1.0  Afghanistan      272  Badakhshan     266  Fayzabad     55   \n",
       "1      1.0  Afghanistan      272  Badakhshan     266  Fayzabad     55   \n",
       "2      1.0  Afghanistan      272  Badakhshan     266  Fayzabad     55   \n",
       "3      1.0  Afghanistan      272  Badakhshan     266  Fayzabad     55   \n",
       "4      1.0  Afghanistan      272  Badakhshan     266  Fayzabad     55   \n",
       "\n",
       "          cm_name  cur_id cur_name  pt_id pt_name  um_id um_name  mp_month  \\\n",
       "0  Bread - Retail     0.0      AFN     15  Retail      5      KG         1   \n",
       "1  Bread - Retail     0.0      AFN     15  Retail      5      KG         2   \n",
       "2  Bread - Retail     0.0      AFN     15  Retail      5      KG         3   \n",
       "3  Bread - Retail     0.0      AFN     15  Retail      5      KG         4   \n",
       "4  Bread - Retail     0.0      AFN     15  Retail      5      KG         5   \n",
       "\n",
       "   mp_year  mp_price    type  \n",
       "0     2014      50.0  Bread   \n",
       "1     2014      50.0  Bread   \n",
       "2     2014      50.0  Bread   \n",
       "3     2014      50.0  Bread   \n",
       "4     2014      50.0  Bread   "
      ]
     },
     "execution_count": 13,
     "metadata": {},
     "output_type": "execute_result"
    }
   ],
   "source": [
    "price_df.head()"
   ]
  },
  {
   "cell_type": "code",
   "execution_count": 14,
   "id": "2613bfed",
   "metadata": {},
   "outputs": [],
   "source": [
    "price_2020_df = price_df[price_df['mp_year'] == 2020]"
   ]
  },
  {
   "cell_type": "code",
   "execution_count": 15,
   "id": "e9eac044",
   "metadata": {},
   "outputs": [
    {
     "data": {
      "text/plain": [
       "(165098, 18)"
      ]
     },
     "execution_count": 15,
     "metadata": {},
     "output_type": "execute_result"
    }
   ],
   "source": [
    "price_2020_df.shape"
   ]
  },
  {
   "cell_type": "code",
   "execution_count": 16,
   "id": "8ae523be",
   "metadata": {},
   "outputs": [
    {
     "data": {
      "text/plain": [
       "array(['AFN', 'AOA', 'ARS', 'AMD', 'BDT', 'INR', 'BYR', 'XOF', 'BTN',\n",
       "       'BOB', 'BIF', 'KHR', 'XAF', 'CVE', 'CNY', 'COP', 'CDF', 'DJF',\n",
       "       'DOP', 'USD', 'EGP', 'ETB', 'GMD', 'GHS', 'GTQ', 'GNF', 'HTG',\n",
       "       'HNL', 'IDR', 'IRR', 'IQD', 'JPY', 'JOD', 'KZT', 'KES', 'KGS',\n",
       "       'LAK', 'LBP', 'LSL', 'LRD', 'LYD', 'MWK', 'SOS', 'MRO', 'MXN',\n",
       "       'MNT', 'MZN', 'MMK', 'NAD', 'NPR', 'NIO', 'NGN', 'PKR', 'PAB',\n",
       "       'PYG', 'PEN', 'PHP', 'RUB', 'RWF', 'SLL', 'ZAR', 'SSP', 'LKR',\n",
       "       'NIS', 'SDG', 'SZL', 'SYP', 'TJS', 'THB', 'TRY', 'UGX', 'TZS',\n",
       "       'YER', 'ZMW'], dtype=object)"
      ]
     },
     "execution_count": 16,
     "metadata": {},
     "output_type": "execute_result"
    }
   ],
   "source": [
    "price_2020_df['cur_name'].unique()"
   ]
  },
  {
   "cell_type": "code",
   "execution_count": 17,
   "id": "325b5fb2",
   "metadata": {},
   "outputs": [],
   "source": [
    "# Source Wiki: It was previously known as the new Israeli shekel and the non-official abbreviation of NIS.\n",
    "# Need to change NIS to ILS (Israeli New Shekel)"
   ]
  },
  {
   "cell_type": "code",
   "execution_count": 18,
   "id": "565dbf6a",
   "metadata": {},
   "outputs": [
    {
     "name": "stderr",
     "output_type": "stream",
     "text": [
      "/var/folders/ld/8g4lbtw14x12q9rxlrk7ccx00000gn/T/ipykernel_1141/2113586509.py:1: SettingWithCopyWarning: \n",
      "A value is trying to be set on a copy of a slice from a DataFrame.\n",
      "Try using .loc[row_indexer,col_indexer] = value instead\n",
      "\n",
      "See the caveats in the documentation: https://pandas.pydata.org/pandas-docs/stable/user_guide/indexing.html#returning-a-view-versus-a-copy\n",
      "  price_2020_df['cur_name'] = price_2020_df['cur_name'].apply(lambda x: x.replace('NIS','ILS'))\n"
     ]
    }
   ],
   "source": [
    "price_2020_df['cur_name'] = price_2020_df['cur_name'].apply(lambda x: x.replace('NIS','ILS'))"
   ]
  },
  {
   "cell_type": "code",
   "execution_count": 19,
   "id": "02e1eee1",
   "metadata": {},
   "outputs": [],
   "source": [
    "currencies = price_2020_df['cur_name'].unique()"
   ]
  },
  {
   "cell_type": "code",
   "execution_count": 20,
   "id": "0dad353b",
   "metadata": {},
   "outputs": [
    {
     "data": {
      "text/plain": [
       "numpy.ndarray"
      ]
     },
     "execution_count": 20,
     "metadata": {},
     "output_type": "execute_result"
    }
   ],
   "source": [
    "type(currencies)"
   ]
  },
  {
   "cell_type": "code",
   "execution_count": 21,
   "id": "57d7f4d4",
   "metadata": {},
   "outputs": [],
   "source": [
    "currencies = currencies.tolist()"
   ]
  },
  {
   "cell_type": "code",
   "execution_count": 22,
   "id": "67b46361",
   "metadata": {},
   "outputs": [],
   "source": [
    "currencies.sort()"
   ]
  },
  {
   "cell_type": "code",
   "execution_count": 23,
   "id": "21e4219e",
   "metadata": {},
   "outputs": [
    {
     "data": {
      "text/plain": [
       "74"
      ]
     },
     "execution_count": 23,
     "metadata": {},
     "output_type": "execute_result"
    }
   ],
   "source": [
    "len(currencies)"
   ]
  },
  {
   "cell_type": "code",
   "execution_count": 24,
   "id": "07547833",
   "metadata": {},
   "outputs": [],
   "source": [
    "#SSP = South Sudanese pound\n",
    "# This is not in our currency exchange API so must be removed and added later."
   ]
  },
  {
   "cell_type": "code",
   "execution_count": 25,
   "id": "085b8a9e",
   "metadata": {},
   "outputs": [],
   "source": [
    "currencies.remove(\"SSP\")"
   ]
  },
  {
   "cell_type": "code",
   "execution_count": 26,
   "id": "1fba1577",
   "metadata": {},
   "outputs": [
    {
     "data": {
      "text/plain": [
       "73"
      ]
     },
     "execution_count": 26,
     "metadata": {},
     "output_type": "execute_result"
    }
   ],
   "source": [
    "len(currencies)"
   ]
  },
  {
   "cell_type": "code",
   "execution_count": 27,
   "id": "946d380b",
   "metadata": {},
   "outputs": [],
   "source": [
    "#API call to get the conversion rates in the list currencies"
   ]
  },
  {
   "cell_type": "code",
   "execution_count": 28,
   "id": "06dcb950",
   "metadata": {},
   "outputs": [],
   "source": [
    "api_key = 'e3479b3ac491d8699be3a12b7cf7e51d'"
   ]
  },
  {
   "cell_type": "code",
   "execution_count": 29,
   "id": "b20bb91c",
   "metadata": {},
   "outputs": [],
   "source": [
    "curr = ','.join(currencies)"
   ]
  },
  {
   "cell_type": "code",
   "execution_count": 30,
   "id": "68535186",
   "metadata": {},
   "outputs": [],
   "source": [
    "response = requests.get(f'http://api.currencylayer.com/live?access_key={api_key}&currencies={curr}&format=1')"
   ]
  },
  {
   "cell_type": "code",
   "execution_count": 31,
   "id": "2f44bd50",
   "metadata": {},
   "outputs": [
    {
     "data": {
      "text/plain": [
       "'http://api.currencylayer.com/live?access_key=e3479b3ac491d8699be3a12b7cf7e51d&currencies=AFN,AMD,AOA,ARS,BDT,BIF,BOB,BTN,BYR,CDF,CNY,COP,CVE,DJF,DOP,EGP,ETB,GHS,GMD,GNF,GTQ,HNL,HTG,IDR,ILS,INR,IQD,IRR,JOD,JPY,KES,KGS,KHR,KZT,LAK,LBP,LKR,LRD,LSL,LYD,MMK,MNT,MRO,MWK,MXN,MZN,NAD,NGN,NIO,NPR,PAB,PEN,PHP,PKR,PYG,RUB,RWF,SDG,SLL,SOS,SYP,SZL,THB,TJS,TRY,TZS,UGX,USD,XAF,XOF,YER,ZAR,ZMW&format=1'"
      ]
     },
     "execution_count": 31,
     "metadata": {},
     "output_type": "execute_result"
    }
   ],
   "source": [
    "response.url"
   ]
  },
  {
   "cell_type": "code",
   "execution_count": 32,
   "id": "cce6090d",
   "metadata": {},
   "outputs": [
    {
     "data": {
      "text/plain": [
       "{'success': True,\n",
       " 'terms': 'https://currencylayer.com/terms',\n",
       " 'privacy': 'https://currencylayer.com/privacy',\n",
       " 'timestamp': 1638951004,\n",
       " 'source': 'USD',\n",
       " 'quotes': {'USDAFN': 96.25256,\n",
       "  'USDAMD': 491.785255,\n",
       "  'USDAOA': 564.209003,\n",
       "  'USDARS': 101.364698,\n",
       "  'USDBDT': 85.609632,\n",
       "  'USDBIF': 1988.457958,\n",
       "  'USDBOB': 6.88221,\n",
       "  'USDBTN': 75.266214,\n",
       "  'USDBYR': 19600,\n",
       "  'USDCDF': 2001.99979,\n",
       "  'USDCNY': 6.355302,\n",
       "  'USDCOP': 3910.98,\n",
       "  'USDCVE': 97.76566,\n",
       "  'USDDJF': 177.677891,\n",
       "  'USDDOP': 56.509482,\n",
       "  'USDEGP': 15.729398,\n",
       "  'USDETB': 48.065551,\n",
       "  'USDGHS': 6.113668,\n",
       "  'USDGMD': 52.50026,\n",
       "  'USDGNF': 9482.344389,\n",
       "  'USDGTQ': 7.715654,\n",
       "  'USDHNL': 24.109684,\n",
       "  'USDHTG': 100.802269,\n",
       "  'USDIDR': 14360.45,\n",
       "  'USDILS': 3.11779,\n",
       "  'USDINR': 75.539018,\n",
       "  'USDIQD': 1456.183202,\n",
       "  'USDIRR': 42249.999669,\n",
       "  'USDJOD': 0.709198,\n",
       "  'USDJPY': 113.4265,\n",
       "  'USDKES': 112.839953,\n",
       "  'USDKGS': 84.797101,\n",
       "  'USDKHR': 4063.738309,\n",
       "  'USDKZT': 436.408126,\n",
       "  'USDLAK': 10905.995939,\n",
       "  'USDLBP': 1509.30014,\n",
       "  'USDLKR': 202.358104,\n",
       "  'USDLRD': 141.850169,\n",
       "  'USDLSL': 15.896955,\n",
       "  'USDLYD': 4.592539,\n",
       "  'USDMMK': 1776.528423,\n",
       "  'USDMNT': 2858.218612,\n",
       "  'USDMRO': 356.999828,\n",
       "  'USDMWK': 814.808149,\n",
       "  'USDMXN': 21.00577,\n",
       "  'USDMZN': 63.829886,\n",
       "  'USDNAD': 15.894963,\n",
       "  'USDNGN': 410.210115,\n",
       "  'USDNIO': 35.161396,\n",
       "  'USDNPR': 120.412777,\n",
       "  'USDPAB': 0.998094,\n",
       "  'USDPEN': 4.078072,\n",
       "  'USDPHP': 50.314971,\n",
       "  'USDPKR': 176.455193,\n",
       "  'USDPYG': 6803.996666,\n",
       "  'USDRUB': 73.797502,\n",
       "  'USDRWF': 1034.189588,\n",
       "  'USDSDG': 437.500376,\n",
       "  'USDSLL': 11129.99978,\n",
       "  'USDSOS': 583.999441,\n",
       "  'USDSYP': 1256.783558,\n",
       "  'USDSZL': 15.90544,\n",
       "  'USDTHB': 33.540494,\n",
       "  'USDTJS': 11.269052,\n",
       "  'USDTRY': 13.6339,\n",
       "  'USDTZS': 2304.999717,\n",
       "  'USDUGX': 3563.417121,\n",
       "  'USDUSD': 1,\n",
       "  'USDXAF': 581.547941,\n",
       "  'USDXOF': 581.553097,\n",
       "  'USDYER': 250.24973,\n",
       "  'USDZAR': 15.80918,\n",
       "  'USDZMW': 17.416263}}"
      ]
     },
     "execution_count": 32,
     "metadata": {},
     "output_type": "execute_result"
    }
   ],
   "source": [
    "response.json()"
   ]
  },
  {
   "cell_type": "code",
   "execution_count": 33,
   "id": "1134f8cf",
   "metadata": {},
   "outputs": [],
   "source": [
    "conversion_rates = response.json()"
   ]
  },
  {
   "cell_type": "code",
   "execution_count": 34,
   "id": "db0c0d81",
   "metadata": {},
   "outputs": [],
   "source": [
    "conversion_rates = conversion_rates['quotes']"
   ]
  },
  {
   "cell_type": "code",
   "execution_count": 35,
   "id": "33077a76",
   "metadata": {},
   "outputs": [
    {
     "data": {
      "text/plain": [
       "(73, 73)"
      ]
     },
     "execution_count": 35,
     "metadata": {},
     "output_type": "execute_result"
    }
   ],
   "source": [
    "len(conversion_rates), len(currencies)"
   ]
  },
  {
   "cell_type": "code",
   "execution_count": 36,
   "id": "624d8363",
   "metadata": {},
   "outputs": [],
   "source": [
    "# Making a dictionary of the conversion rates"
   ]
  },
  {
   "cell_type": "code",
   "execution_count": 37,
   "id": "31c66c6f",
   "metadata": {},
   "outputs": [],
   "source": [
    "dic_values = []\n",
    "for x in conversion_rates.keys():\n",
    "    dic_values.append(conversion_rates[x])"
   ]
  },
  {
   "cell_type": "code",
   "execution_count": 38,
   "id": "43c35de4",
   "metadata": {},
   "outputs": [
    {
     "data": {
      "text/plain": [
       "73"
      ]
     },
     "execution_count": 38,
     "metadata": {},
     "output_type": "execute_result"
    }
   ],
   "source": [
    "len(dic_values)"
   ]
  },
  {
   "cell_type": "code",
   "execution_count": 39,
   "id": "0afd61d2",
   "metadata": {},
   "outputs": [],
   "source": [
    "conversion_rates_dict = dict(zip(currencies,dic_values))"
   ]
  },
  {
   "cell_type": "code",
   "execution_count": 40,
   "id": "bda296cb",
   "metadata": {},
   "outputs": [],
   "source": [
    "#SSP will be added as 1 USD = 130.26 SSP"
   ]
  },
  {
   "cell_type": "code",
   "execution_count": 41,
   "id": "fe475685",
   "metadata": {},
   "outputs": [],
   "source": [
    "conversion_rates_dict['SSP'] = 130.26"
   ]
  },
  {
   "cell_type": "code",
   "execution_count": 42,
   "id": "d913037b",
   "metadata": {},
   "outputs": [],
   "source": [
    "# Adding a new column to our data with the conversion rates"
   ]
  },
  {
   "cell_type": "code",
   "execution_count": 43,
   "id": "8d692cce",
   "metadata": {},
   "outputs": [
    {
     "name": "stderr",
     "output_type": "stream",
     "text": [
      "/var/folders/ld/8g4lbtw14x12q9rxlrk7ccx00000gn/T/ipykernel_1141/4267227431.py:1: SettingWithCopyWarning: \n",
      "A value is trying to be set on a copy of a slice from a DataFrame.\n",
      "Try using .loc[row_indexer,col_indexer] = value instead\n",
      "\n",
      "See the caveats in the documentation: https://pandas.pydata.org/pandas-docs/stable/user_guide/indexing.html#returning-a-view-versus-a-copy\n",
      "  price_2020_df['conv_rate'] = list(map(lambda x: conversion_rates_dict[x] , price_2020_df['cur_name']))\n"
     ]
    }
   ],
   "source": [
    "price_2020_df['conv_rate'] = list(map(lambda x: conversion_rates_dict[x] , price_2020_df['cur_name']))"
   ]
  },
  {
   "cell_type": "code",
   "execution_count": 44,
   "id": "78105036",
   "metadata": {},
   "outputs": [
    {
     "data": {
      "text/plain": [
       "74"
      ]
     },
     "execution_count": 44,
     "metadata": {},
     "output_type": "execute_result"
    }
   ],
   "source": [
    "price_2020_df['conv_rate'].nunique()"
   ]
  },
  {
   "cell_type": "code",
   "execution_count": 45,
   "id": "26f5c7dc",
   "metadata": {},
   "outputs": [],
   "source": [
    "# Adding a new column to our data with the price in USD"
   ]
  },
  {
   "cell_type": "code",
   "execution_count": 46,
   "id": "cafac9a6",
   "metadata": {},
   "outputs": [
    {
     "name": "stderr",
     "output_type": "stream",
     "text": [
      "/var/folders/ld/8g4lbtw14x12q9rxlrk7ccx00000gn/T/ipykernel_1141/1950825033.py:1: SettingWithCopyWarning: \n",
      "A value is trying to be set on a copy of a slice from a DataFrame.\n",
      "Try using .loc[row_indexer,col_indexer] = value instead\n",
      "\n",
      "See the caveats in the documentation: https://pandas.pydata.org/pandas-docs/stable/user_guide/indexing.html#returning-a-view-versus-a-copy\n",
      "  price_2020_df[\"usd_rate\"] = price_2020_df[\"mp_price\"] / price_2020_df[\"conv_rate\"]\n"
     ]
    }
   ],
   "source": [
    "price_2020_df[\"usd_rate\"] = price_2020_df[\"mp_price\"] / price_2020_df[\"conv_rate\"] "
   ]
  },
  {
   "cell_type": "code",
   "execution_count": 47,
   "id": "c19b824f",
   "metadata": {},
   "outputs": [
    {
     "data": {
      "text/html": [
       "<div>\n",
       "<style scoped>\n",
       "    .dataframe tbody tr th:only-of-type {\n",
       "        vertical-align: middle;\n",
       "    }\n",
       "\n",
       "    .dataframe tbody tr th {\n",
       "        vertical-align: top;\n",
       "    }\n",
       "\n",
       "    .dataframe thead th {\n",
       "        text-align: right;\n",
       "    }\n",
       "</style>\n",
       "<table border=\"1\" class=\"dataframe\">\n",
       "  <thead>\n",
       "    <tr style=\"text-align: right;\">\n",
       "      <th></th>\n",
       "      <th>adm0_id</th>\n",
       "      <th>adm0_name</th>\n",
       "      <th>adm1_id</th>\n",
       "      <th>adm1_name</th>\n",
       "      <th>mkt_id</th>\n",
       "      <th>mkt_name</th>\n",
       "      <th>cm_id</th>\n",
       "      <th>cm_name</th>\n",
       "      <th>cur_id</th>\n",
       "      <th>cur_name</th>\n",
       "      <th>pt_id</th>\n",
       "      <th>pt_name</th>\n",
       "      <th>um_id</th>\n",
       "      <th>um_name</th>\n",
       "      <th>mp_month</th>\n",
       "      <th>mp_year</th>\n",
       "      <th>mp_price</th>\n",
       "      <th>type</th>\n",
       "      <th>conv_rate</th>\n",
       "      <th>usd_rate</th>\n",
       "    </tr>\n",
       "  </thead>\n",
       "  <tbody>\n",
       "    <tr>\n",
       "      <th>69</th>\n",
       "      <td>1.0</td>\n",
       "      <td>Afghanistan</td>\n",
       "      <td>272</td>\n",
       "      <td>Badakhshan</td>\n",
       "      <td>266</td>\n",
       "      <td>Fayzabad</td>\n",
       "      <td>55</td>\n",
       "      <td>Bread - Retail</td>\n",
       "      <td>0.0</td>\n",
       "      <td>AFN</td>\n",
       "      <td>15</td>\n",
       "      <td>Retail</td>\n",
       "      <td>5</td>\n",
       "      <td>KG</td>\n",
       "      <td>1</td>\n",
       "      <td>2020</td>\n",
       "      <td>50.0000</td>\n",
       "      <td>Bread</td>\n",
       "      <td>96.252560</td>\n",
       "      <td>0.519467</td>\n",
       "    </tr>\n",
       "    <tr>\n",
       "      <th>70</th>\n",
       "      <td>1.0</td>\n",
       "      <td>Afghanistan</td>\n",
       "      <td>272</td>\n",
       "      <td>Badakhshan</td>\n",
       "      <td>266</td>\n",
       "      <td>Fayzabad</td>\n",
       "      <td>55</td>\n",
       "      <td>Bread - Retail</td>\n",
       "      <td>0.0</td>\n",
       "      <td>AFN</td>\n",
       "      <td>15</td>\n",
       "      <td>Retail</td>\n",
       "      <td>5</td>\n",
       "      <td>KG</td>\n",
       "      <td>2</td>\n",
       "      <td>2020</td>\n",
       "      <td>50.0000</td>\n",
       "      <td>Bread</td>\n",
       "      <td>96.252560</td>\n",
       "      <td>0.519467</td>\n",
       "    </tr>\n",
       "    <tr>\n",
       "      <th>71</th>\n",
       "      <td>1.0</td>\n",
       "      <td>Afghanistan</td>\n",
       "      <td>272</td>\n",
       "      <td>Badakhshan</td>\n",
       "      <td>266</td>\n",
       "      <td>Fayzabad</td>\n",
       "      <td>55</td>\n",
       "      <td>Bread - Retail</td>\n",
       "      <td>0.0</td>\n",
       "      <td>AFN</td>\n",
       "      <td>15</td>\n",
       "      <td>Retail</td>\n",
       "      <td>5</td>\n",
       "      <td>KG</td>\n",
       "      <td>3</td>\n",
       "      <td>2020</td>\n",
       "      <td>50.0000</td>\n",
       "      <td>Bread</td>\n",
       "      <td>96.252560</td>\n",
       "      <td>0.519467</td>\n",
       "    </tr>\n",
       "    <tr>\n",
       "      <th>72</th>\n",
       "      <td>1.0</td>\n",
       "      <td>Afghanistan</td>\n",
       "      <td>272</td>\n",
       "      <td>Badakhshan</td>\n",
       "      <td>266</td>\n",
       "      <td>Fayzabad</td>\n",
       "      <td>55</td>\n",
       "      <td>Bread - Retail</td>\n",
       "      <td>0.0</td>\n",
       "      <td>AFN</td>\n",
       "      <td>15</td>\n",
       "      <td>Retail</td>\n",
       "      <td>5</td>\n",
       "      <td>KG</td>\n",
       "      <td>4</td>\n",
       "      <td>2020</td>\n",
       "      <td>50.0000</td>\n",
       "      <td>Bread</td>\n",
       "      <td>96.252560</td>\n",
       "      <td>0.519467</td>\n",
       "    </tr>\n",
       "    <tr>\n",
       "      <th>275</th>\n",
       "      <td>1.0</td>\n",
       "      <td>Afghanistan</td>\n",
       "      <td>272</td>\n",
       "      <td>Badakhshan</td>\n",
       "      <td>266</td>\n",
       "      <td>Fayzabad</td>\n",
       "      <td>84</td>\n",
       "      <td>Wheat - Retail</td>\n",
       "      <td>0.0</td>\n",
       "      <td>AFN</td>\n",
       "      <td>15</td>\n",
       "      <td>Retail</td>\n",
       "      <td>5</td>\n",
       "      <td>KG</td>\n",
       "      <td>1</td>\n",
       "      <td>2020</td>\n",
       "      <td>25.3750</td>\n",
       "      <td>Wheat</td>\n",
       "      <td>96.252560</td>\n",
       "      <td>0.263629</td>\n",
       "    </tr>\n",
       "    <tr>\n",
       "      <th>...</th>\n",
       "      <td>...</td>\n",
       "      <td>...</td>\n",
       "      <td>...</td>\n",
       "      <td>...</td>\n",
       "      <td>...</td>\n",
       "      <td>...</td>\n",
       "      <td>...</td>\n",
       "      <td>...</td>\n",
       "      <td>...</td>\n",
       "      <td>...</td>\n",
       "      <td>...</td>\n",
       "      <td>...</td>\n",
       "      <td>...</td>\n",
       "      <td>...</td>\n",
       "      <td>...</td>\n",
       "      <td>...</td>\n",
       "      <td>...</td>\n",
       "      <td>...</td>\n",
       "      <td>...</td>\n",
       "      <td>...</td>\n",
       "    </tr>\n",
       "    <tr>\n",
       "      <th>1556443</th>\n",
       "      <td>270.0</td>\n",
       "      <td>Zambia</td>\n",
       "      <td>3434</td>\n",
       "      <td>Western</td>\n",
       "      <td>1462</td>\n",
       "      <td>Kalabo</td>\n",
       "      <td>265</td>\n",
       "      <td>Maize meal (white, breakfast) - Retail</td>\n",
       "      <td>0.0</td>\n",
       "      <td>ZMW</td>\n",
       "      <td>15</td>\n",
       "      <td>Retail</td>\n",
       "      <td>5</td>\n",
       "      <td>KG</td>\n",
       "      <td>2</td>\n",
       "      <td>2020</td>\n",
       "      <td>6.4480</td>\n",
       "      <td>Maize meal (white, breakfast)</td>\n",
       "      <td>17.416263</td>\n",
       "      <td>0.370229</td>\n",
       "    </tr>\n",
       "    <tr>\n",
       "      <th>1556444</th>\n",
       "      <td>270.0</td>\n",
       "      <td>Zambia</td>\n",
       "      <td>3434</td>\n",
       "      <td>Western</td>\n",
       "      <td>1462</td>\n",
       "      <td>Kalabo</td>\n",
       "      <td>265</td>\n",
       "      <td>Maize meal (white, breakfast) - Retail</td>\n",
       "      <td>0.0</td>\n",
       "      <td>ZMW</td>\n",
       "      <td>15</td>\n",
       "      <td>Retail</td>\n",
       "      <td>5</td>\n",
       "      <td>KG</td>\n",
       "      <td>3</td>\n",
       "      <td>2020</td>\n",
       "      <td>6.6320</td>\n",
       "      <td>Maize meal (white, breakfast)</td>\n",
       "      <td>17.416263</td>\n",
       "      <td>0.380794</td>\n",
       "    </tr>\n",
       "    <tr>\n",
       "      <th>1556445</th>\n",
       "      <td>270.0</td>\n",
       "      <td>Zambia</td>\n",
       "      <td>3434</td>\n",
       "      <td>Western</td>\n",
       "      <td>1462</td>\n",
       "      <td>Kalabo</td>\n",
       "      <td>265</td>\n",
       "      <td>Maize meal (white, breakfast) - Retail</td>\n",
       "      <td>0.0</td>\n",
       "      <td>ZMW</td>\n",
       "      <td>15</td>\n",
       "      <td>Retail</td>\n",
       "      <td>5</td>\n",
       "      <td>KG</td>\n",
       "      <td>4</td>\n",
       "      <td>2020</td>\n",
       "      <td>6.4400</td>\n",
       "      <td>Maize meal (white, breakfast)</td>\n",
       "      <td>17.416263</td>\n",
       "      <td>0.369769</td>\n",
       "    </tr>\n",
       "    <tr>\n",
       "      <th>1556446</th>\n",
       "      <td>270.0</td>\n",
       "      <td>Zambia</td>\n",
       "      <td>3434</td>\n",
       "      <td>Western</td>\n",
       "      <td>1462</td>\n",
       "      <td>Kalabo</td>\n",
       "      <td>265</td>\n",
       "      <td>Maize meal (white, breakfast) - Retail</td>\n",
       "      <td>0.0</td>\n",
       "      <td>ZMW</td>\n",
       "      <td>15</td>\n",
       "      <td>Retail</td>\n",
       "      <td>5</td>\n",
       "      <td>KG</td>\n",
       "      <td>5</td>\n",
       "      <td>2020</td>\n",
       "      <td>6.5168</td>\n",
       "      <td>Maize meal (white, breakfast)</td>\n",
       "      <td>17.416263</td>\n",
       "      <td>0.374179</td>\n",
       "    </tr>\n",
       "    <tr>\n",
       "      <th>1556447</th>\n",
       "      <td>270.0</td>\n",
       "      <td>Zambia</td>\n",
       "      <td>3434</td>\n",
       "      <td>Western</td>\n",
       "      <td>1462</td>\n",
       "      <td>Kalabo</td>\n",
       "      <td>265</td>\n",
       "      <td>Maize meal (white, breakfast) - Retail</td>\n",
       "      <td>0.0</td>\n",
       "      <td>ZMW</td>\n",
       "      <td>15</td>\n",
       "      <td>Retail</td>\n",
       "      <td>5</td>\n",
       "      <td>KG</td>\n",
       "      <td>6</td>\n",
       "      <td>2020</td>\n",
       "      <td>5.3100</td>\n",
       "      <td>Maize meal (white, breakfast)</td>\n",
       "      <td>17.416263</td>\n",
       "      <td>0.304887</td>\n",
       "    </tr>\n",
       "  </tbody>\n",
       "</table>\n",
       "<p>165098 rows × 20 columns</p>\n",
       "</div>"
      ],
      "text/plain": [
       "         adm0_id    adm0_name  adm1_id   adm1_name  mkt_id  mkt_name  cm_id  \\\n",
       "69           1.0  Afghanistan      272  Badakhshan     266  Fayzabad     55   \n",
       "70           1.0  Afghanistan      272  Badakhshan     266  Fayzabad     55   \n",
       "71           1.0  Afghanistan      272  Badakhshan     266  Fayzabad     55   \n",
       "72           1.0  Afghanistan      272  Badakhshan     266  Fayzabad     55   \n",
       "275          1.0  Afghanistan      272  Badakhshan     266  Fayzabad     84   \n",
       "...          ...          ...      ...         ...     ...       ...    ...   \n",
       "1556443    270.0       Zambia     3434     Western    1462    Kalabo    265   \n",
       "1556444    270.0       Zambia     3434     Western    1462    Kalabo    265   \n",
       "1556445    270.0       Zambia     3434     Western    1462    Kalabo    265   \n",
       "1556446    270.0       Zambia     3434     Western    1462    Kalabo    265   \n",
       "1556447    270.0       Zambia     3434     Western    1462    Kalabo    265   \n",
       "\n",
       "                                        cm_name  cur_id cur_name  pt_id  \\\n",
       "69                               Bread - Retail     0.0      AFN     15   \n",
       "70                               Bread - Retail     0.0      AFN     15   \n",
       "71                               Bread - Retail     0.0      AFN     15   \n",
       "72                               Bread - Retail     0.0      AFN     15   \n",
       "275                              Wheat - Retail     0.0      AFN     15   \n",
       "...                                         ...     ...      ...    ...   \n",
       "1556443  Maize meal (white, breakfast) - Retail     0.0      ZMW     15   \n",
       "1556444  Maize meal (white, breakfast) - Retail     0.0      ZMW     15   \n",
       "1556445  Maize meal (white, breakfast) - Retail     0.0      ZMW     15   \n",
       "1556446  Maize meal (white, breakfast) - Retail     0.0      ZMW     15   \n",
       "1556447  Maize meal (white, breakfast) - Retail     0.0      ZMW     15   \n",
       "\n",
       "        pt_name  um_id um_name  mp_month  mp_year  mp_price  \\\n",
       "69       Retail      5      KG         1     2020   50.0000   \n",
       "70       Retail      5      KG         2     2020   50.0000   \n",
       "71       Retail      5      KG         3     2020   50.0000   \n",
       "72       Retail      5      KG         4     2020   50.0000   \n",
       "275      Retail      5      KG         1     2020   25.3750   \n",
       "...         ...    ...     ...       ...      ...       ...   \n",
       "1556443  Retail      5      KG         2     2020    6.4480   \n",
       "1556444  Retail      5      KG         3     2020    6.6320   \n",
       "1556445  Retail      5      KG         4     2020    6.4400   \n",
       "1556446  Retail      5      KG         5     2020    6.5168   \n",
       "1556447  Retail      5      KG         6     2020    5.3100   \n",
       "\n",
       "                                   type  conv_rate  usd_rate  \n",
       "69                               Bread   96.252560  0.519467  \n",
       "70                               Bread   96.252560  0.519467  \n",
       "71                               Bread   96.252560  0.519467  \n",
       "72                               Bread   96.252560  0.519467  \n",
       "275                              Wheat   96.252560  0.263629  \n",
       "...                                 ...        ...       ...  \n",
       "1556443  Maize meal (white, breakfast)   17.416263  0.370229  \n",
       "1556444  Maize meal (white, breakfast)   17.416263  0.380794  \n",
       "1556445  Maize meal (white, breakfast)   17.416263  0.369769  \n",
       "1556446  Maize meal (white, breakfast)   17.416263  0.374179  \n",
       "1556447  Maize meal (white, breakfast)   17.416263  0.304887  \n",
       "\n",
       "[165098 rows x 20 columns]"
      ]
     },
     "execution_count": 47,
     "metadata": {},
     "output_type": "execute_result"
    }
   ],
   "source": [
    "price_2020_df"
   ]
  },
  {
   "cell_type": "code",
   "execution_count": 48,
   "id": "68f96bf8",
   "metadata": {},
   "outputs": [
    {
     "data": {
      "text/plain": [
       "(165098, 20)"
      ]
     },
     "execution_count": 48,
     "metadata": {},
     "output_type": "execute_result"
    }
   ],
   "source": [
    "price_2020_df.shape"
   ]
  },
  {
   "cell_type": "code",
   "execution_count": 49,
   "id": "b25797d1",
   "metadata": {},
   "outputs": [
    {
     "data": {
      "text/plain": [
       "array([1, 2, 3, 4, 5, 6, 7, 8])"
      ]
     },
     "execution_count": 49,
     "metadata": {},
     "output_type": "execute_result"
    }
   ],
   "source": [
    "price_2020_df['mp_month'].unique()"
   ]
  },
  {
   "cell_type": "code",
   "execution_count": null,
   "id": "3b551783",
   "metadata": {},
   "outputs": [],
   "source": []
  },
  {
   "cell_type": "markdown",
   "id": "331c058b",
   "metadata": {},
   "source": [
    "## Importing Adrians Dataset"
   ]
  },
  {
   "cell_type": "code",
   "execution_count": 50,
   "id": "1fc5bdd5",
   "metadata": {},
   "outputs": [],
   "source": [
    "food_types = pd.read_csv('../raw_data/Food Types/food_types_v1.csv')"
   ]
  },
  {
   "cell_type": "code",
   "execution_count": 51,
   "id": "494a0811",
   "metadata": {},
   "outputs": [
    {
     "data": {
      "text/html": [
       "<div>\n",
       "<style scoped>\n",
       "    .dataframe tbody tr th:only-of-type {\n",
       "        vertical-align: middle;\n",
       "    }\n",
       "\n",
       "    .dataframe tbody tr th {\n",
       "        vertical-align: top;\n",
       "    }\n",
       "\n",
       "    .dataframe thead th {\n",
       "        text-align: right;\n",
       "    }\n",
       "</style>\n",
       "<table border=\"1\" class=\"dataframe\">\n",
       "  <thead>\n",
       "    <tr style=\"text-align: right;\">\n",
       "      <th></th>\n",
       "      <th>food_type</th>\n",
       "      <th>protein</th>\n",
       "      <th>fat</th>\n",
       "      <th>carb</th>\n",
       "      <th>sugar</th>\n",
       "      <th>sodium</th>\n",
       "      <th>cholesterol</th>\n",
       "      <th>calcium</th>\n",
       "      <th>kcal</th>\n",
       "    </tr>\n",
       "  </thead>\n",
       "  <tbody>\n",
       "    <tr>\n",
       "      <th>0</th>\n",
       "      <td>Bread</td>\n",
       "      <td>5.88</td>\n",
       "      <td>7.06</td>\n",
       "      <td>51.8</td>\n",
       "      <td>15.3</td>\n",
       "      <td>247</td>\n",
       "      <td>0.0</td>\n",
       "      <td>24.0</td>\n",
       "      <td>306</td>\n",
       "    </tr>\n",
       "    <tr>\n",
       "      <th>1</th>\n",
       "      <td>Wheat</td>\n",
       "      <td>10.7</td>\n",
       "      <td>4.53</td>\n",
       "      <td>47.5</td>\n",
       "      <td>5.73</td>\n",
       "      <td>473</td>\n",
       "      <td>0.0</td>\n",
       "      <td>125</td>\n",
       "      <td>274</td>\n",
       "    </tr>\n",
       "    <tr>\n",
       "      <th>2</th>\n",
       "      <td>Rice (low quality)</td>\n",
       "      <td>0.3</td>\n",
       "      <td>19.2</td>\n",
       "      <td>16.0</td>\n",
       "      <td>4.2</td>\n",
       "      <td>110</td>\n",
       "      <td>24.0</td>\n",
       "      <td>0.0</td>\n",
       "      <td>967</td>\n",
       "    </tr>\n",
       "    <tr>\n",
       "      <th>3</th>\n",
       "      <td>Wage (qualified labour)</td>\n",
       "      <td>0.0</td>\n",
       "      <td>0.0</td>\n",
       "      <td>71.4</td>\n",
       "      <td>not found</td>\n",
       "      <td>5360.0</td>\n",
       "      <td>not found</td>\n",
       "      <td>not found</td>\n",
       "      <td>357</td>\n",
       "    </tr>\n",
       "    <tr>\n",
       "      <th>4</th>\n",
       "      <td>Fuel (diesel)</td>\n",
       "      <td>0.84</td>\n",
       "      <td>0.0</td>\n",
       "      <td>8.86</td>\n",
       "      <td>7.59</td>\n",
       "      <td>36.0</td>\n",
       "      <td>not found</td>\n",
       "      <td>15.0</td>\n",
       "      <td>38.0</td>\n",
       "    </tr>\n",
       "  </tbody>\n",
       "</table>\n",
       "</div>"
      ],
      "text/plain": [
       "                  food_type protein   fat  carb      sugar  sodium  \\\n",
       "0                    Bread     5.88  7.06  51.8       15.3     247   \n",
       "1                    Wheat     10.7  4.53  47.5       5.73     473   \n",
       "2       Rice (low quality)      0.3  19.2  16.0        4.2     110   \n",
       "3  Wage (qualified labour)      0.0   0.0  71.4  not found  5360.0   \n",
       "4            Fuel (diesel)     0.84   0.0  8.86       7.59    36.0   \n",
       "\n",
       "  cholesterol    calcium  kcal  \n",
       "0         0.0       24.0   306  \n",
       "1         0.0        125   274  \n",
       "2        24.0        0.0   967  \n",
       "3   not found  not found   357  \n",
       "4   not found       15.0  38.0  "
      ]
     },
     "execution_count": 51,
     "metadata": {},
     "output_type": "execute_result"
    }
   ],
   "source": [
    "food_types.head()"
   ]
  },
  {
   "cell_type": "code",
   "execution_count": 52,
   "id": "b65dc7f4",
   "metadata": {},
   "outputs": [
    {
     "data": {
      "text/plain": [
       "(522, 522)"
      ]
     },
     "execution_count": 52,
     "metadata": {},
     "output_type": "execute_result"
    }
   ],
   "source": [
    "food_types['food_type'].nunique(), price_2020_df['type'].nunique()"
   ]
  },
  {
   "cell_type": "code",
   "execution_count": 53,
   "id": "c78748b6",
   "metadata": {},
   "outputs": [
    {
     "data": {
      "text/plain": [
       "(165098, 20)"
      ]
     },
     "execution_count": 53,
     "metadata": {},
     "output_type": "execute_result"
    }
   ],
   "source": [
    "price_2020_df.shape"
   ]
  },
  {
   "cell_type": "code",
   "execution_count": 56,
   "id": "8ddf5b0b",
   "metadata": {},
   "outputs": [],
   "source": [
    "joined_df = pd.merge(price_2020_df, food_types, how='outer', left_on = 'type', right_on = 'food_type')"
   ]
  },
  {
   "cell_type": "code",
   "execution_count": 57,
   "id": "7490e6d8",
   "metadata": {},
   "outputs": [
    {
     "data": {
      "text/html": [
       "<div>\n",
       "<style scoped>\n",
       "    .dataframe tbody tr th:only-of-type {\n",
       "        vertical-align: middle;\n",
       "    }\n",
       "\n",
       "    .dataframe tbody tr th {\n",
       "        vertical-align: top;\n",
       "    }\n",
       "\n",
       "    .dataframe thead th {\n",
       "        text-align: right;\n",
       "    }\n",
       "</style>\n",
       "<table border=\"1\" class=\"dataframe\">\n",
       "  <thead>\n",
       "    <tr style=\"text-align: right;\">\n",
       "      <th></th>\n",
       "      <th>adm0_id</th>\n",
       "      <th>adm0_name</th>\n",
       "      <th>adm1_id</th>\n",
       "      <th>adm1_name</th>\n",
       "      <th>mkt_id</th>\n",
       "      <th>mkt_name</th>\n",
       "      <th>cm_id</th>\n",
       "      <th>cm_name</th>\n",
       "      <th>cur_id</th>\n",
       "      <th>cur_name</th>\n",
       "      <th>pt_id</th>\n",
       "      <th>pt_name</th>\n",
       "      <th>um_id</th>\n",
       "      <th>um_name</th>\n",
       "      <th>mp_month</th>\n",
       "      <th>mp_year</th>\n",
       "      <th>mp_price</th>\n",
       "      <th>type</th>\n",
       "      <th>conv_rate</th>\n",
       "      <th>usd_rate</th>\n",
       "      <th>food_type</th>\n",
       "      <th>protein</th>\n",
       "      <th>fat</th>\n",
       "      <th>carb</th>\n",
       "      <th>sugar</th>\n",
       "      <th>sodium</th>\n",
       "      <th>cholesterol</th>\n",
       "      <th>calcium</th>\n",
       "      <th>kcal</th>\n",
       "    </tr>\n",
       "  </thead>\n",
       "  <tbody>\n",
       "    <tr>\n",
       "      <th>0</th>\n",
       "      <td>1.0</td>\n",
       "      <td>Afghanistan</td>\n",
       "      <td>272</td>\n",
       "      <td>Badakhshan</td>\n",
       "      <td>266</td>\n",
       "      <td>Fayzabad</td>\n",
       "      <td>55</td>\n",
       "      <td>Bread - Retail</td>\n",
       "      <td>0.0</td>\n",
       "      <td>AFN</td>\n",
       "      <td>15</td>\n",
       "      <td>Retail</td>\n",
       "      <td>5</td>\n",
       "      <td>KG</td>\n",
       "      <td>1</td>\n",
       "      <td>2020</td>\n",
       "      <td>50.0</td>\n",
       "      <td>Bread</td>\n",
       "      <td>96.25256</td>\n",
       "      <td>0.519467</td>\n",
       "      <td>Bread</td>\n",
       "      <td>5.88</td>\n",
       "      <td>7.06</td>\n",
       "      <td>51.8</td>\n",
       "      <td>15.3</td>\n",
       "      <td>247</td>\n",
       "      <td>0.0</td>\n",
       "      <td>24.0</td>\n",
       "      <td>306</td>\n",
       "    </tr>\n",
       "    <tr>\n",
       "      <th>1</th>\n",
       "      <td>1.0</td>\n",
       "      <td>Afghanistan</td>\n",
       "      <td>272</td>\n",
       "      <td>Badakhshan</td>\n",
       "      <td>266</td>\n",
       "      <td>Fayzabad</td>\n",
       "      <td>55</td>\n",
       "      <td>Bread - Retail</td>\n",
       "      <td>0.0</td>\n",
       "      <td>AFN</td>\n",
       "      <td>15</td>\n",
       "      <td>Retail</td>\n",
       "      <td>5</td>\n",
       "      <td>KG</td>\n",
       "      <td>2</td>\n",
       "      <td>2020</td>\n",
       "      <td>50.0</td>\n",
       "      <td>Bread</td>\n",
       "      <td>96.25256</td>\n",
       "      <td>0.519467</td>\n",
       "      <td>Bread</td>\n",
       "      <td>5.88</td>\n",
       "      <td>7.06</td>\n",
       "      <td>51.8</td>\n",
       "      <td>15.3</td>\n",
       "      <td>247</td>\n",
       "      <td>0.0</td>\n",
       "      <td>24.0</td>\n",
       "      <td>306</td>\n",
       "    </tr>\n",
       "    <tr>\n",
       "      <th>2</th>\n",
       "      <td>1.0</td>\n",
       "      <td>Afghanistan</td>\n",
       "      <td>272</td>\n",
       "      <td>Badakhshan</td>\n",
       "      <td>266</td>\n",
       "      <td>Fayzabad</td>\n",
       "      <td>55</td>\n",
       "      <td>Bread - Retail</td>\n",
       "      <td>0.0</td>\n",
       "      <td>AFN</td>\n",
       "      <td>15</td>\n",
       "      <td>Retail</td>\n",
       "      <td>5</td>\n",
       "      <td>KG</td>\n",
       "      <td>3</td>\n",
       "      <td>2020</td>\n",
       "      <td>50.0</td>\n",
       "      <td>Bread</td>\n",
       "      <td>96.25256</td>\n",
       "      <td>0.519467</td>\n",
       "      <td>Bread</td>\n",
       "      <td>5.88</td>\n",
       "      <td>7.06</td>\n",
       "      <td>51.8</td>\n",
       "      <td>15.3</td>\n",
       "      <td>247</td>\n",
       "      <td>0.0</td>\n",
       "      <td>24.0</td>\n",
       "      <td>306</td>\n",
       "    </tr>\n",
       "    <tr>\n",
       "      <th>3</th>\n",
       "      <td>1.0</td>\n",
       "      <td>Afghanistan</td>\n",
       "      <td>272</td>\n",
       "      <td>Badakhshan</td>\n",
       "      <td>266</td>\n",
       "      <td>Fayzabad</td>\n",
       "      <td>55</td>\n",
       "      <td>Bread - Retail</td>\n",
       "      <td>0.0</td>\n",
       "      <td>AFN</td>\n",
       "      <td>15</td>\n",
       "      <td>Retail</td>\n",
       "      <td>5</td>\n",
       "      <td>KG</td>\n",
       "      <td>4</td>\n",
       "      <td>2020</td>\n",
       "      <td>50.0</td>\n",
       "      <td>Bread</td>\n",
       "      <td>96.25256</td>\n",
       "      <td>0.519467</td>\n",
       "      <td>Bread</td>\n",
       "      <td>5.88</td>\n",
       "      <td>7.06</td>\n",
       "      <td>51.8</td>\n",
       "      <td>15.3</td>\n",
       "      <td>247</td>\n",
       "      <td>0.0</td>\n",
       "      <td>24.0</td>\n",
       "      <td>306</td>\n",
       "    </tr>\n",
       "    <tr>\n",
       "      <th>4</th>\n",
       "      <td>1.0</td>\n",
       "      <td>Afghanistan</td>\n",
       "      <td>272</td>\n",
       "      <td>Badakhshan</td>\n",
       "      <td>267</td>\n",
       "      <td>Mazar</td>\n",
       "      <td>55</td>\n",
       "      <td>Bread - Retail</td>\n",
       "      <td>0.0</td>\n",
       "      <td>AFN</td>\n",
       "      <td>15</td>\n",
       "      <td>Retail</td>\n",
       "      <td>5</td>\n",
       "      <td>KG</td>\n",
       "      <td>1</td>\n",
       "      <td>2020</td>\n",
       "      <td>60.0</td>\n",
       "      <td>Bread</td>\n",
       "      <td>96.25256</td>\n",
       "      <td>0.623360</td>\n",
       "      <td>Bread</td>\n",
       "      <td>5.88</td>\n",
       "      <td>7.06</td>\n",
       "      <td>51.8</td>\n",
       "      <td>15.3</td>\n",
       "      <td>247</td>\n",
       "      <td>0.0</td>\n",
       "      <td>24.0</td>\n",
       "      <td>306</td>\n",
       "    </tr>\n",
       "  </tbody>\n",
       "</table>\n",
       "</div>"
      ],
      "text/plain": [
       "   adm0_id    adm0_name  adm1_id   adm1_name  mkt_id  mkt_name  cm_id  \\\n",
       "0      1.0  Afghanistan      272  Badakhshan     266  Fayzabad     55   \n",
       "1      1.0  Afghanistan      272  Badakhshan     266  Fayzabad     55   \n",
       "2      1.0  Afghanistan      272  Badakhshan     266  Fayzabad     55   \n",
       "3      1.0  Afghanistan      272  Badakhshan     266  Fayzabad     55   \n",
       "4      1.0  Afghanistan      272  Badakhshan     267     Mazar     55   \n",
       "\n",
       "          cm_name  cur_id cur_name  pt_id pt_name  um_id um_name  mp_month  \\\n",
       "0  Bread - Retail     0.0      AFN     15  Retail      5      KG         1   \n",
       "1  Bread - Retail     0.0      AFN     15  Retail      5      KG         2   \n",
       "2  Bread - Retail     0.0      AFN     15  Retail      5      KG         3   \n",
       "3  Bread - Retail     0.0      AFN     15  Retail      5      KG         4   \n",
       "4  Bread - Retail     0.0      AFN     15  Retail      5      KG         1   \n",
       "\n",
       "   mp_year  mp_price    type  conv_rate  usd_rate food_type protein   fat  \\\n",
       "0     2020      50.0  Bread    96.25256  0.519467    Bread     5.88  7.06   \n",
       "1     2020      50.0  Bread    96.25256  0.519467    Bread     5.88  7.06   \n",
       "2     2020      50.0  Bread    96.25256  0.519467    Bread     5.88  7.06   \n",
       "3     2020      50.0  Bread    96.25256  0.519467    Bread     5.88  7.06   \n",
       "4     2020      60.0  Bread    96.25256  0.623360    Bread     5.88  7.06   \n",
       "\n",
       "   carb sugar sodium cholesterol calcium kcal  \n",
       "0  51.8  15.3    247         0.0    24.0  306  \n",
       "1  51.8  15.3    247         0.0    24.0  306  \n",
       "2  51.8  15.3    247         0.0    24.0  306  \n",
       "3  51.8  15.3    247         0.0    24.0  306  \n",
       "4  51.8  15.3    247         0.0    24.0  306  "
      ]
     },
     "execution_count": 57,
     "metadata": {},
     "output_type": "execute_result"
    }
   ],
   "source": [
    "joined_df.head()"
   ]
  },
  {
   "cell_type": "code",
   "execution_count": 76,
   "id": "13b87c86",
   "metadata": {},
   "outputs": [
    {
     "data": {
      "text/plain": [
       "array([2020])"
      ]
     },
     "execution_count": 76,
     "metadata": {},
     "output_type": "execute_result"
    }
   ],
   "source": [
    "joined_df['mp_year'].unique()"
   ]
  },
  {
   "cell_type": "markdown",
   "id": "b5594771",
   "metadata": {},
   "source": [
    "# Drop columns with XXX_id as they do not mean much for us"
   ]
  },
  {
   "cell_type": "code",
   "execution_count": 78,
   "id": "435fd7cd",
   "metadata": {},
   "outputs": [],
   "source": [
    "df_condensed = joined_df.drop(columns=['adm0_id', 'adm1_id', 'mkt_id', 'cm_id', 'cur_id', 'pt_id', 'um_id'])"
   ]
  },
  {
   "cell_type": "code",
   "execution_count": 79,
   "id": "2133d6da",
   "metadata": {},
   "outputs": [
    {
     "data": {
      "text/html": [
       "<div>\n",
       "<style scoped>\n",
       "    .dataframe tbody tr th:only-of-type {\n",
       "        vertical-align: middle;\n",
       "    }\n",
       "\n",
       "    .dataframe tbody tr th {\n",
       "        vertical-align: top;\n",
       "    }\n",
       "\n",
       "    .dataframe thead th {\n",
       "        text-align: right;\n",
       "    }\n",
       "</style>\n",
       "<table border=\"1\" class=\"dataframe\">\n",
       "  <thead>\n",
       "    <tr style=\"text-align: right;\">\n",
       "      <th></th>\n",
       "      <th>adm0_name</th>\n",
       "      <th>adm1_name</th>\n",
       "      <th>mkt_name</th>\n",
       "      <th>cm_name</th>\n",
       "      <th>cur_name</th>\n",
       "      <th>pt_name</th>\n",
       "      <th>um_name</th>\n",
       "      <th>mp_month</th>\n",
       "      <th>mp_year</th>\n",
       "      <th>mp_price</th>\n",
       "      <th>type</th>\n",
       "      <th>conv_rate</th>\n",
       "      <th>usd_rate</th>\n",
       "      <th>food_type</th>\n",
       "      <th>protein</th>\n",
       "      <th>fat</th>\n",
       "      <th>carb</th>\n",
       "      <th>sugar</th>\n",
       "      <th>sodium</th>\n",
       "      <th>cholesterol</th>\n",
       "      <th>calcium</th>\n",
       "      <th>kcal</th>\n",
       "    </tr>\n",
       "  </thead>\n",
       "  <tbody>\n",
       "    <tr>\n",
       "      <th>0</th>\n",
       "      <td>Afghanistan</td>\n",
       "      <td>Badakhshan</td>\n",
       "      <td>Fayzabad</td>\n",
       "      <td>Bread - Retail</td>\n",
       "      <td>AFN</td>\n",
       "      <td>Retail</td>\n",
       "      <td>KG</td>\n",
       "      <td>1</td>\n",
       "      <td>2020</td>\n",
       "      <td>50.0</td>\n",
       "      <td>Bread</td>\n",
       "      <td>96.25256</td>\n",
       "      <td>0.519467</td>\n",
       "      <td>Bread</td>\n",
       "      <td>5.88</td>\n",
       "      <td>7.06</td>\n",
       "      <td>51.8</td>\n",
       "      <td>15.3</td>\n",
       "      <td>247</td>\n",
       "      <td>0.0</td>\n",
       "      <td>24.0</td>\n",
       "      <td>306</td>\n",
       "    </tr>\n",
       "    <tr>\n",
       "      <th>1</th>\n",
       "      <td>Afghanistan</td>\n",
       "      <td>Badakhshan</td>\n",
       "      <td>Fayzabad</td>\n",
       "      <td>Bread - Retail</td>\n",
       "      <td>AFN</td>\n",
       "      <td>Retail</td>\n",
       "      <td>KG</td>\n",
       "      <td>2</td>\n",
       "      <td>2020</td>\n",
       "      <td>50.0</td>\n",
       "      <td>Bread</td>\n",
       "      <td>96.25256</td>\n",
       "      <td>0.519467</td>\n",
       "      <td>Bread</td>\n",
       "      <td>5.88</td>\n",
       "      <td>7.06</td>\n",
       "      <td>51.8</td>\n",
       "      <td>15.3</td>\n",
       "      <td>247</td>\n",
       "      <td>0.0</td>\n",
       "      <td>24.0</td>\n",
       "      <td>306</td>\n",
       "    </tr>\n",
       "    <tr>\n",
       "      <th>2</th>\n",
       "      <td>Afghanistan</td>\n",
       "      <td>Badakhshan</td>\n",
       "      <td>Fayzabad</td>\n",
       "      <td>Bread - Retail</td>\n",
       "      <td>AFN</td>\n",
       "      <td>Retail</td>\n",
       "      <td>KG</td>\n",
       "      <td>3</td>\n",
       "      <td>2020</td>\n",
       "      <td>50.0</td>\n",
       "      <td>Bread</td>\n",
       "      <td>96.25256</td>\n",
       "      <td>0.519467</td>\n",
       "      <td>Bread</td>\n",
       "      <td>5.88</td>\n",
       "      <td>7.06</td>\n",
       "      <td>51.8</td>\n",
       "      <td>15.3</td>\n",
       "      <td>247</td>\n",
       "      <td>0.0</td>\n",
       "      <td>24.0</td>\n",
       "      <td>306</td>\n",
       "    </tr>\n",
       "    <tr>\n",
       "      <th>3</th>\n",
       "      <td>Afghanistan</td>\n",
       "      <td>Badakhshan</td>\n",
       "      <td>Fayzabad</td>\n",
       "      <td>Bread - Retail</td>\n",
       "      <td>AFN</td>\n",
       "      <td>Retail</td>\n",
       "      <td>KG</td>\n",
       "      <td>4</td>\n",
       "      <td>2020</td>\n",
       "      <td>50.0</td>\n",
       "      <td>Bread</td>\n",
       "      <td>96.25256</td>\n",
       "      <td>0.519467</td>\n",
       "      <td>Bread</td>\n",
       "      <td>5.88</td>\n",
       "      <td>7.06</td>\n",
       "      <td>51.8</td>\n",
       "      <td>15.3</td>\n",
       "      <td>247</td>\n",
       "      <td>0.0</td>\n",
       "      <td>24.0</td>\n",
       "      <td>306</td>\n",
       "    </tr>\n",
       "    <tr>\n",
       "      <th>4</th>\n",
       "      <td>Afghanistan</td>\n",
       "      <td>Badakhshan</td>\n",
       "      <td>Mazar</td>\n",
       "      <td>Bread - Retail</td>\n",
       "      <td>AFN</td>\n",
       "      <td>Retail</td>\n",
       "      <td>KG</td>\n",
       "      <td>1</td>\n",
       "      <td>2020</td>\n",
       "      <td>60.0</td>\n",
       "      <td>Bread</td>\n",
       "      <td>96.25256</td>\n",
       "      <td>0.623360</td>\n",
       "      <td>Bread</td>\n",
       "      <td>5.88</td>\n",
       "      <td>7.06</td>\n",
       "      <td>51.8</td>\n",
       "      <td>15.3</td>\n",
       "      <td>247</td>\n",
       "      <td>0.0</td>\n",
       "      <td>24.0</td>\n",
       "      <td>306</td>\n",
       "    </tr>\n",
       "  </tbody>\n",
       "</table>\n",
       "</div>"
      ],
      "text/plain": [
       "     adm0_name   adm1_name  mkt_name         cm_name cur_name pt_name um_name  \\\n",
       "0  Afghanistan  Badakhshan  Fayzabad  Bread - Retail      AFN  Retail      KG   \n",
       "1  Afghanistan  Badakhshan  Fayzabad  Bread - Retail      AFN  Retail      KG   \n",
       "2  Afghanistan  Badakhshan  Fayzabad  Bread - Retail      AFN  Retail      KG   \n",
       "3  Afghanistan  Badakhshan  Fayzabad  Bread - Retail      AFN  Retail      KG   \n",
       "4  Afghanistan  Badakhshan     Mazar  Bread - Retail      AFN  Retail      KG   \n",
       "\n",
       "   mp_month  mp_year  mp_price    type  conv_rate  usd_rate food_type protein  \\\n",
       "0         1     2020      50.0  Bread    96.25256  0.519467    Bread     5.88   \n",
       "1         2     2020      50.0  Bread    96.25256  0.519467    Bread     5.88   \n",
       "2         3     2020      50.0  Bread    96.25256  0.519467    Bread     5.88   \n",
       "3         4     2020      50.0  Bread    96.25256  0.519467    Bread     5.88   \n",
       "4         1     2020      60.0  Bread    96.25256  0.623360    Bread     5.88   \n",
       "\n",
       "    fat  carb sugar sodium cholesterol calcium kcal  \n",
       "0  7.06  51.8  15.3    247         0.0    24.0  306  \n",
       "1  7.06  51.8  15.3    247         0.0    24.0  306  \n",
       "2  7.06  51.8  15.3    247         0.0    24.0  306  \n",
       "3  7.06  51.8  15.3    247         0.0    24.0  306  \n",
       "4  7.06  51.8  15.3    247         0.0    24.0  306  "
      ]
     },
     "execution_count": 79,
     "metadata": {},
     "output_type": "execute_result"
    }
   ],
   "source": [
    "df_condensed.head()"
   ]
  },
  {
   "cell_type": "code",
   "execution_count": null,
   "id": "65d3c5a4",
   "metadata": {},
   "outputs": [],
   "source": []
  }
 ],
 "metadata": {
  "kernelspec": {
   "display_name": "Python 3 (ipykernel)",
   "language": "python",
   "name": "python3"
  },
  "language_info": {
   "codemirror_mode": {
    "name": "ipython",
    "version": 3
   },
   "file_extension": ".py",
   "mimetype": "text/x-python",
   "name": "python",
   "nbconvert_exporter": "python",
   "pygments_lexer": "ipython3",
   "version": "3.8.12"
  },
  "toc": {
   "base_numbering": 1,
   "nav_menu": {},
   "number_sections": true,
   "sideBar": true,
   "skip_h1_title": false,
   "title_cell": "Table of Contents",
   "title_sidebar": "Contents",
   "toc_cell": false,
   "toc_position": {},
   "toc_section_display": true,
   "toc_window_display": false
  }
 },
 "nbformat": 4,
 "nbformat_minor": 5
}
