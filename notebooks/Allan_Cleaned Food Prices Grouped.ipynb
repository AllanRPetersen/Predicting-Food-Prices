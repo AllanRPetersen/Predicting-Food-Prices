{
 "cells": [
  {
   "cell_type": "code",
   "execution_count": 1,
   "id": "de6b0df4",
   "metadata": {},
   "outputs": [],
   "source": [
    "import pandas as pd\n",
    "import numpy as np\n",
    "import seaborn as sns\n",
    "import matplotlib.pyplot as plt\n",
    "import requests"
   ]
  },
  {
   "cell_type": "code",
   "execution_count": 2,
   "id": "fc9ef9d4",
   "metadata": {},
   "outputs": [],
   "source": [
    "pd.set_option('display.max_columns', None)"
   ]
  },
  {
   "cell_type": "markdown",
   "id": "0bd182d7",
   "metadata": {},
   "source": [
    "## Global Food Prices Database (Cleaned)\n",
    "Updated Global Market Food Prices with 1.048M rows"
   ]
  },
  {
   "cell_type": "code",
   "execution_count": 3,
   "id": "4e3d3c41",
   "metadata": {},
   "outputs": [
    {
     "name": "stderr",
     "output_type": "stream",
     "text": [
      "/Users/plyck/.pyenv/versions/3.8.12/envs/lewagon/lib/python3.8/site-packages/IPython/core/interactiveshell.py:3444: DtypeWarning: Columns (3) have mixed types.Specify dtype option on import or set low_memory=False.\n",
      "  exec(code_obj, self.user_global_ns, self.user_ns)\n"
     ]
    }
   ],
   "source": [
    "price_df = pd.read_csv('../raw_data/Global Food Prices Database/wfp_food_prices_database.csv')"
   ]
  },
  {
   "cell_type": "code",
   "execution_count": 4,
   "id": "6bad525a",
   "metadata": {},
   "outputs": [
    {
     "data": {
      "text/html": [
       "<div>\n",
       "<style scoped>\n",
       "    .dataframe tbody tr th:only-of-type {\n",
       "        vertical-align: middle;\n",
       "    }\n",
       "\n",
       "    .dataframe tbody tr th {\n",
       "        vertical-align: top;\n",
       "    }\n",
       "\n",
       "    .dataframe thead th {\n",
       "        text-align: right;\n",
       "    }\n",
       "</style>\n",
       "<table border=\"1\" class=\"dataframe\">\n",
       "  <thead>\n",
       "    <tr style=\"text-align: right;\">\n",
       "      <th></th>\n",
       "      <th>adm0_id</th>\n",
       "      <th>adm0_name</th>\n",
       "      <th>adm1_id</th>\n",
       "      <th>adm1_name</th>\n",
       "      <th>mkt_id</th>\n",
       "      <th>mkt_name</th>\n",
       "      <th>cm_id</th>\n",
       "      <th>cm_name</th>\n",
       "      <th>cur_id</th>\n",
       "      <th>cur_name</th>\n",
       "      <th>pt_id</th>\n",
       "      <th>pt_name</th>\n",
       "      <th>um_id</th>\n",
       "      <th>um_name</th>\n",
       "      <th>mp_month</th>\n",
       "      <th>mp_year</th>\n",
       "      <th>mp_price</th>\n",
       "      <th>mp_commoditysource</th>\n",
       "    </tr>\n",
       "  </thead>\n",
       "  <tbody>\n",
       "    <tr>\n",
       "      <th>0</th>\n",
       "      <td>1.0</td>\n",
       "      <td>Afghanistan</td>\n",
       "      <td>272</td>\n",
       "      <td>Badakhshan</td>\n",
       "      <td>266</td>\n",
       "      <td>Fayzabad</td>\n",
       "      <td>55</td>\n",
       "      <td>Bread - Retail</td>\n",
       "      <td>0.0</td>\n",
       "      <td>AFN</td>\n",
       "      <td>15</td>\n",
       "      <td>Retail</td>\n",
       "      <td>5</td>\n",
       "      <td>KG</td>\n",
       "      <td>1</td>\n",
       "      <td>2014</td>\n",
       "      <td>50.0</td>\n",
       "      <td>NaN</td>\n",
       "    </tr>\n",
       "    <tr>\n",
       "      <th>1</th>\n",
       "      <td>1.0</td>\n",
       "      <td>Afghanistan</td>\n",
       "      <td>272</td>\n",
       "      <td>Badakhshan</td>\n",
       "      <td>266</td>\n",
       "      <td>Fayzabad</td>\n",
       "      <td>55</td>\n",
       "      <td>Bread - Retail</td>\n",
       "      <td>0.0</td>\n",
       "      <td>AFN</td>\n",
       "      <td>15</td>\n",
       "      <td>Retail</td>\n",
       "      <td>5</td>\n",
       "      <td>KG</td>\n",
       "      <td>2</td>\n",
       "      <td>2014</td>\n",
       "      <td>50.0</td>\n",
       "      <td>NaN</td>\n",
       "    </tr>\n",
       "    <tr>\n",
       "      <th>2</th>\n",
       "      <td>1.0</td>\n",
       "      <td>Afghanistan</td>\n",
       "      <td>272</td>\n",
       "      <td>Badakhshan</td>\n",
       "      <td>266</td>\n",
       "      <td>Fayzabad</td>\n",
       "      <td>55</td>\n",
       "      <td>Bread - Retail</td>\n",
       "      <td>0.0</td>\n",
       "      <td>AFN</td>\n",
       "      <td>15</td>\n",
       "      <td>Retail</td>\n",
       "      <td>5</td>\n",
       "      <td>KG</td>\n",
       "      <td>3</td>\n",
       "      <td>2014</td>\n",
       "      <td>50.0</td>\n",
       "      <td>NaN</td>\n",
       "    </tr>\n",
       "    <tr>\n",
       "      <th>3</th>\n",
       "      <td>1.0</td>\n",
       "      <td>Afghanistan</td>\n",
       "      <td>272</td>\n",
       "      <td>Badakhshan</td>\n",
       "      <td>266</td>\n",
       "      <td>Fayzabad</td>\n",
       "      <td>55</td>\n",
       "      <td>Bread - Retail</td>\n",
       "      <td>0.0</td>\n",
       "      <td>AFN</td>\n",
       "      <td>15</td>\n",
       "      <td>Retail</td>\n",
       "      <td>5</td>\n",
       "      <td>KG</td>\n",
       "      <td>4</td>\n",
       "      <td>2014</td>\n",
       "      <td>50.0</td>\n",
       "      <td>NaN</td>\n",
       "    </tr>\n",
       "    <tr>\n",
       "      <th>4</th>\n",
       "      <td>1.0</td>\n",
       "      <td>Afghanistan</td>\n",
       "      <td>272</td>\n",
       "      <td>Badakhshan</td>\n",
       "      <td>266</td>\n",
       "      <td>Fayzabad</td>\n",
       "      <td>55</td>\n",
       "      <td>Bread - Retail</td>\n",
       "      <td>0.0</td>\n",
       "      <td>AFN</td>\n",
       "      <td>15</td>\n",
       "      <td>Retail</td>\n",
       "      <td>5</td>\n",
       "      <td>KG</td>\n",
       "      <td>5</td>\n",
       "      <td>2014</td>\n",
       "      <td>50.0</td>\n",
       "      <td>NaN</td>\n",
       "    </tr>\n",
       "  </tbody>\n",
       "</table>\n",
       "</div>"
      ],
      "text/plain": [
       "   adm0_id    adm0_name  adm1_id   adm1_name  mkt_id  mkt_name  cm_id  \\\n",
       "0      1.0  Afghanistan      272  Badakhshan     266  Fayzabad     55   \n",
       "1      1.0  Afghanistan      272  Badakhshan     266  Fayzabad     55   \n",
       "2      1.0  Afghanistan      272  Badakhshan     266  Fayzabad     55   \n",
       "3      1.0  Afghanistan      272  Badakhshan     266  Fayzabad     55   \n",
       "4      1.0  Afghanistan      272  Badakhshan     266  Fayzabad     55   \n",
       "\n",
       "          cm_name  cur_id cur_name  pt_id pt_name  um_id um_name  mp_month  \\\n",
       "0  Bread - Retail     0.0      AFN     15  Retail      5      KG         1   \n",
       "1  Bread - Retail     0.0      AFN     15  Retail      5      KG         2   \n",
       "2  Bread - Retail     0.0      AFN     15  Retail      5      KG         3   \n",
       "3  Bread - Retail     0.0      AFN     15  Retail      5      KG         4   \n",
       "4  Bread - Retail     0.0      AFN     15  Retail      5      KG         5   \n",
       "\n",
       "   mp_year  mp_price  mp_commoditysource  \n",
       "0     2014      50.0                 NaN  \n",
       "1     2014      50.0                 NaN  \n",
       "2     2014      50.0                 NaN  \n",
       "3     2014      50.0                 NaN  \n",
       "4     2014      50.0                 NaN  "
      ]
     },
     "execution_count": 4,
     "metadata": {},
     "output_type": "execute_result"
    }
   ],
   "source": [
    "price_df.head()"
   ]
  },
  {
   "cell_type": "code",
   "execution_count": 5,
   "id": "74b7a290",
   "metadata": {},
   "outputs": [
    {
     "data": {
      "text/plain": [
       "adm0_id               0.000000\n",
       "adm0_name             0.000000\n",
       "adm1_id               0.000000\n",
       "adm1_name             0.302027\n",
       "mkt_id                0.000000\n",
       "mkt_name              0.000000\n",
       "cm_id                 0.000000\n",
       "cm_name               0.000000\n",
       "cur_id                0.000000\n",
       "cur_name              0.000000\n",
       "pt_id                 0.000000\n",
       "pt_name               0.000000\n",
       "um_id                 0.000000\n",
       "um_name               0.000000\n",
       "mp_month              0.000000\n",
       "mp_year               0.000000\n",
       "mp_price              0.000000\n",
       "mp_commoditysource    1.000000\n",
       "dtype: float64"
      ]
     },
     "execution_count": 5,
     "metadata": {},
     "output_type": "execute_result"
    }
   ],
   "source": [
    "price_df.isnull().sum()/len(price_df)"
   ]
  },
  {
   "cell_type": "code",
   "execution_count": 6,
   "id": "fee074dc",
   "metadata": {},
   "outputs": [],
   "source": [
    "#dropping the mp_commoditysource because it's 100% Nan's\n",
    "\n",
    "#price_df.drop(columns='mp_commoditysource', inplace=True)"
   ]
  },
  {
   "cell_type": "code",
   "execution_count": 7,
   "id": "5177439d",
   "metadata": {},
   "outputs": [
    {
     "data": {
      "text/plain": [
       "613"
      ]
     },
     "execution_count": 7,
     "metadata": {},
     "output_type": "execute_result"
    }
   ],
   "source": [
    "price_df['adm1_name'].nunique()"
   ]
  },
  {
   "cell_type": "code",
   "execution_count": 8,
   "id": "6f8ae265",
   "metadata": {},
   "outputs": [],
   "source": [
    "price_df['adm1_name'].fillna(\"Unknown\", inplace=True)"
   ]
  },
  {
   "cell_type": "code",
   "execution_count": 9,
   "id": "f349aff1",
   "metadata": {},
   "outputs": [
    {
     "data": {
      "text/plain": [
       "614"
      ]
     },
     "execution_count": 9,
     "metadata": {},
     "output_type": "execute_result"
    }
   ],
   "source": [
    "price_df['adm1_name'].nunique()"
   ]
  },
  {
   "cell_type": "code",
   "execution_count": 10,
   "id": "a439321c",
   "metadata": {},
   "outputs": [
    {
     "data": {
      "text/plain": [
       "adm0_id               0.0\n",
       "adm0_name             0.0\n",
       "adm1_id               0.0\n",
       "adm1_name             0.0\n",
       "mkt_id                0.0\n",
       "mkt_name              0.0\n",
       "cm_id                 0.0\n",
       "cm_name               0.0\n",
       "cur_id                0.0\n",
       "cur_name              0.0\n",
       "pt_id                 0.0\n",
       "pt_name               0.0\n",
       "um_id                 0.0\n",
       "um_name               0.0\n",
       "mp_month              0.0\n",
       "mp_year               0.0\n",
       "mp_price              0.0\n",
       "mp_commoditysource    1.0\n",
       "dtype: float64"
      ]
     },
     "execution_count": 10,
     "metadata": {},
     "output_type": "execute_result"
    }
   ],
   "source": [
    "price_df.isnull().sum()/len(price_df)"
   ]
  },
  {
   "cell_type": "code",
   "execution_count": 11,
   "id": "afb47f55",
   "metadata": {},
   "outputs": [],
   "source": [
    "# Introducing new column 'type' where the cm_name (commodity name) is split to make it easier to read by the nutrition API"
   ]
  },
  {
   "cell_type": "code",
   "execution_count": 12,
   "id": "9ad24b22",
   "metadata": {},
   "outputs": [],
   "source": [
    "price_df['type'] = price_df['cm_name'].apply(lambda x: x.split('-')[0])"
   ]
  },
  {
   "cell_type": "code",
   "execution_count": 13,
   "id": "575e182f",
   "metadata": {},
   "outputs": [
    {
     "data": {
      "text/html": [
       "<div>\n",
       "<style scoped>\n",
       "    .dataframe tbody tr th:only-of-type {\n",
       "        vertical-align: middle;\n",
       "    }\n",
       "\n",
       "    .dataframe tbody tr th {\n",
       "        vertical-align: top;\n",
       "    }\n",
       "\n",
       "    .dataframe thead th {\n",
       "        text-align: right;\n",
       "    }\n",
       "</style>\n",
       "<table border=\"1\" class=\"dataframe\">\n",
       "  <thead>\n",
       "    <tr style=\"text-align: right;\">\n",
       "      <th></th>\n",
       "      <th>adm0_id</th>\n",
       "      <th>adm0_name</th>\n",
       "      <th>adm1_id</th>\n",
       "      <th>adm1_name</th>\n",
       "      <th>mkt_id</th>\n",
       "      <th>mkt_name</th>\n",
       "      <th>cm_id</th>\n",
       "      <th>cm_name</th>\n",
       "      <th>cur_id</th>\n",
       "      <th>cur_name</th>\n",
       "      <th>pt_id</th>\n",
       "      <th>pt_name</th>\n",
       "      <th>um_id</th>\n",
       "      <th>um_name</th>\n",
       "      <th>mp_month</th>\n",
       "      <th>mp_year</th>\n",
       "      <th>mp_price</th>\n",
       "      <th>mp_commoditysource</th>\n",
       "      <th>type</th>\n",
       "    </tr>\n",
       "  </thead>\n",
       "  <tbody>\n",
       "    <tr>\n",
       "      <th>0</th>\n",
       "      <td>1.0</td>\n",
       "      <td>Afghanistan</td>\n",
       "      <td>272</td>\n",
       "      <td>Badakhshan</td>\n",
       "      <td>266</td>\n",
       "      <td>Fayzabad</td>\n",
       "      <td>55</td>\n",
       "      <td>Bread - Retail</td>\n",
       "      <td>0.0</td>\n",
       "      <td>AFN</td>\n",
       "      <td>15</td>\n",
       "      <td>Retail</td>\n",
       "      <td>5</td>\n",
       "      <td>KG</td>\n",
       "      <td>1</td>\n",
       "      <td>2014</td>\n",
       "      <td>50.0</td>\n",
       "      <td>NaN</td>\n",
       "      <td>Bread</td>\n",
       "    </tr>\n",
       "    <tr>\n",
       "      <th>1</th>\n",
       "      <td>1.0</td>\n",
       "      <td>Afghanistan</td>\n",
       "      <td>272</td>\n",
       "      <td>Badakhshan</td>\n",
       "      <td>266</td>\n",
       "      <td>Fayzabad</td>\n",
       "      <td>55</td>\n",
       "      <td>Bread - Retail</td>\n",
       "      <td>0.0</td>\n",
       "      <td>AFN</td>\n",
       "      <td>15</td>\n",
       "      <td>Retail</td>\n",
       "      <td>5</td>\n",
       "      <td>KG</td>\n",
       "      <td>2</td>\n",
       "      <td>2014</td>\n",
       "      <td>50.0</td>\n",
       "      <td>NaN</td>\n",
       "      <td>Bread</td>\n",
       "    </tr>\n",
       "    <tr>\n",
       "      <th>2</th>\n",
       "      <td>1.0</td>\n",
       "      <td>Afghanistan</td>\n",
       "      <td>272</td>\n",
       "      <td>Badakhshan</td>\n",
       "      <td>266</td>\n",
       "      <td>Fayzabad</td>\n",
       "      <td>55</td>\n",
       "      <td>Bread - Retail</td>\n",
       "      <td>0.0</td>\n",
       "      <td>AFN</td>\n",
       "      <td>15</td>\n",
       "      <td>Retail</td>\n",
       "      <td>5</td>\n",
       "      <td>KG</td>\n",
       "      <td>3</td>\n",
       "      <td>2014</td>\n",
       "      <td>50.0</td>\n",
       "      <td>NaN</td>\n",
       "      <td>Bread</td>\n",
       "    </tr>\n",
       "    <tr>\n",
       "      <th>3</th>\n",
       "      <td>1.0</td>\n",
       "      <td>Afghanistan</td>\n",
       "      <td>272</td>\n",
       "      <td>Badakhshan</td>\n",
       "      <td>266</td>\n",
       "      <td>Fayzabad</td>\n",
       "      <td>55</td>\n",
       "      <td>Bread - Retail</td>\n",
       "      <td>0.0</td>\n",
       "      <td>AFN</td>\n",
       "      <td>15</td>\n",
       "      <td>Retail</td>\n",
       "      <td>5</td>\n",
       "      <td>KG</td>\n",
       "      <td>4</td>\n",
       "      <td>2014</td>\n",
       "      <td>50.0</td>\n",
       "      <td>NaN</td>\n",
       "      <td>Bread</td>\n",
       "    </tr>\n",
       "    <tr>\n",
       "      <th>4</th>\n",
       "      <td>1.0</td>\n",
       "      <td>Afghanistan</td>\n",
       "      <td>272</td>\n",
       "      <td>Badakhshan</td>\n",
       "      <td>266</td>\n",
       "      <td>Fayzabad</td>\n",
       "      <td>55</td>\n",
       "      <td>Bread - Retail</td>\n",
       "      <td>0.0</td>\n",
       "      <td>AFN</td>\n",
       "      <td>15</td>\n",
       "      <td>Retail</td>\n",
       "      <td>5</td>\n",
       "      <td>KG</td>\n",
       "      <td>5</td>\n",
       "      <td>2014</td>\n",
       "      <td>50.0</td>\n",
       "      <td>NaN</td>\n",
       "      <td>Bread</td>\n",
       "    </tr>\n",
       "  </tbody>\n",
       "</table>\n",
       "</div>"
      ],
      "text/plain": [
       "   adm0_id    adm0_name  adm1_id   adm1_name  mkt_id  mkt_name  cm_id  \\\n",
       "0      1.0  Afghanistan      272  Badakhshan     266  Fayzabad     55   \n",
       "1      1.0  Afghanistan      272  Badakhshan     266  Fayzabad     55   \n",
       "2      1.0  Afghanistan      272  Badakhshan     266  Fayzabad     55   \n",
       "3      1.0  Afghanistan      272  Badakhshan     266  Fayzabad     55   \n",
       "4      1.0  Afghanistan      272  Badakhshan     266  Fayzabad     55   \n",
       "\n",
       "          cm_name  cur_id cur_name  pt_id pt_name  um_id um_name  mp_month  \\\n",
       "0  Bread - Retail     0.0      AFN     15  Retail      5      KG         1   \n",
       "1  Bread - Retail     0.0      AFN     15  Retail      5      KG         2   \n",
       "2  Bread - Retail     0.0      AFN     15  Retail      5      KG         3   \n",
       "3  Bread - Retail     0.0      AFN     15  Retail      5      KG         4   \n",
       "4  Bread - Retail     0.0      AFN     15  Retail      5      KG         5   \n",
       "\n",
       "   mp_year  mp_price  mp_commoditysource    type  \n",
       "0     2014      50.0                 NaN  Bread   \n",
       "1     2014      50.0                 NaN  Bread   \n",
       "2     2014      50.0                 NaN  Bread   \n",
       "3     2014      50.0                 NaN  Bread   \n",
       "4     2014      50.0                 NaN  Bread   "
      ]
     },
     "execution_count": 13,
     "metadata": {},
     "output_type": "execute_result"
    }
   ],
   "source": [
    "price_df.head()"
   ]
  },
  {
   "cell_type": "code",
   "execution_count": 14,
   "id": "bdb2b923",
   "metadata": {},
   "outputs": [],
   "source": [
    "#Filtering for year 2020 only"
   ]
  },
  {
   "cell_type": "code",
   "execution_count": 15,
   "id": "2613bfed",
   "metadata": {},
   "outputs": [],
   "source": [
    "price_2020_df = price_df[price_df['mp_year'] == 2020]"
   ]
  },
  {
   "cell_type": "code",
   "execution_count": 16,
   "id": "e9eac044",
   "metadata": {},
   "outputs": [
    {
     "data": {
      "text/plain": [
       "(165098, 19)"
      ]
     },
     "execution_count": 16,
     "metadata": {},
     "output_type": "execute_result"
    }
   ],
   "source": [
    "price_2020_df.shape"
   ]
  },
  {
   "cell_type": "code",
   "execution_count": 17,
   "id": "3629bc55",
   "metadata": {},
   "outputs": [],
   "source": [
    "#Dropping unneccesary columns"
   ]
  },
  {
   "cell_type": "code",
   "execution_count": 18,
   "id": "2129f0cd",
   "metadata": {},
   "outputs": [
    {
     "name": "stderr",
     "output_type": "stream",
     "text": [
      "/Users/plyck/.pyenv/versions/3.8.12/envs/lewagon/lib/python3.8/site-packages/pandas/core/frame.py:4906: SettingWithCopyWarning: \n",
      "A value is trying to be set on a copy of a slice from a DataFrame\n",
      "\n",
      "See the caveats in the documentation: https://pandas.pydata.org/pandas-docs/stable/user_guide/indexing.html#returning-a-view-versus-a-copy\n",
      "  return super().drop(\n"
     ]
    }
   ],
   "source": [
    "price_2020_df.drop(columns=['adm0_id', 'adm1_id', 'mkt_id', 'cm_id', 'cur_id', 'cm_name', 'pt_id', 'mp_commoditysource','um_id'], inplace=True)"
   ]
  },
  {
   "cell_type": "code",
   "execution_count": 19,
   "id": "370eae23",
   "metadata": {},
   "outputs": [],
   "source": [
    "#Removing rows with other units than 'KG' and 'L'."
   ]
  },
  {
   "cell_type": "code",
   "execution_count": 20,
   "id": "9d378d4c",
   "metadata": {},
   "outputs": [],
   "source": [
    "price_2020_df = price_2020_df.loc[price_2020_df['um_name'].isin(['KG','L'])]"
   ]
  },
  {
   "cell_type": "code",
   "execution_count": 21,
   "id": "8ae523be",
   "metadata": {},
   "outputs": [
    {
     "data": {
      "text/plain": [
       "array(['AFN', 'AOA', 'ARS', 'AMD', 'BDT', 'INR', 'BYR', 'XOF', 'BTN',\n",
       "       'BOB', 'BIF', 'KHR', 'CVE', 'XAF', 'COP', 'CDF', 'DJF', 'USD',\n",
       "       'EGP', 'ETB', 'GMD', 'GHS', 'GNF', 'IDR', 'IRR', 'IQD', 'JPY',\n",
       "       'JOD', 'KZT', 'KES', 'KGS', 'LAK', 'LBP', 'LRD', 'LYD', 'MWK',\n",
       "       'SOS', 'MRO', 'MXN', 'MNT', 'MZN', 'MMK', 'NAD', 'NPR', 'NGN',\n",
       "       'PKR', 'PYG', 'PEN', 'PHP', 'RWF', 'SLL', 'SSP', 'LKR', 'NIS',\n",
       "       'SZL', 'SYP', 'TJS', 'THB', 'TRY', 'UGX', 'YER', 'ZMW'],\n",
       "      dtype=object)"
      ]
     },
     "execution_count": 21,
     "metadata": {},
     "output_type": "execute_result"
    }
   ],
   "source": [
    "price_2020_df['cur_name'].unique()"
   ]
  },
  {
   "cell_type": "code",
   "execution_count": 22,
   "id": "325b5fb2",
   "metadata": {},
   "outputs": [],
   "source": [
    "# Source Wiki: It was previously known as the new Israeli shekel and the non-official abbreviation of NIS.\n",
    "# Need to change NIS to ILS (Israeli New Shekel)"
   ]
  },
  {
   "cell_type": "code",
   "execution_count": 23,
   "id": "565dbf6a",
   "metadata": {},
   "outputs": [],
   "source": [
    "price_2020_df['cur_name'] = price_2020_df['cur_name'].apply(lambda x: x.replace('NIS','ILS'))"
   ]
  },
  {
   "cell_type": "code",
   "execution_count": 24,
   "id": "02e1eee1",
   "metadata": {},
   "outputs": [],
   "source": [
    "currencies = price_2020_df['cur_name'].unique()"
   ]
  },
  {
   "cell_type": "code",
   "execution_count": 25,
   "id": "0dad353b",
   "metadata": {},
   "outputs": [
    {
     "data": {
      "text/plain": [
       "numpy.ndarray"
      ]
     },
     "execution_count": 25,
     "metadata": {},
     "output_type": "execute_result"
    }
   ],
   "source": [
    "type(currencies)"
   ]
  },
  {
   "cell_type": "code",
   "execution_count": 26,
   "id": "57d7f4d4",
   "metadata": {},
   "outputs": [],
   "source": [
    "currencies = currencies.tolist()"
   ]
  },
  {
   "cell_type": "code",
   "execution_count": 27,
   "id": "67b46361",
   "metadata": {},
   "outputs": [],
   "source": [
    "currencies.sort()"
   ]
  },
  {
   "cell_type": "code",
   "execution_count": 28,
   "id": "21e4219e",
   "metadata": {},
   "outputs": [
    {
     "data": {
      "text/plain": [
       "62"
      ]
     },
     "execution_count": 28,
     "metadata": {},
     "output_type": "execute_result"
    }
   ],
   "source": [
    "len(currencies)"
   ]
  },
  {
   "cell_type": "code",
   "execution_count": 29,
   "id": "07547833",
   "metadata": {},
   "outputs": [],
   "source": [
    "#SSP = South Sudanese pound\n",
    "# This is not in our currency exchange API so must be removed and added later."
   ]
  },
  {
   "cell_type": "code",
   "execution_count": 30,
   "id": "085b8a9e",
   "metadata": {},
   "outputs": [],
   "source": [
    "currencies.remove(\"SSP\")"
   ]
  },
  {
   "cell_type": "code",
   "execution_count": 31,
   "id": "1fba1577",
   "metadata": {},
   "outputs": [
    {
     "data": {
      "text/plain": [
       "61"
      ]
     },
     "execution_count": 31,
     "metadata": {},
     "output_type": "execute_result"
    }
   ],
   "source": [
    "len(currencies)"
   ]
  },
  {
   "cell_type": "code",
   "execution_count": 32,
   "id": "946d380b",
   "metadata": {},
   "outputs": [],
   "source": [
    "#API call to get the conversion rates in the list currencies"
   ]
  },
  {
   "cell_type": "code",
   "execution_count": 33,
   "id": "06dcb950",
   "metadata": {},
   "outputs": [],
   "source": [
    "api_key = 'e3479b3ac491d8699be3a12b7cf7e51d'"
   ]
  },
  {
   "cell_type": "code",
   "execution_count": 34,
   "id": "b20bb91c",
   "metadata": {},
   "outputs": [],
   "source": [
    "curr = ','.join(currencies)"
   ]
  },
  {
   "cell_type": "code",
   "execution_count": 35,
   "id": "68535186",
   "metadata": {},
   "outputs": [],
   "source": [
    "response = requests.get(f'http://api.currencylayer.com/live?access_key={api_key}&currencies={curr}&format=1')"
   ]
  },
  {
   "cell_type": "code",
   "execution_count": 36,
   "id": "2f44bd50",
   "metadata": {},
   "outputs": [
    {
     "data": {
      "text/plain": [
       "'http://api.currencylayer.com/live?access_key=e3479b3ac491d8699be3a12b7cf7e51d&currencies=AFN,AMD,AOA,ARS,BDT,BIF,BOB,BTN,BYR,CDF,COP,CVE,DJF,EGP,ETB,GHS,GMD,GNF,IDR,ILS,INR,IQD,IRR,JOD,JPY,KES,KGS,KHR,KZT,LAK,LBP,LKR,LRD,LYD,MMK,MNT,MRO,MWK,MXN,MZN,NAD,NGN,NPR,PEN,PHP,PKR,PYG,RWF,SLL,SOS,SYP,SZL,THB,TJS,TRY,UGX,USD,XAF,XOF,YER,ZMW&format=1'"
      ]
     },
     "execution_count": 36,
     "metadata": {},
     "output_type": "execute_result"
    }
   ],
   "source": [
    "response.url"
   ]
  },
  {
   "cell_type": "code",
   "execution_count": 37,
   "id": "cce6090d",
   "metadata": {
    "scrolled": true
   },
   "outputs": [
    {
     "data": {
      "text/plain": [
       "{'success': True,\n",
       " 'terms': 'https://currencylayer.com/terms',\n",
       " 'privacy': 'https://currencylayer.com/privacy',\n",
       " 'timestamp': 1639383003,\n",
       " 'source': 'USD',\n",
       " 'quotes': {'USDAFN': 103.255653,\n",
       "  'USDAMD': 493.850311,\n",
       "  'USDAOA': 568.279026,\n",
       "  'USDARS': 101.526053,\n",
       "  'USDBDT': 85.476643,\n",
       "  'USDBIF': 1986.51918,\n",
       "  'USDBOB': 6.881991,\n",
       "  'USDBTN': 75.528971,\n",
       "  'USDBYR': 19600,\n",
       "  'USDCDF': 2000.497004,\n",
       "  'USDCOP': 3889.98,\n",
       "  'USDCVE': 97.531743,\n",
       "  'USDDJF': 177.436333,\n",
       "  'USDEGP': 15.747601,\n",
       "  'USDETB': 48.515145,\n",
       "  'USDGHS': 6.074681,\n",
       "  'USDGMD': 52.450201,\n",
       "  'USDGNF': 9469.214813,\n",
       "  'USDIDR': 14334.25,\n",
       "  'USDILS': 3.10183,\n",
       "  'USDINR': 75.71905,\n",
       "  'USDIQD': 1456.200409,\n",
       "  'USDIRR': 42275.000291,\n",
       "  'USDJOD': 0.709201,\n",
       "  'USDJPY': 113.552505,\n",
       "  'USDKES': 112.530045,\n",
       "  'USDKGS': 84.783602,\n",
       "  'USDKHR': 4064.060434,\n",
       "  'USDKZT': 434.563773,\n",
       "  'USDLAK': 10969.844934,\n",
       "  'USDLBP': 1507.222532,\n",
       "  'USDLKR': 201.834603,\n",
       "  'USDLRD': 141.803315,\n",
       "  'USDLYD': 4.580274,\n",
       "  'USDMMK': 1774.135073,\n",
       "  'USDMNT': 2858.209306,\n",
       "  'USDMRO': 356.999828,\n",
       "  'USDMWK': 809.055285,\n",
       "  'USDMXN': 20.93072,\n",
       "  'USDMZN': 63.830296,\n",
       "  'USDNAD': 15.970219,\n",
       "  'USDNGN': 409.640416,\n",
       "  'USDNPR': 120.824232,\n",
       "  'USDPEN': 4.066537,\n",
       "  'USDPHP': 50.346497,\n",
       "  'USDPKR': 177.114463,\n",
       "  'USDPYG': 6816.895179,\n",
       "  'USDRWF': 1032.783551,\n",
       "  'USDSLL': 11232.000459,\n",
       "  'USDSOS': 586.000109,\n",
       "  'USDSYP': 2512.497943,\n",
       "  'USDSZL': 15.934365,\n",
       "  'USDTHB': 33.406003,\n",
       "  'USDTJS': 11.252361,\n",
       "  'USDTRY': 14.36997,\n",
       "  'USDUGX': 3546.165787,\n",
       "  'USDUSD': 1,\n",
       "  'USDXAF': 580.236179,\n",
       "  'USDXOF': 580.241311,\n",
       "  'USDYER': 250.249824,\n",
       "  'USDZMW': 16.022167}}"
      ]
     },
     "execution_count": 37,
     "metadata": {},
     "output_type": "execute_result"
    }
   ],
   "source": [
    "response.json()"
   ]
  },
  {
   "cell_type": "code",
   "execution_count": 38,
   "id": "1134f8cf",
   "metadata": {},
   "outputs": [],
   "source": [
    "conversion_rates = response.json()"
   ]
  },
  {
   "cell_type": "code",
   "execution_count": 39,
   "id": "db0c0d81",
   "metadata": {},
   "outputs": [],
   "source": [
    "conversion_rates = conversion_rates['quotes']"
   ]
  },
  {
   "cell_type": "code",
   "execution_count": 40,
   "id": "33077a76",
   "metadata": {},
   "outputs": [
    {
     "data": {
      "text/plain": [
       "(61, 61)"
      ]
     },
     "execution_count": 40,
     "metadata": {},
     "output_type": "execute_result"
    }
   ],
   "source": [
    "len(conversion_rates), len(currencies)"
   ]
  },
  {
   "cell_type": "code",
   "execution_count": 41,
   "id": "624d8363",
   "metadata": {},
   "outputs": [],
   "source": [
    "# Making a dictionary of the conversion rates"
   ]
  },
  {
   "cell_type": "code",
   "execution_count": 42,
   "id": "31c66c6f",
   "metadata": {},
   "outputs": [],
   "source": [
    "dic_values = []\n",
    "for x in conversion_rates.keys():\n",
    "    dic_values.append(conversion_rates[x])"
   ]
  },
  {
   "cell_type": "code",
   "execution_count": 43,
   "id": "43c35de4",
   "metadata": {},
   "outputs": [
    {
     "data": {
      "text/plain": [
       "61"
      ]
     },
     "execution_count": 43,
     "metadata": {},
     "output_type": "execute_result"
    }
   ],
   "source": [
    "len(dic_values)"
   ]
  },
  {
   "cell_type": "code",
   "execution_count": 44,
   "id": "0afd61d2",
   "metadata": {},
   "outputs": [],
   "source": [
    "conversion_rates_dict = dict(zip(currencies,dic_values))"
   ]
  },
  {
   "cell_type": "code",
   "execution_count": 45,
   "id": "bda296cb",
   "metadata": {},
   "outputs": [],
   "source": [
    "#SSP will be added as 1 USD = 130.26 SSP"
   ]
  },
  {
   "cell_type": "code",
   "execution_count": 46,
   "id": "fe475685",
   "metadata": {},
   "outputs": [],
   "source": [
    "conversion_rates_dict['SSP'] = 130.26"
   ]
  },
  {
   "cell_type": "code",
   "execution_count": 47,
   "id": "d913037b",
   "metadata": {},
   "outputs": [],
   "source": [
    "# Adding a new column to our data with the conversion rates"
   ]
  },
  {
   "cell_type": "code",
   "execution_count": 48,
   "id": "8d692cce",
   "metadata": {},
   "outputs": [],
   "source": [
    "price_2020_df['conv_rate'] = list(map(lambda x: conversion_rates_dict[x] , price_2020_df['cur_name']))"
   ]
  },
  {
   "cell_type": "code",
   "execution_count": 49,
   "id": "78105036",
   "metadata": {},
   "outputs": [
    {
     "data": {
      "text/plain": [
       "62"
      ]
     },
     "execution_count": 49,
     "metadata": {},
     "output_type": "execute_result"
    }
   ],
   "source": [
    "price_2020_df['conv_rate'].nunique()"
   ]
  },
  {
   "cell_type": "code",
   "execution_count": 50,
   "id": "26f5c7dc",
   "metadata": {},
   "outputs": [],
   "source": [
    "# Adding a new column to our data with the price in USD"
   ]
  },
  {
   "cell_type": "code",
   "execution_count": 51,
   "id": "cafac9a6",
   "metadata": {},
   "outputs": [],
   "source": [
    "price_2020_df[\"usd_rate\"] = price_2020_df[\"mp_price\"] / price_2020_df[\"conv_rate\"] "
   ]
  },
  {
   "cell_type": "code",
   "execution_count": 52,
   "id": "c19b824f",
   "metadata": {},
   "outputs": [
    {
     "data": {
      "text/html": [
       "<div>\n",
       "<style scoped>\n",
       "    .dataframe tbody tr th:only-of-type {\n",
       "        vertical-align: middle;\n",
       "    }\n",
       "\n",
       "    .dataframe tbody tr th {\n",
       "        vertical-align: top;\n",
       "    }\n",
       "\n",
       "    .dataframe thead th {\n",
       "        text-align: right;\n",
       "    }\n",
       "</style>\n",
       "<table border=\"1\" class=\"dataframe\">\n",
       "  <thead>\n",
       "    <tr style=\"text-align: right;\">\n",
       "      <th></th>\n",
       "      <th>adm0_name</th>\n",
       "      <th>adm1_name</th>\n",
       "      <th>mkt_name</th>\n",
       "      <th>cur_name</th>\n",
       "      <th>pt_name</th>\n",
       "      <th>um_name</th>\n",
       "      <th>mp_month</th>\n",
       "      <th>mp_year</th>\n",
       "      <th>mp_price</th>\n",
       "      <th>type</th>\n",
       "      <th>conv_rate</th>\n",
       "      <th>usd_rate</th>\n",
       "    </tr>\n",
       "  </thead>\n",
       "  <tbody>\n",
       "    <tr>\n",
       "      <th>69</th>\n",
       "      <td>Afghanistan</td>\n",
       "      <td>Badakhshan</td>\n",
       "      <td>Fayzabad</td>\n",
       "      <td>AFN</td>\n",
       "      <td>Retail</td>\n",
       "      <td>KG</td>\n",
       "      <td>1</td>\n",
       "      <td>2020</td>\n",
       "      <td>50.0000</td>\n",
       "      <td>Bread</td>\n",
       "      <td>103.255653</td>\n",
       "      <td>0.484235</td>\n",
       "    </tr>\n",
       "    <tr>\n",
       "      <th>70</th>\n",
       "      <td>Afghanistan</td>\n",
       "      <td>Badakhshan</td>\n",
       "      <td>Fayzabad</td>\n",
       "      <td>AFN</td>\n",
       "      <td>Retail</td>\n",
       "      <td>KG</td>\n",
       "      <td>2</td>\n",
       "      <td>2020</td>\n",
       "      <td>50.0000</td>\n",
       "      <td>Bread</td>\n",
       "      <td>103.255653</td>\n",
       "      <td>0.484235</td>\n",
       "    </tr>\n",
       "    <tr>\n",
       "      <th>71</th>\n",
       "      <td>Afghanistan</td>\n",
       "      <td>Badakhshan</td>\n",
       "      <td>Fayzabad</td>\n",
       "      <td>AFN</td>\n",
       "      <td>Retail</td>\n",
       "      <td>KG</td>\n",
       "      <td>3</td>\n",
       "      <td>2020</td>\n",
       "      <td>50.0000</td>\n",
       "      <td>Bread</td>\n",
       "      <td>103.255653</td>\n",
       "      <td>0.484235</td>\n",
       "    </tr>\n",
       "    <tr>\n",
       "      <th>72</th>\n",
       "      <td>Afghanistan</td>\n",
       "      <td>Badakhshan</td>\n",
       "      <td>Fayzabad</td>\n",
       "      <td>AFN</td>\n",
       "      <td>Retail</td>\n",
       "      <td>KG</td>\n",
       "      <td>4</td>\n",
       "      <td>2020</td>\n",
       "      <td>50.0000</td>\n",
       "      <td>Bread</td>\n",
       "      <td>103.255653</td>\n",
       "      <td>0.484235</td>\n",
       "    </tr>\n",
       "    <tr>\n",
       "      <th>275</th>\n",
       "      <td>Afghanistan</td>\n",
       "      <td>Badakhshan</td>\n",
       "      <td>Fayzabad</td>\n",
       "      <td>AFN</td>\n",
       "      <td>Retail</td>\n",
       "      <td>KG</td>\n",
       "      <td>1</td>\n",
       "      <td>2020</td>\n",
       "      <td>25.3750</td>\n",
       "      <td>Wheat</td>\n",
       "      <td>103.255653</td>\n",
       "      <td>0.245749</td>\n",
       "    </tr>\n",
       "    <tr>\n",
       "      <th>...</th>\n",
       "      <td>...</td>\n",
       "      <td>...</td>\n",
       "      <td>...</td>\n",
       "      <td>...</td>\n",
       "      <td>...</td>\n",
       "      <td>...</td>\n",
       "      <td>...</td>\n",
       "      <td>...</td>\n",
       "      <td>...</td>\n",
       "      <td>...</td>\n",
       "      <td>...</td>\n",
       "      <td>...</td>\n",
       "    </tr>\n",
       "    <tr>\n",
       "      <th>1556443</th>\n",
       "      <td>Zambia</td>\n",
       "      <td>Western</td>\n",
       "      <td>Kalabo</td>\n",
       "      <td>ZMW</td>\n",
       "      <td>Retail</td>\n",
       "      <td>KG</td>\n",
       "      <td>2</td>\n",
       "      <td>2020</td>\n",
       "      <td>6.4480</td>\n",
       "      <td>Maize meal (white, breakfast)</td>\n",
       "      <td>16.022167</td>\n",
       "      <td>0.402442</td>\n",
       "    </tr>\n",
       "    <tr>\n",
       "      <th>1556444</th>\n",
       "      <td>Zambia</td>\n",
       "      <td>Western</td>\n",
       "      <td>Kalabo</td>\n",
       "      <td>ZMW</td>\n",
       "      <td>Retail</td>\n",
       "      <td>KG</td>\n",
       "      <td>3</td>\n",
       "      <td>2020</td>\n",
       "      <td>6.6320</td>\n",
       "      <td>Maize meal (white, breakfast)</td>\n",
       "      <td>16.022167</td>\n",
       "      <td>0.413927</td>\n",
       "    </tr>\n",
       "    <tr>\n",
       "      <th>1556445</th>\n",
       "      <td>Zambia</td>\n",
       "      <td>Western</td>\n",
       "      <td>Kalabo</td>\n",
       "      <td>ZMW</td>\n",
       "      <td>Retail</td>\n",
       "      <td>KG</td>\n",
       "      <td>4</td>\n",
       "      <td>2020</td>\n",
       "      <td>6.4400</td>\n",
       "      <td>Maize meal (white, breakfast)</td>\n",
       "      <td>16.022167</td>\n",
       "      <td>0.401943</td>\n",
       "    </tr>\n",
       "    <tr>\n",
       "      <th>1556446</th>\n",
       "      <td>Zambia</td>\n",
       "      <td>Western</td>\n",
       "      <td>Kalabo</td>\n",
       "      <td>ZMW</td>\n",
       "      <td>Retail</td>\n",
       "      <td>KG</td>\n",
       "      <td>5</td>\n",
       "      <td>2020</td>\n",
       "      <td>6.5168</td>\n",
       "      <td>Maize meal (white, breakfast)</td>\n",
       "      <td>16.022167</td>\n",
       "      <td>0.406736</td>\n",
       "    </tr>\n",
       "    <tr>\n",
       "      <th>1556447</th>\n",
       "      <td>Zambia</td>\n",
       "      <td>Western</td>\n",
       "      <td>Kalabo</td>\n",
       "      <td>ZMW</td>\n",
       "      <td>Retail</td>\n",
       "      <td>KG</td>\n",
       "      <td>6</td>\n",
       "      <td>2020</td>\n",
       "      <td>5.3100</td>\n",
       "      <td>Maize meal (white, breakfast)</td>\n",
       "      <td>16.022167</td>\n",
       "      <td>0.331416</td>\n",
       "    </tr>\n",
       "  </tbody>\n",
       "</table>\n",
       "<p>128938 rows × 12 columns</p>\n",
       "</div>"
      ],
      "text/plain": [
       "           adm0_name   adm1_name  mkt_name cur_name pt_name um_name  mp_month  \\\n",
       "69       Afghanistan  Badakhshan  Fayzabad      AFN  Retail      KG         1   \n",
       "70       Afghanistan  Badakhshan  Fayzabad      AFN  Retail      KG         2   \n",
       "71       Afghanistan  Badakhshan  Fayzabad      AFN  Retail      KG         3   \n",
       "72       Afghanistan  Badakhshan  Fayzabad      AFN  Retail      KG         4   \n",
       "275      Afghanistan  Badakhshan  Fayzabad      AFN  Retail      KG         1   \n",
       "...              ...         ...       ...      ...     ...     ...       ...   \n",
       "1556443       Zambia     Western    Kalabo      ZMW  Retail      KG         2   \n",
       "1556444       Zambia     Western    Kalabo      ZMW  Retail      KG         3   \n",
       "1556445       Zambia     Western    Kalabo      ZMW  Retail      KG         4   \n",
       "1556446       Zambia     Western    Kalabo      ZMW  Retail      KG         5   \n",
       "1556447       Zambia     Western    Kalabo      ZMW  Retail      KG         6   \n",
       "\n",
       "         mp_year  mp_price                            type   conv_rate  \\\n",
       "69          2020   50.0000                          Bread   103.255653   \n",
       "70          2020   50.0000                          Bread   103.255653   \n",
       "71          2020   50.0000                          Bread   103.255653   \n",
       "72          2020   50.0000                          Bread   103.255653   \n",
       "275         2020   25.3750                          Wheat   103.255653   \n",
       "...          ...       ...                             ...         ...   \n",
       "1556443     2020    6.4480  Maize meal (white, breakfast)    16.022167   \n",
       "1556444     2020    6.6320  Maize meal (white, breakfast)    16.022167   \n",
       "1556445     2020    6.4400  Maize meal (white, breakfast)    16.022167   \n",
       "1556446     2020    6.5168  Maize meal (white, breakfast)    16.022167   \n",
       "1556447     2020    5.3100  Maize meal (white, breakfast)    16.022167   \n",
       "\n",
       "         usd_rate  \n",
       "69       0.484235  \n",
       "70       0.484235  \n",
       "71       0.484235  \n",
       "72       0.484235  \n",
       "275      0.245749  \n",
       "...           ...  \n",
       "1556443  0.402442  \n",
       "1556444  0.413927  \n",
       "1556445  0.401943  \n",
       "1556446  0.406736  \n",
       "1556447  0.331416  \n",
       "\n",
       "[128938 rows x 12 columns]"
      ]
     },
     "execution_count": 52,
     "metadata": {},
     "output_type": "execute_result"
    }
   ],
   "source": [
    "price_2020_df"
   ]
  },
  {
   "cell_type": "code",
   "execution_count": 88,
   "id": "321a1093",
   "metadata": {},
   "outputs": [],
   "source": [
    "#To be used by Streamlit website\n",
    "price_2020_df.to_csv('price_with_USD.csv')"
   ]
  },
  {
   "cell_type": "code",
   "execution_count": 53,
   "id": "68f96bf8",
   "metadata": {},
   "outputs": [
    {
     "data": {
      "text/plain": [
       "(128938, 12)"
      ]
     },
     "execution_count": 53,
     "metadata": {},
     "output_type": "execute_result"
    }
   ],
   "source": [
    "price_2020_df.shape"
   ]
  },
  {
   "cell_type": "code",
   "execution_count": 54,
   "id": "b25797d1",
   "metadata": {},
   "outputs": [
    {
     "data": {
      "text/plain": [
       "array([1, 2, 3, 4, 5, 6, 7, 8])"
      ]
     },
     "execution_count": 54,
     "metadata": {},
     "output_type": "execute_result"
    }
   ],
   "source": [
    "price_2020_df['mp_month'].unique()"
   ]
  },
  {
   "cell_type": "code",
   "execution_count": 55,
   "id": "3b551783",
   "metadata": {},
   "outputs": [],
   "source": [
    "list_of_foods = price_2020_df['type'].unique()"
   ]
  },
  {
   "cell_type": "code",
   "execution_count": 56,
   "id": "8c2cebab",
   "metadata": {},
   "outputs": [],
   "source": [
    "list_of_foods = list_of_foods.tolist()"
   ]
  },
  {
   "cell_type": "code",
   "execution_count": 57,
   "id": "620865b9",
   "metadata": {},
   "outputs": [],
   "source": [
    "list_of_foods.sort()"
   ]
  },
  {
   "cell_type": "code",
   "execution_count": 58,
   "id": "42e1eb2c",
   "metadata": {},
   "outputs": [
    {
     "data": {
      "text/plain": [
       "['Apples ',\n",
       " 'Apples (dried) ',\n",
       " 'Apples (red) ',\n",
       " 'Avocados ',\n",
       " 'Bananas ',\n",
       " 'Bananas (imported) ',\n",
       " 'Bananas (local) ',\n",
       " 'Bananas (medium size) ',\n",
       " 'Barley ',\n",
       " 'Beans ',\n",
       " 'Beans (black) ',\n",
       " 'Beans (black, Nayarit) ',\n",
       " 'Beans (black, Veracruz) ',\n",
       " 'Beans (black, Zacatecas) ',\n",
       " 'Beans (black, imported) ',\n",
       " 'Beans (butter) ',\n",
       " 'Beans (catarino) ',\n",
       " 'Beans (cranberry) ',\n",
       " 'Beans (dry) ',\n",
       " 'Beans (fava, dry) ',\n",
       " 'Beans (green, fresh) ',\n",
       " 'Beans (haricot) ',\n",
       " 'Beans (kidney red) ',\n",
       " 'Beans (magnum) ',\n",
       " 'Beans (niebe) ',\n",
       " 'Beans (niebe, white) ',\n",
       " 'Beans (pod) ',\n",
       " 'Beans (red) ',\n",
       " 'Beans (red, fresh) ',\n",
       " 'Beans (string) ',\n",
       " 'Beans (sugar) ',\n",
       " 'Beans (white) ',\n",
       " 'Beans (yardlong, green) ',\n",
       " 'Beans(mash) ',\n",
       " 'Beetroots ',\n",
       " 'Blackberry ',\n",
       " 'Bread ',\n",
       " 'Bread (common) ',\n",
       " 'Bread (first grade flour) ',\n",
       " 'Bread (high grade flour) ',\n",
       " 'Bread (pita) ',\n",
       " 'Bread (wheat) ',\n",
       " 'Broccoli ',\n",
       " 'Buckwheat ',\n",
       " 'Buckwheat grits ',\n",
       " 'Bulgur ',\n",
       " 'Bulgur (brown) ',\n",
       " 'Butter ',\n",
       " 'Butter (cow milk) ',\n",
       " 'Butter (goat milk) ',\n",
       " 'Cabbage ',\n",
       " 'Cabbage (chinese, flowering) ',\n",
       " 'Carrots ',\n",
       " 'Cashew ',\n",
       " 'Cassava ',\n",
       " 'Cassava (cossette) ',\n",
       " 'Cassava (dry) ',\n",
       " 'Cassava (fresh) ',\n",
       " 'Cassava flour ',\n",
       " 'Cassava leaves ',\n",
       " 'Cassava meal (attieke) ',\n",
       " 'Cassava meal (gari) ',\n",
       " 'Cassava meal (gari, fine) ',\n",
       " 'Cassava meal (gari, yellow) ',\n",
       " 'Cassava meal (tapioca) ',\n",
       " 'Cauliflower ',\n",
       " 'Charcoal ',\n",
       " 'Cheese ',\n",
       " 'Cheese (dry) ',\n",
       " 'Cheese (fat) ',\n",
       " 'Cheese (goat) ',\n",
       " 'Cheese (local) ',\n",
       " 'Cheese (low',\n",
       " 'Cheese (white, boiled) ',\n",
       " 'Chickpeas ',\n",
       " 'Chickpeas (local) ',\n",
       " \"Chili (bird's eye) \",\n",
       " \"Chili (bird's eye, green) \",\n",
       " \"Chili (bird's eye, red) \",\n",
       " 'Chili (green) ',\n",
       " 'Chili (red) ',\n",
       " 'Chili (red, curly) ',\n",
       " 'Chili (red, dry raw) ',\n",
       " 'Chili (red, large) ',\n",
       " 'Cocoa ',\n",
       " 'Cocoa (powder) ',\n",
       " 'Coconut (dried) ',\n",
       " 'Coffee ',\n",
       " 'Corn Soy Blend (CSB++, food aid) ',\n",
       " 'Cornstarch ',\n",
       " 'Cotton ',\n",
       " 'Couscous ',\n",
       " 'Cowpeas ',\n",
       " 'Cowpeas (brown) ',\n",
       " 'Cowpeas (white) ',\n",
       " 'Cucumbers ',\n",
       " 'Cucumbers (greenhouse) ',\n",
       " 'Dates ',\n",
       " 'Dishwashing liquid ',\n",
       " 'Disinfecting solution ',\n",
       " 'Eggplants ',\n",
       " 'Eggs ',\n",
       " 'Eggs (broiler) ',\n",
       " 'Fish ',\n",
       " 'Fish (appolo) ',\n",
       " 'Fish (barbel, sole) ',\n",
       " 'Fish (bonga) ',\n",
       " 'Fish (catfish) ',\n",
       " 'Fish (dry) ',\n",
       " 'Fish (dry, katta) ',\n",
       " 'Fish (dry, sprats) ',\n",
       " 'Fish (fresh) ',\n",
       " 'Fish (fresh, silvi) ',\n",
       " 'Fish (frozen) ',\n",
       " 'Fish (goldstripe sardinella) ',\n",
       " 'Fish (herring) ',\n",
       " 'Fish (jack) ',\n",
       " 'Fish (lates,dry,imported) ',\n",
       " 'Fish (lates,dry,local) ',\n",
       " 'Fish (mackerel, fresh) ',\n",
       " 'Fish (mullet, catfish) ',\n",
       " 'Fish (sail fish) ',\n",
       " 'Fish (salted) ',\n",
       " 'Fish (sardine, canned) ',\n",
       " 'Fish (skipjack tuna) ',\n",
       " 'Fish (smoked) ',\n",
       " 'Fish (snake head) ',\n",
       " 'Fish (snake head, dry) ',\n",
       " 'Fish (striped catfish) ',\n",
       " 'Fish (tilapia) ',\n",
       " 'Fish (tilapia, farmed) ',\n",
       " 'Fish (trenched sardinella) ',\n",
       " 'Fish (tuna, canned) ',\n",
       " 'Fish (yellowfin tuna) ',\n",
       " 'Fonio ',\n",
       " 'Fuel (Super Petrol) ',\n",
       " 'Fuel (diesel) ',\n",
       " 'Fuel (diesel, parallel market) ',\n",
       " 'Fuel (kerosene) ',\n",
       " 'Fuel (petrol',\n",
       " 'Gari ',\n",
       " 'Gari (white) ',\n",
       " 'Garlic ',\n",
       " 'Garlic (medium) ',\n",
       " 'Garlic (small) ',\n",
       " 'Ghee (artificial) ',\n",
       " 'Ghee (natural) ',\n",
       " 'Ghee (vanaspati) ',\n",
       " 'Grapes (black) ',\n",
       " 'Grapes (pink) ',\n",
       " 'Groundnuts (Bambara) ',\n",
       " 'Groundnuts (large, shelled) ',\n",
       " 'Groundnuts (paste) ',\n",
       " 'Groundnuts (shelled) ',\n",
       " 'Groundnuts (small, shelled) ',\n",
       " 'Groundnuts (small, unshelled) ',\n",
       " 'Groundnuts (unshelled) ',\n",
       " 'Guava ',\n",
       " 'Handwash soap ',\n",
       " 'Honey ',\n",
       " 'Kale ',\n",
       " 'Kefir ',\n",
       " 'Kocho ',\n",
       " 'Laundry detergent ',\n",
       " 'Laundry soap ',\n",
       " 'Leafy vegetables ',\n",
       " 'Lemons ',\n",
       " 'Lentils ',\n",
       " 'Lentils (broken) ',\n",
       " 'Lentils (green) ',\n",
       " 'Lentils (imported) ',\n",
       " 'Lentils (masur) ',\n",
       " 'Lentils (moong) ',\n",
       " 'Lentils (red) ',\n",
       " 'Lentils (urad) ',\n",
       " 'Lettuce ',\n",
       " 'Maize ',\n",
       " 'Maize (imported) ',\n",
       " 'Maize (local) ',\n",
       " 'Maize (white) ',\n",
       " 'Maize (white, dry) ',\n",
       " 'Maize (yellow) ',\n",
       " 'Maize flour ',\n",
       " 'Maize flour (imported) ',\n",
       " 'Maize flour (white) ',\n",
       " 'Maize flour (yellow) ',\n",
       " 'Maize meal ',\n",
       " 'Maize meal (imported) ',\n",
       " 'Maize meal (white, breakfast) ',\n",
       " 'Maize meal (white, first grade) ',\n",
       " 'Maize meal (white, roller) ',\n",
       " 'Maize meal (white, with bran) ',\n",
       " 'Maize meal (white, without bran) ',\n",
       " 'Mangoes ',\n",
       " 'Meat (beef) ',\n",
       " 'Meat (beef, chops with bones) ',\n",
       " 'Meat (beef, first quality) ',\n",
       " 'Meat (beef, minced) ',\n",
       " 'Meat (beef, second quality) ',\n",
       " 'Meat (beef, without bones) ',\n",
       " 'Meat (buffalo, first quality) ',\n",
       " 'Meat (buffalo, second quality) ',\n",
       " 'Meat (camel) ',\n",
       " 'Meat (chicken) ',\n",
       " 'Meat (chicken, broiler) ',\n",
       " 'Meat (chicken, frozen) ',\n",
       " 'Meat (chicken, frozen, imported) ',\n",
       " 'Meat (chicken, legs) ',\n",
       " 'Meat (chicken, plucked) ',\n",
       " 'Meat (chicken, whole) ',\n",
       " 'Meat (chicken, whole, frozen) ',\n",
       " 'Meat (goat) ',\n",
       " 'Meat (goat, with bones) ',\n",
       " 'Meat (lamb) ',\n",
       " 'Meat (mutton) ',\n",
       " 'Meat (pork) ',\n",
       " 'Meat (pork, first quality) ',\n",
       " 'Meat (pork, second quality) ',\n",
       " 'Meat (pork, with fat) ',\n",
       " 'Meat (sheep) ',\n",
       " 'Meat (veal) ',\n",
       " 'Melons (cantaloupe) ',\n",
       " 'Milk ',\n",
       " 'Milk (camel) ',\n",
       " 'Milk (cow, fresh) ',\n",
       " 'Milk (fresh) ',\n",
       " 'Milk (non',\n",
       " 'Milk (pasteurized) ',\n",
       " 'Milk (powder) ',\n",
       " 'Milk (powder, infant formula) ',\n",
       " 'Millet ',\n",
       " 'Naranjilla (hybrid) ',\n",
       " 'Noodles (short) ',\n",
       " 'Oat flakes ',\n",
       " 'Oil ',\n",
       " 'Oil (cooking) ',\n",
       " 'Oil (cotton) ',\n",
       " 'Oil (groundnut) ',\n",
       " 'Oil (maize) ',\n",
       " 'Oil (mixed) ',\n",
       " 'Oil (mixed, imported) ',\n",
       " 'Oil (mustard) ',\n",
       " 'Oil (olive) ',\n",
       " 'Oil (palm nut) ',\n",
       " 'Oil (palm) ',\n",
       " 'Oil (soybean) ',\n",
       " 'Oil (sunflower) ',\n",
       " 'Oil (vegetable) ',\n",
       " 'Oil (vegetable, bulk) ',\n",
       " 'Oil (vegetable, fortified, food aid) ',\n",
       " 'Oil (vegetable, imported) ',\n",
       " 'Oil (vegetable, local) ',\n",
       " 'Oil (vegetable, packaged) ',\n",
       " 'Okra (dry) ',\n",
       " 'Okra (fresh) ',\n",
       " 'Onions ',\n",
       " 'Onions (dry, local) ',\n",
       " 'Onions (imported) ',\n",
       " 'Onions (local) ',\n",
       " 'Onions (red) ',\n",
       " 'Onions (red, dry) ',\n",
       " 'Onions (red, imported) ',\n",
       " 'Onions (red, local) ',\n",
       " 'Onions (shallot) ',\n",
       " 'Onions (shallot, medium) ',\n",
       " 'Onions (white) ',\n",
       " 'Onions (white, dry) ',\n",
       " 'Oranges ',\n",
       " 'Oranges (big size) ',\n",
       " 'Papaya ',\n",
       " 'Passion fruit ',\n",
       " 'Pasta ',\n",
       " 'Pasta (macaroni) ',\n",
       " 'Pasta (spaghetti) ',\n",
       " 'Peanut ',\n",
       " 'Peas ',\n",
       " 'Peas (fresh) ',\n",
       " 'Peas (green, dry) ',\n",
       " 'Peas (split, dry) ',\n",
       " 'Peas (yellow, split) ',\n",
       " 'Peas (yellow, split, food aid) ',\n",
       " 'Peppers (dried) ',\n",
       " 'Peppers (fresh) ',\n",
       " 'Peppers (green) ',\n",
       " 'Peppers (red) ',\n",
       " 'Peppers (red, dry) ',\n",
       " 'Pigeon peas ',\n",
       " 'Pineapples ',\n",
       " 'Plantains ',\n",
       " 'Plantains (apem) ',\n",
       " 'Plantains (apentu) ',\n",
       " 'Plantains (barraganete, green) ',\n",
       " 'Plantains (barraganete, mature) ',\n",
       " 'Plantains (dominico, green) ',\n",
       " 'Plantains (dominico, mature) ',\n",
       " 'Potato Leaves ',\n",
       " 'Potatoes ',\n",
       " 'Potatoes (Irish) ',\n",
       " 'Potatoes (Irish, imilla) ',\n",
       " 'Potatoes (black) ',\n",
       " 'Potatoes (imported) ',\n",
       " 'Potatoes (local) ',\n",
       " 'Potatoes (medium size) ',\n",
       " 'Potatoes (red) ',\n",
       " 'Potatoes (super chola) ',\n",
       " 'Potatoes (unica) ',\n",
       " 'Poultry ',\n",
       " 'Prawn ',\n",
       " 'Pulses ',\n",
       " 'Pumpkin ',\n",
       " 'Radish ',\n",
       " 'Rice ',\n",
       " 'Rice (Emata) ',\n",
       " 'Rice (Grano de Oro) ',\n",
       " 'Rice (basmati, broken) ',\n",
       " 'Rice (broken, imported) ',\n",
       " 'Rice (carolina 2da) ',\n",
       " 'Rice (carolina, 1st) ',\n",
       " 'Rice (coarse) ',\n",
       " 'Rice (coarse, BR',\n",
       " 'Rice (denikassia, imported) ',\n",
       " 'Rice (estaquilla) ',\n",
       " 'Rice (glutinous, first quality) ',\n",
       " 'Rice (glutinous, second quality) ',\n",
       " 'Rice (glutinous, unmilled) ',\n",
       " 'Rice (high quality) ',\n",
       " 'Rice (high quality, local) ',\n",
       " 'Rice (imported) ',\n",
       " 'Rice (imported, Egyptian) ',\n",
       " 'Rice (local) ',\n",
       " 'Rice (long grain) ',\n",
       " 'Rice (long grain, Sinaloa) ',\n",
       " 'Rice (long grain, high quality, local) ',\n",
       " 'Rice (long grain, imported) ',\n",
       " 'Rice (low quality) ',\n",
       " 'Rice (low quality, local) ',\n",
       " 'Rice (medium grain) ',\n",
       " 'Rice (medium grain, imported) ',\n",
       " 'Rice (medium quality) ',\n",
       " 'Rice (milled, superior) ',\n",
       " 'Rice (mixed, low quality) ',\n",
       " 'Rice (ordinary, first quality) ',\n",
       " 'Rice (ordinary, second quality) ',\n",
       " 'Rice (ordinary, unmilled) ',\n",
       " 'Rice (paddy) ',\n",
       " 'Rice (paddy, long grain, local) ',\n",
       " 'Rice (red nadu) ',\n",
       " 'Rice (red) ',\n",
       " 'Rice (regular, milled) ',\n",
       " 'Rice (short grain, low quality, local) ',\n",
       " 'Rice (small grain, Morelos) ',\n",
       " 'Rice (small grain, imported) ',\n",
       " 'Rice (white) ',\n",
       " 'Salt ',\n",
       " 'Salt (iodised) ',\n",
       " 'Semolina ',\n",
       " 'Sesame ',\n",
       " 'Shampoo ',\n",
       " 'Shrimps ',\n",
       " 'Snail ',\n",
       " 'Snake gourd ',\n",
       " 'Sorghum ',\n",
       " 'Sorghum (berbere) ',\n",
       " 'Sorghum (brown) ',\n",
       " \"Sorghum (r'haya) \",\n",
       " 'Sorghum (red) ',\n",
       " 'Sorghum (taghalit) ',\n",
       " 'Sorghum (white) ',\n",
       " 'Sorghum flour ',\n",
       " 'Soybeans ',\n",
       " 'Spinach ',\n",
       " 'Squashes ',\n",
       " 'Strawberries ',\n",
       " 'Sugar ',\n",
       " 'Sugar (brown) ',\n",
       " 'Sugar (brown, imported) ',\n",
       " 'Sugar (brown, loaf) ',\n",
       " 'Sugar (brown, local) ',\n",
       " 'Sugar (jaggery/gur) ',\n",
       " 'Sugar (local) ',\n",
       " 'Sugar (premium) ',\n",
       " 'Sugar (white) ',\n",
       " 'Sweet potatoes ',\n",
       " 'Taro ',\n",
       " 'Tea ',\n",
       " 'Tea (black) ',\n",
       " 'Tea (green) ',\n",
       " 'Teff (Sergegna) ',\n",
       " 'Tomatoes ',\n",
       " 'Tomatoes (dried) ',\n",
       " 'Tomatoes (greenhouse) ',\n",
       " 'Tomatoes (local) ',\n",
       " 'Tomatoes (navrongo) ',\n",
       " 'Tomatoes (paste) ',\n",
       " 'Tortilla ',\n",
       " 'Tree tomatoes ',\n",
       " 'Walnuts ',\n",
       " 'Water (drinking) ',\n",
       " 'Water spinach ',\n",
       " 'Watermelons ',\n",
       " 'Wax gourd ',\n",
       " 'Wheat ',\n",
       " 'Wheat (food aid) ',\n",
       " 'Wheat (white) ',\n",
       " 'Wheat flour ',\n",
       " 'Wheat flour (first grade) ',\n",
       " 'Wheat flour (high quality) ',\n",
       " 'Wheat flour (imported) ',\n",
       " 'Wheat flour (local) ',\n",
       " 'Wheat flour (locally processed) ',\n",
       " 'Wheat flour (low quality) ',\n",
       " 'Wheat meal ',\n",
       " 'Yam ',\n",
       " 'Yam (Abuja) ',\n",
       " 'Yam (dry) ',\n",
       " 'Yam (florido) ',\n",
       " 'Yam (flour) ',\n",
       " 'Yam (puna) ',\n",
       " 'Yam (white) ',\n",
       " 'Yam (yellow) ',\n",
       " 'Yogurt ',\n",
       " 'Zucchini ']"
      ]
     },
     "execution_count": 58,
     "metadata": {},
     "output_type": "execute_result"
    }
   ],
   "source": [
    "list_of_foods"
   ]
  },
  {
   "cell_type": "code",
   "execution_count": 59,
   "id": "6956647a",
   "metadata": {},
   "outputs": [
    {
     "data": {
      "text/plain": [
       "422"
      ]
     },
     "execution_count": 59,
     "metadata": {},
     "output_type": "execute_result"
    }
   ],
   "source": [
    "len(list_of_foods)"
   ]
  },
  {
   "cell_type": "code",
   "execution_count": 60,
   "id": "4caab52c",
   "metadata": {},
   "outputs": [],
   "source": [
    "list_of_non_food = ['Charcoal ','Corn Soy Blend (CSB++, food aid) ','Cotton ', 'Dishwashing liquid ','Disinfecting solution ','Fuel (Super Petrol) ','Fuel (diesel) ',\n",
    " 'Fuel (diesel, parallel market) ',\n",
    " 'Fuel (kerosene) ',\n",
    " 'Fuel (petrol','Handwash soap ','Laundry detergent ','Laundry soap ','Salt ','Salt (iodised) ','Shampoo ']"
   ]
  },
  {
   "cell_type": "code",
   "execution_count": 61,
   "id": "69d6cda9",
   "metadata": {},
   "outputs": [
    {
     "data": {
      "text/plain": [
       "16"
      ]
     },
     "execution_count": 61,
     "metadata": {},
     "output_type": "execute_result"
    }
   ],
   "source": [
    "len(list_of_non_food)"
   ]
  },
  {
   "cell_type": "code",
   "execution_count": 62,
   "id": "1f8a937e",
   "metadata": {},
   "outputs": [
    {
     "name": "stdout",
     "output_type": "stream",
     "text": [
      "Charcoal \n",
      "Corn Soy Blend (CSB++, food aid) \n",
      "Cotton \n",
      "Dishwashing liquid \n",
      "Disinfecting solution \n",
      "Fuel (Super Petrol) \n",
      "Fuel (diesel) \n",
      "Fuel (diesel, parallel market) \n",
      "Fuel (kerosene) \n",
      "Fuel (petrol\n",
      "Handwash soap \n",
      "Laundry detergent \n",
      "Laundry soap \n",
      "Salt \n",
      "Salt (iodised) \n",
      "Shampoo \n"
     ]
    }
   ],
   "source": [
    "for x in list_of_non_food:\n",
    "        print(x)\n",
    "        price_2020_df = price_2020_df.loc[price_2020_df[\"type\"] != x]"
   ]
  },
  {
   "cell_type": "code",
   "execution_count": 63,
   "id": "cc92656c",
   "metadata": {},
   "outputs": [
    {
     "data": {
      "text/plain": [
       "406"
      ]
     },
     "execution_count": 63,
     "metadata": {},
     "output_type": "execute_result"
    }
   ],
   "source": [
    "price_2020_df['type'].nunique()"
   ]
  },
  {
   "cell_type": "code",
   "execution_count": 64,
   "id": "278a25e8",
   "metadata": {},
   "outputs": [
    {
     "data": {
      "text/plain": [
       "(119885, 12)"
      ]
     },
     "execution_count": 64,
     "metadata": {},
     "output_type": "execute_result"
    }
   ],
   "source": [
    "price_2020_df.shape"
   ]
  },
  {
   "cell_type": "markdown",
   "id": "63f592e5",
   "metadata": {},
   "source": [
    "# Drop columns that we don't need"
   ]
  },
  {
   "cell_type": "code",
   "execution_count": 65,
   "id": "57ae0e6b",
   "metadata": {},
   "outputs": [
    {
     "data": {
      "text/html": [
       "<div>\n",
       "<style scoped>\n",
       "    .dataframe tbody tr th:only-of-type {\n",
       "        vertical-align: middle;\n",
       "    }\n",
       "\n",
       "    .dataframe tbody tr th {\n",
       "        vertical-align: top;\n",
       "    }\n",
       "\n",
       "    .dataframe thead th {\n",
       "        text-align: right;\n",
       "    }\n",
       "</style>\n",
       "<table border=\"1\" class=\"dataframe\">\n",
       "  <thead>\n",
       "    <tr style=\"text-align: right;\">\n",
       "      <th></th>\n",
       "      <th>adm0_name</th>\n",
       "      <th>adm1_name</th>\n",
       "      <th>mkt_name</th>\n",
       "      <th>cur_name</th>\n",
       "      <th>pt_name</th>\n",
       "      <th>um_name</th>\n",
       "      <th>mp_month</th>\n",
       "      <th>mp_year</th>\n",
       "      <th>mp_price</th>\n",
       "      <th>type</th>\n",
       "      <th>conv_rate</th>\n",
       "      <th>usd_rate</th>\n",
       "    </tr>\n",
       "  </thead>\n",
       "  <tbody>\n",
       "    <tr>\n",
       "      <th>69</th>\n",
       "      <td>Afghanistan</td>\n",
       "      <td>Badakhshan</td>\n",
       "      <td>Fayzabad</td>\n",
       "      <td>AFN</td>\n",
       "      <td>Retail</td>\n",
       "      <td>KG</td>\n",
       "      <td>1</td>\n",
       "      <td>2020</td>\n",
       "      <td>50.000</td>\n",
       "      <td>Bread</td>\n",
       "      <td>103.255653</td>\n",
       "      <td>0.484235</td>\n",
       "    </tr>\n",
       "    <tr>\n",
       "      <th>70</th>\n",
       "      <td>Afghanistan</td>\n",
       "      <td>Badakhshan</td>\n",
       "      <td>Fayzabad</td>\n",
       "      <td>AFN</td>\n",
       "      <td>Retail</td>\n",
       "      <td>KG</td>\n",
       "      <td>2</td>\n",
       "      <td>2020</td>\n",
       "      <td>50.000</td>\n",
       "      <td>Bread</td>\n",
       "      <td>103.255653</td>\n",
       "      <td>0.484235</td>\n",
       "    </tr>\n",
       "    <tr>\n",
       "      <th>71</th>\n",
       "      <td>Afghanistan</td>\n",
       "      <td>Badakhshan</td>\n",
       "      <td>Fayzabad</td>\n",
       "      <td>AFN</td>\n",
       "      <td>Retail</td>\n",
       "      <td>KG</td>\n",
       "      <td>3</td>\n",
       "      <td>2020</td>\n",
       "      <td>50.000</td>\n",
       "      <td>Bread</td>\n",
       "      <td>103.255653</td>\n",
       "      <td>0.484235</td>\n",
       "    </tr>\n",
       "    <tr>\n",
       "      <th>72</th>\n",
       "      <td>Afghanistan</td>\n",
       "      <td>Badakhshan</td>\n",
       "      <td>Fayzabad</td>\n",
       "      <td>AFN</td>\n",
       "      <td>Retail</td>\n",
       "      <td>KG</td>\n",
       "      <td>4</td>\n",
       "      <td>2020</td>\n",
       "      <td>50.000</td>\n",
       "      <td>Bread</td>\n",
       "      <td>103.255653</td>\n",
       "      <td>0.484235</td>\n",
       "    </tr>\n",
       "    <tr>\n",
       "      <th>275</th>\n",
       "      <td>Afghanistan</td>\n",
       "      <td>Badakhshan</td>\n",
       "      <td>Fayzabad</td>\n",
       "      <td>AFN</td>\n",
       "      <td>Retail</td>\n",
       "      <td>KG</td>\n",
       "      <td>1</td>\n",
       "      <td>2020</td>\n",
       "      <td>25.375</td>\n",
       "      <td>Wheat</td>\n",
       "      <td>103.255653</td>\n",
       "      <td>0.245749</td>\n",
       "    </tr>\n",
       "  </tbody>\n",
       "</table>\n",
       "</div>"
      ],
      "text/plain": [
       "       adm0_name   adm1_name  mkt_name cur_name pt_name um_name  mp_month  \\\n",
       "69   Afghanistan  Badakhshan  Fayzabad      AFN  Retail      KG         1   \n",
       "70   Afghanistan  Badakhshan  Fayzabad      AFN  Retail      KG         2   \n",
       "71   Afghanistan  Badakhshan  Fayzabad      AFN  Retail      KG         3   \n",
       "72   Afghanistan  Badakhshan  Fayzabad      AFN  Retail      KG         4   \n",
       "275  Afghanistan  Badakhshan  Fayzabad      AFN  Retail      KG         1   \n",
       "\n",
       "     mp_year  mp_price    type   conv_rate  usd_rate  \n",
       "69      2020    50.000  Bread   103.255653  0.484235  \n",
       "70      2020    50.000  Bread   103.255653  0.484235  \n",
       "71      2020    50.000  Bread   103.255653  0.484235  \n",
       "72      2020    50.000  Bread   103.255653  0.484235  \n",
       "275     2020    25.375  Wheat   103.255653  0.245749  "
      ]
     },
     "execution_count": 65,
     "metadata": {},
     "output_type": "execute_result"
    }
   ],
   "source": [
    "price_2020_df.head()"
   ]
  },
  {
   "cell_type": "code",
   "execution_count": 66,
   "id": "0b7da05c",
   "metadata": {},
   "outputs": [],
   "source": [
    "# We don't need the column mp_year. We know its 2020. We don't need the market name, currency name, month and the adm1_name"
   ]
  },
  {
   "cell_type": "code",
   "execution_count": 67,
   "id": "9e5aa193",
   "metadata": {},
   "outputs": [],
   "source": [
    "price_2020_df.drop(columns=['mp_year','mkt_name','adm1_name', 'mp_month','cur_name'], inplace=True)"
   ]
  },
  {
   "cell_type": "code",
   "execution_count": 68,
   "id": "649b02e8",
   "metadata": {},
   "outputs": [
    {
     "data": {
      "text/html": [
       "<div>\n",
       "<style scoped>\n",
       "    .dataframe tbody tr th:only-of-type {\n",
       "        vertical-align: middle;\n",
       "    }\n",
       "\n",
       "    .dataframe tbody tr th {\n",
       "        vertical-align: top;\n",
       "    }\n",
       "\n",
       "    .dataframe thead th {\n",
       "        text-align: right;\n",
       "    }\n",
       "</style>\n",
       "<table border=\"1\" class=\"dataframe\">\n",
       "  <thead>\n",
       "    <tr style=\"text-align: right;\">\n",
       "      <th></th>\n",
       "      <th>adm0_name</th>\n",
       "      <th>pt_name</th>\n",
       "      <th>um_name</th>\n",
       "      <th>mp_price</th>\n",
       "      <th>type</th>\n",
       "      <th>conv_rate</th>\n",
       "      <th>usd_rate</th>\n",
       "    </tr>\n",
       "  </thead>\n",
       "  <tbody>\n",
       "    <tr>\n",
       "      <th>69</th>\n",
       "      <td>Afghanistan</td>\n",
       "      <td>Retail</td>\n",
       "      <td>KG</td>\n",
       "      <td>50.000</td>\n",
       "      <td>Bread</td>\n",
       "      <td>103.255653</td>\n",
       "      <td>0.484235</td>\n",
       "    </tr>\n",
       "    <tr>\n",
       "      <th>70</th>\n",
       "      <td>Afghanistan</td>\n",
       "      <td>Retail</td>\n",
       "      <td>KG</td>\n",
       "      <td>50.000</td>\n",
       "      <td>Bread</td>\n",
       "      <td>103.255653</td>\n",
       "      <td>0.484235</td>\n",
       "    </tr>\n",
       "    <tr>\n",
       "      <th>71</th>\n",
       "      <td>Afghanistan</td>\n",
       "      <td>Retail</td>\n",
       "      <td>KG</td>\n",
       "      <td>50.000</td>\n",
       "      <td>Bread</td>\n",
       "      <td>103.255653</td>\n",
       "      <td>0.484235</td>\n",
       "    </tr>\n",
       "    <tr>\n",
       "      <th>72</th>\n",
       "      <td>Afghanistan</td>\n",
       "      <td>Retail</td>\n",
       "      <td>KG</td>\n",
       "      <td>50.000</td>\n",
       "      <td>Bread</td>\n",
       "      <td>103.255653</td>\n",
       "      <td>0.484235</td>\n",
       "    </tr>\n",
       "    <tr>\n",
       "      <th>275</th>\n",
       "      <td>Afghanistan</td>\n",
       "      <td>Retail</td>\n",
       "      <td>KG</td>\n",
       "      <td>25.375</td>\n",
       "      <td>Wheat</td>\n",
       "      <td>103.255653</td>\n",
       "      <td>0.245749</td>\n",
       "    </tr>\n",
       "  </tbody>\n",
       "</table>\n",
       "</div>"
      ],
      "text/plain": [
       "       adm0_name pt_name um_name  mp_price    type   conv_rate  usd_rate\n",
       "69   Afghanistan  Retail      KG    50.000  Bread   103.255653  0.484235\n",
       "70   Afghanistan  Retail      KG    50.000  Bread   103.255653  0.484235\n",
       "71   Afghanistan  Retail      KG    50.000  Bread   103.255653  0.484235\n",
       "72   Afghanistan  Retail      KG    50.000  Bread   103.255653  0.484235\n",
       "275  Afghanistan  Retail      KG    25.375  Wheat   103.255653  0.245749"
      ]
     },
     "execution_count": 68,
     "metadata": {},
     "output_type": "execute_result"
    }
   ],
   "source": [
    "price_2020_df.head()"
   ]
  },
  {
   "cell_type": "code",
   "execution_count": 69,
   "id": "8a6cf6aa",
   "metadata": {},
   "outputs": [],
   "source": [
    "grouped_multiple = price_2020_df.groupby(['adm0_name', 'type', 'pt_name','um_name' ]).agg({'mp_price': 'mean','conv_rate': 'mean', 'usd_rate': 'mean'})\n"
   ]
  },
  {
   "cell_type": "code",
   "execution_count": 70,
   "id": "4be2beaa",
   "metadata": {},
   "outputs": [
    {
     "data": {
      "text/html": [
       "<div>\n",
       "<style scoped>\n",
       "    .dataframe tbody tr th:only-of-type {\n",
       "        vertical-align: middle;\n",
       "    }\n",
       "\n",
       "    .dataframe tbody tr th {\n",
       "        vertical-align: top;\n",
       "    }\n",
       "\n",
       "    .dataframe thead th {\n",
       "        text-align: right;\n",
       "    }\n",
       "</style>\n",
       "<table border=\"1\" class=\"dataframe\">\n",
       "  <thead>\n",
       "    <tr style=\"text-align: right;\">\n",
       "      <th></th>\n",
       "      <th></th>\n",
       "      <th></th>\n",
       "      <th></th>\n",
       "      <th>mp_price</th>\n",
       "      <th>conv_rate</th>\n",
       "      <th>usd_rate</th>\n",
       "    </tr>\n",
       "    <tr>\n",
       "      <th>adm0_name</th>\n",
       "      <th>type</th>\n",
       "      <th>pt_name</th>\n",
       "      <th>um_name</th>\n",
       "      <th></th>\n",
       "      <th></th>\n",
       "      <th></th>\n",
       "    </tr>\n",
       "  </thead>\n",
       "  <tbody>\n",
       "    <tr>\n",
       "      <th rowspan=\"5\" valign=\"top\">Afghanistan</th>\n",
       "      <th>Bread</th>\n",
       "      <th>Retail</th>\n",
       "      <th>KG</th>\n",
       "      <td>50.344430</td>\n",
       "      <td>103.255653</td>\n",
       "      <td>0.487571</td>\n",
       "    </tr>\n",
       "    <tr>\n",
       "      <th>Oil (cooking)</th>\n",
       "      <th>Retail</th>\n",
       "      <th>KG</th>\n",
       "      <td>103.044485</td>\n",
       "      <td>103.255653</td>\n",
       "      <td>0.997955</td>\n",
       "    </tr>\n",
       "    <tr>\n",
       "      <th>Pulses</th>\n",
       "      <th>Retail</th>\n",
       "      <th>KG</th>\n",
       "      <td>95.488971</td>\n",
       "      <td>103.255653</td>\n",
       "      <td>0.924782</td>\n",
       "    </tr>\n",
       "    <tr>\n",
       "      <th>Rice (high quality)</th>\n",
       "      <th>Retail</th>\n",
       "      <th>KG</th>\n",
       "      <td>87.189706</td>\n",
       "      <td>103.255653</td>\n",
       "      <td>0.844406</td>\n",
       "    </tr>\n",
       "    <tr>\n",
       "      <th>Rice (low quality)</th>\n",
       "      <th>Retail</th>\n",
       "      <th>KG</th>\n",
       "      <td>48.832043</td>\n",
       "      <td>103.255653</td>\n",
       "      <td>0.472924</td>\n",
       "    </tr>\n",
       "  </tbody>\n",
       "</table>\n",
       "</div>"
      ],
      "text/plain": [
       "                                                    mp_price   conv_rate  \\\n",
       "adm0_name   type                 pt_name um_name                           \n",
       "Afghanistan Bread                Retail  KG        50.344430  103.255653   \n",
       "            Oil (cooking)        Retail  KG       103.044485  103.255653   \n",
       "            Pulses               Retail  KG        95.488971  103.255653   \n",
       "            Rice (high quality)  Retail  KG        87.189706  103.255653   \n",
       "            Rice (low quality)   Retail  KG        48.832043  103.255653   \n",
       "\n",
       "                                                  usd_rate  \n",
       "adm0_name   type                 pt_name um_name            \n",
       "Afghanistan Bread                Retail  KG       0.487571  \n",
       "            Oil (cooking)        Retail  KG       0.997955  \n",
       "            Pulses               Retail  KG       0.924782  \n",
       "            Rice (high quality)  Retail  KG       0.844406  \n",
       "            Rice (low quality)   Retail  KG       0.472924  "
      ]
     },
     "execution_count": 70,
     "metadata": {},
     "output_type": "execute_result"
    }
   ],
   "source": [
    "grouped_multiple.head()"
   ]
  },
  {
   "cell_type": "code",
   "execution_count": 82,
   "id": "f8a5e07d",
   "metadata": {},
   "outputs": [],
   "source": [
    "grouped_multiple.to_csv('grouped_cleaned_data.csv')"
   ]
  },
  {
   "cell_type": "code",
   "execution_count": 83,
   "id": "8169dc4b",
   "metadata": {},
   "outputs": [],
   "source": [
    "test = pd.read_csv('grouped_cleaned_data.csv')"
   ]
  },
  {
   "cell_type": "code",
   "execution_count": 87,
   "id": "a95ec233",
   "metadata": {},
   "outputs": [
    {
     "data": {
      "text/html": [
       "<div>\n",
       "<style scoped>\n",
       "    .dataframe tbody tr th:only-of-type {\n",
       "        vertical-align: middle;\n",
       "    }\n",
       "\n",
       "    .dataframe tbody tr th {\n",
       "        vertical-align: top;\n",
       "    }\n",
       "\n",
       "    .dataframe thead th {\n",
       "        text-align: right;\n",
       "    }\n",
       "</style>\n",
       "<table border=\"1\" class=\"dataframe\">\n",
       "  <thead>\n",
       "    <tr style=\"text-align: right;\">\n",
       "      <th></th>\n",
       "      <th>adm0_name</th>\n",
       "      <th>type</th>\n",
       "      <th>pt_name</th>\n",
       "      <th>um_name</th>\n",
       "      <th>mp_price</th>\n",
       "      <th>conv_rate</th>\n",
       "      <th>usd_rate</th>\n",
       "    </tr>\n",
       "  </thead>\n",
       "  <tbody>\n",
       "    <tr>\n",
       "      <th>0</th>\n",
       "      <td>Afghanistan</td>\n",
       "      <td>Bread</td>\n",
       "      <td>Retail</td>\n",
       "      <td>KG</td>\n",
       "      <td>50.344430</td>\n",
       "      <td>103.255653</td>\n",
       "      <td>0.487571</td>\n",
       "    </tr>\n",
       "    <tr>\n",
       "      <th>1</th>\n",
       "      <td>Afghanistan</td>\n",
       "      <td>Oil (cooking)</td>\n",
       "      <td>Retail</td>\n",
       "      <td>KG</td>\n",
       "      <td>103.044485</td>\n",
       "      <td>103.255653</td>\n",
       "      <td>0.997955</td>\n",
       "    </tr>\n",
       "    <tr>\n",
       "      <th>2</th>\n",
       "      <td>Afghanistan</td>\n",
       "      <td>Pulses</td>\n",
       "      <td>Retail</td>\n",
       "      <td>KG</td>\n",
       "      <td>95.488971</td>\n",
       "      <td>103.255653</td>\n",
       "      <td>0.924782</td>\n",
       "    </tr>\n",
       "    <tr>\n",
       "      <th>3</th>\n",
       "      <td>Afghanistan</td>\n",
       "      <td>Rice (high quality)</td>\n",
       "      <td>Retail</td>\n",
       "      <td>KG</td>\n",
       "      <td>87.189706</td>\n",
       "      <td>103.255653</td>\n",
       "      <td>0.844406</td>\n",
       "    </tr>\n",
       "    <tr>\n",
       "      <th>4</th>\n",
       "      <td>Afghanistan</td>\n",
       "      <td>Rice (low quality)</td>\n",
       "      <td>Retail</td>\n",
       "      <td>KG</td>\n",
       "      <td>48.832043</td>\n",
       "      <td>103.255653</td>\n",
       "      <td>0.472924</td>\n",
       "    </tr>\n",
       "  </tbody>\n",
       "</table>\n",
       "</div>"
      ],
      "text/plain": [
       "     adm0_name                  type pt_name um_name    mp_price   conv_rate  \\\n",
       "0  Afghanistan                Bread   Retail      KG   50.344430  103.255653   \n",
       "1  Afghanistan        Oil (cooking)   Retail      KG  103.044485  103.255653   \n",
       "2  Afghanistan               Pulses   Retail      KG   95.488971  103.255653   \n",
       "3  Afghanistan  Rice (high quality)   Retail      KG   87.189706  103.255653   \n",
       "4  Afghanistan   Rice (low quality)   Retail      KG   48.832043  103.255653   \n",
       "\n",
       "   usd_rate  \n",
       "0  0.487571  \n",
       "1  0.997955  \n",
       "2  0.924782  \n",
       "3  0.844406  \n",
       "4  0.472924  "
      ]
     },
     "execution_count": 87,
     "metadata": {},
     "output_type": "execute_result"
    }
   ],
   "source": [
    "test.head()"
   ]
  },
  {
   "cell_type": "code",
   "execution_count": 85,
   "id": "ac9b256e",
   "metadata": {},
   "outputs": [
    {
     "data": {
      "text/plain": [
       "(1252, 7)"
      ]
     },
     "execution_count": 85,
     "metadata": {},
     "output_type": "execute_result"
    }
   ],
   "source": [
    "test.shape"
   ]
  },
  {
   "cell_type": "markdown",
   "id": "331c058b",
   "metadata": {},
   "source": [
    "## Importing Adrians Dataset"
   ]
  },
  {
   "cell_type": "code",
   "execution_count": 71,
   "id": "1fc5bdd5",
   "metadata": {},
   "outputs": [],
   "source": [
    "food_types = pd.read_csv('../raw_data/Food Types/food_types_v2.csv')"
   ]
  },
  {
   "cell_type": "code",
   "execution_count": 72,
   "id": "494a0811",
   "metadata": {},
   "outputs": [
    {
     "data": {
      "text/html": [
       "<div>\n",
       "<style scoped>\n",
       "    .dataframe tbody tr th:only-of-type {\n",
       "        vertical-align: middle;\n",
       "    }\n",
       "\n",
       "    .dataframe tbody tr th {\n",
       "        vertical-align: top;\n",
       "    }\n",
       "\n",
       "    .dataframe thead th {\n",
       "        text-align: right;\n",
       "    }\n",
       "</style>\n",
       "<table border=\"1\" class=\"dataframe\">\n",
       "  <thead>\n",
       "    <tr style=\"text-align: right;\">\n",
       "      <th></th>\n",
       "      <th>food_type</th>\n",
       "      <th>protein</th>\n",
       "      <th>fat</th>\n",
       "      <th>carb</th>\n",
       "      <th>sugar</th>\n",
       "      <th>sodium</th>\n",
       "      <th>cholesterol</th>\n",
       "      <th>calcium</th>\n",
       "      <th>kcal</th>\n",
       "    </tr>\n",
       "  </thead>\n",
       "  <tbody>\n",
       "    <tr>\n",
       "      <th>0</th>\n",
       "      <td>Bread</td>\n",
       "      <td>9.43</td>\n",
       "      <td>3.59</td>\n",
       "      <td>49.2</td>\n",
       "      <td>5.34</td>\n",
       "      <td>477</td>\n",
       "      <td>not found</td>\n",
       "      <td>211</td>\n",
       "      <td>1130.0</td>\n",
       "    </tr>\n",
       "    <tr>\n",
       "      <th>1</th>\n",
       "      <td>Oil (cooking)</td>\n",
       "      <td>1.26</td>\n",
       "      <td>3.24</td>\n",
       "      <td>30.9</td>\n",
       "      <td>not found</td>\n",
       "      <td>116</td>\n",
       "      <td>0.0</td>\n",
       "      <td>3.0</td>\n",
       "      <td>144</td>\n",
       "    </tr>\n",
       "    <tr>\n",
       "      <th>2</th>\n",
       "      <td>Pulses</td>\n",
       "      <td>17.9</td>\n",
       "      <td>7.14</td>\n",
       "      <td>60.7</td>\n",
       "      <td>not found</td>\n",
       "      <td>393</td>\n",
       "      <td>0.0</td>\n",
       "      <td>107</td>\n",
       "      <td>393</td>\n",
       "    </tr>\n",
       "    <tr>\n",
       "      <th>3</th>\n",
       "      <td>Rice (high quality)</td>\n",
       "      <td>7.19</td>\n",
       "      <td>3.85</td>\n",
       "      <td>75.5</td>\n",
       "      <td>not found</td>\n",
       "      <td>1.0</td>\n",
       "      <td>not found</td>\n",
       "      <td>10.0</td>\n",
       "      <td>365</td>\n",
       "    </tr>\n",
       "    <tr>\n",
       "      <th>4</th>\n",
       "      <td>Rice (low quality)</td>\n",
       "      <td>7.19</td>\n",
       "      <td>3.85</td>\n",
       "      <td>75.5</td>\n",
       "      <td>not found</td>\n",
       "      <td>1.0</td>\n",
       "      <td>not found</td>\n",
       "      <td>10.0</td>\n",
       "      <td>365</td>\n",
       "    </tr>\n",
       "  </tbody>\n",
       "</table>\n",
       "</div>"
      ],
      "text/plain": [
       "              food_type protein   fat  carb      sugar sodium cholesterol  \\\n",
       "0                Bread     9.43  3.59  49.2       5.34    477   not found   \n",
       "1        Oil (cooking)     1.26  3.24  30.9  not found    116         0.0   \n",
       "2               Pulses     17.9  7.14  60.7  not found    393         0.0   \n",
       "3  Rice (high quality)     7.19  3.85  75.5  not found    1.0   not found   \n",
       "4   Rice (low quality)     7.19  3.85  75.5  not found    1.0   not found   \n",
       "\n",
       "  calcium    kcal  \n",
       "0     211  1130.0  \n",
       "1     3.0     144  \n",
       "2     107     393  \n",
       "3    10.0     365  \n",
       "4    10.0     365  "
      ]
     },
     "execution_count": 72,
     "metadata": {},
     "output_type": "execute_result"
    }
   ],
   "source": [
    "food_types.head()"
   ]
  },
  {
   "cell_type": "code",
   "execution_count": 73,
   "id": "b65dc7f4",
   "metadata": {},
   "outputs": [
    {
     "data": {
      "text/plain": [
       "406"
      ]
     },
     "execution_count": 73,
     "metadata": {},
     "output_type": "execute_result"
    }
   ],
   "source": [
    "food_types['food_type'].nunique()"
   ]
  },
  {
   "cell_type": "code",
   "execution_count": 74,
   "id": "c78748b6",
   "metadata": {},
   "outputs": [
    {
     "data": {
      "text/plain": [
       "(1252, 3)"
      ]
     },
     "execution_count": 74,
     "metadata": {},
     "output_type": "execute_result"
    }
   ],
   "source": [
    "grouped_multiple.shape"
   ]
  },
  {
   "cell_type": "code",
   "execution_count": 75,
   "id": "8ddf5b0b",
   "metadata": {},
   "outputs": [],
   "source": [
    "joined_df = pd.merge(grouped_multiple, food_types, how='outer', left_on = 'type', right_on = 'food_type')"
   ]
  },
  {
   "cell_type": "code",
   "execution_count": 76,
   "id": "6a531913",
   "metadata": {},
   "outputs": [
    {
     "data": {
      "text/html": [
       "<div>\n",
       "<style scoped>\n",
       "    .dataframe tbody tr th:only-of-type {\n",
       "        vertical-align: middle;\n",
       "    }\n",
       "\n",
       "    .dataframe tbody tr th {\n",
       "        vertical-align: top;\n",
       "    }\n",
       "\n",
       "    .dataframe thead th {\n",
       "        text-align: right;\n",
       "    }\n",
       "</style>\n",
       "<table border=\"1\" class=\"dataframe\">\n",
       "  <thead>\n",
       "    <tr style=\"text-align: right;\">\n",
       "      <th></th>\n",
       "      <th>mp_price</th>\n",
       "      <th>conv_rate</th>\n",
       "      <th>usd_rate</th>\n",
       "      <th>food_type</th>\n",
       "      <th>protein</th>\n",
       "      <th>fat</th>\n",
       "      <th>carb</th>\n",
       "      <th>sugar</th>\n",
       "      <th>sodium</th>\n",
       "      <th>cholesterol</th>\n",
       "      <th>calcium</th>\n",
       "      <th>kcal</th>\n",
       "    </tr>\n",
       "  </thead>\n",
       "  <tbody>\n",
       "    <tr>\n",
       "      <th>0</th>\n",
       "      <td>50.344430</td>\n",
       "      <td>103.255653</td>\n",
       "      <td>0.487571</td>\n",
       "      <td>Bread</td>\n",
       "      <td>9.43</td>\n",
       "      <td>3.59</td>\n",
       "      <td>49.2</td>\n",
       "      <td>5.34</td>\n",
       "      <td>477</td>\n",
       "      <td>not found</td>\n",
       "      <td>211</td>\n",
       "      <td>1130.0</td>\n",
       "    </tr>\n",
       "    <tr>\n",
       "      <th>1</th>\n",
       "      <td>114.238000</td>\n",
       "      <td>101.526053</td>\n",
       "      <td>1.125209</td>\n",
       "      <td>Bread</td>\n",
       "      <td>9.43</td>\n",
       "      <td>3.59</td>\n",
       "      <td>49.2</td>\n",
       "      <td>5.34</td>\n",
       "      <td>477</td>\n",
       "      <td>not found</td>\n",
       "      <td>211</td>\n",
       "      <td>1130.0</td>\n",
       "    </tr>\n",
       "    <tr>\n",
       "      <th>2</th>\n",
       "      <td>1078.371429</td>\n",
       "      <td>580.236179</td>\n",
       "      <td>1.858504</td>\n",
       "      <td>Bread</td>\n",
       "      <td>9.43</td>\n",
       "      <td>3.59</td>\n",
       "      <td>49.2</td>\n",
       "      <td>5.34</td>\n",
       "      <td>477</td>\n",
       "      <td>not found</td>\n",
       "      <td>211</td>\n",
       "      <td>1130.0</td>\n",
       "    </tr>\n",
       "    <tr>\n",
       "      <th>3</th>\n",
       "      <td>27.529414</td>\n",
       "      <td>52.450201</td>\n",
       "      <td>0.524868</td>\n",
       "      <td>Bread</td>\n",
       "      <td>9.43</td>\n",
       "      <td>3.59</td>\n",
       "      <td>49.2</td>\n",
       "      <td>5.34</td>\n",
       "      <td>477</td>\n",
       "      <td>not found</td>\n",
       "      <td>211</td>\n",
       "      <td>1130.0</td>\n",
       "    </tr>\n",
       "    <tr>\n",
       "      <th>4</th>\n",
       "      <td>52.387667</td>\n",
       "      <td>84.783602</td>\n",
       "      <td>0.617899</td>\n",
       "      <td>Bread</td>\n",
       "      <td>9.43</td>\n",
       "      <td>3.59</td>\n",
       "      <td>49.2</td>\n",
       "      <td>5.34</td>\n",
       "      <td>477</td>\n",
       "      <td>not found</td>\n",
       "      <td>211</td>\n",
       "      <td>1130.0</td>\n",
       "    </tr>\n",
       "  </tbody>\n",
       "</table>\n",
       "</div>"
      ],
      "text/plain": [
       "      mp_price   conv_rate  usd_rate food_type protein   fat  carb sugar  \\\n",
       "0    50.344430  103.255653  0.487571    Bread     9.43  3.59  49.2  5.34   \n",
       "1   114.238000  101.526053  1.125209    Bread     9.43  3.59  49.2  5.34   \n",
       "2  1078.371429  580.236179  1.858504    Bread     9.43  3.59  49.2  5.34   \n",
       "3    27.529414   52.450201  0.524868    Bread     9.43  3.59  49.2  5.34   \n",
       "4    52.387667   84.783602  0.617899    Bread     9.43  3.59  49.2  5.34   \n",
       "\n",
       "  sodium cholesterol calcium    kcal  \n",
       "0    477   not found     211  1130.0  \n",
       "1    477   not found     211  1130.0  \n",
       "2    477   not found     211  1130.0  \n",
       "3    477   not found     211  1130.0  \n",
       "4    477   not found     211  1130.0  "
      ]
     },
     "execution_count": 76,
     "metadata": {},
     "output_type": "execute_result"
    }
   ],
   "source": [
    "joined_df.head()"
   ]
  },
  {
   "cell_type": "code",
   "execution_count": 77,
   "id": "ed3e1e7d",
   "metadata": {},
   "outputs": [
    {
     "data": {
      "text/plain": [
       "(1252, 12)"
      ]
     },
     "execution_count": 77,
     "metadata": {},
     "output_type": "execute_result"
    }
   ],
   "source": [
    "joined_df.shape"
   ]
  },
  {
   "cell_type": "code",
   "execution_count": null,
   "id": "f1e3c327",
   "metadata": {},
   "outputs": [],
   "source": []
  }
 ],
 "metadata": {
  "kernelspec": {
   "display_name": "Python 3 (ipykernel)",
   "language": "python",
   "name": "python3"
  },
  "language_info": {
   "codemirror_mode": {
    "name": "ipython",
    "version": 3
   },
   "file_extension": ".py",
   "mimetype": "text/x-python",
   "name": "python",
   "nbconvert_exporter": "python",
   "pygments_lexer": "ipython3",
   "version": "3.8.12"
  },
  "toc": {
   "base_numbering": 1,
   "nav_menu": {},
   "number_sections": true,
   "sideBar": true,
   "skip_h1_title": false,
   "title_cell": "Table of Contents",
   "title_sidebar": "Contents",
   "toc_cell": false,
   "toc_position": {},
   "toc_section_display": true,
   "toc_window_display": false
  }
 },
 "nbformat": 4,
 "nbformat_minor": 5
}
