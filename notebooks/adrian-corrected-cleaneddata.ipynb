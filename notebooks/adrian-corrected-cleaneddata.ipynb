{
 "cells": [
  {
   "cell_type": "code",
   "execution_count": 3,
   "id": "828f0971",
   "metadata": {},
   "outputs": [
    {
     "name": "stderr",
     "output_type": "stream",
     "text": [
      "Matplotlib created a temporary config/cache directory at /tmp/matplotlib-s9xqcjbx because the default path (/home/drifter/.cache/matplotlib) is not a writable directory; it is highly recommended to set the MPLCONFIGDIR environment variable to a writable directory, in particular to speed up the import of Matplotlib and to better support multiprocessing.\n"
     ]
    }
   ],
   "source": [
    "import numpy as np\n",
    "import pandas as pd\n",
    "import matplotlib.pyplot as plt\n",
    "import seaborn as sns\n",
    "import requests"
   ]
  },
  {
   "cell_type": "code",
   "execution_count": 4,
   "id": "376b6c03",
   "metadata": {},
   "outputs": [
    {
     "data": {
      "text/html": [
       "<div>\n",
       "<style scoped>\n",
       "    .dataframe tbody tr th:only-of-type {\n",
       "        vertical-align: middle;\n",
       "    }\n",
       "\n",
       "    .dataframe tbody tr th {\n",
       "        vertical-align: top;\n",
       "    }\n",
       "\n",
       "    .dataframe thead th {\n",
       "        text-align: right;\n",
       "    }\n",
       "</style>\n",
       "<table border=\"1\" class=\"dataframe\">\n",
       "  <thead>\n",
       "    <tr style=\"text-align: right;\">\n",
       "      <th></th>\n",
       "      <th>adm0_name</th>\n",
       "      <th>type</th>\n",
       "      <th>pt_name</th>\n",
       "      <th>um_name</th>\n",
       "      <th>mp_price</th>\n",
       "      <th>conv_rate</th>\n",
       "      <th>usd_rate</th>\n",
       "    </tr>\n",
       "  </thead>\n",
       "  <tbody>\n",
       "    <tr>\n",
       "      <th>0</th>\n",
       "      <td>Afghanistan</td>\n",
       "      <td>Bread</td>\n",
       "      <td>Retail</td>\n",
       "      <td>KG</td>\n",
       "      <td>50.344430</td>\n",
       "      <td>103.255653</td>\n",
       "      <td>0.487571</td>\n",
       "    </tr>\n",
       "    <tr>\n",
       "      <th>1</th>\n",
       "      <td>Afghanistan</td>\n",
       "      <td>Oil (cooking)</td>\n",
       "      <td>Retail</td>\n",
       "      <td>KG</td>\n",
       "      <td>103.044485</td>\n",
       "      <td>103.255653</td>\n",
       "      <td>0.997955</td>\n",
       "    </tr>\n",
       "    <tr>\n",
       "      <th>2</th>\n",
       "      <td>Afghanistan</td>\n",
       "      <td>Pulses</td>\n",
       "      <td>Retail</td>\n",
       "      <td>KG</td>\n",
       "      <td>95.488971</td>\n",
       "      <td>103.255653</td>\n",
       "      <td>0.924782</td>\n",
       "    </tr>\n",
       "    <tr>\n",
       "      <th>3</th>\n",
       "      <td>Afghanistan</td>\n",
       "      <td>Rice (high quality)</td>\n",
       "      <td>Retail</td>\n",
       "      <td>KG</td>\n",
       "      <td>87.189706</td>\n",
       "      <td>103.255653</td>\n",
       "      <td>0.844406</td>\n",
       "    </tr>\n",
       "    <tr>\n",
       "      <th>4</th>\n",
       "      <td>Afghanistan</td>\n",
       "      <td>Rice (low quality)</td>\n",
       "      <td>Retail</td>\n",
       "      <td>KG</td>\n",
       "      <td>48.832043</td>\n",
       "      <td>103.255653</td>\n",
       "      <td>0.472924</td>\n",
       "    </tr>\n",
       "  </tbody>\n",
       "</table>\n",
       "</div>"
      ],
      "text/plain": [
       "     adm0_name                  type pt_name um_name    mp_price   conv_rate  \\\n",
       "0  Afghanistan                Bread   Retail      KG   50.344430  103.255653   \n",
       "1  Afghanistan        Oil (cooking)   Retail      KG  103.044485  103.255653   \n",
       "2  Afghanistan               Pulses   Retail      KG   95.488971  103.255653   \n",
       "3  Afghanistan  Rice (high quality)   Retail      KG   87.189706  103.255653   \n",
       "4  Afghanistan   Rice (low quality)   Retail      KG   48.832043  103.255653   \n",
       "\n",
       "   usd_rate  \n",
       "0  0.487571  \n",
       "1  0.997955  \n",
       "2  0.924782  \n",
       "3  0.844406  \n",
       "4  0.472924  "
      ]
     },
     "execution_count": 4,
     "metadata": {},
     "output_type": "execute_result"
    }
   ],
   "source": [
    "clean = pd.read_csv('../raw_data/grouped_cleaned_data.csv')\n",
    "clean.head()"
   ]
  },
  {
   "cell_type": "code",
   "execution_count": 5,
   "id": "ac86ee8b",
   "metadata": {},
   "outputs": [],
   "source": [
    "def string_cleaner(string):\n",
    "    chars = '-@!#$%&()\\/:,'\n",
    "\n",
    "    for char in chars:\n",
    "        string = string.replace(char, ' ')\n",
    "    return string"
   ]
  },
  {
   "cell_type": "code",
   "execution_count": 6,
   "id": "c21a16a7",
   "metadata": {},
   "outputs": [],
   "source": [
    "clean['type'] = clean['type'].apply(lambda x: string_cleaner(x))"
   ]
  },
  {
   "cell_type": "code",
   "execution_count": 7,
   "id": "64316e98",
   "metadata": {},
   "outputs": [
    {
     "data": {
      "text/html": [
       "<div>\n",
       "<style scoped>\n",
       "    .dataframe tbody tr th:only-of-type {\n",
       "        vertical-align: middle;\n",
       "    }\n",
       "\n",
       "    .dataframe tbody tr th {\n",
       "        vertical-align: top;\n",
       "    }\n",
       "\n",
       "    .dataframe thead th {\n",
       "        text-align: right;\n",
       "    }\n",
       "</style>\n",
       "<table border=\"1\" class=\"dataframe\">\n",
       "  <thead>\n",
       "    <tr style=\"text-align: right;\">\n",
       "      <th></th>\n",
       "      <th>adm0_name</th>\n",
       "      <th>type</th>\n",
       "      <th>pt_name</th>\n",
       "      <th>um_name</th>\n",
       "      <th>mp_price</th>\n",
       "      <th>conv_rate</th>\n",
       "      <th>usd_rate</th>\n",
       "    </tr>\n",
       "  </thead>\n",
       "  <tbody>\n",
       "    <tr>\n",
       "      <th>0</th>\n",
       "      <td>Afghanistan</td>\n",
       "      <td>Bread</td>\n",
       "      <td>Retail</td>\n",
       "      <td>KG</td>\n",
       "      <td>50.344430</td>\n",
       "      <td>103.255653</td>\n",
       "      <td>0.487571</td>\n",
       "    </tr>\n",
       "    <tr>\n",
       "      <th>1</th>\n",
       "      <td>Afghanistan</td>\n",
       "      <td>Oil  cooking</td>\n",
       "      <td>Retail</td>\n",
       "      <td>KG</td>\n",
       "      <td>103.044485</td>\n",
       "      <td>103.255653</td>\n",
       "      <td>0.997955</td>\n",
       "    </tr>\n",
       "    <tr>\n",
       "      <th>2</th>\n",
       "      <td>Afghanistan</td>\n",
       "      <td>Pulses</td>\n",
       "      <td>Retail</td>\n",
       "      <td>KG</td>\n",
       "      <td>95.488971</td>\n",
       "      <td>103.255653</td>\n",
       "      <td>0.924782</td>\n",
       "    </tr>\n",
       "  </tbody>\n",
       "</table>\n",
       "</div>"
      ],
      "text/plain": [
       "     adm0_name            type pt_name um_name    mp_price   conv_rate  \\\n",
       "0  Afghanistan          Bread   Retail      KG   50.344430  103.255653   \n",
       "1  Afghanistan  Oil  cooking    Retail      KG  103.044485  103.255653   \n",
       "2  Afghanistan         Pulses   Retail      KG   95.488971  103.255653   \n",
       "\n",
       "   usd_rate  \n",
       "0  0.487571  \n",
       "1  0.997955  \n",
       "2  0.924782  "
      ]
     },
     "execution_count": 7,
     "metadata": {},
     "output_type": "execute_result"
    }
   ],
   "source": [
    "clean.head(3)"
   ]
  },
  {
   "cell_type": "markdown",
   "id": "508e83d7",
   "metadata": {},
   "source": [
    "### api's"
   ]
  },
  {
   "cell_type": "code",
   "execution_count": 8,
   "id": "8f08ba3a",
   "metadata": {},
   "outputs": [],
   "source": [
    "def nutrients_redux(food):\n",
    "    \n",
    "    product=food\n",
    "   \n",
    "    \n",
    "    API_KEY = 'zYKJIFsOxODivrK9dGg8Y2UUWxkr2j2HMNYXLLwf'\n",
    "    \n",
    "    params = {\n",
    "        'api_key': API_KEY,\n",
    "        'query': product,\n",
    "        'pageSize': 1,\n",
    "        'numberOfResultsPerPage': 1,\n",
    "        #'dataType':\"Foundation\"\n",
    "    }\n",
    "    response = requests.get(' https://api.nal.usda.gov/fdc/v1/foods/search', params=params).json()\n",
    "    \n",
    "    protein = 'not found'\n",
    "    fat = 'not found'\n",
    "    carb = 'not found'\n",
    "    sugar = 'not found'\n",
    "    sodium = 'not found'\n",
    "    cholesterol = 'not found'\n",
    "    calcium = 'not found'\n",
    "    energy = 'not found'\n",
    "    size = 100\n",
    "    unit = 'g'\n",
    "    category='not found'\n",
    "    \n",
    "    if response['totalHits'] != 0:\n",
    "        try:\n",
    "\n",
    "            for element in response['foods'][0]['foodNutrients']:\n",
    "                if element['nutrientName'] == 'Protein':\n",
    "                    protein = element['value']\n",
    "                if element['nutrientName'] == 'Total lipid (fat)':\n",
    "                    fat = element['value']\n",
    "                if element['nutrientName'] == 'Carbohydrate, by difference':\n",
    "                    carb = element['value']\n",
    "                if element['nutrientName'] == 'Sugars, Total NLEA' or 'Sugars, total including NLEA':\n",
    "                    sugar = element['value']\n",
    "                if element['nutrientName'] == 'Sodium, Na':\n",
    "                    sodium = element['value']\n",
    "                if element['nutrientName'] == 'Cholesterol':\n",
    "                    cholesterol = element['value']\n",
    "                if element['nutrientName'] == 'Calcium, Ca':\n",
    "                    calcium = element['value']\n",
    "                if element['nutrientName'] == 'Energy':\n",
    "                    energy = element['value']\n",
    "            size = response['foods'][0]['servingSize']\n",
    "            unit = response['foods'][0]['servingSizeUnit']\n",
    "        except:\n",
    "            print(f'missing branded info for {food}')\n",
    "\n",
    "        result = {\n",
    "            'protein': protein,\n",
    "            'fat': fat,\n",
    "            'carb': carb,\n",
    "            'sugar': sugar,\n",
    "            'sodium': sodium,\n",
    "            'cholesterol': cholesterol,\n",
    "            'calcium': calcium,\n",
    "            'kcal': energy,\n",
    "            'size': size,\n",
    "            'unit': unit,\n",
    "            'category': response['foods'][0]['foodCategory']\n",
    "        }\n",
    "        return result\n",
    "    \n",
    "    result = {\n",
    "            'protein': protein,\n",
    "            'fat': fat,\n",
    "            'carb': carb,\n",
    "            'sugar': sugar,\n",
    "            'sodium': sodium,\n",
    "            'cholesterol': cholesterol,\n",
    "            'calcium': calcium,\n",
    "            'kcal': energy,\n",
    "            'size': 'not found',\n",
    "            'unit': 'not found',\n",
    "            'category': category\n",
    "    }\n",
    "    print('process failed')\n",
    "        \n",
    "    return result"
   ]
  },
  {
   "cell_type": "code",
   "execution_count": 9,
   "id": "8c2ab87e",
   "metadata": {},
   "outputs": [],
   "source": [
    "def nutrients_redux_2(food):\n",
    "    \n",
    "    product=food\n",
    "   \n",
    "    \n",
    "    API_KEY = 'zYKJIFsOxODivrK9dGg8Y2UUWxkr2j2HMNYXLLwf'\n",
    "    \n",
    "    params = {\n",
    "        'api_key': API_KEY,\n",
    "        'query': product,\n",
    "        'pageSize': 1,\n",
    "        'numberOfResultsPerPage': 1,\n",
    "        'dataType': \"Foundation\"\n",
    "    }\n",
    "    response = requests.get(' https://api.nal.usda.gov/fdc/v1/foods/search', params=params).json()\n",
    "    \n",
    "    protein = 'not found'\n",
    "    fat = 'not found'\n",
    "    carb = 'not found'\n",
    "    sugar = 'not found'\n",
    "    sodium = 'not found'\n",
    "    cholesterol = 'not found'\n",
    "    calcium = 'not found'\n",
    "    energy = 'not found'\n",
    "    size = 100\n",
    "    unit = 'g'\n",
    "    category = 'not found'\n",
    "    \n",
    "    if response['totalHits'] != 0:\n",
    "        try:\n",
    "\n",
    "            for element in response['foods'][0]['foodNutrients']:\n",
    "                if element['nutrientName'] == 'Protein':\n",
    "                    protein = element['value']\n",
    "                if element['nutrientName'] == 'Total lipid (fat)':\n",
    "                    fat = element['value']\n",
    "                if element['nutrientName'] == 'Carbohydrate, by difference':\n",
    "                    carb = element['value']\n",
    "                if element['nutrientName'] == 'Sugars, Total NLEA' or 'Sugars, total including NLEA':\n",
    "                    sugar = element['value']\n",
    "                if element['nutrientName'] == 'Sodium, Na':\n",
    "                    sodium = element['value']\n",
    "                if element['nutrientName'] == 'Cholesterol':\n",
    "                    cholesterol = element['value']\n",
    "                if element['nutrientName'] == 'Calcium, Ca':\n",
    "                    calcium = element['value']\n",
    "                if element['nutrientName'] == 'Energy':\n",
    "                    energy = element['value']\n",
    "            size = response['foods'][0]['servingSize']\n",
    "            unit = response['foods'][0]['servingSizeUnit']\n",
    "        except:\n",
    "            print(f'missing foundation info for {food}')\n",
    "    \n",
    "        result = {\n",
    "            'protein': protein,\n",
    "            'fat': fat,\n",
    "            'carb': carb,\n",
    "            'sugar': sugar,\n",
    "            'sodium': sodium,\n",
    "            'cholesterol': cholesterol,\n",
    "            'calcium': calcium,\n",
    "            'kcal': energy,\n",
    "            'size': size,\n",
    "            'unit': unit,\n",
    "            'category': response['foods'][0]['foodCategory']\n",
    "        }\n",
    "        return result\n",
    "    \n",
    "    result = {\n",
    "            'protein': protein,\n",
    "            'fat': fat,\n",
    "            'carb': carb,\n",
    "            'sugar': sugar,\n",
    "            'sodium': sodium,\n",
    "            'cholesterol': cholesterol,\n",
    "            'calcium': calcium,\n",
    "            'kcal': energy,\n",
    "            'size': 'not found',\n",
    "            'unit': 'not found',\n",
    "            'category': category\n",
    "    }\n",
    "    \n",
    "    return result"
   ]
  },
  {
   "cell_type": "code",
   "execution_count": 10,
   "id": "85e2eb5b",
   "metadata": {},
   "outputs": [],
   "source": [
    "#a function to call the other two functions if the first fails\n",
    "def nutrients_super(food):\n",
    "    \n",
    "    try:\n",
    "        product=food\n",
    "\n",
    "        result = nutrients_redux_2(product)\n",
    "\n",
    "        if sum(x== 'not found' for x in result.values()) >= 3:\n",
    "            result = nutrients_redux(product)\n",
    "            print('switched to branded')\n",
    "        else:\n",
    "            print('foundation')\n",
    "    except:\n",
    "        print('crashed, forced nutrients_redux')\n",
    "        result = nutrients_redux(product)\n",
    "    return result"
   ]
  },
  {
   "cell_type": "code",
   "execution_count": 11,
   "id": "a72ec0ad",
   "metadata": {},
   "outputs": [],
   "source": [
    "def nutrients(food):\n",
    "    \n",
    "    product=food\n",
    "   \n",
    "    \n",
    "    API_KEY = 'zYKJIFsOxODivrK9dGg8Y2UUWxkr2j2HMNYXLLwf'\n",
    "    \n",
    "    params = {\n",
    "        'api_key': API_KEY,\n",
    "        'query': product,\n",
    "        'pageSize': 1,\n",
    "        'numberOfResultsPerPage': 1\n",
    "    }\n",
    "    response = requests.get(' https://api.nal.usda.gov/fdc/v1/foods/search', params=params).json()\n",
    "    \n",
    "    for element in response['foods'][0]['foodNutrients']:\n",
    "        print(f'{product} has {element[\"value\"]} {element[\"unitName\"]} of {element[\"nutrientName\"]}')"
   ]
  },
  {
   "cell_type": "markdown",
   "id": "7a8dbf4c",
   "metadata": {},
   "source": [
    "### getting food types"
   ]
  },
  {
   "cell_type": "code",
   "execution_count": 12,
   "id": "3a2f9351",
   "metadata": {},
   "outputs": [
    {
     "data": {
      "text/html": [
       "<div>\n",
       "<style scoped>\n",
       "    .dataframe tbody tr th:only-of-type {\n",
       "        vertical-align: middle;\n",
       "    }\n",
       "\n",
       "    .dataframe tbody tr th {\n",
       "        vertical-align: top;\n",
       "    }\n",
       "\n",
       "    .dataframe thead th {\n",
       "        text-align: right;\n",
       "    }\n",
       "</style>\n",
       "<table border=\"1\" class=\"dataframe\">\n",
       "  <thead>\n",
       "    <tr style=\"text-align: right;\">\n",
       "      <th></th>\n",
       "      <th>food_type</th>\n",
       "    </tr>\n",
       "  </thead>\n",
       "  <tbody>\n",
       "    <tr>\n",
       "      <th>0</th>\n",
       "      <td>Bread</td>\n",
       "    </tr>\n",
       "    <tr>\n",
       "      <th>1</th>\n",
       "      <td>Oil  cooking</td>\n",
       "    </tr>\n",
       "    <tr>\n",
       "      <th>2</th>\n",
       "      <td>Pulses</td>\n",
       "    </tr>\n",
       "    <tr>\n",
       "      <th>3</th>\n",
       "      <td>Rice  high quality</td>\n",
       "    </tr>\n",
       "    <tr>\n",
       "      <th>4</th>\n",
       "      <td>Rice  low quality</td>\n",
       "    </tr>\n",
       "    <tr>\n",
       "      <th>...</th>\n",
       "      <td>...</td>\n",
       "    </tr>\n",
       "    <tr>\n",
       "      <th>401</th>\n",
       "      <td>Zucchini</td>\n",
       "    </tr>\n",
       "    <tr>\n",
       "      <th>402</th>\n",
       "      <td>Beans  kidney red</td>\n",
       "    </tr>\n",
       "    <tr>\n",
       "      <th>403</th>\n",
       "      <td>Peas  yellow  split</td>\n",
       "    </tr>\n",
       "    <tr>\n",
       "      <th>404</th>\n",
       "      <td>Maize meal  white  breakfast</td>\n",
       "    </tr>\n",
       "    <tr>\n",
       "      <th>405</th>\n",
       "      <td>Maize meal  white  roller</td>\n",
       "    </tr>\n",
       "  </tbody>\n",
       "</table>\n",
       "<p>406 rows × 1 columns</p>\n",
       "</div>"
      ],
      "text/plain": [
       "                          food_type\n",
       "0                            Bread \n",
       "1                    Oil  cooking  \n",
       "2                           Pulses \n",
       "3              Rice  high quality  \n",
       "4               Rice  low quality  \n",
       "..                              ...\n",
       "401                       Zucchini \n",
       "402             Beans  kidney red  \n",
       "403           Peas  yellow  split  \n",
       "404  Maize meal  white  breakfast  \n",
       "405     Maize meal  white  roller  \n",
       "\n",
       "[406 rows x 1 columns]"
      ]
     },
     "execution_count": 12,
     "metadata": {},
     "output_type": "execute_result"
    }
   ],
   "source": [
    "food_types = pd.DataFrame(clean['type'].unique(), columns=['food_type'])\n",
    "food_types"
   ]
  },
  {
   "cell_type": "code",
   "execution_count": 13,
   "id": "bc18e51f",
   "metadata": {},
   "outputs": [],
   "source": [
    "food_types['protein'] = None\n",
    "food_types['fat'] = None\n",
    "food_types['carb'] = None\n",
    "food_types['sugar'] = None\n",
    "food_types['sodium'] = None\n",
    "food_types['cholesterol'] = None\n",
    "food_types['calcium'] = None\n",
    "food_types['kcal'] = None\n",
    "food_types['size'] = None\n",
    "food_types['unit'] = None\n",
    "food_types['category'] = None"
   ]
  },
  {
   "cell_type": "code",
   "execution_count": 14,
   "id": "41fe4647",
   "metadata": {},
   "outputs": [
    {
     "name": "stdout",
     "output_type": "stream",
     "text": [
      "missing foundation info for Bread \n",
      "foundation\n",
      "missing foundation info for Oil  cooking  \n",
      "missing branded info for Oil  cooking  \n",
      "switched to branded\n",
      "switched to branded\n",
      "missing foundation info for Rice  high quality  \n",
      "foundation\n",
      "missing foundation info for Rice  low quality  \n",
      "foundation\n",
      "missing foundation info for Sugar \n",
      "foundation\n",
      "missing foundation info for Wheat \n",
      "foundation\n",
      "missing foundation info for Wheat flour  high quality  \n",
      "foundation\n",
      "missing foundation info for Wheat flour  low quality  \n",
      "foundation\n",
      "missing foundation info for Oil  palm  \n",
      "missing branded info for Oil  palm  \n",
      "switched to branded\n",
      "missing foundation info for Oil  soybean  \n",
      "missing branded info for Oil  soybean  \n",
      "switched to branded\n",
      "missing foundation info for Meat  beef  \n",
      "foundation\n",
      "missing foundation info for Milk \n",
      "foundation\n",
      "switched to branded\n",
      "missing foundation info for Rice  white  \n",
      "foundation\n",
      "missing foundation info for Wheat flour \n",
      "foundation\n",
      "missing foundation info for Apples  red  \n",
      "foundation\n",
      "missing foundation info for Beans \n",
      "switched to branded\n",
      "switched to branded\n",
      "missing foundation info for Bread  first grade flour  \n",
      "foundation\n",
      "missing foundation info for Bread  high grade flour  \n",
      "foundation\n",
      "missing branded info for Buckwheat \n",
      "switched to branded\n",
      "missing branded info for Cabbage \n",
      "switched to branded\n",
      "missing foundation info for Carrots \n",
      "foundation\n",
      "missing foundation info for Cheese  dry  \n",
      "foundation\n",
      "missing foundation info for Cucumbers  greenhouse  \n",
      "foundation\n",
      "missing foundation info for Fish  fresh  \n",
      "foundation\n",
      "switched to branded\n",
      "missing foundation info for Meat  chicken  \n",
      "foundation\n",
      "missing foundation info for Meat  pork  \n",
      "foundation\n",
      "missing foundation info for Oil  vegetable  \n",
      "missing branded info for Oil  vegetable  \n",
      "switched to branded\n",
      "missing foundation info for Onions \n",
      "foundation\n",
      "missing foundation info for Pasta \n",
      "foundation\n",
      "missing foundation info for Peas  split  dry  \n",
      "missing branded info for Peas  split  dry  \n",
      "switched to branded\n",
      "missing foundation info for Tomatoes \n",
      "foundation\n",
      "missing foundation info for Tomatoes  paste  \n",
      "foundation\n",
      "missing branded info for Lentils  masur  \n",
      "switched to branded\n",
      "missing foundation info for Rice  coarse  \n",
      "foundation\n",
      "missing foundation info for Rice  coarse  BR\n",
      "foundation\n",
      "missing foundation info for Rice  medium grain  \n",
      "missing branded info for Rice  medium grain  \n",
      "switched to branded\n",
      "switched to branded\n",
      "missing branded info for Ghee  vanaspati  \n",
      "switched to branded\n",
      "missing branded info for Lentils  moong  \n",
      "switched to branded\n",
      "missing branded info for Lentils  urad  \n",
      "switched to branded\n",
      "missing foundation info for Milk  pasteurized  \n",
      "foundation\n",
      "missing foundation info for Oil  groundnut  \n",
      "missing branded info for Oil  groundnut  \n",
      "switched to branded\n",
      "missing foundation info for Oil  mustard  \n",
      "foundation\n",
      "missing foundation info for Oil  sunflower  \n",
      "missing branded info for Oil  sunflower  \n",
      "switched to branded\n",
      "missing foundation info for Rice \n",
      "foundation\n",
      "missing foundation info for Sugar  jaggery gur  \n",
      "foundation\n",
      "missing foundation info for Tea  black  \n",
      "missing branded info for Tea  black  \n",
      "switched to branded\n",
      "missing foundation info for Beans  black  \n",
      "missing branded info for Beans  black  \n",
      "switched to branded\n",
      "missing foundation info for Beans  red  \n",
      "missing branded info for Beans  red  \n",
      "switched to branded\n",
      "missing foundation info for Beans  white  \n",
      "missing branded info for Beans  white  \n",
      "switched to branded\n",
      "missing branded info for Cassava  cossette  \n",
      "switched to branded\n",
      "missing branded info for Cassava  fresh  \n",
      "switched to branded\n",
      "missing foundation info for Cassava flour \n",
      "foundation\n",
      "missing foundation info for Cassava meal  gari  \n",
      "foundation\n",
      "missing foundation info for Cassava meal  gari  fine  \n",
      "foundation\n",
      "missing foundation info for Cassava meal  tapioca  \n",
      "foundation\n",
      "missing foundation info for Coconut  dried  \n",
      "foundation\n",
      "missing foundation info for Fish  fresh  silvi  \n",
      "foundation\n",
      "missing foundation info for Fish  tilapia  \n",
      "foundation\n",
      "process failed\n",
      "switched to branded\n",
      "missing foundation info for Groundnuts  small  unshelled  \n",
      "missing branded info for Groundnuts  small  unshelled  \n",
      "switched to branded\n",
      "missing foundation info for Leafy vegetables \n",
      "foundation\n",
      "switched to branded\n",
      "missing branded info for Maize \n",
      "switched to branded\n",
      "missing foundation info for Maize  white  \n",
      "foundation\n",
      "missing branded info for Millet \n",
      "switched to branded\n",
      "missing foundation info for Oil  palm nut  \n",
      "missing branded info for Oil  palm nut  \n",
      "switched to branded\n",
      "missing branded info for Okra  fresh  \n",
      "switched to branded\n",
      "missing foundation info for Oranges \n",
      "foundation\n",
      "switched to branded\n",
      "missing foundation info for Peas  green  dry  \n",
      "missing branded info for Peas  green  dry  \n",
      "switched to branded\n",
      "missing foundation info for Peppers  red  dry  \n",
      "missing branded info for Peppers  red  dry  \n",
      "switched to branded\n",
      "missing branded info for Plantains \n",
      "switched to branded\n",
      "missing foundation info for Rice  imported  \n",
      "foundation\n",
      "missing foundation info for Rice  local  \n",
      "foundation\n",
      "missing foundation info for Rice  paddy  \n",
      "foundation\n",
      "missing branded info for Shrimps \n",
      "switched to branded\n",
      "missing branded info for Snail \n",
      "switched to branded\n",
      "missing branded info for Sorghum \n",
      "switched to branded\n",
      "missing foundation info for Sorghum  red  \n",
      "foundation\n",
      "missing foundation info for Soybeans \n",
      "missing branded info for Soybeans \n",
      "switched to branded\n",
      "missing foundation info for Sweet potatoes \n",
      "foundation\n",
      "missing branded info for Taro \n",
      "switched to branded\n",
      "missing foundation info for Wheat flour  imported  \n",
      "foundation\n",
      "switched to branded\n",
      "missing foundation info for Yam  dry  \n",
      "missing branded info for Yam  dry  \n",
      "switched to branded\n",
      "missing foundation info for Yam  flour  \n",
      "foundation\n",
      "missing foundation info for Yam  white  \n",
      "foundation\n",
      "missing foundation info for Yam  yellow  \n",
      "foundation\n",
      "missing foundation info for Bread  wheat  \n",
      "foundation\n",
      "missing foundation info for Meat  beef  chops with bones  \n",
      "foundation\n",
      "missing foundation info for Meat  chicken  whole  \n",
      "foundation\n",
      "missing foundation info for Milk  non\n",
      "foundation\n",
      "missing foundation info for Noodles  short  \n",
      "foundation\n",
      "missing branded info for Potatoes  Irish  imilla  \n",
      "switched to branded\n",
      "missing foundation info for Rice  Grano de Oro  \n",
      "missing branded info for Rice  Grano de Oro  \n",
      "switched to branded\n",
      "missing foundation info for Rice  carolina 2da  \n",
      "foundation\n",
      "missing foundation info for Rice  carolina  1st  \n",
      "foundation\n",
      "missing foundation info for Rice  estaquilla  \n",
      "foundation\n",
      "missing foundation info for Rice  long grain  \n",
      "foundation\n",
      "missing foundation info for Beans  niebe  \n",
      "missing branded info for Beans  niebe  \n",
      "switched to branded\n",
      "missing branded info for Groundnuts  shelled  \n",
      "switched to branded\n",
      "switched to branded\n",
      "missing foundation info for Sorghum  white  \n",
      "foundation\n",
      "switched to branded\n",
      "missing foundation info for Bananas \n",
      "missing branded info for Bananas \n",
      "switched to branded\n",
      "missing foundation info for Fish  lates dry imported  \n",
      "foundation\n",
      "missing foundation info for Fish  lates dry local  \n",
      "foundation\n",
      "missing foundation info for Maize flour \n",
      "foundation\n",
      "missing foundation info for Meat  goat  \n",
      "foundation\n",
      "missing branded info for Potatoes  Irish  \n",
      "switched to branded\n",
      "missing foundation info for Rice  high quality  local  \n",
      "foundation\n",
      "missing foundation info for Rice  low quality  local  \n",
      "foundation\n",
      "missing foundation info for Beans  yardlong  green  \n",
      "foundation\n",
      "missing foundation info for Cabbage  chinese  flowering  \n",
      "foundation\n",
      "missing branded info for Eggplants \n",
      "switched to branded\n",
      "missing foundation info for Fish  catfish  \n",
      "foundation\n",
      "missing foundation info for Fish  snake head  \n",
      "foundation\n",
      "missing foundation info for Fish  snake head  dry  \n",
      "foundation\n",
      "missing foundation info for Fish  striped catfish  \n",
      "foundation\n",
      "missing foundation info for Meat  pork  with fat  \n",
      "foundation\n",
      "switched to branded\n",
      "missing foundation info for Rice  mixed  low quality  \n",
      "foundation\n",
      "missing branded info for Snake gourd \n",
      "switched to branded\n",
      "missing foundation info for Water spinach \n",
      "foundation\n",
      "missing branded info for Wax gourd \n",
      "switched to branded\n",
      "switched to branded\n",
      "missing branded info for Maize  local  \n",
      "switched to branded\n",
      "missing foundation info for Maize  yellow  \n",
      "foundation\n",
      "missing foundation info for Fish  frozen  \n",
      "foundation\n"
     ]
    },
    {
     "name": "stdout",
     "output_type": "stream",
     "text": [
      "missing foundation info for Meat  chicken  frozen  \n",
      "foundation\n",
      "missing foundation info for Oil  vegetable  imported  \n",
      "missing branded info for Oil  vegetable  imported  \n",
      "switched to branded\n",
      "missing foundation info for Rice  broken  imported  \n",
      "foundation\n",
      "missing branded info for Sesame \n",
      "switched to branded\n",
      "missing branded info for Squashes \n",
      "switched to branded\n",
      "missing foundation info for Sugar  white  \n",
      "foundation\n",
      "missing foundation info for Peanut \n",
      "switched to branded\n",
      "missing branded info for Sorghum  berbere  \n",
      "switched to branded\n",
      "switched to branded\n",
      "missing foundation info for Beans  black  imported  \n",
      "missing branded info for Beans  black  imported  \n",
      "switched to branded\n",
      "missing foundation info for Beans  cranberry  \n",
      "missing branded info for Beans  cranberry  \n",
      "switched to branded\n",
      "missing foundation info for Beans  green  fresh  \n",
      "foundation\n",
      "missing foundation info for Beans  red  fresh  \n",
      "missing branded info for Beans  red  fresh  \n",
      "switched to branded\n",
      "missing foundation info for Beans  string  \n",
      "missing branded info for Beans  string  \n",
      "switched to branded\n",
      "switched to branded\n",
      "missing foundation info for Broccoli \n",
      "foundation\n",
      "missing foundation info for Cassava  dry  \n",
      "missing branded info for Cassava  dry  \n",
      "switched to branded\n",
      "missing foundation info for Cheese \n",
      "foundation\n",
      "missing foundation info for Cheese  local  \n",
      "foundation\n",
      "switched to branded\n",
      "missing foundation info for Fish  sardine  canned  \n",
      "foundation\n",
      "missing foundation info for Fish  tuna  canned  \n",
      "foundation\n",
      "missing foundation info for Garlic \n",
      "switched to branded\n",
      "switched to branded\n",
      "missing branded info for Lentils  imported  \n",
      "switched to branded\n",
      "switched to branded\n",
      "missing foundation info for Meat  chicken  whole  frozen  \n",
      "foundation\n",
      "missing foundation info for Milk  powder  \n",
      "foundation\n",
      "missing foundation info for Onions  local  \n",
      "foundation\n",
      "missing foundation info for Onions  red  \n",
      "foundation\n",
      "missing foundation info for Onions  white  \n",
      "foundation\n",
      "missing foundation info for Oranges  big size  \n",
      "foundation\n",
      "missing foundation info for Passion fruit \n",
      "foundation\n",
      "missing branded info for Peas  fresh  \n",
      "switched to branded\n",
      "missing foundation info for Peppers  red  \n",
      "foundation\n",
      "missing foundation info for Potatoes  black  \n",
      "missing branded info for Potatoes  black  \n",
      "switched to branded\n",
      "switched to branded\n",
      "missing foundation info for Rice  ordinary  first quality  \n",
      "foundation\n",
      "missing foundation info for Rice  ordinary  second quality  \n",
      "foundation\n",
      "missing foundation info for Spinach \n",
      "foundation\n",
      "missing foundation info for Sugar  brown  \n",
      "foundation\n",
      "missing foundation info for Sugar  brown  loaf  \n",
      "foundation\n",
      "missing foundation info for Tomatoes  dried  \n",
      "foundation\n",
      "missing foundation info for Tomatoes  local  \n",
      "foundation\n",
      "missing foundation info for Wheat flour  local  \n",
      "foundation\n",
      "missing foundation info for Fish  salted  \n",
      "foundation\n",
      "missing foundation info for Fish  smoked  \n",
      "foundation\n",
      "missing branded info for Groundnuts  paste  \n",
      "switched to branded\n",
      "missing foundation info for Cassava meal  attieke  \n",
      "foundation\n",
      "switched to branded\n",
      "missing branded info for Cornstarch \n",
      "switched to branded\n",
      "missing foundation info for Fish  appolo  \n",
      "foundation\n",
      "missing foundation info for Fish  dry  \n",
      "foundation\n",
      "missing foundation info for Rice  denikassia  imported  \n",
      "foundation\n",
      "missing branded info for Yam  florido  \n",
      "switched to branded\n",
      "missing foundation info for Maize meal \n",
      "foundation\n",
      "missing foundation info for Maize meal  imported  \n",
      "foundation\n",
      "missing foundation info for Meat  goat  with bones  \n",
      "foundation\n",
      "missing foundation info for Apples \n",
      "foundation\n",
      "missing foundation info for Beans  dry  \n",
      "missing branded info for Beans  dry  \n",
      "switched to branded\n",
      "missing foundation info for Beans  pod  \n",
      "missing branded info for Beans  pod  \n",
      "switched to branded\n",
      "missing foundation info for Cucumbers \n",
      "foundation\n",
      "missing foundation info for Grapes  black  \n",
      "foundation\n",
      "missing foundation info for Grapes  pink  \n",
      "missing branded info for Grapes  pink  \n",
      "switched to branded\n",
      "missing foundation info for Lettuce \n",
      "foundation\n",
      "missing foundation info for Maize  white  dry  \n",
      "foundation\n",
      "missing foundation info for Melons  cantaloupe  \n",
      "foundation\n",
      "missing branded info for Naranjilla  hybrid  \n",
      "switched to branded\n",
      "missing branded info for Oat flakes \n",
      "switched to branded\n",
      "missing foundation info for Oil  vegetable  local  \n",
      "missing branded info for Oil  vegetable  local  \n",
      "switched to branded\n",
      "missing foundation info for Onions  red  dry  \n",
      "foundation\n",
      "missing foundation info for Onions  white  dry  \n",
      "foundation\n",
      "missing branded info for Peppers  fresh  \n",
      "switched to branded\n",
      "switched to branded\n",
      "missing foundation info for Plantains  barraganete  green  \n",
      "foundation\n",
      "missing foundation info for Plantains  barraganete  mature  \n",
      "foundation\n",
      "missing foundation info for Plantains  dominico  green  \n",
      "foundation\n",
      "missing foundation info for Plantains  dominico  mature  \n",
      "foundation\n",
      "missing branded info for Potatoes  super chola  \n",
      "switched to branded\n",
      "missing branded info for Potatoes  unica  \n",
      "switched to branded\n",
      "missing foundation info for Rice  short grain  low quality  local  \n",
      "foundation\n",
      "missing foundation info for Strawberries \n",
      "foundation\n",
      "missing foundation info for Tomatoes  greenhouse  \n",
      "foundation\n",
      "missing foundation info for Tree tomatoes \n",
      "foundation\n",
      "missing branded info for Watermelons \n",
      "switched to branded\n",
      "missing foundation info for Beans  fava  dry  \n",
      "missing branded info for Beans  fava  dry  \n",
      "switched to branded\n",
      "missing branded info for Ghee  natural  \n",
      "switched to branded\n",
      "missing foundation info for Meat  beef  without bones  \n",
      "foundation\n",
      "missing foundation info for Oil  maize  \n",
      "missing branded info for Oil  maize  \n",
      "switched to branded\n",
      "missing foundation info for Oil  mixed  \n",
      "missing branded info for Oil  mixed  \n",
      "switched to branded\n",
      "missing foundation info for Butter  cow milk  \n",
      "missing branded info for Butter  cow milk  \n",
      "switched to branded\n",
      "missing foundation info for Butter  goat milk  \n",
      "missing branded info for Butter  goat milk  \n",
      "switched to branded\n",
      "missing branded info for Honey \n",
      "switched to branded\n",
      "missing foundation info for Kale \n",
      "foundation\n",
      "process failed\n",
      "switched to branded\n",
      "missing foundation info for Milk  camel  \n",
      "foundation\n",
      "missing foundation info for Pasta  macaroni  \n",
      "foundation\n",
      "missing foundation info for Peppers  green  \n",
      "foundation\n",
      "missing branded info for Teff  Sergegna  \n",
      "switched to branded\n",
      "missing foundation info for Wheat  food aid  \n",
      "foundation\n",
      "missing foundation info for Wheat  white  \n",
      "foundation\n",
      "missing foundation info for Butter \n",
      "switched to branded\n",
      "missing branded info for Cassava leaves \n",
      "switched to branded\n",
      "switched to branded\n",
      "missing foundation info for Fish  bonga  \n",
      "foundation\n",
      "switched to branded\n",
      "missing foundation info for Meat  mutton  \n",
      "foundation\n",
      "missing foundation info for Meat  sheep  \n",
      "foundation\n",
      "missing foundation info for Rice  basmati  broken  \n",
      "foundation\n",
      "missing foundation info for Rice  long grain  imported  \n",
      "foundation\n",
      "missing foundation info for Rice  medium grain  imported  \n",
      "missing branded info for Rice  medium grain  imported  \n",
      "switched to branded\n",
      "missing foundation info for Rice  paddy  long grain  local  \n",
      "foundation\n",
      "missing foundation info for Rice  small grain  imported  \n",
      "missing branded info for Rice  small grain  imported  \n",
      "switched to branded\n",
      "missing branded info for Cowpeas \n",
      "switched to branded\n",
      "missing foundation info for Fish  mackerel  fresh  \n",
      "foundation\n",
      "switched to branded\n",
      "missing foundation info for Peppers  dried  \n",
      "foundation\n",
      "missing branded info for Plantains  apem  \n",
      "switched to branded\n",
      "missing branded info for Plantains  apentu  \n",
      "switched to branded\n",
      "missing foundation info for Tomatoes  navrongo  \n",
      "foundation\n",
      "missing branded info for Yam  puna  \n",
      "switched to branded\n",
      "missing foundation info for Beans  niebe  white  \n",
      "missing branded info for Beans  niebe  white  \n",
      "switched to branded\n",
      "missing foundation info for Chili  red  dry raw  \n",
      "foundation\n",
      "missing foundation info for Fish \n",
      "foundation\n",
      "missing foundation info for Onions  imported  \n",
      "foundation\n",
      "missing foundation info for Bananas  imported  \n",
      "missing branded info for Bananas  imported  \n",
      "switched to branded\n",
      "missing foundation info for Bananas  local  \n",
      "missing branded info for Bananas  local  \n",
      "switched to branded\n",
      "switched to branded\n",
      "missing foundation info for Fish  barbel  sole  \n",
      "foundation\n"
     ]
    },
    {
     "name": "stdout",
     "output_type": "stream",
     "text": [
      "missing foundation info for Fish  goldstripe sardinella  \n",
      "foundation\n",
      "missing foundation info for Fish  mullet  catfish  \n",
      "foundation\n",
      "missing foundation info for Meat  beef  second quality  \n",
      "foundation\n",
      "missing foundation info for Meat  chicken  frozen  imported  \n",
      "foundation\n",
      "missing foundation info for Chili  bird's eye  \n",
      "foundation\n",
      "missing foundation info for Chili  bird's eye  green  \n",
      "foundation\n",
      "missing foundation info for Chili  bird's eye  red  \n",
      "foundation\n",
      "missing foundation info for Chili  red  \n",
      "foundation\n",
      "missing foundation info for Chili  red  curly  \n",
      "foundation\n",
      "missing foundation info for Chili  red  large  \n",
      "missing branded info for Chili  red  large  \n",
      "switched to branded\n",
      "missing foundation info for Eggs \n",
      "switched to branded\n",
      "missing foundation info for Eggs  broiler  \n",
      "foundation\n",
      "missing foundation info for Garlic  medium  \n",
      "missing branded info for Garlic  medium  \n",
      "switched to branded\n",
      "missing foundation info for Meat  beef  first quality  \n",
      "foundation\n",
      "missing foundation info for Meat  chicken  broiler  \n",
      "foundation\n",
      "missing foundation info for Oil  vegetable  bulk  \n",
      "missing branded info for Oil  vegetable  bulk  \n",
      "switched to branded\n",
      "missing foundation info for Oil  vegetable  packaged  \n",
      "foundation\n",
      "missing foundation info for Onions  shallot  \n",
      "foundation\n",
      "missing foundation info for Onions  shallot  medium  \n",
      "foundation\n",
      "missing foundation info for Rice  medium quality  \n",
      "missing branded info for Rice  medium quality  \n",
      "switched to branded\n",
      "missing foundation info for Sugar  local  \n",
      "foundation\n",
      "missing foundation info for Sugar  premium  \n",
      "foundation\n",
      "switched to branded\n",
      "missing foundation info for Meat  lamb  \n",
      "foundation\n",
      "switched to branded\n",
      "missing branded info for Radish \n",
      "switched to branded\n",
      "missing foundation info for Rice  glutinous  unmilled  \n",
      "foundation\n",
      "missing foundation info for Bread  pita  \n",
      "foundation\n",
      "missing foundation info for Cheese  white  boiled  \n",
      "foundation\n",
      "missing foundation info for Oil  olive  \n",
      "missing branded info for Oil  olive  \n",
      "switched to branded\n",
      "missing foundation info for Wheat flour  first grade  \n",
      "foundation\n",
      "missing foundation info for Apples  dried  \n",
      "foundation\n",
      "missing branded info for Buckwheat grits \n",
      "switched to branded\n",
      "missing foundation info for Cheese  fat  \n",
      "foundation\n",
      "missing foundation info for Cheese  low\n",
      "foundation\n",
      "switched to branded\n",
      "switched to branded\n",
      "missing foundation info for Semolina \n",
      "foundation\n",
      "switched to branded\n",
      "missing foundation info for Fish  tilapia  farmed  \n",
      "foundation\n",
      "missing foundation info for Garlic  small  \n",
      "missing branded info for Garlic  small  \n",
      "switched to branded\n",
      "missing foundation info for Meat  buffalo  first quality  \n",
      "foundation\n",
      "missing foundation info for Meat  buffalo  second quality  \n",
      "foundation\n",
      "missing foundation info for Meat  pork  first quality  \n",
      "foundation\n",
      "missing foundation info for Meat  pork  second quality  \n",
      "foundation\n",
      "missing foundation info for Rice  glutinous  first quality  \n",
      "foundation\n",
      "missing foundation info for Rice  glutinous  second quality  \n",
      "foundation\n",
      "missing foundation info for Rice  ordinary  unmilled  \n",
      "foundation\n",
      "missing foundation info for Bulgur  brown  \n",
      "foundation\n",
      "missing foundation info for Lentils  green  \n",
      "foundation\n",
      "missing foundation info for Lentils  red  \n",
      "foundation\n",
      "missing foundation info for Pasta  spaghetti  \n",
      "foundation\n",
      "missing foundation info for Rice  imported  Egyptian  \n",
      "foundation\n",
      "missing foundation info for Chili  green  \n",
      "foundation\n",
      "switched to branded\n",
      "missing foundation info for Water  drinking  \n",
      "foundation\n",
      "missing foundation info for Meat  camel  \n",
      "foundation\n",
      "missing branded info for Sorghum  r'haya  \n",
      "switched to branded\n",
      "missing branded info for Sorghum  taghalit  \n",
      "switched to branded\n",
      "missing foundation info for Wheat meal \n",
      "foundation\n",
      "missing foundation info for Beans  black  Nayarit  \n",
      "missing branded info for Beans  black  Nayarit  \n",
      "switched to branded\n",
      "missing foundation info for Beans  black  Veracruz  \n",
      "missing branded info for Beans  black  Veracruz  \n",
      "switched to branded\n",
      "missing foundation info for Beans  black  Zacatecas  \n",
      "missing branded info for Beans  black  Zacatecas  \n",
      "switched to branded\n",
      "missing foundation info for Rice  long grain  Sinaloa  \n",
      "foundation\n",
      "missing foundation info for Rice  small grain  Morelos  \n",
      "missing branded info for Rice  small grain  Morelos  \n",
      "switched to branded\n",
      "switched to branded\n",
      "missing foundation info for Beans  butter  \n",
      "missing branded info for Beans  butter  \n",
      "switched to branded\n",
      "missing foundation info for Beans  catarino  \n",
      "missing branded info for Beans  catarino  \n",
      "switched to branded\n",
      "missing foundation info for Beans  magnum  \n",
      "missing branded info for Beans  magnum  \n",
      "switched to branded\n",
      "missing foundation info for Groundnuts  large  shelled  \n",
      "missing branded info for Groundnuts  large  shelled  \n",
      "switched to branded\n",
      "missing foundation info for Groundnuts  small  shelled  \n",
      "missing branded info for Groundnuts  small  shelled  \n",
      "switched to branded\n",
      "missing foundation info for Maize meal  white  first grade  \n",
      "missing branded info for Maize meal  white  first grade  \n",
      "switched to branded\n",
      "missing foundation info for Maize meal  white  with bran  \n",
      "foundation\n",
      "missing foundation info for Maize meal  white  without bran  \n",
      "foundation\n",
      "missing foundation info for Sugar  brown  imported  \n",
      "foundation\n",
      "missing foundation info for Sugar  brown  local  \n",
      "foundation\n",
      "missing branded info for Chickpeas  local  \n",
      "switched to branded\n",
      "missing foundation info for Oil  mixed  imported  \n",
      "missing branded info for Oil  mixed  imported  \n",
      "switched to branded\n",
      "missing foundation info for Rice  Emata  \n",
      "foundation\n",
      "missing branded info for Lentils  broken  \n",
      "switched to branded\n",
      "missing foundation info for Potatoes  red  \n",
      "foundation\n",
      "missing foundation info for Cassava meal  gari  yellow  \n",
      "foundation\n",
      "missing foundation info for Cowpeas  brown  \n",
      "foundation\n",
      "missing foundation info for Cowpeas  white  \n",
      "foundation\n",
      "missing foundation info for Gari  white  \n",
      "foundation\n",
      "missing foundation info for Sorghum  brown  \n",
      "foundation\n",
      "missing branded info for Yam  Abuja  \n",
      "switched to branded\n",
      "missing foundation info for Beans mash  \n",
      "missing branded info for Beans mash  \n",
      "switched to branded\n",
      "missing branded info for Ghee  artificial  \n",
      "switched to branded\n",
      "missing foundation info for Poultry \n",
      "foundation\n",
      "missing foundation info for Rice  milled  superior  \n",
      "foundation\n",
      "missing foundation info for Rice  regular  milled  \n",
      "foundation\n",
      "missing foundation info for Wheat flour  locally processed  \n",
      "foundation\n",
      "missing foundation info for Maize flour  white  \n",
      "foundation\n",
      "missing foundation info for Maize flour  yellow  \n",
      "foundation\n",
      "missing foundation info for Maize flour  imported  \n",
      "foundation\n",
      "missing foundation info for Oil \n",
      "switched to branded\n",
      "missing foundation info for Rice  long grain  high quality  local  \n",
      "foundation\n",
      "missing branded info for Maize  imported  \n",
      "switched to branded\n",
      "missing foundation info for Fish  herring  \n",
      "foundation\n",
      "switched to branded\n",
      "missing branded info for Potato Leaves \n",
      "switched to branded\n",
      "missing foundation info for Milk  cow  fresh  \n",
      "foundation\n",
      "missing foundation info for Milk  fresh  \n",
      "foundation\n",
      "missing foundation info for Oil  vegetable  fortified  food aid  \n",
      "foundation\n",
      "missing foundation info for Okra  dry  \n",
      "missing branded info for Okra  dry  \n",
      "switched to branded\n",
      "missing foundation info for Peas  yellow  split  food aid  \n",
      "foundation\n",
      "missing foundation info for Sorghum flour \n",
      "foundation\n",
      "missing foundation info for Fish  dry  katta  \n",
      "foundation\n",
      "missing foundation info for Fish  dry  sprats  \n",
      "foundation\n",
      "missing foundation info for Fish  jack  \n",
      "foundation\n",
      "missing foundation info for Fish  sail fish  \n",
      "foundation\n",
      "missing foundation info for Fish  skipjack tuna  \n",
      "foundation\n",
      "missing foundation info for Fish  trenched sardinella  \n",
      "foundation\n",
      "missing foundation info for Fish  yellowfin tuna  \n",
      "foundation\n",
      "missing foundation info for Onions  red  imported  \n",
      "foundation\n",
      "missing foundation info for Onions  red  local  \n",
      "foundation\n",
      "missing branded info for Potatoes  imported  \n",
      "switched to branded\n",
      "missing branded info for Potatoes  local  \n",
      "switched to branded\n",
      "missing foundation info for Rice  red nadu  \n",
      "foundation\n",
      "missing foundation info for Rice  red  \n",
      "foundation\n",
      "missing foundation info for Bananas  medium size  \n",
      "missing branded info for Bananas  medium size  \n",
      "switched to branded\n"
     ]
    },
    {
     "name": "stdout",
     "output_type": "stream",
     "text": [
      "switched to branded\n",
      "missing foundation info for Cheese  goat  \n",
      "foundation\n",
      "missing foundation info for Onions  dry  local  \n",
      "missing branded info for Onions  dry  local  \n",
      "switched to branded\n",
      "missing foundation info for Potatoes  medium size  \n",
      "missing branded info for Potatoes  medium size  \n",
      "switched to branded\n",
      "missing foundation info for Beans  sugar  \n",
      "foundation\n",
      "missing foundation info for Meat  beef  minced  \n",
      "foundation\n",
      "missing foundation info for Meat  chicken  legs  \n",
      "foundation\n",
      "missing foundation info for Meat  chicken  plucked  \n",
      "foundation\n",
      "missing foundation info for Yogurt \n",
      "foundation\n",
      "missing foundation info for Beans  haricot  \n",
      "switched to branded\n",
      "missing foundation info for Oil  cotton  \n",
      "missing branded info for Oil  cotton  \n",
      "switched to branded\n",
      "missing foundation info for Tea  green  \n",
      "foundation\n",
      "missing foundation info for Bread  common  \n",
      "foundation\n",
      "missing branded info for Cocoa  powder  \n",
      "switched to branded\n",
      "missing foundation info for Meat  veal  \n",
      "foundation\n",
      "missing foundation info for Milk  powder  infant formula  \n",
      "foundation\n",
      "switched to branded\n",
      "missing foundation info for Beans  kidney red  \n",
      "missing branded info for Beans  kidney red  \n",
      "switched to branded\n",
      "missing foundation info for Peas  yellow  split  \n",
      "foundation\n",
      "missing foundation info for Maize meal  white  breakfast  \n",
      "foundation\n",
      "missing foundation info for Maize meal  white  roller  \n",
      "foundation\n"
     ]
    }
   ],
   "source": [
    "for index, row in food_types.iterrows():\n",
    "    food_nutrients = nutrients_super(row['food_type'])\n",
    "    food_types.loc[index, 'protein'] = food_nutrients['protein']\n",
    "    food_types.loc[index, 'fat'] = food_nutrients['fat']\n",
    "    food_types.loc[index, 'carb'] = food_nutrients['carb']\n",
    "    food_types.loc[index, 'sugar'] = food_nutrients['sugar']\n",
    "    food_types.loc[index, 'cholesterol'] = food_nutrients['cholesterol']\n",
    "    food_types.loc[index, 'sodium'] = food_nutrients['sodium']\n",
    "    food_types.loc[index, 'calcium'] = food_nutrients['calcium']\n",
    "    food_types.loc[index, 'kcal'] = food_nutrients['kcal']\n",
    "    food_types.loc[index, 'size'] = food_nutrients['size']\n",
    "    food_types.loc[index, 'unit'] = food_nutrients['unit']\n",
    "    food_types.loc[index, 'category'] = food_nutrients['category']"
   ]
  },
  {
   "cell_type": "code",
   "execution_count": 15,
   "id": "829aeeb4",
   "metadata": {},
   "outputs": [
    {
     "data": {
      "text/plain": [
       "(406, 12)"
      ]
     },
     "execution_count": 15,
     "metadata": {},
     "output_type": "execute_result"
    }
   ],
   "source": [
    "food_types.shape"
   ]
  },
  {
   "cell_type": "code",
   "execution_count": 16,
   "id": "b13632ce",
   "metadata": {},
   "outputs": [
    {
     "data": {
      "text/html": [
       "<div>\n",
       "<style scoped>\n",
       "    .dataframe tbody tr th:only-of-type {\n",
       "        vertical-align: middle;\n",
       "    }\n",
       "\n",
       "    .dataframe tbody tr th {\n",
       "        vertical-align: top;\n",
       "    }\n",
       "\n",
       "    .dataframe thead th {\n",
       "        text-align: right;\n",
       "    }\n",
       "</style>\n",
       "<table border=\"1\" class=\"dataframe\">\n",
       "  <thead>\n",
       "    <tr style=\"text-align: right;\">\n",
       "      <th></th>\n",
       "      <th>food_type</th>\n",
       "      <th>protein</th>\n",
       "      <th>fat</th>\n",
       "      <th>carb</th>\n",
       "      <th>sugar</th>\n",
       "      <th>sodium</th>\n",
       "      <th>cholesterol</th>\n",
       "      <th>calcium</th>\n",
       "      <th>kcal</th>\n",
       "      <th>size</th>\n",
       "      <th>unit</th>\n",
       "      <th>category</th>\n",
       "    </tr>\n",
       "  </thead>\n",
       "  <tbody>\n",
       "    <tr>\n",
       "      <th>0</th>\n",
       "      <td>Bread</td>\n",
       "      <td>9.43</td>\n",
       "      <td>3.59</td>\n",
       "      <td>49.2</td>\n",
       "      <td>3.45</td>\n",
       "      <td>477</td>\n",
       "      <td>not found</td>\n",
       "      <td>211</td>\n",
       "      <td>1130.0</td>\n",
       "      <td>100</td>\n",
       "      <td>g</td>\n",
       "      <td>Baked Products</td>\n",
       "    </tr>\n",
       "    <tr>\n",
       "      <th>1</th>\n",
       "      <td>Oil  cooking</td>\n",
       "      <td>1.26</td>\n",
       "      <td>3.24</td>\n",
       "      <td>30.9</td>\n",
       "      <td>1.2</td>\n",
       "      <td>116</td>\n",
       "      <td>0.0</td>\n",
       "      <td>3.0</td>\n",
       "      <td>144</td>\n",
       "      <td>100</td>\n",
       "      <td>g</td>\n",
       "      <td>Other starchy vegetables</td>\n",
       "    </tr>\n",
       "    <tr>\n",
       "      <th>2</th>\n",
       "      <td>Pulses</td>\n",
       "      <td>17.9</td>\n",
       "      <td>7.14</td>\n",
       "      <td>60.7</td>\n",
       "      <td>0.0</td>\n",
       "      <td>393</td>\n",
       "      <td>0.0</td>\n",
       "      <td>107</td>\n",
       "      <td>393</td>\n",
       "      <td>28.0</td>\n",
       "      <td>g</td>\n",
       "      <td>Chips, Pretzels &amp; Snacks</td>\n",
       "    </tr>\n",
       "  </tbody>\n",
       "</table>\n",
       "</div>"
      ],
      "text/plain": [
       "        food_type protein   fat  carb sugar sodium cholesterol calcium  \\\n",
       "0          Bread     9.43  3.59  49.2  3.45    477   not found     211   \n",
       "1  Oil  cooking      1.26  3.24  30.9   1.2    116         0.0     3.0   \n",
       "2         Pulses     17.9  7.14  60.7   0.0    393         0.0     107   \n",
       "\n",
       "     kcal  size unit                  category  \n",
       "0  1130.0   100    g            Baked Products  \n",
       "1     144   100    g  Other starchy vegetables  \n",
       "2     393  28.0    g  Chips, Pretzels & Snacks  "
      ]
     },
     "execution_count": 16,
     "metadata": {},
     "output_type": "execute_result"
    }
   ],
   "source": [
    "food_types.head(3)"
   ]
  },
  {
   "cell_type": "code",
   "execution_count": 17,
   "id": "d3dd5d7f",
   "metadata": {},
   "outputs": [
    {
     "name": "stdout",
     "output_type": "stream",
     "text": [
      "food_type is missing 0.0 percent\n",
      "protein is missing 0.017241379310344827 percent\n",
      "fat is missing 0.019704433497536946 percent\n",
      "carb is missing 0.029556650246305417 percent\n",
      "sugar is missing 0.0049261083743842365 percent\n",
      "sodium is missing 0.034482758620689655 percent\n",
      "cholesterol is missing 0.45073891625615764 percent\n",
      "calcium is missing 0.034482758620689655 percent\n",
      "kcal is missing 0.0812807881773399 percent\n",
      "size is missing 0.0049261083743842365 percent\n",
      "unit is missing 0.0049261083743842365 percent\n",
      "category is missing 0.0049261083743842365 percent\n"
     ]
    }
   ],
   "source": [
    "for nutrient in food_types:\n",
    "    missing = len(food_types[nutrient].loc[food_types[nutrient]== 'not found'])\n",
    "    \n",
    "    print(nutrient, 'is missing', missing/len(food_types), 'percent')"
   ]
  },
  {
   "cell_type": "code",
   "execution_count": 18,
   "id": "fdc83520",
   "metadata": {},
   "outputs": [],
   "source": [
    "#changing all not found to np.nan\n",
    "food_types = food_types.replace('not found', np.nan)\n"
   ]
  },
  {
   "cell_type": "code",
   "execution_count": 19,
   "id": "42391a06",
   "metadata": {},
   "outputs": [
    {
     "data": {
      "text/html": [
       "<div>\n",
       "<style scoped>\n",
       "    .dataframe tbody tr th:only-of-type {\n",
       "        vertical-align: middle;\n",
       "    }\n",
       "\n",
       "    .dataframe tbody tr th {\n",
       "        vertical-align: top;\n",
       "    }\n",
       "\n",
       "    .dataframe thead th {\n",
       "        text-align: right;\n",
       "    }\n",
       "</style>\n",
       "<table border=\"1\" class=\"dataframe\">\n",
       "  <thead>\n",
       "    <tr style=\"text-align: right;\">\n",
       "      <th></th>\n",
       "      <th>food_type</th>\n",
       "      <th>protein</th>\n",
       "      <th>fat</th>\n",
       "      <th>carb</th>\n",
       "      <th>sugar</th>\n",
       "      <th>sodium</th>\n",
       "      <th>cholesterol</th>\n",
       "      <th>calcium</th>\n",
       "      <th>kcal</th>\n",
       "      <th>size</th>\n",
       "      <th>unit</th>\n",
       "      <th>category</th>\n",
       "    </tr>\n",
       "  </thead>\n",
       "  <tbody>\n",
       "    <tr>\n",
       "      <th>0</th>\n",
       "      <td>Bread</td>\n",
       "      <td>9.43</td>\n",
       "      <td>3.59</td>\n",
       "      <td>49.2</td>\n",
       "      <td>3.45</td>\n",
       "      <td>477.0</td>\n",
       "      <td>NaN</td>\n",
       "      <td>211.0</td>\n",
       "      <td>1130.0</td>\n",
       "      <td>100.0</td>\n",
       "      <td>g</td>\n",
       "      <td>Baked Products</td>\n",
       "    </tr>\n",
       "    <tr>\n",
       "      <th>1</th>\n",
       "      <td>Oil  cooking</td>\n",
       "      <td>1.26</td>\n",
       "      <td>3.24</td>\n",
       "      <td>30.9</td>\n",
       "      <td>1.20</td>\n",
       "      <td>116.0</td>\n",
       "      <td>0.0</td>\n",
       "      <td>3.0</td>\n",
       "      <td>144.0</td>\n",
       "      <td>100.0</td>\n",
       "      <td>g</td>\n",
       "      <td>Other starchy vegetables</td>\n",
       "    </tr>\n",
       "    <tr>\n",
       "      <th>2</th>\n",
       "      <td>Pulses</td>\n",
       "      <td>17.90</td>\n",
       "      <td>7.14</td>\n",
       "      <td>60.7</td>\n",
       "      <td>0.00</td>\n",
       "      <td>393.0</td>\n",
       "      <td>0.0</td>\n",
       "      <td>107.0</td>\n",
       "      <td>393.0</td>\n",
       "      <td>28.0</td>\n",
       "      <td>g</td>\n",
       "      <td>Chips, Pretzels &amp; Snacks</td>\n",
       "    </tr>\n",
       "  </tbody>\n",
       "</table>\n",
       "</div>"
      ],
      "text/plain": [
       "        food_type  protein   fat  carb  sugar  sodium  cholesterol  calcium  \\\n",
       "0          Bread      9.43  3.59  49.2   3.45   477.0          NaN    211.0   \n",
       "1  Oil  cooking       1.26  3.24  30.9   1.20   116.0          0.0      3.0   \n",
       "2         Pulses     17.90  7.14  60.7   0.00   393.0          0.0    107.0   \n",
       "\n",
       "     kcal   size unit                  category  \n",
       "0  1130.0  100.0    g            Baked Products  \n",
       "1   144.0  100.0    g  Other starchy vegetables  \n",
       "2   393.0   28.0    g  Chips, Pretzels & Snacks  "
      ]
     },
     "execution_count": 19,
     "metadata": {},
     "output_type": "execute_result"
    }
   ],
   "source": [
    "food_types.head(3)"
   ]
  },
  {
   "cell_type": "code",
   "execution_count": 20,
   "id": "e25f16e6",
   "metadata": {},
   "outputs": [],
   "source": [
    "#dropping every row with 7 or more np.nans\n",
    "\n",
    "food_types = food_types.dropna(thresh=4)"
   ]
  },
  {
   "cell_type": "code",
   "execution_count": 21,
   "id": "68f1c897",
   "metadata": {},
   "outputs": [
    {
     "name": "stdout",
     "output_type": "stream",
     "text": [
      "food_type is missing 0.0 percent\n",
      "protein is missing 0.0 percent\n",
      "fat is missing 0.0 percent\n",
      "carb is missing 0.0 percent\n",
      "sugar is missing 0.0 percent\n",
      "sodium is missing 0.0 percent\n",
      "cholesterol is missing 0.0 percent\n",
      "calcium is missing 0.0 percent\n",
      "kcal is missing 0.0 percent\n",
      "size is missing 0.0 percent\n",
      "unit is missing 0.0 percent\n",
      "category is missing 0.0 percent\n"
     ]
    }
   ],
   "source": [
    "for nutrient in food_types:\n",
    "    missing = len(food_types[nutrient].loc[food_types[nutrient]== 'not found'])\n",
    "    \n",
    "    print(nutrient, 'is missing', missing/len(food_types), 'percent')"
   ]
  },
  {
   "cell_type": "code",
   "execution_count": 22,
   "id": "2b499d65",
   "metadata": {},
   "outputs": [
    {
     "data": {
      "text/plain": [
       "(404, 12)"
      ]
     },
     "execution_count": 22,
     "metadata": {},
     "output_type": "execute_result"
    }
   ],
   "source": [
    "food_types.shape"
   ]
  },
  {
   "cell_type": "code",
   "execution_count": 23,
   "id": "35ea0472",
   "metadata": {},
   "outputs": [
    {
     "data": {
      "text/plain": [
       "food_type      0.000000\n",
       "protein        0.012376\n",
       "fat            0.014851\n",
       "carb           0.024752\n",
       "sugar          0.000000\n",
       "sodium         0.029703\n",
       "cholesterol    0.448020\n",
       "calcium        0.029703\n",
       "kcal           0.076733\n",
       "size           0.000000\n",
       "unit           0.000000\n",
       "category       0.000000\n",
       "dtype: float64"
      ]
     },
     "execution_count": 23,
     "metadata": {},
     "output_type": "execute_result"
    }
   ],
   "source": [
    "food_types.isnull().sum()/len(food_types)"
   ]
  },
  {
   "cell_type": "code",
   "execution_count": 24,
   "id": "414b1990",
   "metadata": {},
   "outputs": [],
   "source": [
    "#this cell should be ran once\n",
    "#food_types.drop(columns=['cholesterol'],inplace=True)\n",
    "\n"
   ]
  },
  {
   "cell_type": "code",
   "execution_count": 25,
   "id": "a8aaf268",
   "metadata": {},
   "outputs": [
    {
     "data": {
      "text/html": [
       "<div>\n",
       "<style scoped>\n",
       "    .dataframe tbody tr th:only-of-type {\n",
       "        vertical-align: middle;\n",
       "    }\n",
       "\n",
       "    .dataframe tbody tr th {\n",
       "        vertical-align: top;\n",
       "    }\n",
       "\n",
       "    .dataframe thead th {\n",
       "        text-align: right;\n",
       "    }\n",
       "</style>\n",
       "<table border=\"1\" class=\"dataframe\">\n",
       "  <thead>\n",
       "    <tr style=\"text-align: right;\">\n",
       "      <th></th>\n",
       "      <th>food_type</th>\n",
       "      <th>protein</th>\n",
       "      <th>fat</th>\n",
       "      <th>carb</th>\n",
       "      <th>sugar</th>\n",
       "      <th>sodium</th>\n",
       "      <th>calcium</th>\n",
       "      <th>kcal</th>\n",
       "      <th>size</th>\n",
       "      <th>unit</th>\n",
       "      <th>category</th>\n",
       "    </tr>\n",
       "  </thead>\n",
       "  <tbody>\n",
       "    <tr>\n",
       "      <th>0</th>\n",
       "      <td>Bread</td>\n",
       "      <td>9.43</td>\n",
       "      <td>3.59</td>\n",
       "      <td>49.20</td>\n",
       "      <td>3.450</td>\n",
       "      <td>477.0</td>\n",
       "      <td>211.0</td>\n",
       "      <td>1130.0</td>\n",
       "      <td>100.0</td>\n",
       "      <td>g</td>\n",
       "      <td>Baked Products</td>\n",
       "    </tr>\n",
       "    <tr>\n",
       "      <th>1</th>\n",
       "      <td>Oil  cooking</td>\n",
       "      <td>1.26</td>\n",
       "      <td>3.24</td>\n",
       "      <td>30.90</td>\n",
       "      <td>1.200</td>\n",
       "      <td>116.0</td>\n",
       "      <td>3.0</td>\n",
       "      <td>144.0</td>\n",
       "      <td>100.0</td>\n",
       "      <td>g</td>\n",
       "      <td>Other starchy vegetables</td>\n",
       "    </tr>\n",
       "    <tr>\n",
       "      <th>2</th>\n",
       "      <td>Pulses</td>\n",
       "      <td>17.90</td>\n",
       "      <td>7.14</td>\n",
       "      <td>60.70</td>\n",
       "      <td>0.000</td>\n",
       "      <td>393.0</td>\n",
       "      <td>107.0</td>\n",
       "      <td>393.0</td>\n",
       "      <td>28.0</td>\n",
       "      <td>g</td>\n",
       "      <td>Chips, Pretzels &amp; Snacks</td>\n",
       "    </tr>\n",
       "    <tr>\n",
       "      <th>3</th>\n",
       "      <td>Rice  high quality</td>\n",
       "      <td>7.19</td>\n",
       "      <td>3.85</td>\n",
       "      <td>75.50</td>\n",
       "      <td>9.680</td>\n",
       "      <td>1.0</td>\n",
       "      <td>10.0</td>\n",
       "      <td>365.0</td>\n",
       "      <td>100.0</td>\n",
       "      <td>g</td>\n",
       "      <td>Cereal Grains and Pasta</td>\n",
       "    </tr>\n",
       "    <tr>\n",
       "      <th>4</th>\n",
       "      <td>Rice  low quality</td>\n",
       "      <td>7.19</td>\n",
       "      <td>3.85</td>\n",
       "      <td>75.50</td>\n",
       "      <td>9.680</td>\n",
       "      <td>1.0</td>\n",
       "      <td>10.0</td>\n",
       "      <td>365.0</td>\n",
       "      <td>100.0</td>\n",
       "      <td>g</td>\n",
       "      <td>Cereal Grains and Pasta</td>\n",
       "    </tr>\n",
       "    <tr>\n",
       "      <th>...</th>\n",
       "      <td>...</td>\n",
       "      <td>...</td>\n",
       "      <td>...</td>\n",
       "      <td>...</td>\n",
       "      <td>...</td>\n",
       "      <td>...</td>\n",
       "      <td>...</td>\n",
       "      <td>...</td>\n",
       "      <td>...</td>\n",
       "      <td>...</td>\n",
       "      <td>...</td>\n",
       "    </tr>\n",
       "    <tr>\n",
       "      <th>401</th>\n",
       "      <td>Zucchini</td>\n",
       "      <td>1.05</td>\n",
       "      <td>0.00</td>\n",
       "      <td>4.21</td>\n",
       "      <td>0.000</td>\n",
       "      <td>0.0</td>\n",
       "      <td>21.0</td>\n",
       "      <td>21.0</td>\n",
       "      <td>95.0</td>\n",
       "      <td>g</td>\n",
       "      <td>Pre-Packaged Fruit &amp; Vegetables</td>\n",
       "    </tr>\n",
       "    <tr>\n",
       "      <th>402</th>\n",
       "      <td>Beans  kidney red</td>\n",
       "      <td>22.50</td>\n",
       "      <td>1.06</td>\n",
       "      <td>61.30</td>\n",
       "      <td>3.200</td>\n",
       "      <td>12.0</td>\n",
       "      <td>83.0</td>\n",
       "      <td>1410.0</td>\n",
       "      <td>100.0</td>\n",
       "      <td>g</td>\n",
       "      <td>Legumes and Legume Products</td>\n",
       "    </tr>\n",
       "    <tr>\n",
       "      <th>403</th>\n",
       "      <td>Peas  yellow  split</td>\n",
       "      <td>4.25</td>\n",
       "      <td>3.38</td>\n",
       "      <td>5.30</td>\n",
       "      <td>0.793</td>\n",
       "      <td>1100.0</td>\n",
       "      <td>63.0</td>\n",
       "      <td>61.0</td>\n",
       "      <td>100.0</td>\n",
       "      <td>g</td>\n",
       "      <td>Spices and Herbs</td>\n",
       "    </tr>\n",
       "    <tr>\n",
       "      <th>404</th>\n",
       "      <td>Maize meal  white  breakfast</td>\n",
       "      <td>6.20</td>\n",
       "      <td>1.74</td>\n",
       "      <td>80.80</td>\n",
       "      <td>1520.000</td>\n",
       "      <td>0.0</td>\n",
       "      <td>0.0</td>\n",
       "      <td>1520.0</td>\n",
       "      <td>100.0</td>\n",
       "      <td>g</td>\n",
       "      <td>Cereal Grains and Pasta</td>\n",
       "    </tr>\n",
       "    <tr>\n",
       "      <th>405</th>\n",
       "      <td>Maize meal  white  roller</td>\n",
       "      <td>6.20</td>\n",
       "      <td>1.74</td>\n",
       "      <td>80.80</td>\n",
       "      <td>1520.000</td>\n",
       "      <td>0.0</td>\n",
       "      <td>0.0</td>\n",
       "      <td>1520.0</td>\n",
       "      <td>100.0</td>\n",
       "      <td>g</td>\n",
       "      <td>Cereal Grains and Pasta</td>\n",
       "    </tr>\n",
       "  </tbody>\n",
       "</table>\n",
       "<p>404 rows × 11 columns</p>\n",
       "</div>"
      ],
      "text/plain": [
       "                          food_type  protein   fat   carb     sugar  sodium  \\\n",
       "0                            Bread      9.43  3.59  49.20     3.450   477.0   \n",
       "1                    Oil  cooking       1.26  3.24  30.90     1.200   116.0   \n",
       "2                           Pulses     17.90  7.14  60.70     0.000   393.0   \n",
       "3              Rice  high quality       7.19  3.85  75.50     9.680     1.0   \n",
       "4               Rice  low quality       7.19  3.85  75.50     9.680     1.0   \n",
       "..                              ...      ...   ...    ...       ...     ...   \n",
       "401                       Zucchini      1.05  0.00   4.21     0.000     0.0   \n",
       "402             Beans  kidney red      22.50  1.06  61.30     3.200    12.0   \n",
       "403           Peas  yellow  split       4.25  3.38   5.30     0.793  1100.0   \n",
       "404  Maize meal  white  breakfast       6.20  1.74  80.80  1520.000     0.0   \n",
       "405     Maize meal  white  roller       6.20  1.74  80.80  1520.000     0.0   \n",
       "\n",
       "     calcium    kcal   size unit                         category  \n",
       "0      211.0  1130.0  100.0    g                   Baked Products  \n",
       "1        3.0   144.0  100.0    g         Other starchy vegetables  \n",
       "2      107.0   393.0   28.0    g         Chips, Pretzels & Snacks  \n",
       "3       10.0   365.0  100.0    g          Cereal Grains and Pasta  \n",
       "4       10.0   365.0  100.0    g          Cereal Grains and Pasta  \n",
       "..       ...     ...    ...  ...                              ...  \n",
       "401     21.0    21.0   95.0    g  Pre-Packaged Fruit & Vegetables  \n",
       "402     83.0  1410.0  100.0    g      Legumes and Legume Products  \n",
       "403     63.0    61.0  100.0    g                 Spices and Herbs  \n",
       "404      0.0  1520.0  100.0    g          Cereal Grains and Pasta  \n",
       "405      0.0  1520.0  100.0    g          Cereal Grains and Pasta  \n",
       "\n",
       "[404 rows x 11 columns]"
      ]
     },
     "execution_count": 25,
     "metadata": {},
     "output_type": "execute_result"
    }
   ],
   "source": [
    "food_types"
   ]
  },
  {
   "cell_type": "markdown",
   "id": "8a240f4a",
   "metadata": {},
   "source": [
    "### joining the tables"
   ]
  },
  {
   "cell_type": "code",
   "execution_count": 38,
   "id": "2e8fa4df",
   "metadata": {},
   "outputs": [],
   "source": [
    "merged_df = pd.merge(left=clean, right=food_types, left_on='type', right_on='food_type')"
   ]
  },
  {
   "cell_type": "code",
   "execution_count": 39,
   "id": "52522770",
   "metadata": {},
   "outputs": [
    {
     "data": {
      "text/plain": [
       "71"
      ]
     },
     "execution_count": 39,
     "metadata": {},
     "output_type": "execute_result"
    }
   ],
   "source": [
    "merged_df['adm0_name'].nunique()"
   ]
  },
  {
   "cell_type": "code",
   "execution_count": 40,
   "id": "776d127b",
   "metadata": {},
   "outputs": [],
   "source": [
    "#joining the merged table with cpi"
   ]
  },
  {
   "cell_type": "code",
   "execution_count": 41,
   "id": "acff1594",
   "metadata": {},
   "outputs": [
    {
     "data": {
      "text/html": [
       "<div>\n",
       "<style scoped>\n",
       "    .dataframe tbody tr th:only-of-type {\n",
       "        vertical-align: middle;\n",
       "    }\n",
       "\n",
       "    .dataframe tbody tr th {\n",
       "        vertical-align: top;\n",
       "    }\n",
       "\n",
       "    .dataframe thead th {\n",
       "        text-align: right;\n",
       "    }\n",
       "</style>\n",
       "<table border=\"1\" class=\"dataframe\">\n",
       "  <thead>\n",
       "    <tr style=\"text-align: right;\">\n",
       "      <th></th>\n",
       "      <th>Country Name</th>\n",
       "      <th>2019</th>\n",
       "    </tr>\n",
       "  </thead>\n",
       "  <tbody>\n",
       "    <tr>\n",
       "      <th>0</th>\n",
       "      <td>Afghanistan</td>\n",
       "      <td>149.895975</td>\n",
       "    </tr>\n",
       "    <tr>\n",
       "      <th>1</th>\n",
       "      <td>Angola</td>\n",
       "      <td>378.883721</td>\n",
       "    </tr>\n",
       "    <tr>\n",
       "      <th>2</th>\n",
       "      <td>Argentina</td>\n",
       "      <td>NaN</td>\n",
       "    </tr>\n",
       "  </tbody>\n",
       "</table>\n",
       "</div>"
      ],
      "text/plain": [
       "  Country Name        2019\n",
       "0  Afghanistan  149.895975\n",
       "1       Angola  378.883721\n",
       "2    Argentina         NaN"
      ]
     },
     "execution_count": 41,
     "metadata": {},
     "output_type": "execute_result"
    }
   ],
   "source": [
    "cpi = pd.read_csv('../raw_data/cpi_short.csv')\n",
    "cpi.drop(columns=['Unnamed: 0'], inplace=True)\n",
    "cpi.head(3)\n"
   ]
  },
  {
   "cell_type": "code",
   "execution_count": 42,
   "id": "4ee40f49",
   "metadata": {},
   "outputs": [
    {
     "data": {
      "text/html": [
       "<div>\n",
       "<style scoped>\n",
       "    .dataframe tbody tr th:only-of-type {\n",
       "        vertical-align: middle;\n",
       "    }\n",
       "\n",
       "    .dataframe tbody tr th {\n",
       "        vertical-align: top;\n",
       "    }\n",
       "\n",
       "    .dataframe thead th {\n",
       "        text-align: right;\n",
       "    }\n",
       "</style>\n",
       "<table border=\"1\" class=\"dataframe\">\n",
       "  <thead>\n",
       "    <tr style=\"text-align: right;\">\n",
       "      <th></th>\n",
       "      <th>adm0_name</th>\n",
       "      <th>type</th>\n",
       "      <th>pt_name</th>\n",
       "      <th>um_name</th>\n",
       "      <th>mp_price</th>\n",
       "      <th>conv_rate</th>\n",
       "      <th>usd_rate</th>\n",
       "      <th>food_type</th>\n",
       "      <th>protein</th>\n",
       "      <th>fat</th>\n",
       "      <th>carb</th>\n",
       "      <th>sugar</th>\n",
       "      <th>sodium</th>\n",
       "      <th>calcium</th>\n",
       "      <th>kcal</th>\n",
       "      <th>size</th>\n",
       "      <th>unit</th>\n",
       "      <th>category</th>\n",
       "      <th>Country Name</th>\n",
       "      <th>2019</th>\n",
       "    </tr>\n",
       "  </thead>\n",
       "  <tbody>\n",
       "    <tr>\n",
       "      <th>0</th>\n",
       "      <td>Afghanistan</td>\n",
       "      <td>Bread</td>\n",
       "      <td>Retail</td>\n",
       "      <td>KG</td>\n",
       "      <td>50.344430</td>\n",
       "      <td>103.255653</td>\n",
       "      <td>0.487571</td>\n",
       "      <td>Bread</td>\n",
       "      <td>9.43</td>\n",
       "      <td>3.59</td>\n",
       "      <td>49.2</td>\n",
       "      <td>3.45</td>\n",
       "      <td>477.0</td>\n",
       "      <td>211.0</td>\n",
       "      <td>1130.0</td>\n",
       "      <td>100.0</td>\n",
       "      <td>g</td>\n",
       "      <td>Baked Products</td>\n",
       "      <td>Afghanistan</td>\n",
       "      <td>149.895975</td>\n",
       "    </tr>\n",
       "    <tr>\n",
       "      <th>1</th>\n",
       "      <td>Afghanistan</td>\n",
       "      <td>Oil  cooking</td>\n",
       "      <td>Retail</td>\n",
       "      <td>KG</td>\n",
       "      <td>103.044485</td>\n",
       "      <td>103.255653</td>\n",
       "      <td>0.997955</td>\n",
       "      <td>Oil  cooking</td>\n",
       "      <td>1.26</td>\n",
       "      <td>3.24</td>\n",
       "      <td>30.9</td>\n",
       "      <td>1.20</td>\n",
       "      <td>116.0</td>\n",
       "      <td>3.0</td>\n",
       "      <td>144.0</td>\n",
       "      <td>100.0</td>\n",
       "      <td>g</td>\n",
       "      <td>Other starchy vegetables</td>\n",
       "      <td>Afghanistan</td>\n",
       "      <td>149.895975</td>\n",
       "    </tr>\n",
       "    <tr>\n",
       "      <th>2</th>\n",
       "      <td>Afghanistan</td>\n",
       "      <td>Pulses</td>\n",
       "      <td>Retail</td>\n",
       "      <td>KG</td>\n",
       "      <td>95.488971</td>\n",
       "      <td>103.255653</td>\n",
       "      <td>0.924782</td>\n",
       "      <td>Pulses</td>\n",
       "      <td>17.90</td>\n",
       "      <td>7.14</td>\n",
       "      <td>60.7</td>\n",
       "      <td>0.00</td>\n",
       "      <td>393.0</td>\n",
       "      <td>107.0</td>\n",
       "      <td>393.0</td>\n",
       "      <td>28.0</td>\n",
       "      <td>g</td>\n",
       "      <td>Chips, Pretzels &amp; Snacks</td>\n",
       "      <td>Afghanistan</td>\n",
       "      <td>149.895975</td>\n",
       "    </tr>\n",
       "  </tbody>\n",
       "</table>\n",
       "</div>"
      ],
      "text/plain": [
       "     adm0_name            type pt_name um_name    mp_price   conv_rate  \\\n",
       "0  Afghanistan          Bread   Retail      KG   50.344430  103.255653   \n",
       "1  Afghanistan  Oil  cooking    Retail      KG  103.044485  103.255653   \n",
       "2  Afghanistan         Pulses   Retail      KG   95.488971  103.255653   \n",
       "\n",
       "   usd_rate       food_type  protein   fat  carb  sugar  sodium  calcium  \\\n",
       "0  0.487571          Bread      9.43  3.59  49.2   3.45   477.0    211.0   \n",
       "1  0.997955  Oil  cooking       1.26  3.24  30.9   1.20   116.0      3.0   \n",
       "2  0.924782         Pulses     17.90  7.14  60.7   0.00   393.0    107.0   \n",
       "\n",
       "     kcal   size unit                  category Country Name        2019  \n",
       "0  1130.0  100.0    g            Baked Products  Afghanistan  149.895975  \n",
       "1   144.0  100.0    g  Other starchy vegetables  Afghanistan  149.895975  \n",
       "2   393.0   28.0    g  Chips, Pretzels & Snacks  Afghanistan  149.895975  "
      ]
     },
     "execution_count": 42,
     "metadata": {},
     "output_type": "execute_result"
    }
   ],
   "source": [
    "merged_df = pd.merge(left=merged_df, right=cpi, left_on='adm0_name', right_on='Country Name')\n",
    "merged_df.head(3)"
   ]
  },
  {
   "cell_type": "code",
   "execution_count": 43,
   "id": "24083d37",
   "metadata": {},
   "outputs": [
    {
     "data": {
      "text/plain": [
       "array(['KG', 'L'], dtype=object)"
      ]
     },
     "execution_count": 43,
     "metadata": {},
     "output_type": "execute_result"
    }
   ],
   "source": [
    "merged_df['um_name'].unique()"
   ]
  },
  {
   "cell_type": "code",
   "execution_count": 44,
   "id": "6f649582",
   "metadata": {},
   "outputs": [],
   "source": [
    "#converting the values of nutrients to 1 kg or 1 l\n",
    "\n",
    "merged_df['protein'] = merged_df['protein'] / merged_df['size'] * 1000\n",
    "merged_df['fat'] = merged_df['fat'] / merged_df['size'] * 1000\n",
    "merged_df['carb'] = merged_df['carb'] / merged_df['size'] * 1000\n",
    "merged_df['sugar'] = merged_df['sugar'] / merged_df['size'] * 1000\n",
    "merged_df['sodium'] = merged_df['sodium'] / merged_df['size'] * 1000\n",
    "#merged_df['cholesterol'] = merged_df['cholesterol'] / merged_df['size'] * (merged_df['measure']*1000)\n",
    "merged_df['calcium'] = merged_df['calcium'] / merged_df['size'] * 1000\n",
    "merged_df['kcal'] = merged_df['kcal'] / merged_df['size'] * 1000"
   ]
  },
  {
   "cell_type": "code",
   "execution_count": 45,
   "id": "3c3d572c",
   "metadata": {},
   "outputs": [
    {
     "data": {
      "text/html": [
       "<div>\n",
       "<style scoped>\n",
       "    .dataframe tbody tr th:only-of-type {\n",
       "        vertical-align: middle;\n",
       "    }\n",
       "\n",
       "    .dataframe tbody tr th {\n",
       "        vertical-align: top;\n",
       "    }\n",
       "\n",
       "    .dataframe thead th {\n",
       "        text-align: right;\n",
       "    }\n",
       "</style>\n",
       "<table border=\"1\" class=\"dataframe\">\n",
       "  <thead>\n",
       "    <tr style=\"text-align: right;\">\n",
       "      <th></th>\n",
       "      <th>adm0_name</th>\n",
       "      <th>type</th>\n",
       "      <th>pt_name</th>\n",
       "      <th>um_name</th>\n",
       "      <th>mp_price</th>\n",
       "      <th>conv_rate</th>\n",
       "      <th>usd_rate</th>\n",
       "      <th>food_type</th>\n",
       "      <th>protein</th>\n",
       "      <th>fat</th>\n",
       "      <th>carb</th>\n",
       "      <th>sugar</th>\n",
       "      <th>sodium</th>\n",
       "      <th>calcium</th>\n",
       "      <th>kcal</th>\n",
       "      <th>size</th>\n",
       "      <th>unit</th>\n",
       "      <th>category</th>\n",
       "      <th>Country Name</th>\n",
       "      <th>2019</th>\n",
       "    </tr>\n",
       "  </thead>\n",
       "  <tbody>\n",
       "    <tr>\n",
       "      <th>0</th>\n",
       "      <td>Afghanistan</td>\n",
       "      <td>Bread</td>\n",
       "      <td>Retail</td>\n",
       "      <td>KG</td>\n",
       "      <td>50.344430</td>\n",
       "      <td>103.255653</td>\n",
       "      <td>0.487571</td>\n",
       "      <td>Bread</td>\n",
       "      <td>94.300000</td>\n",
       "      <td>35.9</td>\n",
       "      <td>492.000000</td>\n",
       "      <td>34.5</td>\n",
       "      <td>4770.000000</td>\n",
       "      <td>2110.000000</td>\n",
       "      <td>11300.000000</td>\n",
       "      <td>100.0</td>\n",
       "      <td>g</td>\n",
       "      <td>Baked Products</td>\n",
       "      <td>Afghanistan</td>\n",
       "      <td>149.895975</td>\n",
       "    </tr>\n",
       "    <tr>\n",
       "      <th>1</th>\n",
       "      <td>Afghanistan</td>\n",
       "      <td>Oil  cooking</td>\n",
       "      <td>Retail</td>\n",
       "      <td>KG</td>\n",
       "      <td>103.044485</td>\n",
       "      <td>103.255653</td>\n",
       "      <td>0.997955</td>\n",
       "      <td>Oil  cooking</td>\n",
       "      <td>12.600000</td>\n",
       "      <td>32.4</td>\n",
       "      <td>309.000000</td>\n",
       "      <td>12.0</td>\n",
       "      <td>1160.000000</td>\n",
       "      <td>30.000000</td>\n",
       "      <td>1440.000000</td>\n",
       "      <td>100.0</td>\n",
       "      <td>g</td>\n",
       "      <td>Other starchy vegetables</td>\n",
       "      <td>Afghanistan</td>\n",
       "      <td>149.895975</td>\n",
       "    </tr>\n",
       "    <tr>\n",
       "      <th>2</th>\n",
       "      <td>Afghanistan</td>\n",
       "      <td>Pulses</td>\n",
       "      <td>Retail</td>\n",
       "      <td>KG</td>\n",
       "      <td>95.488971</td>\n",
       "      <td>103.255653</td>\n",
       "      <td>0.924782</td>\n",
       "      <td>Pulses</td>\n",
       "      <td>639.285714</td>\n",
       "      <td>255.0</td>\n",
       "      <td>2167.857143</td>\n",
       "      <td>0.0</td>\n",
       "      <td>14035.714286</td>\n",
       "      <td>3821.428571</td>\n",
       "      <td>14035.714286</td>\n",
       "      <td>28.0</td>\n",
       "      <td>g</td>\n",
       "      <td>Chips, Pretzels &amp; Snacks</td>\n",
       "      <td>Afghanistan</td>\n",
       "      <td>149.895975</td>\n",
       "    </tr>\n",
       "  </tbody>\n",
       "</table>\n",
       "</div>"
      ],
      "text/plain": [
       "     adm0_name            type pt_name um_name    mp_price   conv_rate  \\\n",
       "0  Afghanistan          Bread   Retail      KG   50.344430  103.255653   \n",
       "1  Afghanistan  Oil  cooking    Retail      KG  103.044485  103.255653   \n",
       "2  Afghanistan         Pulses   Retail      KG   95.488971  103.255653   \n",
       "\n",
       "   usd_rate       food_type     protein    fat         carb  sugar  \\\n",
       "0  0.487571          Bread    94.300000   35.9   492.000000   34.5   \n",
       "1  0.997955  Oil  cooking     12.600000   32.4   309.000000   12.0   \n",
       "2  0.924782         Pulses   639.285714  255.0  2167.857143    0.0   \n",
       "\n",
       "         sodium      calcium          kcal   size unit  \\\n",
       "0   4770.000000  2110.000000  11300.000000  100.0    g   \n",
       "1   1160.000000    30.000000   1440.000000  100.0    g   \n",
       "2  14035.714286  3821.428571  14035.714286   28.0    g   \n",
       "\n",
       "                   category Country Name        2019  \n",
       "0            Baked Products  Afghanistan  149.895975  \n",
       "1  Other starchy vegetables  Afghanistan  149.895975  \n",
       "2  Chips, Pretzels & Snacks  Afghanistan  149.895975  "
      ]
     },
     "execution_count": 45,
     "metadata": {},
     "output_type": "execute_result"
    }
   ],
   "source": [
    "merged_df.head(3)"
   ]
  },
  {
   "cell_type": "code",
   "execution_count": 46,
   "id": "0133acd9",
   "metadata": {},
   "outputs": [],
   "source": [
    "#dropping now unecessary geatures\n",
    "clean_merged = merged_df.drop(columns=['um_name','conv_rate','food_type','size','unit', 'Country Name','mp_price'])"
   ]
  },
  {
   "cell_type": "code",
   "execution_count": 117,
   "id": "a6489143",
   "metadata": {},
   "outputs": [],
   "source": [
    "#clean_merged.drop(columns=['mp_price'], inplace=True)"
   ]
  },
  {
   "cell_type": "code",
   "execution_count": 47,
   "id": "3df797c9",
   "metadata": {},
   "outputs": [
    {
     "data": {
      "text/html": [
       "<div>\n",
       "<style scoped>\n",
       "    .dataframe tbody tr th:only-of-type {\n",
       "        vertical-align: middle;\n",
       "    }\n",
       "\n",
       "    .dataframe tbody tr th {\n",
       "        vertical-align: top;\n",
       "    }\n",
       "\n",
       "    .dataframe thead th {\n",
       "        text-align: right;\n",
       "    }\n",
       "</style>\n",
       "<table border=\"1\" class=\"dataframe\">\n",
       "  <thead>\n",
       "    <tr style=\"text-align: right;\">\n",
       "      <th></th>\n",
       "      <th>adm0_name</th>\n",
       "      <th>type</th>\n",
       "      <th>pt_name</th>\n",
       "      <th>usd_rate</th>\n",
       "      <th>protein</th>\n",
       "      <th>fat</th>\n",
       "      <th>carb</th>\n",
       "      <th>sugar</th>\n",
       "      <th>sodium</th>\n",
       "      <th>calcium</th>\n",
       "      <th>kcal</th>\n",
       "      <th>category</th>\n",
       "      <th>2019</th>\n",
       "    </tr>\n",
       "  </thead>\n",
       "  <tbody>\n",
       "    <tr>\n",
       "      <th>0</th>\n",
       "      <td>Afghanistan</td>\n",
       "      <td>Bread</td>\n",
       "      <td>Retail</td>\n",
       "      <td>0.487571</td>\n",
       "      <td>94.300000</td>\n",
       "      <td>35.9</td>\n",
       "      <td>492.000000</td>\n",
       "      <td>34.5</td>\n",
       "      <td>4770.000000</td>\n",
       "      <td>2110.000000</td>\n",
       "      <td>11300.000000</td>\n",
       "      <td>Baked Products</td>\n",
       "      <td>149.895975</td>\n",
       "    </tr>\n",
       "    <tr>\n",
       "      <th>1</th>\n",
       "      <td>Afghanistan</td>\n",
       "      <td>Oil  cooking</td>\n",
       "      <td>Retail</td>\n",
       "      <td>0.997955</td>\n",
       "      <td>12.600000</td>\n",
       "      <td>32.4</td>\n",
       "      <td>309.000000</td>\n",
       "      <td>12.0</td>\n",
       "      <td>1160.000000</td>\n",
       "      <td>30.000000</td>\n",
       "      <td>1440.000000</td>\n",
       "      <td>Other starchy vegetables</td>\n",
       "      <td>149.895975</td>\n",
       "    </tr>\n",
       "    <tr>\n",
       "      <th>2</th>\n",
       "      <td>Afghanistan</td>\n",
       "      <td>Pulses</td>\n",
       "      <td>Retail</td>\n",
       "      <td>0.924782</td>\n",
       "      <td>639.285714</td>\n",
       "      <td>255.0</td>\n",
       "      <td>2167.857143</td>\n",
       "      <td>0.0</td>\n",
       "      <td>14035.714286</td>\n",
       "      <td>3821.428571</td>\n",
       "      <td>14035.714286</td>\n",
       "      <td>Chips, Pretzels &amp; Snacks</td>\n",
       "      <td>149.895975</td>\n",
       "    </tr>\n",
       "  </tbody>\n",
       "</table>\n",
       "</div>"
      ],
      "text/plain": [
       "     adm0_name            type pt_name  usd_rate     protein    fat  \\\n",
       "0  Afghanistan          Bread   Retail  0.487571   94.300000   35.9   \n",
       "1  Afghanistan  Oil  cooking    Retail  0.997955   12.600000   32.4   \n",
       "2  Afghanistan         Pulses   Retail  0.924782  639.285714  255.0   \n",
       "\n",
       "          carb  sugar        sodium      calcium          kcal  \\\n",
       "0   492.000000   34.5   4770.000000  2110.000000  11300.000000   \n",
       "1   309.000000   12.0   1160.000000    30.000000   1440.000000   \n",
       "2  2167.857143    0.0  14035.714286  3821.428571  14035.714286   \n",
       "\n",
       "                   category        2019  \n",
       "0            Baked Products  149.895975  \n",
       "1  Other starchy vegetables  149.895975  \n",
       "2  Chips, Pretzels & Snacks  149.895975  "
      ]
     },
     "execution_count": 47,
     "metadata": {},
     "output_type": "execute_result"
    }
   ],
   "source": [
    "clean_merged.head(3)"
   ]
  },
  {
   "cell_type": "code",
   "execution_count": 48,
   "id": "14d0ef8d",
   "metadata": {},
   "outputs": [],
   "source": [
    "clean_merged['expensive'] = 0 "
   ]
  },
  {
   "cell_type": "code",
   "execution_count": 49,
   "id": "e2380265",
   "metadata": {},
   "outputs": [],
   "source": [
    "clean_merged['expensive'] = clean_merged['usd_rate'].apply(lambda x: 0 if x < 2 else 1)"
   ]
  },
  {
   "cell_type": "code",
   "execution_count": 51,
   "id": "73330bd4",
   "metadata": {},
   "outputs": [
    {
     "ename": "NameError",
     "evalue": "name 'cheap_food_2' is not defined",
     "output_type": "error",
     "traceback": [
      "\u001b[0;31m---------------------------------------------------------------------------\u001b[0m",
      "\u001b[0;31mNameError\u001b[0m                                 Traceback (most recent call last)",
      "\u001b[0;32m/tmp/ipykernel_4240/3822633159.py\u001b[0m in \u001b[0;36m<module>\u001b[0;34m\u001b[0m\n\u001b[0;32m----> 1\u001b[0;31m \u001b[0mnp\u001b[0m\u001b[0;34m.\u001b[0m\u001b[0mstd\u001b[0m\u001b[0;34m(\u001b[0m\u001b[0mcheap_food_2\u001b[0m\u001b[0;34m[\u001b[0m\u001b[0;34m'usd_rate'\u001b[0m\u001b[0;34m]\u001b[0m\u001b[0;34m)\u001b[0m\u001b[0;34m\u001b[0m\u001b[0;34m\u001b[0m\u001b[0m\n\u001b[0m",
      "\u001b[0;31mNameError\u001b[0m: name 'cheap_food_2' is not defined"
     ]
    }
   ],
   "source": [
    "#np.std(cheap_food_2['usd_rate'])"
   ]
  },
  {
   "cell_type": "code",
   "execution_count": 52,
   "id": "6e972a00",
   "metadata": {},
   "outputs": [
    {
     "data": {
      "text/plain": [
       "0    976\n",
       "1    274\n",
       "Name: expensive, dtype: int64"
      ]
     },
     "execution_count": 52,
     "metadata": {},
     "output_type": "execute_result"
    }
   ],
   "source": [
    "clean_merged['expensive'].value_counts()"
   ]
  },
  {
   "cell_type": "code",
   "execution_count": null,
   "id": "35c215ee",
   "metadata": {},
   "outputs": [],
   "source": [
    "#second boolean indexing\n"
   ]
  },
  {
   "cell_type": "code",
   "execution_count": 54,
   "id": "6b7600d0",
   "metadata": {},
   "outputs": [],
   "source": [
    "#plt.boxplot(cheap_food['usd_rate'])"
   ]
  },
  {
   "cell_type": "code",
   "execution_count": 56,
   "id": "cb759089",
   "metadata": {},
   "outputs": [],
   "source": [
    "cheap_food = clean_merged[clean_merged['usd_rate'] <= 70]"
   ]
  },
  {
   "cell_type": "code",
   "execution_count": 57,
   "id": "9a4dd6a4",
   "metadata": {},
   "outputs": [],
   "source": [
    "cheap_food_2 = clean_merged[clean_merged['usd_rate'] <= 10]\n"
   ]
  },
  {
   "cell_type": "code",
   "execution_count": 60,
   "id": "ef5340c5",
   "metadata": {},
   "outputs": [
    {
     "data": {
      "text/plain": [
       "{'whiskers': [<matplotlib.lines.Line2D at 0x7f9e183bbd90>,\n",
       "  <matplotlib.lines.Line2D at 0x7f9e1834a160>],\n",
       " 'caps': [<matplotlib.lines.Line2D at 0x7f9e1834a4f0>,\n",
       "  <matplotlib.lines.Line2D at 0x7f9e1834a880>],\n",
       " 'boxes': [<matplotlib.lines.Line2D at 0x7f9e183bba00>],\n",
       " 'medians': [<matplotlib.lines.Line2D at 0x7f9e1834ac10>],\n",
       " 'fliers': [<matplotlib.lines.Line2D at 0x7f9e1834afa0>],\n",
       " 'means': []}"
      ]
     },
     "execution_count": 60,
     "metadata": {},
     "output_type": "execute_result"
    },
    {
     "data": {
      "image/png": "[encoded data removed]",
      "text/plain": [
       "<Figure size 432x288 with 1 Axes>"
      ]
     },
     "metadata": {
      "needs_background": "light"
     },
     "output_type": "display_data"
    }
   ],
   "source": [
    "plt.boxplot(cheap_food_2['usd_rate'])"
   ]
  },
  {
   "cell_type": "code",
   "execution_count": 61,
   "id": "d22132d5",
   "metadata": {},
   "outputs": [
    {
     "data": {
      "text/plain": [
       "<AxesSubplot:>"
      ]
     },
     "execution_count": 61,
     "metadata": {},
     "output_type": "execute_result"
    },
    {
     "data": {
      "image/png": "[encoded data removed]",
      "text/plain": [
       "<Figure size 432x288 with 1 Axes>"
      ]
     },
     "metadata": {
      "needs_background": "light"
     },
     "output_type": "display_data"
    }
   ],
   "source": [
    "cheap_food_2['usd_rate'].hist(bins=20)"
   ]
  },
  {
   "cell_type": "code",
   "execution_count": 62,
   "id": "c3281c5a",
   "metadata": {},
   "outputs": [
    {
     "name": "stderr",
     "output_type": "stream",
     "text": [
      "/tmp/ipykernel_4240/2236580953.py:2: SettingWithCopyWarning: \n",
      "A value is trying to be set on a copy of a slice from a DataFrame.\n",
      "Try using .loc[row_indexer,col_indexer] = value instead\n",
      "\n",
      "See the caveats in the documentation: https://pandas.pydata.org/pandas-docs/stable/user_guide/indexing.html#returning-a-view-versus-a-copy\n",
      "  cheap_food_2['expensive'] = cheap_food_2['usd_rate'].apply(lambda x: 0 if x < 1 else 1)\n"
     ]
    }
   ],
   "source": [
    "#creating the classification of cheap/expensive\n",
    "cheap_food_2['expensive'] = cheap_food_2['usd_rate'].apply(lambda x: 0 if x < 1 else 1)"
   ]
  },
  {
   "cell_type": "code",
   "execution_count": 63,
   "id": "6980342e",
   "metadata": {},
   "outputs": [
    {
     "data": {
      "text/plain": [
       "0    700\n",
       "1    527\n",
       "Name: expensive, dtype: int64"
      ]
     },
     "execution_count": 63,
     "metadata": {},
     "output_type": "execute_result"
    }
   ],
   "source": [
    "cheap_food_2['expensive'].value_counts()"
   ]
  },
  {
   "cell_type": "markdown",
   "id": "8efa2019",
   "metadata": {},
   "source": [
    "### declaring x and y"
   ]
  },
  {
   "cell_type": "code",
   "execution_count": 78,
   "id": "ed0bd658",
   "metadata": {},
   "outputs": [],
   "source": [
    "y = cheap_food['expensive']\n",
    "X = cheap_food[['category','pt_name','protein','fat','carb','sugar','sodium','calcium','kcal','2019']]"
   ]
  },
  {
   "cell_type": "markdown",
   "id": "f725e056",
   "metadata": {},
   "source": [
    "### pipeline"
   ]
  },
  {
   "cell_type": "code",
   "execution_count": 79,
   "id": "747797dd",
   "metadata": {},
   "outputs": [],
   "source": [
    "from sklearn.impute import KNNImputer\n",
    "from sklearn.preprocessing import MinMaxScaler\n",
    "\n",
    "\n",
    "scaler = MinMaxScaler()\n",
    "\n",
    "k_imputer = KNNImputer(n_neighbors=4)"
   ]
  },
  {
   "cell_type": "code",
   "execution_count": 80,
   "id": "fe449ed4",
   "metadata": {},
   "outputs": [
    {
     "data": {
      "text/html": [
       "<div>\n",
       "<style scoped>\n",
       "    .dataframe tbody tr th:only-of-type {\n",
       "        vertical-align: middle;\n",
       "    }\n",
       "\n",
       "    .dataframe tbody tr th {\n",
       "        vertical-align: top;\n",
       "    }\n",
       "\n",
       "    .dataframe thead th {\n",
       "        text-align: right;\n",
       "    }\n",
       "</style>\n",
       "<table border=\"1\" class=\"dataframe\">\n",
       "  <thead>\n",
       "    <tr style=\"text-align: right;\">\n",
       "      <th></th>\n",
       "      <th>category</th>\n",
       "      <th>pt_name</th>\n",
       "      <th>protein</th>\n",
       "      <th>fat</th>\n",
       "      <th>carb</th>\n",
       "      <th>sugar</th>\n",
       "      <th>sodium</th>\n",
       "      <th>calcium</th>\n",
       "      <th>kcal</th>\n",
       "      <th>2019</th>\n",
       "    </tr>\n",
       "  </thead>\n",
       "  <tbody>\n",
       "    <tr>\n",
       "      <th>0</th>\n",
       "      <td>Baked Products</td>\n",
       "      <td>Retail</td>\n",
       "      <td>94.3</td>\n",
       "      <td>35.9</td>\n",
       "      <td>492.0</td>\n",
       "      <td>34.5</td>\n",
       "      <td>4770.0</td>\n",
       "      <td>2110.0</td>\n",
       "      <td>11300.0</td>\n",
       "      <td>149.895975</td>\n",
       "    </tr>\n",
       "  </tbody>\n",
       "</table>\n",
       "</div>"
      ],
      "text/plain": [
       "         category pt_name  protein   fat   carb  sugar  sodium  calcium  \\\n",
       "0  Baked Products  Retail     94.3  35.9  492.0   34.5  4770.0   2110.0   \n",
       "\n",
       "      kcal        2019  \n",
       "0  11300.0  149.895975  "
      ]
     },
     "execution_count": 80,
     "metadata": {},
     "output_type": "execute_result"
    }
   ],
   "source": [
    "X.head(1)"
   ]
  },
  {
   "cell_type": "code",
   "execution_count": 81,
   "id": "07fe7903",
   "metadata": {},
   "outputs": [],
   "source": [
    "from sklearn.pipeline import Pipeline\n",
    "from sklearn.compose import ColumnTransformer\n",
    "from sklearn.preprocessing import LabelEncoder, OneHotEncoder\n",
    "\n",
    "\n",
    "num_trans = Pipeline([\n",
    "    ('imputer', KNNImputer(n_neighbors=4)),\n",
    "    ('sclaer', MinMaxScaler())\n",
    "])\n",
    "\n",
    "cat_trans = OneHotEncoder(handle_unknown='ignore', sparse=False)\n",
    "\n",
    "preprocessor = ColumnTransformer([\n",
    "    ('num_trans', num_trans,['protein','fat','carb','sugar','sodium','calcium','kcal','2019']),\n",
    "    ('cat_trans', cat_trans, ['pt_name','category'])\n",
    "])"
   ]
  },
  {
   "cell_type": "code",
   "execution_count": 82,
   "id": "ab9f79f5",
   "metadata": {},
   "outputs": [],
   "source": [
    "import joblib\n",
    "#joblib.dump(preprocessor,'preprocessor_v1.joblib')"
   ]
  },
  {
   "cell_type": "code",
   "execution_count": 83,
   "id": "ae2f20ac",
   "metadata": {},
   "outputs": [
    {
     "data": {
      "text/plain": [
       "array([[4.71500000e-02, 5.77170418e-03, 4.43243243e-02, ...,\n",
       "        0.00000000e+00, 0.00000000e+00, 0.00000000e+00],\n",
       "       [6.30000000e-03, 5.20900322e-03, 2.78378378e-02, ...,\n",
       "        0.00000000e+00, 0.00000000e+00, 0.00000000e+00],\n",
       "       [3.19642857e-01, 4.09967846e-02, 1.95302445e-01, ...,\n",
       "        0.00000000e+00, 0.00000000e+00, 0.00000000e+00],\n",
       "       ...,\n",
       "       [4.37500000e-02, 8.18327974e-03, 6.65765766e-02, ...,\n",
       "        0.00000000e+00, 0.00000000e+00, 0.00000000e+00],\n",
       "       [1.00000000e+00, 3.21543408e-01, 9.00900901e-02, ...,\n",
       "        0.00000000e+00, 0.00000000e+00, 0.00000000e+00],\n",
       "       [2.05000000e-02, 4.01929260e-04, 4.34234234e-03, ...,\n",
       "        1.00000000e+00, 0.00000000e+00, 0.00000000e+00]])"
      ]
     },
     "execution_count": 83,
     "metadata": {},
     "output_type": "execute_result"
    }
   ],
   "source": [
    "X_t =  preprocessor.fit_transform(X)\n",
    "X_t"
   ]
  },
  {
   "cell_type": "markdown",
   "id": "07452467",
   "metadata": {},
   "source": [
    "### spliting x and y"
   ]
  },
  {
   "cell_type": "code",
   "execution_count": 84,
   "id": "cf01c3ae",
   "metadata": {},
   "outputs": [],
   "source": [
    "from sklearn.model_selection import train_test_split\n",
    "from sklearn.model_selection import cross_val_score"
   ]
  },
  {
   "cell_type": "code",
   "execution_count": 85,
   "id": "2f295afc",
   "metadata": {},
   "outputs": [],
   "source": [
    "X_train, X_test, y_train, y_test = train_test_split(X_t, y, test_size=0.3)"
   ]
  },
  {
   "cell_type": "markdown",
   "id": "845d56c2",
   "metadata": {},
   "source": [
    "## models"
   ]
  },
  {
   "cell_type": "markdown",
   "id": "24612547",
   "metadata": {},
   "source": [
    "### linear model"
   ]
  },
  {
   "cell_type": "code",
   "execution_count": 75,
   "id": "ff759c6a",
   "metadata": {},
   "outputs": [],
   "source": [
    "from sklearn.linear_model import LinearRegression\n",
    "from sklearn.model_selection import cross_validate"
   ]
  },
  {
   "cell_type": "code",
   "execution_count": 310,
   "id": "ff7fff67",
   "metadata": {},
   "outputs": [
    {
     "data": {
      "text/plain": [
       "{'fit_time': array([0.00621295, 0.0514636 , 0.01617837, 0.006001  , 0.01429915]),\n",
       " 'score_time': array([0.00713754, 0.0018549 , 0.00786901, 0.00310087, 0.00687551]),\n",
       " 'test_max_error': array([-6.34330770e+12, -2.07273012e+12, -5.99744134e+12, -3.57106310e+00,\n",
       "        -5.17267292e+12]),\n",
       " 'test_r2': array([-5.23018104e+23, -2.98747773e+22, -4.24661746e+23,  4.56240107e-01,\n",
       "        -7.42262328e+23]),\n",
       " 'test_neg_mean_squared_error': array([-4.50040459e+23, -2.58807841e+22, -3.04403637e+23, -5.80884608e-01,\n",
       "        -8.04504602e+23]),\n",
       " 'test_neg_mean_absolute_error': array([-7.35804350e+10, -1.24863260e+10, -7.39022148e+10, -5.22348927e-01,\n",
       "        -1.69907307e+11])}"
      ]
     },
     "execution_count": 310,
     "metadata": {},
     "output_type": "execute_result"
    }
   ],
   "source": [
    "base_model = LinearRegression()\n",
    "\n",
    "cv_results = cross_validate(base_model, X_train, y_train, cv=5, scoring = ['max_error','r2','neg_mean_squared_error','neg_mean_absolute_error'])\n",
    "cv_results"
   ]
  },
  {
   "cell_type": "code",
   "execution_count": 311,
   "id": "ea374322",
   "metadata": {},
   "outputs": [
    {
     "data": {
      "text/plain": [
       "{'test_max_error': -3917230415990.815,\n",
       " 'test_r2': -3.439633912157224e+23,\n",
       " 'test_neg_mean_squared_error': -3.169658962008436e+23,\n",
       " 'test_neg_mean_absolute_error': -65975256572.384056}"
      ]
     },
     "execution_count": 311,
     "metadata": {},
     "output_type": "execute_result"
    }
   ],
   "source": [
    "base_results = {\n",
    "    'test_max_error': cv_results['test_max_error'].mean(),\n",
    "    'test_r2': cv_results['test_r2'].mean(),\n",
    "    'test_neg_mean_squared_error': cv_results['test_neg_mean_squared_error'].mean(),\n",
    "    'test_neg_mean_absolute_error': cv_results['test_neg_mean_absolute_error'].mean()\n",
    "}\n",
    "base_results"
   ]
  },
  {
   "cell_type": "code",
   "execution_count": 312,
   "id": "290ac2e3",
   "metadata": {},
   "outputs": [
    {
     "data": {
      "text/plain": [
       "-5.3535896305775656e+23"
      ]
     },
     "execution_count": 312,
     "metadata": {},
     "output_type": "execute_result"
    }
   ],
   "source": [
    "scores = cross_val_score(base_model, X_train, y_train, cv=10)\n",
    "scores.mean()"
   ]
  },
  {
   "cell_type": "markdown",
   "id": "4fa9f5b3",
   "metadata": {},
   "source": [
    "### KNN regressor"
   ]
  },
  {
   "cell_type": "code",
   "execution_count": 313,
   "id": "a9728183",
   "metadata": {},
   "outputs": [],
   "source": [
    "from sklearn.neighbors import KNeighborsRegressor\n",
    "\n",
    "k_model = KNeighborsRegressor(n_neighbors=4)"
   ]
  },
  {
   "cell_type": "code",
   "execution_count": 314,
   "id": "e57a0db3",
   "metadata": {},
   "outputs": [],
   "source": [
    "cv_results_k = cross_validate(k_model, X_train, y_train, cv=5, scoring = ['max_error','r2','neg_mean_squared_error','neg_mean_absolute_error'])"
   ]
  },
  {
   "cell_type": "code",
   "execution_count": 315,
   "id": "30578940",
   "metadata": {},
   "outputs": [
    {
     "data": {
      "text/plain": [
       "{'test_max_error': -3.4926854883481164,\n",
       " 'test_r2': 0.34571223886500324,\n",
       " 'test_neg_mean_squared_error': -0.5992993895436172,\n",
       " 'test_neg_mean_absolute_error': -0.5174245259303663}"
      ]
     },
     "execution_count": 315,
     "metadata": {},
     "output_type": "execute_result"
    }
   ],
   "source": [
    "k_model_results = {\n",
    "    'test_max_error': cv_results_k['test_max_error'].mean(),\n",
    "    'test_r2': cv_results_k['test_r2'].mean(),\n",
    "    'test_neg_mean_squared_error': cv_results_k['test_neg_mean_squared_error'].mean(),\n",
    "    'test_neg_mean_absolute_error': cv_results_k['test_neg_mean_absolute_error'].mean()\n",
    "}\n",
    "k_model_results"
   ]
  },
  {
   "cell_type": "code",
   "execution_count": 316,
   "id": "40a85ed6",
   "metadata": {},
   "outputs": [
    {
     "data": {
      "text/plain": [
       "0.3350601570284938"
      ]
     },
     "execution_count": 316,
     "metadata": {},
     "output_type": "execute_result"
    }
   ],
   "source": [
    "scores = cross_val_score(k_model, X_train, y_train, cv=10)\n",
    "scores.mean()"
   ]
  },
  {
   "cell_type": "code",
   "execution_count": null,
   "id": "4c0f5dab",
   "metadata": {},
   "outputs": [],
   "source": []
  },
  {
   "cell_type": "code",
   "execution_count": 155,
   "id": "3a7a8038",
   "metadata": {},
   "outputs": [
    {
     "data": {
      "text/plain": [
       "2.085463279813331"
      ]
     },
     "execution_count": 155,
     "metadata": {},
     "output_type": "execute_result"
    }
   ],
   "source": [
    "np.mean(y)"
   ]
  },
  {
   "cell_type": "code",
   "execution_count": 156,
   "id": "14f1ed9f",
   "metadata": {},
   "outputs": [
    {
     "data": {
      "text/plain": [
       "309.4118615861633"
      ]
     },
     "execution_count": 156,
     "metadata": {},
     "output_type": "execute_result"
    }
   ],
   "source": [
    "max(y)"
   ]
  },
  {
   "cell_type": "markdown",
   "id": "6edbc15d",
   "metadata": {},
   "source": [
    "## second try"
   ]
  },
  {
   "cell_type": "markdown",
   "id": "3fa47999",
   "metadata": {},
   "source": [
    "### logistic classification"
   ]
  },
  {
   "cell_type": "code",
   "execution_count": 86,
   "id": "ba1d0a9f",
   "metadata": {},
   "outputs": [],
   "source": [
    "from sklearn.linear_model import LogisticRegression"
   ]
  },
  {
   "cell_type": "code",
   "execution_count": 87,
   "id": "2ba52834",
   "metadata": {},
   "outputs": [],
   "source": [
    "log_model = LogisticRegression()\n",
    "\n",
    "cv_results_log = cross_validate(log_model, X_train, y_train, cv=5, scoring = ['accuracy'])"
   ]
  },
  {
   "cell_type": "code",
   "execution_count": 88,
   "id": "9c5d9281",
   "metadata": {},
   "outputs": [
    {
     "data": {
      "text/plain": [
       "0.8741412151067325"
      ]
     },
     "execution_count": 88,
     "metadata": {},
     "output_type": "execute_result"
    }
   ],
   "source": [
    "cv_results_log['test_accuracy'].mean()"
   ]
  },
  {
   "cell_type": "markdown",
   "id": "8c4af84a",
   "metadata": {},
   "source": [
    "### SVC"
   ]
  },
  {
   "cell_type": "code",
   "execution_count": 89,
   "id": "ac7ce8d3",
   "metadata": {},
   "outputs": [],
   "source": [
    "from sklearn.svm import SVC"
   ]
  },
  {
   "cell_type": "code",
   "execution_count": 90,
   "id": "11e5b5dd",
   "metadata": {},
   "outputs": [],
   "source": [
    "svc_model = SVC()\n",
    "\n",
    "cv_results_svc = cross_validate(svc_model, X_train, y_train, cv=5, scoring = ['accuracy'])"
   ]
  },
  {
   "cell_type": "code",
   "execution_count": 91,
   "id": "f81787f0",
   "metadata": {},
   "outputs": [
    {
     "data": {
      "text/plain": [
       "0.8798555008210182"
      ]
     },
     "execution_count": 91,
     "metadata": {},
     "output_type": "execute_result"
    }
   ],
   "source": [
    "cv_results_svc['test_accuracy'].mean()"
   ]
  },
  {
   "cell_type": "code",
   "execution_count": 92,
   "id": "0e9c8c0b",
   "metadata": {},
   "outputs": [
    {
     "data": {
      "text/plain": [
       "700"
      ]
     },
     "execution_count": 92,
     "metadata": {},
     "output_type": "execute_result"
    }
   ],
   "source": [
    "cheap_food_2['expensive'].value_counts().iloc[0]"
   ]
  },
  {
   "cell_type": "code",
   "execution_count": 93,
   "id": "80d51b9d",
   "metadata": {},
   "outputs": [
    {
     "data": {
      "text/plain": [
       "527"
      ]
     },
     "execution_count": 93,
     "metadata": {},
     "output_type": "execute_result"
    }
   ],
   "source": [
    "cheap_food_2['expensive'].value_counts().iloc[1]"
   ]
  },
  {
   "cell_type": "code",
   "execution_count": 94,
   "id": "86549105",
   "metadata": {},
   "outputs": [
    {
     "data": {
      "text/plain": [
       "0.7808"
      ]
     },
     "execution_count": 94,
     "metadata": {},
     "output_type": "execute_result"
    }
   ],
   "source": [
    "clean_merged['expensive'].value_counts().iloc[0]/clean_merged.shape[0]"
   ]
  },
  {
   "cell_type": "markdown",
   "id": "0e60c69f",
   "metadata": {},
   "source": [
    "## the third is the winning one"
   ]
  },
  {
   "cell_type": "markdown",
   "id": "cd416fd5",
   "metadata": {},
   "source": [
    "### neural network"
   ]
  },
  {
   "cell_type": "code",
   "execution_count": 95,
   "id": "b549a575",
   "metadata": {},
   "outputs": [
    {
     "name": "stderr",
     "output_type": "stream",
     "text": [
      "2021-12-14 16:40:04.757070: W tensorflow/stream_executor/platform/default/dso_loader.cc:64] Could not load dynamic library 'libcudart.so.11.0'; dlerror: libcudart.so.11.0: cannot open shared object file: No such file or directory\n",
      "2021-12-14 16:40:04.757226: I tensorflow/stream_executor/cuda/cudart_stub.cc:29] Ignore above cudart dlerror if you do not have a GPU set up on your machine.\n"
     ]
    }
   ],
   "source": [
    "from tensorflow.keras import Sequential, layers"
   ]
  },
  {
   "cell_type": "code",
   "execution_count": 96,
   "id": "845914c9",
   "metadata": {},
   "outputs": [
    {
     "data": {
      "text/plain": [
       "(1249, 71)"
      ]
     },
     "execution_count": 96,
     "metadata": {},
     "output_type": "execute_result"
    }
   ],
   "source": [
    "X_t.shape"
   ]
  },
  {
   "cell_type": "code",
   "execution_count": 112,
   "id": "dbfbb885",
   "metadata": {},
   "outputs": [],
   "source": [
    "food_categories = pd.DataFrame(X['category'].unique(), columns=['product'])"
   ]
  },
  {
   "cell_type": "code",
   "execution_count": 113,
   "id": "35ba1c24",
   "metadata": {},
   "outputs": [],
   "source": [
    "def initialize_model():\n",
    "    \n",
    "    model = Sequential()\n",
    "    \n",
    "    model.add(layers.Dense(256, input_dim=71, activation='relu'))\n",
    "    model.add(layers.Dense(128, activation='relu'))\n",
    "    model.add(layers.Dense(64, activation='relu'))\n",
    "    model.add(layers.Dense(32, activation='relu'))\n",
    "    \n",
    "    model.add(layers.Dense(1, activation='sigmoid'))\n",
    "    \n",
    "    model.compile(loss='binary_crossentropy', optimizer='adam', metrics=['accuracy'])\n",
    "    \n",
    "    return model"
   ]
  },
  {
   "cell_type": "code",
   "execution_count": 114,
   "id": "a1e05066",
   "metadata": {},
   "outputs": [],
   "source": [
    "model = initialize_model()"
   ]
  },
  {
   "cell_type": "code",
   "execution_count": 115,
   "id": "67f68e9b",
   "metadata": {},
   "outputs": [],
   "source": [
    "from tensorflow.keras.callbacks import EarlyStopping\n",
    "es = EarlyStopping(patience=5)"
   ]
  },
  {
   "cell_type": "code",
   "execution_count": 116,
   "id": "9f3c658d",
   "metadata": {},
   "outputs": [
    {
     "name": "stdout",
     "output_type": "stream",
     "text": [
      "Epoch 1/170\n",
      "55/55 [==============================] - 0s 3ms/step - loss: 0.5301 - accuracy: 0.7757\n",
      "WARNING:tensorflow:Early stopping conditioned on metric `val_loss` which is not available. Available metrics are: loss,accuracy\n",
      "Epoch 2/170\n",
      "55/55 [==============================] - 0s 3ms/step - loss: 0.3730 - accuracy: 0.8284\n",
      "WARNING:tensorflow:Early stopping conditioned on metric `val_loss` which is not available. Available metrics are: loss,accuracy\n",
      "Epoch 3/170\n",
      "55/55 [==============================] - 0s 2ms/step - loss: 0.3328 - accuracy: 0.8822\n",
      "WARNING:tensorflow:Early stopping conditioned on metric `val_loss` which is not available. Available metrics are: loss,accuracy\n",
      "Epoch 4/170\n",
      "55/55 [==============================] - 0s 2ms/step - loss: 0.3115 - accuracy: 0.8890\n",
      "WARNING:tensorflow:Early stopping conditioned on metric `val_loss` which is not available. Available metrics are: loss,accuracy\n",
      "Epoch 5/170\n",
      "55/55 [==============================] - 0s 2ms/step - loss: 0.3061 - accuracy: 0.8867\n",
      "WARNING:tensorflow:Early stopping conditioned on metric `val_loss` which is not available. Available metrics are: loss,accuracy\n",
      "Epoch 6/170\n",
      "55/55 [==============================] - 0s 2ms/step - loss: 0.2948 - accuracy: 0.8902\n",
      "WARNING:tensorflow:Early stopping conditioned on metric `val_loss` which is not available. Available metrics are: loss,accuracy\n",
      "Epoch 7/170\n",
      "55/55 [==============================] - 0s 2ms/step - loss: 0.2961 - accuracy: 0.8810\n",
      "WARNING:tensorflow:Early stopping conditioned on metric `val_loss` which is not available. Available metrics are: loss,accuracy\n",
      "Epoch 8/170\n",
      "55/55 [==============================] - 0s 2ms/step - loss: 0.2856 - accuracy: 0.8913\n",
      "WARNING:tensorflow:Early stopping conditioned on metric `val_loss` which is not available. Available metrics are: loss,accuracy\n",
      "Epoch 9/170\n",
      "55/55 [==============================] - 0s 2ms/step - loss: 0.2842 - accuracy: 0.8902\n",
      "WARNING:tensorflow:Early stopping conditioned on metric `val_loss` which is not available. Available metrics are: loss,accuracy\n",
      "Epoch 10/170\n",
      "55/55 [==============================] - 0s 2ms/step - loss: 0.2894 - accuracy: 0.8844\n",
      "WARNING:tensorflow:Early stopping conditioned on metric `val_loss` which is not available. Available metrics are: loss,accuracy\n",
      "Epoch 11/170\n",
      "55/55 [==============================] - 0s 2ms/step - loss: 0.2796 - accuracy: 0.8913\n",
      "WARNING:tensorflow:Early stopping conditioned on metric `val_loss` which is not available. Available metrics are: loss,accuracy\n",
      "Epoch 12/170\n",
      "55/55 [==============================] - 0s 2ms/step - loss: 0.2781 - accuracy: 0.8924\n",
      "WARNING:tensorflow:Early stopping conditioned on metric `val_loss` which is not available. Available metrics are: loss,accuracy\n",
      "Epoch 13/170\n",
      "55/55 [==============================] - 0s 2ms/step - loss: 0.2772 - accuracy: 0.8936\n",
      "WARNING:tensorflow:Early stopping conditioned on metric `val_loss` which is not available. Available metrics are: loss,accuracy\n",
      "Epoch 14/170\n",
      "55/55 [==============================] - 0s 2ms/step - loss: 0.2794 - accuracy: 0.8936\n",
      "WARNING:tensorflow:Early stopping conditioned on metric `val_loss` which is not available. Available metrics are: loss,accuracy\n",
      "Epoch 15/170\n",
      "55/55 [==============================] - 0s 2ms/step - loss: 0.2756 - accuracy: 0.8924\n",
      "WARNING:tensorflow:Early stopping conditioned on metric `val_loss` which is not available. Available metrics are: loss,accuracy\n",
      "Epoch 16/170\n",
      "55/55 [==============================] - 0s 2ms/step - loss: 0.2745 - accuracy: 0.8913\n",
      "WARNING:tensorflow:Early stopping conditioned on metric `val_loss` which is not available. Available metrics are: loss,accuracy\n",
      "Epoch 17/170\n",
      "55/55 [==============================] - 0s 2ms/step - loss: 0.2755 - accuracy: 0.8982\n",
      "WARNING:tensorflow:Early stopping conditioned on metric `val_loss` which is not available. Available metrics are: loss,accuracy\n",
      "Epoch 18/170\n",
      "55/55 [==============================] - 0s 2ms/step - loss: 0.2784 - accuracy: 0.8936\n",
      "WARNING:tensorflow:Early stopping conditioned on metric `val_loss` which is not available. Available metrics are: loss,accuracy\n",
      "Epoch 19/170\n",
      "55/55 [==============================] - 0s 2ms/step - loss: 0.2711 - accuracy: 0.8924\n",
      "WARNING:tensorflow:Early stopping conditioned on metric `val_loss` which is not available. Available metrics are: loss,accuracy\n",
      "Epoch 20/170\n",
      "55/55 [==============================] - 0s 2ms/step - loss: 0.2746 - accuracy: 0.8947\n",
      "WARNING:tensorflow:Early stopping conditioned on metric `val_loss` which is not available. Available metrics are: loss,accuracy\n",
      "Epoch 21/170\n",
      "55/55 [==============================] - 0s 2ms/step - loss: 0.2701 - accuracy: 0.8924\n",
      "WARNING:tensorflow:Early stopping conditioned on metric `val_loss` which is not available. Available metrics are: loss,accuracy\n",
      "Epoch 22/170\n",
      "55/55 [==============================] - 0s 2ms/step - loss: 0.2698 - accuracy: 0.8959\n",
      "WARNING:tensorflow:Early stopping conditioned on metric `val_loss` which is not available. Available metrics are: loss,accuracy\n",
      "Epoch 23/170\n",
      "55/55 [==============================] - 0s 2ms/step - loss: 0.2672 - accuracy: 0.8982\n",
      "WARNING:tensorflow:Early stopping conditioned on metric `val_loss` which is not available. Available metrics are: loss,accuracy\n",
      "Epoch 24/170\n",
      "55/55 [==============================] - 0s 2ms/step - loss: 0.2711 - accuracy: 0.8959\n",
      "WARNING:tensorflow:Early stopping conditioned on metric `val_loss` which is not available. Available metrics are: loss,accuracy\n",
      "Epoch 25/170\n",
      "55/55 [==============================] - 0s 2ms/step - loss: 0.2731 - accuracy: 0.9016\n",
      "WARNING:tensorflow:Early stopping conditioned on metric `val_loss` which is not available. Available metrics are: loss,accuracy\n",
      "Epoch 26/170\n",
      "55/55 [==============================] - 0s 2ms/step - loss: 0.2649 - accuracy: 0.8970\n",
      "WARNING:tensorflow:Early stopping conditioned on metric `val_loss` which is not available. Available metrics are: loss,accuracy\n",
      "Epoch 27/170\n",
      "55/55 [==============================] - 0s 3ms/step - loss: 0.2663 - accuracy: 0.8970\n",
      "WARNING:tensorflow:Early stopping conditioned on metric `val_loss` which is not available. Available metrics are: loss,accuracy\n",
      "Epoch 28/170\n",
      "55/55 [==============================] - 0s 2ms/step - loss: 0.2636 - accuracy: 0.8982\n",
      "WARNING:tensorflow:Early stopping conditioned on metric `val_loss` which is not available. Available metrics are: loss,accuracy\n",
      "Epoch 29/170\n",
      "55/55 [==============================] - 0s 2ms/step - loss: 0.2671 - accuracy: 0.9027\n",
      "WARNING:tensorflow:Early stopping conditioned on metric `val_loss` which is not available. Available metrics are: loss,accuracy\n",
      "Epoch 30/170\n",
      "55/55 [==============================] - 0s 2ms/step - loss: 0.2629 - accuracy: 0.9016\n",
      "WARNING:tensorflow:Early stopping conditioned on metric `val_loss` which is not available. Available metrics are: loss,accuracy\n",
      "Epoch 31/170\n",
      "55/55 [==============================] - 0s 2ms/step - loss: 0.2610 - accuracy: 0.9005\n",
      "WARNING:tensorflow:Early stopping conditioned on metric `val_loss` which is not available. Available metrics are: loss,accuracy\n",
      "Epoch 32/170\n",
      "55/55 [==============================] - 0s 2ms/step - loss: 0.2588 - accuracy: 0.9050\n",
      "WARNING:tensorflow:Early stopping conditioned on metric `val_loss` which is not available. Available metrics are: loss,accuracy\n",
      "Epoch 33/170\n",
      "55/55 [==============================] - 0s 2ms/step - loss: 0.2599 - accuracy: 0.9005\n",
      "WARNING:tensorflow:Early stopping conditioned on metric `val_loss` which is not available. Available metrics are: loss,accuracy\n",
      "Epoch 34/170\n",
      "55/55 [==============================] - 0s 2ms/step - loss: 0.2623 - accuracy: 0.8993\n",
      "WARNING:tensorflow:Early stopping conditioned on metric `val_loss` which is not available. Available metrics are: loss,accuracy\n",
      "Epoch 35/170\n",
      "55/55 [==============================] - 0s 2ms/step - loss: 0.2584 - accuracy: 0.9027\n",
      "WARNING:tensorflow:Early stopping conditioned on metric `val_loss` which is not available. Available metrics are: loss,accuracy\n",
      "Epoch 36/170\n",
      "55/55 [==============================] - 0s 2ms/step - loss: 0.2590 - accuracy: 0.9050\n",
      "WARNING:tensorflow:Early stopping conditioned on metric `val_loss` which is not available. Available metrics are: loss,accuracy\n"
     ]
    },
    {
     "name": "stdout",
     "output_type": "stream",
     "text": [
      "Epoch 37/170\n",
      "55/55 [==============================] - 0s 2ms/step - loss: 0.2565 - accuracy: 0.9039\n",
      "WARNING:tensorflow:Early stopping conditioned on metric `val_loss` which is not available. Available metrics are: loss,accuracy\n",
      "Epoch 38/170\n",
      "55/55 [==============================] - 0s 2ms/step - loss: 0.2599 - accuracy: 0.8982\n",
      "WARNING:tensorflow:Early stopping conditioned on metric `val_loss` which is not available. Available metrics are: loss,accuracy\n",
      "Epoch 39/170\n",
      "55/55 [==============================] - 0s 2ms/step - loss: 0.2581 - accuracy: 0.9016\n",
      "WARNING:tensorflow:Early stopping conditioned on metric `val_loss` which is not available. Available metrics are: loss,accuracy\n",
      "Epoch 40/170\n",
      "55/55 [==============================] - 0s 2ms/step - loss: 0.2540 - accuracy: 0.9039\n",
      "WARNING:tensorflow:Early stopping conditioned on metric `val_loss` which is not available. Available metrics are: loss,accuracy\n",
      "Epoch 41/170\n",
      "55/55 [==============================] - 0s 2ms/step - loss: 0.2540 - accuracy: 0.9073\n",
      "WARNING:tensorflow:Early stopping conditioned on metric `val_loss` which is not available. Available metrics are: loss,accuracy\n",
      "Epoch 42/170\n",
      "55/55 [==============================] - 0s 2ms/step - loss: 0.2557 - accuracy: 0.9027\n",
      "WARNING:tensorflow:Early stopping conditioned on metric `val_loss` which is not available. Available metrics are: loss,accuracy\n",
      "Epoch 43/170\n",
      "55/55 [==============================] - 0s 2ms/step - loss: 0.2555 - accuracy: 0.9062\n",
      "WARNING:tensorflow:Early stopping conditioned on metric `val_loss` which is not available. Available metrics are: loss,accuracy\n",
      "Epoch 44/170\n",
      "55/55 [==============================] - 0s 2ms/step - loss: 0.2589 - accuracy: 0.9016\n",
      "WARNING:tensorflow:Early stopping conditioned on metric `val_loss` which is not available. Available metrics are: loss,accuracy\n",
      "Epoch 45/170\n",
      "55/55 [==============================] - 0s 2ms/step - loss: 0.2583 - accuracy: 0.9016\n",
      "WARNING:tensorflow:Early stopping conditioned on metric `val_loss` which is not available. Available metrics are: loss,accuracy\n",
      "Epoch 46/170\n",
      "55/55 [==============================] - 0s 2ms/step - loss: 0.2536 - accuracy: 0.9062\n",
      "WARNING:tensorflow:Early stopping conditioned on metric `val_loss` which is not available. Available metrics are: loss,accuracy\n",
      "Epoch 47/170\n",
      "55/55 [==============================] - 0s 3ms/step - loss: 0.2551 - accuracy: 0.9027\n",
      "WARNING:tensorflow:Early stopping conditioned on metric `val_loss` which is not available. Available metrics are: loss,accuracy\n",
      "Epoch 48/170\n",
      "55/55 [==============================] - 0s 3ms/step - loss: 0.2523 - accuracy: 0.9062\n",
      "WARNING:tensorflow:Early stopping conditioned on metric `val_loss` which is not available. Available metrics are: loss,accuracy\n",
      "Epoch 49/170\n",
      "55/55 [==============================] - 0s 3ms/step - loss: 0.2522 - accuracy: 0.9050\n",
      "WARNING:tensorflow:Early stopping conditioned on metric `val_loss` which is not available. Available metrics are: loss,accuracy\n",
      "Epoch 50/170\n",
      "55/55 [==============================] - 0s 3ms/step - loss: 0.2548 - accuracy: 0.9039\n",
      "WARNING:tensorflow:Early stopping conditioned on metric `val_loss` which is not available. Available metrics are: loss,accuracy\n",
      "Epoch 51/170\n",
      "55/55 [==============================] - 0s 3ms/step - loss: 0.2550 - accuracy: 0.9005\n",
      "WARNING:tensorflow:Early stopping conditioned on metric `val_loss` which is not available. Available metrics are: loss,accuracy\n",
      "Epoch 52/170\n",
      "55/55 [==============================] - 0s 3ms/step - loss: 0.2523 - accuracy: 0.9050\n",
      "WARNING:tensorflow:Early stopping conditioned on metric `val_loss` which is not available. Available metrics are: loss,accuracy\n",
      "Epoch 53/170\n",
      "55/55 [==============================] - 0s 2ms/step - loss: 0.2508 - accuracy: 0.9062\n",
      "WARNING:tensorflow:Early stopping conditioned on metric `val_loss` which is not available. Available metrics are: loss,accuracy\n",
      "Epoch 54/170\n",
      "55/55 [==============================] - 0s 2ms/step - loss: 0.2545 - accuracy: 0.9050\n",
      "WARNING:tensorflow:Early stopping conditioned on metric `val_loss` which is not available. Available metrics are: loss,accuracy\n",
      "Epoch 55/170\n",
      "55/55 [==============================] - 0s 2ms/step - loss: 0.2504 - accuracy: 0.9073\n",
      "WARNING:tensorflow:Early stopping conditioned on metric `val_loss` which is not available. Available metrics are: loss,accuracy\n",
      "Epoch 56/170\n",
      "55/55 [==============================] - 0s 2ms/step - loss: 0.2503 - accuracy: 0.9073\n",
      "WARNING:tensorflow:Early stopping conditioned on metric `val_loss` which is not available. Available metrics are: loss,accuracy\n",
      "Epoch 57/170\n",
      "55/55 [==============================] - 0s 2ms/step - loss: 0.2497 - accuracy: 0.9050\n",
      "WARNING:tensorflow:Early stopping conditioned on metric `val_loss` which is not available. Available metrics are: loss,accuracy\n",
      "Epoch 58/170\n",
      "55/55 [==============================] - 0s 2ms/step - loss: 0.2508 - accuracy: 0.9050\n",
      "WARNING:tensorflow:Early stopping conditioned on metric `val_loss` which is not available. Available metrics are: loss,accuracy\n",
      "Epoch 59/170\n",
      "55/55 [==============================] - 0s 2ms/step - loss: 0.2507 - accuracy: 0.9073\n",
      "WARNING:tensorflow:Early stopping conditioned on metric `val_loss` which is not available. Available metrics are: loss,accuracy\n",
      "Epoch 60/170\n",
      "55/55 [==============================] - 0s 2ms/step - loss: 0.2500 - accuracy: 0.9039\n",
      "WARNING:tensorflow:Early stopping conditioned on metric `val_loss` which is not available. Available metrics are: loss,accuracy\n",
      "Epoch 61/170\n",
      "55/55 [==============================] - 0s 2ms/step - loss: 0.2502 - accuracy: 0.9073\n",
      "WARNING:tensorflow:Early stopping conditioned on metric `val_loss` which is not available. Available metrics are: loss,accuracy\n",
      "Epoch 62/170\n",
      "55/55 [==============================] - 0s 2ms/step - loss: 0.2534 - accuracy: 0.9050\n",
      "WARNING:tensorflow:Early stopping conditioned on metric `val_loss` which is not available. Available metrics are: loss,accuracy\n",
      "Epoch 63/170\n",
      "55/55 [==============================] - 0s 2ms/step - loss: 0.2506 - accuracy: 0.9062\n",
      "WARNING:tensorflow:Early stopping conditioned on metric `val_loss` which is not available. Available metrics are: loss,accuracy\n",
      "Epoch 64/170\n",
      "55/55 [==============================] - 0s 2ms/step - loss: 0.2492 - accuracy: 0.9062\n",
      "WARNING:tensorflow:Early stopping conditioned on metric `val_loss` which is not available. Available metrics are: loss,accuracy\n",
      "Epoch 65/170\n",
      "55/55 [==============================] - 0s 2ms/step - loss: 0.2503 - accuracy: 0.9027\n",
      "WARNING:tensorflow:Early stopping conditioned on metric `val_loss` which is not available. Available metrics are: loss,accuracy\n",
      "Epoch 66/170\n",
      "55/55 [==============================] - 0s 2ms/step - loss: 0.2467 - accuracy: 0.9085\n",
      "WARNING:tensorflow:Early stopping conditioned on metric `val_loss` which is not available. Available metrics are: loss,accuracy\n",
      "Epoch 67/170\n",
      "55/55 [==============================] - 0s 2ms/step - loss: 0.2553 - accuracy: 0.9085\n",
      "WARNING:tensorflow:Early stopping conditioned on metric `val_loss` which is not available. Available metrics are: loss,accuracy\n",
      "Epoch 68/170\n",
      "55/55 [==============================] - 0s 2ms/step - loss: 0.2570 - accuracy: 0.8959\n",
      "WARNING:tensorflow:Early stopping conditioned on metric `val_loss` which is not available. Available metrics are: loss,accuracy\n",
      "Epoch 69/170\n",
      "55/55 [==============================] - 0s 3ms/step - loss: 0.2512 - accuracy: 0.9073\n",
      "WARNING:tensorflow:Early stopping conditioned on metric `val_loss` which is not available. Available metrics are: loss,accuracy\n",
      "Epoch 70/170\n",
      "55/55 [==============================] - 0s 3ms/step - loss: 0.2495 - accuracy: 0.9073\n",
      "WARNING:tensorflow:Early stopping conditioned on metric `val_loss` which is not available. Available metrics are: loss,accuracy\n",
      "Epoch 71/170\n",
      "55/55 [==============================] - 0s 3ms/step - loss: 0.2483 - accuracy: 0.9085\n",
      "WARNING:tensorflow:Early stopping conditioned on metric `val_loss` which is not available. Available metrics are: loss,accuracy\n",
      "Epoch 72/170\n",
      "55/55 [==============================] - 0s 3ms/step - loss: 0.2497 - accuracy: 0.9073\n",
      "WARNING:tensorflow:Early stopping conditioned on metric `val_loss` which is not available. Available metrics are: loss,accuracy\n"
     ]
    },
    {
     "name": "stdout",
     "output_type": "stream",
     "text": [
      "Epoch 73/170\n",
      "55/55 [==============================] - 0s 3ms/step - loss: 0.2485 - accuracy: 0.9062\n",
      "WARNING:tensorflow:Early stopping conditioned on metric `val_loss` which is not available. Available metrics are: loss,accuracy\n",
      "Epoch 74/170\n",
      "55/55 [==============================] - 0s 3ms/step - loss: 0.2477 - accuracy: 0.9085\n",
      "WARNING:tensorflow:Early stopping conditioned on metric `val_loss` which is not available. Available metrics are: loss,accuracy\n",
      "Epoch 75/170\n",
      "55/55 [==============================] - 0s 3ms/step - loss: 0.2488 - accuracy: 0.9073\n",
      "WARNING:tensorflow:Early stopping conditioned on metric `val_loss` which is not available. Available metrics are: loss,accuracy\n",
      "Epoch 76/170\n",
      "55/55 [==============================] - 0s 3ms/step - loss: 0.2475 - accuracy: 0.9085\n",
      "WARNING:tensorflow:Early stopping conditioned on metric `val_loss` which is not available. Available metrics are: loss,accuracy\n",
      "Epoch 77/170\n",
      "55/55 [==============================] - 0s 2ms/step - loss: 0.2473 - accuracy: 0.9073\n",
      "WARNING:tensorflow:Early stopping conditioned on metric `val_loss` which is not available. Available metrics are: loss,accuracy\n",
      "Epoch 78/170\n",
      "55/55 [==============================] - 0s 2ms/step - loss: 0.2481 - accuracy: 0.9073\n",
      "WARNING:tensorflow:Early stopping conditioned on metric `val_loss` which is not available. Available metrics are: loss,accuracy\n",
      "Epoch 79/170\n",
      "55/55 [==============================] - 0s 3ms/step - loss: 0.2483 - accuracy: 0.9050\n",
      "WARNING:tensorflow:Early stopping conditioned on metric `val_loss` which is not available. Available metrics are: loss,accuracy\n",
      "Epoch 80/170\n",
      "55/55 [==============================] - 0s 3ms/step - loss: 0.2490 - accuracy: 0.9050\n",
      "WARNING:tensorflow:Early stopping conditioned on metric `val_loss` which is not available. Available metrics are: loss,accuracy\n",
      "Epoch 81/170\n",
      "55/55 [==============================] - 0s 3ms/step - loss: 0.2475 - accuracy: 0.9073\n",
      "WARNING:tensorflow:Early stopping conditioned on metric `val_loss` which is not available. Available metrics are: loss,accuracy\n",
      "Epoch 82/170\n",
      "55/55 [==============================] - 0s 3ms/step - loss: 0.2459 - accuracy: 0.9073\n",
      "WARNING:tensorflow:Early stopping conditioned on metric `val_loss` which is not available. Available metrics are: loss,accuracy\n",
      "Epoch 83/170\n",
      "55/55 [==============================] - 0s 3ms/step - loss: 0.2475 - accuracy: 0.9062\n",
      "WARNING:tensorflow:Early stopping conditioned on metric `val_loss` which is not available. Available metrics are: loss,accuracy\n",
      "Epoch 84/170\n",
      "55/55 [==============================] - 0s 3ms/step - loss: 0.2483 - accuracy: 0.9039\n",
      "WARNING:tensorflow:Early stopping conditioned on metric `val_loss` which is not available. Available metrics are: loss,accuracy\n",
      "Epoch 85/170\n",
      "55/55 [==============================] - 0s 3ms/step - loss: 0.2469 - accuracy: 0.9039\n",
      "WARNING:tensorflow:Early stopping conditioned on metric `val_loss` which is not available. Available metrics are: loss,accuracy\n",
      "Epoch 86/170\n",
      "55/55 [==============================] - 0s 3ms/step - loss: 0.2469 - accuracy: 0.9039\n",
      "WARNING:tensorflow:Early stopping conditioned on metric `val_loss` which is not available. Available metrics are: loss,accuracy\n",
      "Epoch 87/170\n",
      "55/55 [==============================] - 0s 3ms/step - loss: 0.2492 - accuracy: 0.9062\n",
      "WARNING:tensorflow:Early stopping conditioned on metric `val_loss` which is not available. Available metrics are: loss,accuracy\n",
      "Epoch 88/170\n",
      "55/55 [==============================] - 0s 2ms/step - loss: 0.2451 - accuracy: 0.9062\n",
      "WARNING:tensorflow:Early stopping conditioned on metric `val_loss` which is not available. Available metrics are: loss,accuracy\n",
      "Epoch 89/170\n",
      "55/55 [==============================] - 0s 3ms/step - loss: 0.2479 - accuracy: 0.9073\n",
      "WARNING:tensorflow:Early stopping conditioned on metric `val_loss` which is not available. Available metrics are: loss,accuracy\n",
      "Epoch 90/170\n",
      "55/55 [==============================] - 0s 3ms/step - loss: 0.2484 - accuracy: 0.9073\n",
      "WARNING:tensorflow:Early stopping conditioned on metric `val_loss` which is not available. Available metrics are: loss,accuracy\n",
      "Epoch 91/170\n",
      "55/55 [==============================] - 0s 3ms/step - loss: 0.2475 - accuracy: 0.9062\n",
      "WARNING:tensorflow:Early stopping conditioned on metric `val_loss` which is not available. Available metrics are: loss,accuracy\n",
      "Epoch 92/170\n",
      "55/55 [==============================] - 0s 2ms/step - loss: 0.2454 - accuracy: 0.9050\n",
      "WARNING:tensorflow:Early stopping conditioned on metric `val_loss` which is not available. Available metrics are: loss,accuracy\n",
      "Epoch 93/170\n",
      "55/55 [==============================] - 0s 3ms/step - loss: 0.2459 - accuracy: 0.9062\n",
      "WARNING:tensorflow:Early stopping conditioned on metric `val_loss` which is not available. Available metrics are: loss,accuracy\n",
      "Epoch 94/170\n",
      "55/55 [==============================] - 0s 3ms/step - loss: 0.2426 - accuracy: 0.9085\n",
      "WARNING:tensorflow:Early stopping conditioned on metric `val_loss` which is not available. Available metrics are: loss,accuracy\n",
      "Epoch 95/170\n",
      "55/55 [==============================] - 0s 3ms/step - loss: 0.2497 - accuracy: 0.9085\n",
      "WARNING:tensorflow:Early stopping conditioned on metric `val_loss` which is not available. Available metrics are: loss,accuracy\n",
      "Epoch 96/170\n",
      "55/55 [==============================] - 0s 3ms/step - loss: 0.2443 - accuracy: 0.9062\n",
      "WARNING:tensorflow:Early stopping conditioned on metric `val_loss` which is not available. Available metrics are: loss,accuracy\n",
      "Epoch 97/170\n",
      "55/55 [==============================] - 0s 3ms/step - loss: 0.2444 - accuracy: 0.9062\n",
      "WARNING:tensorflow:Early stopping conditioned on metric `val_loss` which is not available. Available metrics are: loss,accuracy\n",
      "Epoch 98/170\n",
      "55/55 [==============================] - 0s 3ms/step - loss: 0.2528 - accuracy: 0.9085\n",
      "WARNING:tensorflow:Early stopping conditioned on metric `val_loss` which is not available. Available metrics are: loss,accuracy\n",
      "Epoch 99/170\n",
      "55/55 [==============================] - 0s 3ms/step - loss: 0.2483 - accuracy: 0.9050\n",
      "WARNING:tensorflow:Early stopping conditioned on metric `val_loss` which is not available. Available metrics are: loss,accuracy\n",
      "Epoch 100/170\n",
      "55/55 [==============================] - 0s 3ms/step - loss: 0.2453 - accuracy: 0.9073\n",
      "WARNING:tensorflow:Early stopping conditioned on metric `val_loss` which is not available. Available metrics are: loss,accuracy\n",
      "Epoch 101/170\n",
      "55/55 [==============================] - 0s 3ms/step - loss: 0.2443 - accuracy: 0.9050\n",
      "WARNING:tensorflow:Early stopping conditioned on metric `val_loss` which is not available. Available metrics are: loss,accuracy\n",
      "Epoch 102/170\n",
      "55/55 [==============================] - 0s 3ms/step - loss: 0.2467 - accuracy: 0.9085\n",
      "WARNING:tensorflow:Early stopping conditioned on metric `val_loss` which is not available. Available metrics are: loss,accuracy\n",
      "Epoch 103/170\n",
      "55/55 [==============================] - 0s 2ms/step - loss: 0.2472 - accuracy: 0.9050\n",
      "WARNING:tensorflow:Early stopping conditioned on metric `val_loss` which is not available. Available metrics are: loss,accuracy\n",
      "Epoch 104/170\n",
      "55/55 [==============================] - 0s 3ms/step - loss: 0.2493 - accuracy: 0.9050\n",
      "WARNING:tensorflow:Early stopping conditioned on metric `val_loss` which is not available. Available metrics are: loss,accuracy\n",
      "Epoch 105/170\n",
      "55/55 [==============================] - 0s 3ms/step - loss: 0.2466 - accuracy: 0.9085\n",
      "WARNING:tensorflow:Early stopping conditioned on metric `val_loss` which is not available. Available metrics are: loss,accuracy\n",
      "Epoch 106/170\n",
      "55/55 [==============================] - 0s 3ms/step - loss: 0.2464 - accuracy: 0.9073\n",
      "WARNING:tensorflow:Early stopping conditioned on metric `val_loss` which is not available. Available metrics are: loss,accuracy\n",
      "Epoch 107/170\n",
      "55/55 [==============================] - 0s 3ms/step - loss: 0.2448 - accuracy: 0.9062\n",
      "WARNING:tensorflow:Early stopping conditioned on metric `val_loss` which is not available. Available metrics are: loss,accuracy\n",
      "Epoch 108/170\n",
      "55/55 [==============================] - 0s 3ms/step - loss: 0.2461 - accuracy: 0.9073\n",
      "WARNING:tensorflow:Early stopping conditioned on metric `val_loss` which is not available. Available metrics are: loss,accuracy\n"
     ]
    },
    {
     "name": "stdout",
     "output_type": "stream",
     "text": [
      "Epoch 109/170\n",
      "55/55 [==============================] - 0s 5ms/step - loss: 0.2446 - accuracy: 0.9073\n",
      "WARNING:tensorflow:Early stopping conditioned on metric `val_loss` which is not available. Available metrics are: loss,accuracy\n",
      "Epoch 110/170\n",
      "55/55 [==============================] - 0s 3ms/step - loss: 0.2734 - accuracy: 0.8993\n",
      "WARNING:tensorflow:Early stopping conditioned on metric `val_loss` which is not available. Available metrics are: loss,accuracy\n",
      "Epoch 111/170\n",
      "55/55 [==============================] - 0s 3ms/step - loss: 0.2531 - accuracy: 0.9016\n",
      "WARNING:tensorflow:Early stopping conditioned on metric `val_loss` which is not available. Available metrics are: loss,accuracy\n",
      "Epoch 112/170\n",
      "55/55 [==============================] - 0s 3ms/step - loss: 0.2476 - accuracy: 0.9062\n",
      "WARNING:tensorflow:Early stopping conditioned on metric `val_loss` which is not available. Available metrics are: loss,accuracy\n",
      "Epoch 113/170\n",
      "55/55 [==============================] - 0s 3ms/step - loss: 0.2465 - accuracy: 0.9062\n",
      "WARNING:tensorflow:Early stopping conditioned on metric `val_loss` which is not available. Available metrics are: loss,accuracy\n",
      "Epoch 114/170\n",
      "55/55 [==============================] - 0s 3ms/step - loss: 0.2456 - accuracy: 0.9050\n",
      "WARNING:tensorflow:Early stopping conditioned on metric `val_loss` which is not available. Available metrics are: loss,accuracy\n",
      "Epoch 115/170\n",
      "55/55 [==============================] - 0s 3ms/step - loss: 0.2462 - accuracy: 0.9050\n",
      "WARNING:tensorflow:Early stopping conditioned on metric `val_loss` which is not available. Available metrics are: loss,accuracy\n",
      "Epoch 116/170\n",
      "55/55 [==============================] - 0s 3ms/step - loss: 0.2446 - accuracy: 0.9073\n",
      "WARNING:tensorflow:Early stopping conditioned on metric `val_loss` which is not available. Available metrics are: loss,accuracy\n",
      "Epoch 117/170\n",
      "55/55 [==============================] - 0s 3ms/step - loss: 0.2450 - accuracy: 0.9073\n",
      "WARNING:tensorflow:Early stopping conditioned on metric `val_loss` which is not available. Available metrics are: loss,accuracy\n",
      "Epoch 118/170\n",
      "55/55 [==============================] - 0s 3ms/step - loss: 0.2454 - accuracy: 0.9096\n",
      "WARNING:tensorflow:Early stopping conditioned on metric `val_loss` which is not available. Available metrics are: loss,accuracy\n",
      "Epoch 119/170\n",
      "55/55 [==============================] - 0s 3ms/step - loss: 0.2450 - accuracy: 0.9050\n",
      "WARNING:tensorflow:Early stopping conditioned on metric `val_loss` which is not available. Available metrics are: loss,accuracy\n",
      "Epoch 120/170\n",
      "55/55 [==============================] - 0s 3ms/step - loss: 0.2494 - accuracy: 0.9016\n",
      "WARNING:tensorflow:Early stopping conditioned on metric `val_loss` which is not available. Available metrics are: loss,accuracy\n",
      "Epoch 121/170\n",
      "55/55 [==============================] - 0s 3ms/step - loss: 0.2430 - accuracy: 0.9085\n",
      "WARNING:tensorflow:Early stopping conditioned on metric `val_loss` which is not available. Available metrics are: loss,accuracy\n",
      "Epoch 122/170\n",
      "55/55 [==============================] - 0s 3ms/step - loss: 0.2431 - accuracy: 0.9073\n",
      "WARNING:tensorflow:Early stopping conditioned on metric `val_loss` which is not available. Available metrics are: loss,accuracy\n",
      "Epoch 123/170\n",
      "55/55 [==============================] - 0s 3ms/step - loss: 0.2435 - accuracy: 0.9096\n",
      "WARNING:tensorflow:Early stopping conditioned on metric `val_loss` which is not available. Available metrics are: loss,accuracy\n",
      "Epoch 124/170\n",
      "55/55 [==============================] - 0s 3ms/step - loss: 0.2464 - accuracy: 0.9073\n",
      "WARNING:tensorflow:Early stopping conditioned on metric `val_loss` which is not available. Available metrics are: loss,accuracy\n",
      "Epoch 125/170\n",
      "55/55 [==============================] - 0s 3ms/step - loss: 0.2447 - accuracy: 0.9073\n",
      "WARNING:tensorflow:Early stopping conditioned on metric `val_loss` which is not available. Available metrics are: loss,accuracy\n",
      "Epoch 126/170\n",
      "55/55 [==============================] - 0s 3ms/step - loss: 0.2443 - accuracy: 0.9085\n",
      "WARNING:tensorflow:Early stopping conditioned on metric `val_loss` which is not available. Available metrics are: loss,accuracy\n",
      "Epoch 127/170\n",
      "55/55 [==============================] - 0s 3ms/step - loss: 0.2451 - accuracy: 0.9039\n",
      "WARNING:tensorflow:Early stopping conditioned on metric `val_loss` which is not available. Available metrics are: loss,accuracy\n",
      "Epoch 128/170\n",
      "55/55 [==============================] - 0s 3ms/step - loss: 0.2432 - accuracy: 0.9062\n",
      "WARNING:tensorflow:Early stopping conditioned on metric `val_loss` which is not available. Available metrics are: loss,accuracy\n",
      "Epoch 129/170\n",
      "55/55 [==============================] - 0s 3ms/step - loss: 0.2460 - accuracy: 0.9062\n",
      "WARNING:tensorflow:Early stopping conditioned on metric `val_loss` which is not available. Available metrics are: loss,accuracy\n",
      "Epoch 130/170\n",
      "55/55 [==============================] - 0s 3ms/step - loss: 0.2447 - accuracy: 0.9073\n",
      "WARNING:tensorflow:Early stopping conditioned on metric `val_loss` which is not available. Available metrics are: loss,accuracy\n",
      "Epoch 131/170\n",
      "55/55 [==============================] - 0s 2ms/step - loss: 0.2439 - accuracy: 0.9062\n",
      "WARNING:tensorflow:Early stopping conditioned on metric `val_loss` which is not available. Available metrics are: loss,accuracy\n",
      "Epoch 132/170\n",
      "55/55 [==============================] - 0s 3ms/step - loss: 0.2430 - accuracy: 0.9062\n",
      "WARNING:tensorflow:Early stopping conditioned on metric `val_loss` which is not available. Available metrics are: loss,accuracy\n",
      "Epoch 133/170\n",
      "55/55 [==============================] - 0s 3ms/step - loss: 0.2437 - accuracy: 0.9062\n",
      "WARNING:tensorflow:Early stopping conditioned on metric `val_loss` which is not available. Available metrics are: loss,accuracy\n",
      "Epoch 134/170\n",
      "55/55 [==============================] - 0s 3ms/step - loss: 0.2447 - accuracy: 0.9050\n",
      "WARNING:tensorflow:Early stopping conditioned on metric `val_loss` which is not available. Available metrics are: loss,accuracy\n",
      "Epoch 135/170\n",
      "55/55 [==============================] - 0s 3ms/step - loss: 0.2437 - accuracy: 0.9062\n",
      "WARNING:tensorflow:Early stopping conditioned on metric `val_loss` which is not available. Available metrics are: loss,accuracy\n",
      "Epoch 136/170\n",
      "55/55 [==============================] - 0s 3ms/step - loss: 0.2458 - accuracy: 0.9096\n",
      "WARNING:tensorflow:Early stopping conditioned on metric `val_loss` which is not available. Available metrics are: loss,accuracy\n",
      "Epoch 137/170\n",
      "55/55 [==============================] - 0s 4ms/step - loss: 0.2420 - accuracy: 0.9062\n",
      "WARNING:tensorflow:Early stopping conditioned on metric `val_loss` which is not available. Available metrics are: loss,accuracy\n",
      "Epoch 138/170\n",
      "55/55 [==============================] - 0s 3ms/step - loss: 0.2473 - accuracy: 0.9050\n",
      "WARNING:tensorflow:Early stopping conditioned on metric `val_loss` which is not available. Available metrics are: loss,accuracy\n",
      "Epoch 139/170\n",
      "55/55 [==============================] - 0s 3ms/step - loss: 0.2447 - accuracy: 0.9050\n",
      "WARNING:tensorflow:Early stopping conditioned on metric `val_loss` which is not available. Available metrics are: loss,accuracy\n",
      "Epoch 140/170\n",
      "55/55 [==============================] - 0s 3ms/step - loss: 0.2432 - accuracy: 0.9073\n",
      "WARNING:tensorflow:Early stopping conditioned on metric `val_loss` which is not available. Available metrics are: loss,accuracy\n",
      "Epoch 141/170\n",
      "55/55 [==============================] - 0s 2ms/step - loss: 0.2412 - accuracy: 0.9073\n",
      "WARNING:tensorflow:Early stopping conditioned on metric `val_loss` which is not available. Available metrics are: loss,accuracy\n",
      "Epoch 142/170\n",
      "55/55 [==============================] - 0s 3ms/step - loss: 0.2482 - accuracy: 0.9073\n",
      "WARNING:tensorflow:Early stopping conditioned on metric `val_loss` which is not available. Available metrics are: loss,accuracy\n",
      "Epoch 143/170\n",
      "55/55 [==============================] - 0s 3ms/step - loss: 0.2409 - accuracy: 0.9039\n",
      "WARNING:tensorflow:Early stopping conditioned on metric `val_loss` which is not available. Available metrics are: loss,accuracy\n",
      "Epoch 144/170\n",
      "55/55 [==============================] - 0s 3ms/step - loss: 0.2441 - accuracy: 0.9062\n",
      "WARNING:tensorflow:Early stopping conditioned on metric `val_loss` which is not available. Available metrics are: loss,accuracy\n"
     ]
    },
    {
     "name": "stdout",
     "output_type": "stream",
     "text": [
      "Epoch 145/170\n",
      "55/55 [==============================] - 0s 3ms/step - loss: 0.2409 - accuracy: 0.9085\n",
      "WARNING:tensorflow:Early stopping conditioned on metric `val_loss` which is not available. Available metrics are: loss,accuracy\n",
      "Epoch 146/170\n",
      "55/55 [==============================] - 0s 3ms/step - loss: 0.2412 - accuracy: 0.9096\n",
      "WARNING:tensorflow:Early stopping conditioned on metric `val_loss` which is not available. Available metrics are: loss,accuracy\n",
      "Epoch 147/170\n",
      "55/55 [==============================] - 0s 3ms/step - loss: 0.2411 - accuracy: 0.9073\n",
      "WARNING:tensorflow:Early stopping conditioned on metric `val_loss` which is not available. Available metrics are: loss,accuracy\n",
      "Epoch 148/170\n",
      "55/55 [==============================] - 0s 3ms/step - loss: 0.2419 - accuracy: 0.9073\n",
      "WARNING:tensorflow:Early stopping conditioned on metric `val_loss` which is not available. Available metrics are: loss,accuracy\n",
      "Epoch 149/170\n",
      "55/55 [==============================] - 0s 3ms/step - loss: 0.2407 - accuracy: 0.9027\n",
      "WARNING:tensorflow:Early stopping conditioned on metric `val_loss` which is not available. Available metrics are: loss,accuracy\n",
      "Epoch 150/170\n",
      "55/55 [==============================] - 0s 3ms/step - loss: 0.2417 - accuracy: 0.9062\n",
      "WARNING:tensorflow:Early stopping conditioned on metric `val_loss` which is not available. Available metrics are: loss,accuracy\n",
      "Epoch 151/170\n",
      "55/55 [==============================] - 0s 3ms/step - loss: 0.2449 - accuracy: 0.9039\n",
      "WARNING:tensorflow:Early stopping conditioned on metric `val_loss` which is not available. Available metrics are: loss,accuracy\n",
      "Epoch 152/170\n",
      "55/55 [==============================] - 0s 3ms/step - loss: 0.2425 - accuracy: 0.9085\n",
      "WARNING:tensorflow:Early stopping conditioned on metric `val_loss` which is not available. Available metrics are: loss,accuracy\n",
      "Epoch 153/170\n",
      "55/55 [==============================] - 0s 3ms/step - loss: 0.2408 - accuracy: 0.9096\n",
      "WARNING:tensorflow:Early stopping conditioned on metric `val_loss` which is not available. Available metrics are: loss,accuracy\n",
      "Epoch 154/170\n",
      "55/55 [==============================] - 0s 3ms/step - loss: 0.2427 - accuracy: 0.9073\n",
      "WARNING:tensorflow:Early stopping conditioned on metric `val_loss` which is not available. Available metrics are: loss,accuracy\n",
      "Epoch 155/170\n",
      "55/55 [==============================] - 0s 3ms/step - loss: 0.2408 - accuracy: 0.9085\n",
      "WARNING:tensorflow:Early stopping conditioned on metric `val_loss` which is not available. Available metrics are: loss,accuracy\n",
      "Epoch 156/170\n",
      "55/55 [==============================] - 0s 3ms/step - loss: 0.2432 - accuracy: 0.9062\n",
      "WARNING:tensorflow:Early stopping conditioned on metric `val_loss` which is not available. Available metrics are: loss,accuracy\n",
      "Epoch 157/170\n",
      "55/55 [==============================] - 0s 3ms/step - loss: 0.2405 - accuracy: 0.9073\n",
      "WARNING:tensorflow:Early stopping conditioned on metric `val_loss` which is not available. Available metrics are: loss,accuracy\n",
      "Epoch 158/170\n",
      "55/55 [==============================] - 0s 3ms/step - loss: 0.2425 - accuracy: 0.9050\n",
      "WARNING:tensorflow:Early stopping conditioned on metric `val_loss` which is not available. Available metrics are: loss,accuracy\n",
      "Epoch 159/170\n",
      "55/55 [==============================] - 0s 3ms/step - loss: 0.2417 - accuracy: 0.9073\n",
      "WARNING:tensorflow:Early stopping conditioned on metric `val_loss` which is not available. Available metrics are: loss,accuracy\n",
      "Epoch 160/170\n",
      "55/55 [==============================] - 0s 3ms/step - loss: 0.2387 - accuracy: 0.9073\n",
      "WARNING:tensorflow:Early stopping conditioned on metric `val_loss` which is not available. Available metrics are: loss,accuracy\n",
      "Epoch 161/170\n",
      "55/55 [==============================] - 0s 3ms/step - loss: 0.2386 - accuracy: 0.9085\n",
      "WARNING:tensorflow:Early stopping conditioned on metric `val_loss` which is not available. Available metrics are: loss,accuracy\n",
      "Epoch 162/170\n",
      "55/55 [==============================] - 0s 3ms/step - loss: 0.2394 - accuracy: 0.9073\n",
      "WARNING:tensorflow:Early stopping conditioned on metric `val_loss` which is not available. Available metrics are: loss,accuracy\n",
      "Epoch 163/170\n",
      "55/55 [==============================] - 0s 3ms/step - loss: 0.2420 - accuracy: 0.9039\n",
      "WARNING:tensorflow:Early stopping conditioned on metric `val_loss` which is not available. Available metrics are: loss,accuracy\n",
      "Epoch 164/170\n",
      "55/55 [==============================] - 0s 3ms/step - loss: 0.2411 - accuracy: 0.9096\n",
      "WARNING:tensorflow:Early stopping conditioned on metric `val_loss` which is not available. Available metrics are: loss,accuracy\n",
      "Epoch 165/170\n",
      "55/55 [==============================] - 0s 3ms/step - loss: 0.2394 - accuracy: 0.9073\n",
      "WARNING:tensorflow:Early stopping conditioned on metric `val_loss` which is not available. Available metrics are: loss,accuracy\n",
      "Epoch 166/170\n",
      "55/55 [==============================] - 0s 3ms/step - loss: 0.2392 - accuracy: 0.9050\n",
      "WARNING:tensorflow:Early stopping conditioned on metric `val_loss` which is not available. Available metrics are: loss,accuracy\n",
      "Epoch 167/170\n",
      "55/55 [==============================] - 0s 3ms/step - loss: 0.2386 - accuracy: 0.9108\n",
      "WARNING:tensorflow:Early stopping conditioned on metric `val_loss` which is not available. Available metrics are: loss,accuracy\n",
      "Epoch 168/170\n",
      "55/55 [==============================] - 0s 3ms/step - loss: 0.2410 - accuracy: 0.9085\n",
      "WARNING:tensorflow:Early stopping conditioned on metric `val_loss` which is not available. Available metrics are: loss,accuracy\n",
      "Epoch 169/170\n",
      "55/55 [==============================] - 0s 2ms/step - loss: 0.2404 - accuracy: 0.9085\n",
      "WARNING:tensorflow:Early stopping conditioned on metric `val_loss` which is not available. Available metrics are: loss,accuracy\n",
      "Epoch 170/170\n",
      "55/55 [==============================] - 0s 3ms/step - loss: 0.2399 - accuracy: 0.9085\n",
      "WARNING:tensorflow:Early stopping conditioned on metric `val_loss` which is not available. Available metrics are: loss,accuracy\n"
     ]
    }
   ],
   "source": [
    "\n",
    "history = model.fit(X_train,y_train, batch_size=16, epochs=170, callbacks=[es])"
   ]
  },
  {
   "cell_type": "code",
   "execution_count": 132,
   "id": "99f25a62",
   "metadata": {},
   "outputs": [],
   "source": [
    "import seaborn as sns"
   ]
  },
  {
   "cell_type": "code",
   "execution_count": 141,
   "id": "455d0123",
   "metadata": {},
   "outputs": [
    {
     "data": {
      "text/plain": [
       "[<matplotlib.lines.Line2D at 0x7f9d9742d610>]"
      ]
     },
     "execution_count": 141,
     "metadata": {},
     "output_type": "execute_result"
    },
    {
     "data": {
      "image/png": "[encoded data removed]",
      "text/plain": [
       "<Figure size 432x288 with 1 Axes>"
      ]
     },
     "metadata": {
      "needs_background": "light"
     },
     "output_type": "display_data"
    }
   ],
   "source": [
    "figure= subplot\n",
    "plt.plot(history.history['loss'])\n"
   ]
  },
  {
   "cell_type": "code",
   "execution_count": 118,
   "id": "52a9f136",
   "metadata": {},
   "outputs": [
    {
     "data": {
      "text/plain": [
       "[<matplotlib.lines.Line2D at 0x7f9da07c7640>]"
      ]
     },
     "execution_count": 118,
     "metadata": {},
     "output_type": "execute_result"
    },
    {
     "data": {
      "image/png": "[encoded data removed]",
      "text/plain": [
       "<Figure size 432x288 with 1 Axes>"
      ]
     },
     "metadata": {
      "needs_background": "light"
     },
     "output_type": "display_data"
    }
   ],
   "source": [
    "plt.plot(history.history['accuracy'])"
   ]
  },
  {
   "cell_type": "code",
   "execution_count": 119,
   "id": "5187bfc8",
   "metadata": {},
   "outputs": [
    {
     "data": {
      "text/plain": [
       "0.9026315710123848"
      ]
     },
     "execution_count": 119,
     "metadata": {},
     "output_type": "execute_result"
    }
   ],
   "source": [
    "np.mean(history.history['accuracy'])"
   ]
  },
  {
   "cell_type": "code",
   "execution_count": 184,
   "id": "7e28f007",
   "metadata": {},
   "outputs": [
    {
     "data": {
      "text/plain": [
       "0.2553914999260622"
      ]
     },
     "execution_count": 184,
     "metadata": {},
     "output_type": "execute_result"
    }
   ],
   "source": [
    "np.mean(history.history['loss'])\n",
    "\n"
   ]
  },
  {
   "cell_type": "code",
   "execution_count": 105,
   "id": "fd9cb928",
   "metadata": {},
   "outputs": [
    {
     "data": {
      "text/plain": [
       "<matplotlib.image.AxesImage at 0x7f9dc43a53d0>"
      ]
     },
     "execution_count": 105,
     "metadata": {},
     "output_type": "execute_result"
    },
    {
     "data": {
      "image/png": "[encoded data removed]",
      "text/plain": [
       "<Figure size 288x288 with 1 Axes>"
      ]
     },
     "metadata": {
      "needs_background": "light"
     },
     "output_type": "display_data"
    }
   ],
   "source": [
    "plt.matshow(cheap_food_2.corr())"
   ]
  },
  {
   "cell_type": "code",
   "execution_count": 106,
   "id": "11e7309f",
   "metadata": {},
   "outputs": [
    {
     "data": {
      "text/html": [
       "<div>\n",
       "<style scoped>\n",
       "    .dataframe tbody tr th:only-of-type {\n",
       "        vertical-align: middle;\n",
       "    }\n",
       "\n",
       "    .dataframe tbody tr th {\n",
       "        vertical-align: top;\n",
       "    }\n",
       "\n",
       "    .dataframe thead th {\n",
       "        text-align: right;\n",
       "    }\n",
       "</style>\n",
       "<table border=\"1\" class=\"dataframe\">\n",
       "  <thead>\n",
       "    <tr style=\"text-align: right;\">\n",
       "      <th></th>\n",
       "      <th>usd_rate</th>\n",
       "      <th>protein</th>\n",
       "      <th>fat</th>\n",
       "      <th>carb</th>\n",
       "      <th>sugar</th>\n",
       "      <th>sodium</th>\n",
       "      <th>calcium</th>\n",
       "      <th>kcal</th>\n",
       "      <th>2019</th>\n",
       "      <th>expensive</th>\n",
       "    </tr>\n",
       "  </thead>\n",
       "  <tbody>\n",
       "    <tr>\n",
       "      <th>usd_rate</th>\n",
       "      <td>1.000000</td>\n",
       "      <td>0.015783</td>\n",
       "      <td>0.014647</td>\n",
       "      <td>-0.015984</td>\n",
       "      <td>-0.022786</td>\n",
       "      <td>0.044673</td>\n",
       "      <td>0.005327</td>\n",
       "      <td>0.013134</td>\n",
       "      <td>0.252970</td>\n",
       "      <td>0.253613</td>\n",
       "    </tr>\n",
       "    <tr>\n",
       "      <th>protein</th>\n",
       "      <td>0.015783</td>\n",
       "      <td>1.000000</td>\n",
       "      <td>0.045290</td>\n",
       "      <td>-0.030963</td>\n",
       "      <td>-0.079074</td>\n",
       "      <td>0.340348</td>\n",
       "      <td>-0.048464</td>\n",
       "      <td>0.066095</td>\n",
       "      <td>0.000142</td>\n",
       "      <td>0.075743</td>\n",
       "    </tr>\n",
       "    <tr>\n",
       "      <th>fat</th>\n",
       "      <td>0.014647</td>\n",
       "      <td>0.045290</td>\n",
       "      <td>1.000000</td>\n",
       "      <td>-0.050675</td>\n",
       "      <td>0.197445</td>\n",
       "      <td>0.537494</td>\n",
       "      <td>-0.034200</td>\n",
       "      <td>0.514565</td>\n",
       "      <td>0.018741</td>\n",
       "      <td>0.046310</td>\n",
       "    </tr>\n",
       "    <tr>\n",
       "      <th>carb</th>\n",
       "      <td>-0.015984</td>\n",
       "      <td>-0.030963</td>\n",
       "      <td>-0.050675</td>\n",
       "      <td>1.000000</td>\n",
       "      <td>-0.027409</td>\n",
       "      <td>-0.079112</td>\n",
       "      <td>0.927147</td>\n",
       "      <td>0.574248</td>\n",
       "      <td>-0.010987</td>\n",
       "      <td>-0.003437</td>\n",
       "    </tr>\n",
       "    <tr>\n",
       "      <th>sugar</th>\n",
       "      <td>-0.022786</td>\n",
       "      <td>-0.079074</td>\n",
       "      <td>0.197445</td>\n",
       "      <td>-0.027409</td>\n",
       "      <td>1.000000</td>\n",
       "      <td>-0.090323</td>\n",
       "      <td>-0.025740</td>\n",
       "      <td>0.541771</td>\n",
       "      <td>-0.005259</td>\n",
       "      <td>-0.077232</td>\n",
       "    </tr>\n",
       "    <tr>\n",
       "      <th>sodium</th>\n",
       "      <td>0.044673</td>\n",
       "      <td>0.340348</td>\n",
       "      <td>0.537494</td>\n",
       "      <td>-0.079112</td>\n",
       "      <td>-0.090323</td>\n",
       "      <td>1.000000</td>\n",
       "      <td>-0.031667</td>\n",
       "      <td>0.201770</td>\n",
       "      <td>0.036188</td>\n",
       "      <td>0.149014</td>\n",
       "    </tr>\n",
       "    <tr>\n",
       "      <th>calcium</th>\n",
       "      <td>0.005327</td>\n",
       "      <td>-0.048464</td>\n",
       "      <td>-0.034200</td>\n",
       "      <td>0.927147</td>\n",
       "      <td>-0.025740</td>\n",
       "      <td>-0.031667</td>\n",
       "      <td>1.000000</td>\n",
       "      <td>0.602167</td>\n",
       "      <td>-0.007908</td>\n",
       "      <td>0.110454</td>\n",
       "    </tr>\n",
       "    <tr>\n",
       "      <th>kcal</th>\n",
       "      <td>0.013134</td>\n",
       "      <td>0.066095</td>\n",
       "      <td>0.514565</td>\n",
       "      <td>0.574248</td>\n",
       "      <td>0.541771</td>\n",
       "      <td>0.201770</td>\n",
       "      <td>0.602167</td>\n",
       "      <td>1.000000</td>\n",
       "      <td>-0.003538</td>\n",
       "      <td>0.067205</td>\n",
       "    </tr>\n",
       "    <tr>\n",
       "      <th>2019</th>\n",
       "      <td>0.252970</td>\n",
       "      <td>0.000142</td>\n",
       "      <td>0.018741</td>\n",
       "      <td>-0.010987</td>\n",
       "      <td>-0.005259</td>\n",
       "      <td>0.036188</td>\n",
       "      <td>-0.007908</td>\n",
       "      <td>-0.003538</td>\n",
       "      <td>1.000000</td>\n",
       "      <td>0.241923</td>\n",
       "    </tr>\n",
       "    <tr>\n",
       "      <th>expensive</th>\n",
       "      <td>0.253613</td>\n",
       "      <td>0.075743</td>\n",
       "      <td>0.046310</td>\n",
       "      <td>-0.003437</td>\n",
       "      <td>-0.077232</td>\n",
       "      <td>0.149014</td>\n",
       "      <td>0.110454</td>\n",
       "      <td>0.067205</td>\n",
       "      <td>0.241923</td>\n",
       "      <td>1.000000</td>\n",
       "    </tr>\n",
       "  </tbody>\n",
       "</table>\n",
       "</div>"
      ],
      "text/plain": [
       "           usd_rate   protein       fat      carb     sugar    sodium  \\\n",
       "usd_rate   1.000000  0.015783  0.014647 -0.015984 -0.022786  0.044673   \n",
       "protein    0.015783  1.000000  0.045290 -0.030963 -0.079074  0.340348   \n",
       "fat        0.014647  0.045290  1.000000 -0.050675  0.197445  0.537494   \n",
       "carb      -0.015984 -0.030963 -0.050675  1.000000 -0.027409 -0.079112   \n",
       "sugar     -0.022786 -0.079074  0.197445 -0.027409  1.000000 -0.090323   \n",
       "sodium     0.044673  0.340348  0.537494 -0.079112 -0.090323  1.000000   \n",
       "calcium    0.005327 -0.048464 -0.034200  0.927147 -0.025740 -0.031667   \n",
       "kcal       0.013134  0.066095  0.514565  0.574248  0.541771  0.201770   \n",
       "2019       0.252970  0.000142  0.018741 -0.010987 -0.005259  0.036188   \n",
       "expensive  0.253613  0.075743  0.046310 -0.003437 -0.077232  0.149014   \n",
       "\n",
       "            calcium      kcal      2019  expensive  \n",
       "usd_rate   0.005327  0.013134  0.252970   0.253613  \n",
       "protein   -0.048464  0.066095  0.000142   0.075743  \n",
       "fat       -0.034200  0.514565  0.018741   0.046310  \n",
       "carb       0.927147  0.574248 -0.010987  -0.003437  \n",
       "sugar     -0.025740  0.541771 -0.005259  -0.077232  \n",
       "sodium    -0.031667  0.201770  0.036188   0.149014  \n",
       "calcium    1.000000  0.602167 -0.007908   0.110454  \n",
       "kcal       0.602167  1.000000 -0.003538   0.067205  \n",
       "2019      -0.007908 -0.003538  1.000000   0.241923  \n",
       "expensive  0.110454  0.067205  0.241923   1.000000  "
      ]
     },
     "execution_count": 106,
     "metadata": {},
     "output_type": "execute_result"
    }
   ],
   "source": [
    "clean_merged.corr()"
   ]
  },
  {
   "cell_type": "code",
   "execution_count": null,
   "id": "44998544",
   "metadata": {},
   "outputs": [],
   "source": []
  },
  {
   "cell_type": "code",
   "execution_count": 448,
   "id": "421133c9",
   "metadata": {},
   "outputs": [],
   "source": [
    "import joblib\n"
   ]
  },
  {
   "cell_type": "code",
   "execution_count": 507,
   "id": "77436b42",
   "metadata": {
    "scrolled": false
   },
   "outputs": [],
   "source": [
    "#joblib.dump(model, 'nn_model_v1.joblib')"
   ]
  },
  {
   "cell_type": "code",
   "execution_count": 413,
   "id": "4f92ea17",
   "metadata": {},
   "outputs": [
    {
     "data": {
      "text/plain": [
       "<tensorflow.python.keras.engine.sequential.Sequential at 0x7f24900c7520>"
      ]
     },
     "execution_count": 413,
     "metadata": {},
     "output_type": "execute_result"
    }
   ],
   "source": [
    "model"
   ]
  },
  {
   "cell_type": "code",
   "execution_count": 442,
   "id": "9f8fe8d0",
   "metadata": {},
   "outputs": [],
   "source": [
    "model.save('neural_network_v1.h5')"
   ]
  },
  {
   "cell_type": "code",
   "execution_count": 505,
   "id": "4270273c",
   "metadata": {},
   "outputs": [],
   "source": [
    "food_categories.to_csv('../raw_data/food_categories.csv', index=False)\n"
   ]
  },
  {
   "cell_type": "code",
   "execution_count": 506,
   "id": "c66b7917",
   "metadata": {},
   "outputs": [
    {
     "data": {
      "text/html": [
       "<div>\n",
       "<style scoped>\n",
       "    .dataframe tbody tr th:only-of-type {\n",
       "        vertical-align: middle;\n",
       "    }\n",
       "\n",
       "    .dataframe tbody tr th {\n",
       "        vertical-align: top;\n",
       "    }\n",
       "\n",
       "    .dataframe thead th {\n",
       "        text-align: right;\n",
       "    }\n",
       "</style>\n",
       "<table border=\"1\" class=\"dataframe\">\n",
       "  <thead>\n",
       "    <tr style=\"text-align: right;\">\n",
       "      <th></th>\n",
       "      <th>product</th>\n",
       "    </tr>\n",
       "  </thead>\n",
       "  <tbody>\n",
       "    <tr>\n",
       "      <th>0</th>\n",
       "      <td>Baked Products</td>\n",
       "    </tr>\n",
       "    <tr>\n",
       "      <th>1</th>\n",
       "      <td>Other starchy vegetables</td>\n",
       "    </tr>\n",
       "    <tr>\n",
       "      <th>2</th>\n",
       "      <td>Chips, Pretzels &amp; Snacks</td>\n",
       "    </tr>\n",
       "    <tr>\n",
       "      <th>3</th>\n",
       "      <td>Cereal Grains and Pasta</td>\n",
       "    </tr>\n",
       "    <tr>\n",
       "      <th>4</th>\n",
       "      <td>Sweets</td>\n",
       "    </tr>\n",
       "    <tr>\n",
       "      <th>5</th>\n",
       "      <td>Sausages and Luncheon Meats</td>\n",
       "    </tr>\n",
       "    <tr>\n",
       "      <th>6</th>\n",
       "      <td>Dairy and Egg Products</td>\n",
       "    </tr>\n",
       "    <tr>\n",
       "      <th>7</th>\n",
       "      <td>Pre-Packaged Fruit &amp; Vegetables</td>\n",
       "    </tr>\n",
       "    <tr>\n",
       "      <th>8</th>\n",
       "      <td>Fats and Oils</td>\n",
       "    </tr>\n",
       "    <tr>\n",
       "      <th>9</th>\n",
       "      <td>Finfish and Shellfish Products</td>\n",
       "    </tr>\n",
       "    <tr>\n",
       "      <th>10</th>\n",
       "      <td>Salad dressings and vegetable oils</td>\n",
       "    </tr>\n",
       "    <tr>\n",
       "      <th>11</th>\n",
       "      <td>Bean, pea, legume dishes</td>\n",
       "    </tr>\n",
       "    <tr>\n",
       "      <th>12</th>\n",
       "      <td>Tortilla, corn, other chips</td>\n",
       "    </tr>\n",
       "    <tr>\n",
       "      <th>13</th>\n",
       "      <td>Cakes and pies</td>\n",
       "    </tr>\n",
       "    <tr>\n",
       "      <th>14</th>\n",
       "      <td>Poultry Products</td>\n",
       "    </tr>\n",
       "    <tr>\n",
       "      <th>15</th>\n",
       "      <td>Nuts and seeds</td>\n",
       "    </tr>\n",
       "    <tr>\n",
       "      <th>16</th>\n",
       "      <td>Fruits and Fruit Juices</td>\n",
       "    </tr>\n",
       "    <tr>\n",
       "      <th>17</th>\n",
       "      <td>Vegetables and Vegetable Products</td>\n",
       "    </tr>\n",
       "    <tr>\n",
       "      <th>18</th>\n",
       "      <td>Restaurant Foods</td>\n",
       "    </tr>\n",
       "    <tr>\n",
       "      <th>19</th>\n",
       "      <td>Other vegetables and combinations</td>\n",
       "    </tr>\n",
       "    <tr>\n",
       "      <th>20</th>\n",
       "      <td>Shellfish</td>\n",
       "    </tr>\n",
       "    <tr>\n",
       "      <th>21</th>\n",
       "      <td>Liquor and cocktails</td>\n",
       "    </tr>\n",
       "    <tr>\n",
       "      <th>22</th>\n",
       "      <td>Dips, gravies, other sauces</td>\n",
       "    </tr>\n",
       "    <tr>\n",
       "      <th>23</th>\n",
       "      <td>Frozen Vegetables</td>\n",
       "    </tr>\n",
       "    <tr>\n",
       "      <th>24</th>\n",
       "      <td>Frozen Fruit &amp; Fruit Juice Concentrates</td>\n",
       "    </tr>\n",
       "    <tr>\n",
       "      <th>25</th>\n",
       "      <td>Canned Vegetables</td>\n",
       "    </tr>\n",
       "    <tr>\n",
       "      <th>26</th>\n",
       "      <td>Legumes and Legume Products</td>\n",
       "    </tr>\n",
       "    <tr>\n",
       "      <th>27</th>\n",
       "      <td>Spices and Herbs</td>\n",
       "    </tr>\n",
       "    <tr>\n",
       "      <th>28</th>\n",
       "      <td>Butter &amp; Spread</td>\n",
       "    </tr>\n",
       "    <tr>\n",
       "      <th>29</th>\n",
       "      <td>Wholesome Snacks</td>\n",
       "    </tr>\n",
       "    <tr>\n",
       "      <th>30</th>\n",
       "      <td>Flavored Rice Dishes</td>\n",
       "    </tr>\n",
       "    <tr>\n",
       "      <th>31</th>\n",
       "      <td>Canned &amp; Bottled Beans</td>\n",
       "    </tr>\n",
       "    <tr>\n",
       "      <th>32</th>\n",
       "      <td>Soups, Sauces, and Gravies</td>\n",
       "    </tr>\n",
       "    <tr>\n",
       "      <th>33</th>\n",
       "      <td>Tea</td>\n",
       "    </tr>\n",
       "    <tr>\n",
       "      <th>34</th>\n",
       "      <td>Yogurt</td>\n",
       "    </tr>\n",
       "    <tr>\n",
       "      <th>35</th>\n",
       "      <td>Popcorn, Peanuts, Seeds &amp; Related Snacks</td>\n",
       "    </tr>\n",
       "    <tr>\n",
       "      <th>36</th>\n",
       "      <td>Beef Products</td>\n",
       "    </tr>\n",
       "    <tr>\n",
       "      <th>37</th>\n",
       "      <td>Iced &amp; Bottle Tea</td>\n",
       "    </tr>\n",
       "    <tr>\n",
       "      <th>38</th>\n",
       "      <td>Candy</td>\n",
       "    </tr>\n",
       "    <tr>\n",
       "      <th>39</th>\n",
       "      <td>Beans, peas, legumes</td>\n",
       "    </tr>\n",
       "    <tr>\n",
       "      <th>40</th>\n",
       "      <td>Breakfast Cereals</td>\n",
       "    </tr>\n",
       "    <tr>\n",
       "      <th>41</th>\n",
       "      <td>French fries and other fried white potatoes</td>\n",
       "    </tr>\n",
       "    <tr>\n",
       "      <th>42</th>\n",
       "      <td>Mashed potatoes and white potato mixtures</td>\n",
       "    </tr>\n",
       "    <tr>\n",
       "      <th>43</th>\n",
       "      <td>Butter and animal fats</td>\n",
       "    </tr>\n",
       "    <tr>\n",
       "      <th>44</th>\n",
       "      <td>Vegetable and Lentil Mixes</td>\n",
       "    </tr>\n",
       "    <tr>\n",
       "      <th>45</th>\n",
       "      <td>Other Grains &amp; Seeds</td>\n",
       "    </tr>\n",
       "    <tr>\n",
       "      <th>46</th>\n",
       "      <td>String beans</td>\n",
       "    </tr>\n",
       "    <tr>\n",
       "      <th>47</th>\n",
       "      <td>Other Drinks</td>\n",
       "    </tr>\n",
       "    <tr>\n",
       "      <th>48</th>\n",
       "      <td>Eggs &amp; Egg Substitutes</td>\n",
       "    </tr>\n",
       "    <tr>\n",
       "      <th>49</th>\n",
       "      <td>Soups</td>\n",
       "    </tr>\n",
       "    <tr>\n",
       "      <th>50</th>\n",
       "      <td>Beef, excludes ground</td>\n",
       "    </tr>\n",
       "    <tr>\n",
       "      <th>51</th>\n",
       "      <td>Milk, whole</td>\n",
       "    </tr>\n",
       "    <tr>\n",
       "      <th>52</th>\n",
       "      <td>Pasta by Shape &amp; Type</td>\n",
       "    </tr>\n",
       "    <tr>\n",
       "      <th>53</th>\n",
       "      <td>Vegetable &amp; Cooking Oils</td>\n",
       "    </tr>\n",
       "    <tr>\n",
       "      <th>54</th>\n",
       "      <td>Not included in a food category</td>\n",
       "    </tr>\n",
       "    <tr>\n",
       "      <th>55</th>\n",
       "      <td>Other red and orange vegetables</td>\n",
       "    </tr>\n",
       "    <tr>\n",
       "      <th>56</th>\n",
       "      <td>Baking Decorations &amp; Dessert Toppings</td>\n",
       "    </tr>\n",
       "    <tr>\n",
       "      <th>57</th>\n",
       "      <td>Fried vegetables</td>\n",
       "    </tr>\n",
       "    <tr>\n",
       "      <th>58</th>\n",
       "      <td>Cereal</td>\n",
       "    </tr>\n",
       "    <tr>\n",
       "      <th>59</th>\n",
       "      <td>Mexican Dinner Mixes</td>\n",
       "    </tr>\n",
       "  </tbody>\n",
       "</table>\n",
       "</div>"
      ],
      "text/plain": [
       "                                        product\n",
       "0                                Baked Products\n",
       "1                      Other starchy vegetables\n",
       "2                      Chips, Pretzels & Snacks\n",
       "3                       Cereal Grains and Pasta\n",
       "4                                        Sweets\n",
       "5                   Sausages and Luncheon Meats\n",
       "6                        Dairy and Egg Products\n",
       "7               Pre-Packaged Fruit & Vegetables\n",
       "8                                 Fats and Oils\n",
       "9                Finfish and Shellfish Products\n",
       "10           Salad dressings and vegetable oils\n",
       "11                     Bean, pea, legume dishes\n",
       "12                  Tortilla, corn, other chips\n",
       "13                               Cakes and pies\n",
       "14                             Poultry Products\n",
       "15                               Nuts and seeds\n",
       "16                      Fruits and Fruit Juices\n",
       "17            Vegetables and Vegetable Products\n",
       "18                             Restaurant Foods\n",
       "19            Other vegetables and combinations\n",
       "20                                    Shellfish\n",
       "21                         Liquor and cocktails\n",
       "22                  Dips, gravies, other sauces\n",
       "23                            Frozen Vegetables\n",
       "24      Frozen Fruit & Fruit Juice Concentrates\n",
       "25                            Canned Vegetables\n",
       "26                  Legumes and Legume Products\n",
       "27                             Spices and Herbs\n",
       "28                              Butter & Spread\n",
       "29                             Wholesome Snacks\n",
       "30                         Flavored Rice Dishes\n",
       "31                       Canned & Bottled Beans\n",
       "32                   Soups, Sauces, and Gravies\n",
       "33                                          Tea\n",
       "34                                       Yogurt\n",
       "35     Popcorn, Peanuts, Seeds & Related Snacks\n",
       "36                                Beef Products\n",
       "37                            Iced & Bottle Tea\n",
       "38                                        Candy\n",
       "39                         Beans, peas, legumes\n",
       "40                            Breakfast Cereals\n",
       "41  French fries and other fried white potatoes\n",
       "42    Mashed potatoes and white potato mixtures\n",
       "43                       Butter and animal fats\n",
       "44                   Vegetable and Lentil Mixes\n",
       "45                         Other Grains & Seeds\n",
       "46                                 String beans\n",
       "47                                 Other Drinks\n",
       "48                       Eggs & Egg Substitutes\n",
       "49                                        Soups\n",
       "50                        Beef, excludes ground\n",
       "51                                  Milk, whole\n",
       "52                        Pasta by Shape & Type\n",
       "53                     Vegetable & Cooking Oils\n",
       "54              Not included in a food category\n",
       "55              Other red and orange vegetables\n",
       "56        Baking Decorations & Dessert Toppings\n",
       "57                             Fried vegetables\n",
       "58                                       Cereal\n",
       "59                         Mexican Dinner Mixes"
      ]
     },
     "execution_count": 506,
     "metadata": {},
     "output_type": "execute_result"
    }
   ],
   "source": [
    "pd.read_csv('../raw_data/food_categories.csv')"
   ]
  },
  {
   "cell_type": "code",
   "execution_count": 508,
   "id": "f42dcdf9",
   "metadata": {},
   "outputs": [
    {
     "data": {
      "text/plain": [
       "array([[1.19500000e-01, 9.56591640e-03, 0.00000000e+00, ...,\n",
       "        0.00000000e+00, 0.00000000e+00, 0.00000000e+00],\n",
       "       [4.20289855e-03, 6.75707162e-04, 6.47604126e-03, ...,\n",
       "        0.00000000e+00, 0.00000000e+00, 0.00000000e+00],\n",
       "       [9.50000000e-02, 1.51125402e-03, 7.20720721e-05, ...,\n",
       "        0.00000000e+00, 0.00000000e+00, 0.00000000e+00],\n",
       "       ...,\n",
       "       [5.40000000e-02, 6.83279743e-03, 6.76576577e-02, ...,\n",
       "        0.00000000e+00, 0.00000000e+00, 0.00000000e+00],\n",
       "       [1.94500000e-02, 2.90996785e-03, 7.95495495e-02, ...,\n",
       "        0.00000000e+00, 0.00000000e+00, 0.00000000e+00],\n",
       "       [1.93000000e-01, 3.32797428e-02, 2.51351351e-02, ...,\n",
       "        0.00000000e+00, 0.00000000e+00, 0.00000000e+00]])"
      ]
     },
     "execution_count": 508,
     "metadata": {},
     "output_type": "execute_result"
    }
   ],
   "source": [
    "X_test"
   ]
  },
  {
   "cell_type": "code",
   "execution_count": 527,
   "id": "eb964f33",
   "metadata": {},
   "outputs": [
    {
     "data": {
      "text/html": [
       "<div>\n",
       "<style scoped>\n",
       "    .dataframe tbody tr th:only-of-type {\n",
       "        vertical-align: middle;\n",
       "    }\n",
       "\n",
       "    .dataframe tbody tr th {\n",
       "        vertical-align: top;\n",
       "    }\n",
       "\n",
       "    .dataframe thead th {\n",
       "        text-align: right;\n",
       "    }\n",
       "</style>\n",
       "<table border=\"1\" class=\"dataframe\">\n",
       "  <thead>\n",
       "    <tr style=\"text-align: right;\">\n",
       "      <th></th>\n",
       "      <th>adm0_name</th>\n",
       "      <th>type</th>\n",
       "      <th>pt_name</th>\n",
       "      <th>usd_rate</th>\n",
       "      <th>protein</th>\n",
       "      <th>fat</th>\n",
       "      <th>carb</th>\n",
       "      <th>sugar</th>\n",
       "      <th>sodium</th>\n",
       "      <th>calcium</th>\n",
       "      <th>kcal</th>\n",
       "      <th>category</th>\n",
       "      <th>2019</th>\n",
       "      <th>expensive</th>\n",
       "    </tr>\n",
       "  </thead>\n",
       "  <tbody>\n",
       "    <tr>\n",
       "      <th>0</th>\n",
       "      <td>Afghanistan</td>\n",
       "      <td>Bread</td>\n",
       "      <td>Retail</td>\n",
       "      <td>0.487571</td>\n",
       "      <td>94.3</td>\n",
       "      <td>35.9</td>\n",
       "      <td>492.0</td>\n",
       "      <td>34.5</td>\n",
       "      <td>4770.0</td>\n",
       "      <td>2110.0</td>\n",
       "      <td>11300.0</td>\n",
       "      <td>Baked Products</td>\n",
       "      <td>149.895975</td>\n",
       "      <td>0</td>\n",
       "    </tr>\n",
       "  </tbody>\n",
       "</table>\n",
       "</div>"
      ],
      "text/plain": [
       "     adm0_name    type pt_name  usd_rate  protein   fat   carb  sugar  sodium  \\\n",
       "0  Afghanistan  Bread   Retail  0.487571     94.3  35.9  492.0   34.5  4770.0   \n",
       "\n",
       "   calcium     kcal        category        2019  expensive  \n",
       "0   2110.0  11300.0  Baked Products  149.895975          0  "
      ]
     },
     "execution_count": 527,
     "metadata": {},
     "output_type": "execute_result"
    }
   ],
   "source": [
    "cheap_food_2.head(1)"
   ]
  },
  {
   "cell_type": "code",
   "execution_count": 511,
   "id": "c85e379c",
   "metadata": {},
   "outputs": [
    {
     "data": {
      "text/plain": [
       "0       0\n",
       "1       0\n",
       "2       0\n",
       "3       0\n",
       "4       0\n",
       "       ..\n",
       "1245    0\n",
       "1246    0\n",
       "1247    0\n",
       "1248    0\n",
       "1249    0\n",
       "Name: expensive, Length: 1227, dtype: int64"
      ]
     },
     "execution_count": 511,
     "metadata": {},
     "output_type": "execute_result"
    }
   ],
   "source": [
    "model.predict('87.5','')"
   ]
  },
  {
   "cell_type": "markdown",
   "id": "1a77f355",
   "metadata": {},
   "source": [
    "### Importing the same mode"
   ]
  },
  {
   "cell_type": "code",
   "execution_count": 583,
   "id": "55fafa54",
   "metadata": {},
   "outputs": [],
   "source": [
    "from tensorflow.keras.models import load_model\n",
    "imp_model = load_model('neural_network_v1.1.h5')"
   ]
  },
  {
   "cell_type": "code",
   "execution_count": 604,
   "id": "cd3a50f1",
   "metadata": {},
   "outputs": [],
   "source": [
    "imp_prep = joblib.load('preprocessor_v1.joblib')"
   ]
  },
  {
   "cell_type": "code",
   "execution_count": null,
   "id": "40174c76",
   "metadata": {},
   "outputs": [],
   "source": []
  },
  {
   "cell_type": "code",
   "execution_count": 576,
   "id": "142f1d24",
   "metadata": {},
   "outputs": [],
   "source": [
    "#merged_df"
   ]
  },
  {
   "cell_type": "code",
   "execution_count": 547,
   "id": "c5ea2bea",
   "metadata": {},
   "outputs": [
    {
     "data": {
      "text/html": [
       "<div>\n",
       "<style scoped>\n",
       "    .dataframe tbody tr th:only-of-type {\n",
       "        vertical-align: middle;\n",
       "    }\n",
       "\n",
       "    .dataframe tbody tr th {\n",
       "        vertical-align: top;\n",
       "    }\n",
       "\n",
       "    .dataframe thead th {\n",
       "        text-align: right;\n",
       "    }\n",
       "</style>\n",
       "<table border=\"1\" class=\"dataframe\">\n",
       "  <thead>\n",
       "    <tr style=\"text-align: right;\">\n",
       "      <th></th>\n",
       "      <th>category</th>\n",
       "      <th>pt_name</th>\n",
       "      <th>protein</th>\n",
       "      <th>fat</th>\n",
       "      <th>carb</th>\n",
       "      <th>sugar</th>\n",
       "      <th>sodium</th>\n",
       "      <th>calcium</th>\n",
       "      <th>kcal</th>\n",
       "      <th>2019</th>\n",
       "    </tr>\n",
       "  </thead>\n",
       "  <tbody>\n",
       "    <tr>\n",
       "      <th>0</th>\n",
       "      <td>Baked Products</td>\n",
       "      <td>Retail</td>\n",
       "      <td>94.3</td>\n",
       "      <td>35.9</td>\n",
       "      <td>492.0</td>\n",
       "      <td>34.5</td>\n",
       "      <td>4770.0</td>\n",
       "      <td>2110.0</td>\n",
       "      <td>11300.0</td>\n",
       "      <td>149.895975</td>\n",
       "    </tr>\n",
       "  </tbody>\n",
       "</table>\n",
       "</div>"
      ],
      "text/plain": [
       "         category pt_name  protein   fat   carb  sugar  sodium  calcium  \\\n",
       "0  Baked Products  Retail     94.3  35.9  492.0   34.5  4770.0   2110.0   \n",
       "\n",
       "      kcal        2019  \n",
       "0  11300.0  149.895975  "
      ]
     },
     "execution_count": 547,
     "metadata": {},
     "output_type": "execute_result"
    }
   ],
   "source": [
    "point = cheap_food_2.head(1).filter(items=['category', 'pt_name', 'protein', 'fat', 'carb', 'sugar', 'sodium',\n",
    "       'calcium', 'kcal', '2019'])\n",
    "point"
   ]
  },
  {
   "cell_type": "code",
   "execution_count": 605,
   "id": "fc346855",
   "metadata": {},
   "outputs": [
    {
     "data": {
      "text/plain": [
       "array([[4.71500000e-02, 5.77170418e-03, 4.43243243e-02, 4.35606061e-04,\n",
       "        8.58943577e-02, 9.49025487e-03, 1.95501730e-01, 2.83908439e-03,\n",
       "        1.00000000e+00, 0.00000000e+00, 1.00000000e+00, 0.00000000e+00,\n",
       "        0.00000000e+00, 0.00000000e+00, 0.00000000e+00, 0.00000000e+00,\n",
       "        0.00000000e+00, 0.00000000e+00, 0.00000000e+00, 0.00000000e+00,\n",
       "        0.00000000e+00, 0.00000000e+00, 0.00000000e+00, 0.00000000e+00,\n",
       "        0.00000000e+00, 0.00000000e+00, 0.00000000e+00, 0.00000000e+00,\n",
       "        0.00000000e+00, 0.00000000e+00, 0.00000000e+00, 0.00000000e+00,\n",
       "        0.00000000e+00, 0.00000000e+00, 0.00000000e+00, 0.00000000e+00,\n",
       "        0.00000000e+00, 0.00000000e+00, 0.00000000e+00, 0.00000000e+00,\n",
       "        0.00000000e+00, 0.00000000e+00, 0.00000000e+00, 0.00000000e+00,\n",
       "        0.00000000e+00, 0.00000000e+00, 0.00000000e+00, 0.00000000e+00,\n",
       "        0.00000000e+00, 0.00000000e+00, 0.00000000e+00, 0.00000000e+00,\n",
       "        0.00000000e+00, 0.00000000e+00, 0.00000000e+00, 0.00000000e+00,\n",
       "        0.00000000e+00, 0.00000000e+00, 0.00000000e+00, 0.00000000e+00,\n",
       "        0.00000000e+00, 0.00000000e+00, 0.00000000e+00, 0.00000000e+00,\n",
       "        0.00000000e+00, 0.00000000e+00, 0.00000000e+00, 0.00000000e+00,\n",
       "        0.00000000e+00, 0.00000000e+00]])"
      ]
     },
     "execution_count": 605,
     "metadata": {},
     "output_type": "execute_result"
    }
   ],
   "source": [
    "\n",
    "point_t = imp_prep.transform(point)\n",
    "point_t"
   ]
  },
  {
   "cell_type": "code",
   "execution_count": 606,
   "id": "1e144845",
   "metadata": {},
   "outputs": [],
   "source": [
    "\n",
    "prediction = imp_model.predict(point_t)"
   ]
  },
  {
   "cell_type": "code",
   "execution_count": 609,
   "id": "27a6c679",
   "metadata": {},
   "outputs": [
    {
     "name": "stdout",
     "output_type": "stream",
     "text": [
      "1.1273446e-16\n",
      "Not Expensive\n"
     ]
    }
   ],
   "source": [
    "print(prediction[0][0])\n",
    "if prediction[0][0] > 0.5:\n",
    "    \n",
    "    print('Expensive')\n",
    "    \n",
    "else:\n",
    "    print('Not Expensive')"
   ]
  },
  {
   "cell_type": "code",
   "execution_count": 610,
   "id": "1dbb8308",
   "metadata": {},
   "outputs": [
    {
     "data": {
      "text/plain": [
       "array([[1.1273488e-16],\n",
       "       [1.0231833e-30],\n",
       "       [9.7961034e-33],\n",
       "       ...,\n",
       "       [1.3591061e-12],\n",
       "       [9.2045797e-05],\n",
       "       [5.3042921e-26]], dtype=float32)"
      ]
     },
     "execution_count": 610,
     "metadata": {},
     "output_type": "execute_result"
    }
   ],
   "source": [
    "prediction_2 = imp_model.predict(X_t)\n",
    "prediction_2"
   ]
  },
  {
   "cell_type": "code",
   "execution_count": 624,
   "id": "5ce75a47",
   "metadata": {},
   "outputs": [
    {
     "data": {
      "text/plain": [
       "<AxesSubplot:>"
      ]
     },
     "execution_count": 624,
     "metadata": {},
     "output_type": "execute_result"
    },
    {
     "data": {
      "image/png": "[encoded data removed]",
      "text/plain": [
       "<Figure size 432x288 with 1 Axes>"
      ]
     },
     "metadata": {
      "needs_background": "light"
     },
     "output_type": "display_data"
    }
   ],
   "source": [
    "pd.DataFrame(prediction_2, columns=['prediction'])['prediction'].apply(lambda x: 1 if x > 0.5 else 0).hist()"
   ]
  },
  {
   "cell_type": "code",
   "execution_count": 629,
   "id": "37d90048",
   "metadata": {},
   "outputs": [
    {
     "ename": "TypeError",
     "evalue": "scatter() missing 1 required positional argument: 'y'",
     "output_type": "error",
     "traceback": [
      "\u001b[0;31m---------------------------------------------------------------------------\u001b[0m",
      "\u001b[0;31mTypeError\u001b[0m                                 Traceback (most recent call last)",
      "\u001b[0;32m/tmp/ipykernel_14649/788909772.py\u001b[0m in \u001b[0;36m<module>\u001b[0;34m\u001b[0m\n\u001b[0;32m----> 1\u001b[0;31m \u001b[0mplt\u001b[0m\u001b[0;34m.\u001b[0m\u001b[0mscatter\u001b[0m\u001b[0;34m(\u001b[0m\u001b[0mpd\u001b[0m\u001b[0;34m.\u001b[0m\u001b[0mDataFrame\u001b[0m\u001b[0;34m(\u001b[0m\u001b[0mprediction_2\u001b[0m\u001b[0;34m,\u001b[0m \u001b[0mcolumns\u001b[0m\u001b[0;34m=\u001b[0m\u001b[0;34m[\u001b[0m\u001b[0;34m'prediction'\u001b[0m\u001b[0;34m]\u001b[0m\u001b[0;34m)\u001b[0m\u001b[0;34m[\u001b[0m\u001b[0;34m'prediction'\u001b[0m\u001b[0;34m]\u001b[0m\u001b[0;34m)\u001b[0m\u001b[0;34m\u001b[0m\u001b[0;34m\u001b[0m\u001b[0m\n\u001b[0m",
      "\u001b[0;31mTypeError\u001b[0m: scatter() missing 1 required positional argument: 'y'"
     ]
    }
   ],
   "source": [
    "plt.scatter(pd.DataFrame(prediction_2, columns=['prediction'])['prediction'])"
   ]
  },
  {
   "cell_type": "code",
   "execution_count": 630,
   "id": "e07772c4",
   "metadata": {},
   "outputs": [
    {
     "data": {
      "text/plain": [
       "6       0.651420\n",
       "7       0.651420\n",
       "8       0.651420\n",
       "15      0.999999\n",
       "19      0.666523\n",
       "          ...   \n",
       "1207    0.914898\n",
       "1208    0.992467\n",
       "1213    0.999158\n",
       "1214    0.999158\n",
       "1215    0.994147\n",
       "Name: prediction, Length: 211, dtype: float32"
      ]
     },
     "execution_count": 630,
     "metadata": {},
     "output_type": "execute_result"
    }
   ],
   "source": [
    "pd.DataFrame(prediction_2, columns=['prediction'])['prediction'].loc[pd.DataFrame(prediction_2, columns=['prediction'])['prediction'] > 0.5]"
   ]
  },
  {
   "cell_type": "code",
   "execution_count": 631,
   "id": "d0daf230",
   "metadata": {},
   "outputs": [
    {
     "data": {
      "text/plain": [
       "0       1.127349e-16\n",
       "1       1.023183e-30\n",
       "2       9.796103e-33\n",
       "3       1.194373e-12\n",
       "4       1.194373e-12\n",
       "            ...     \n",
       "1222    1.359106e-12\n",
       "1223    1.415534e-12\n",
       "1224    1.359106e-12\n",
       "1225    9.204580e-05\n",
       "1226    5.304292e-26\n",
       "Name: prediction, Length: 1016, dtype: float32"
      ]
     },
     "execution_count": 631,
     "metadata": {},
     "output_type": "execute_result"
    }
   ],
   "source": [
    "pd.DataFrame(prediction_2, columns=['prediction'])['prediction'].loc[pd.DataFrame(prediction_2, columns=['prediction'])['prediction'] < 0.5]"
   ]
  },
  {
   "cell_type": "code",
   "execution_count": 159,
   "id": "fb8b0fc1",
   "metadata": {},
   "outputs": [],
   "source": [
    "loss = history.history['loss']\n",
    "acc = history.history['accuracy']\n",
    "it = np.arange(1,len(history.history['loss'])+1)"
   ]
  },
  {
   "cell_type": "code",
   "execution_count": 180,
   "id": "f275efab",
   "metadata": {},
   "outputs": [],
   "source": [
    "def draw_result(lst_iter, lst_loss, lst_acc, title):\n",
    "    plt.figure(figsize=(12,8))\n",
    "    plt.plot(lst_iter, lst_loss, '-b', label='loss')\n",
    "    plt.plot(lst_iter, lst_acc, '-r', label='accuracy')\n",
    "\n",
    "    plt.xlabel(\"n iteration\")\n",
    "    plt.legend(loc='upper left')\n",
    "    plt.title(title)\n",
    "\n",
    "    # save image\n",
    "    plt.savefig(title+\".png\")  # should before show method\n",
    "\n",
    "    # show\n",
    "    plt.show()"
   ]
  },
  {
   "cell_type": "code",
   "execution_count": null,
   "id": "1884d9ae",
   "metadata": {},
   "outputs": [],
   "source": []
  },
  {
   "cell_type": "code",
   "execution_count": 183,
   "id": "45183f5d",
   "metadata": {},
   "outputs": [
    {
     "data": {
      "image/png": "[encoded data removed]",
      "text/plain": [
       "<Figure size 864x576 with 1 Axes>"
      ]
     },
     "metadata": {
      "needs_background": "light"
     },
     "output_type": "display_data"
    }
   ],
   "source": [
    "draw_result(it,loss,acc,'Loss and Accuracy')"
   ]
  },
  {
   "cell_type": "code",
   "execution_count": 189,
   "id": "15159e42",
   "metadata": {},
   "outputs": [
    {
     "data": {
      "text/plain": [
       "0.7814251401120896"
      ]
     },
     "execution_count": 189,
     "metadata": {},
     "output_type": "execute_result"
    }
   ],
   "source": [
    "y.value_counts()[0]/len(y)"
   ]
  },
  {
   "cell_type": "code",
   "execution_count": 192,
   "id": "66825e2b",
   "metadata": {},
   "outputs": [
    {
     "data": {
      "text/plain": [
       "71"
      ]
     },
     "execution_count": 192,
     "metadata": {},
     "output_type": "execute_result"
    }
   ],
   "source": [
    "merged_df['adm0_name'].nunique()"
   ]
  },
  {
   "cell_type": "code",
   "execution_count": 193,
   "id": "98697139",
   "metadata": {},
   "outputs": [
    {
     "data": {
      "text/html": [
       "<div>\n",
       "<style scoped>\n",
       "    .dataframe tbody tr th:only-of-type {\n",
       "        vertical-align: middle;\n",
       "    }\n",
       "\n",
       "    .dataframe tbody tr th {\n",
       "        vertical-align: top;\n",
       "    }\n",
       "\n",
       "    .dataframe thead th {\n",
       "        text-align: right;\n",
       "    }\n",
       "</style>\n",
       "<table border=\"1\" class=\"dataframe\">\n",
       "  <thead>\n",
       "    <tr style=\"text-align: right;\">\n",
       "      <th></th>\n",
       "      <th>category</th>\n",
       "      <th>pt_name</th>\n",
       "      <th>protein</th>\n",
       "      <th>fat</th>\n",
       "      <th>carb</th>\n",
       "      <th>sugar</th>\n",
       "      <th>sodium</th>\n",
       "      <th>calcium</th>\n",
       "      <th>kcal</th>\n",
       "      <th>2019</th>\n",
       "    </tr>\n",
       "  </thead>\n",
       "  <tbody>\n",
       "    <tr>\n",
       "      <th>0</th>\n",
       "      <td>Baked Products</td>\n",
       "      <td>Retail</td>\n",
       "      <td>94.300000</td>\n",
       "      <td>35.9</td>\n",
       "      <td>492.000000</td>\n",
       "      <td>34.5</td>\n",
       "      <td>4770.000000</td>\n",
       "      <td>2110.000000</td>\n",
       "      <td>11300.000000</td>\n",
       "      <td>149.895975</td>\n",
       "    </tr>\n",
       "    <tr>\n",
       "      <th>1</th>\n",
       "      <td>Other starchy vegetables</td>\n",
       "      <td>Retail</td>\n",
       "      <td>12.600000</td>\n",
       "      <td>32.4</td>\n",
       "      <td>309.000000</td>\n",
       "      <td>12.0</td>\n",
       "      <td>1160.000000</td>\n",
       "      <td>30.000000</td>\n",
       "      <td>1440.000000</td>\n",
       "      <td>149.895975</td>\n",
       "    </tr>\n",
       "    <tr>\n",
       "      <th>2</th>\n",
       "      <td>Chips, Pretzels &amp; Snacks</td>\n",
       "      <td>Retail</td>\n",
       "      <td>639.285714</td>\n",
       "      <td>255.0</td>\n",
       "      <td>2167.857143</td>\n",
       "      <td>0.0</td>\n",
       "      <td>14035.714286</td>\n",
       "      <td>3821.428571</td>\n",
       "      <td>14035.714286</td>\n",
       "      <td>149.895975</td>\n",
       "    </tr>\n",
       "    <tr>\n",
       "      <th>3</th>\n",
       "      <td>Cereal Grains and Pasta</td>\n",
       "      <td>Retail</td>\n",
       "      <td>71.900000</td>\n",
       "      <td>38.5</td>\n",
       "      <td>755.000000</td>\n",
       "      <td>96.8</td>\n",
       "      <td>10.000000</td>\n",
       "      <td>100.000000</td>\n",
       "      <td>3650.000000</td>\n",
       "      <td>149.895975</td>\n",
       "    </tr>\n",
       "    <tr>\n",
       "      <th>4</th>\n",
       "      <td>Cereal Grains and Pasta</td>\n",
       "      <td>Retail</td>\n",
       "      <td>71.900000</td>\n",
       "      <td>38.5</td>\n",
       "      <td>755.000000</td>\n",
       "      <td>96.8</td>\n",
       "      <td>10.000000</td>\n",
       "      <td>100.000000</td>\n",
       "      <td>3650.000000</td>\n",
       "      <td>149.895975</td>\n",
       "    </tr>\n",
       "    <tr>\n",
       "      <th>...</th>\n",
       "      <td>...</td>\n",
       "      <td>...</td>\n",
       "      <td>...</td>\n",
       "      <td>...</td>\n",
       "      <td>...</td>\n",
       "      <td>...</td>\n",
       "      <td>...</td>\n",
       "      <td>...</td>\n",
       "      <td>...</td>\n",
       "      <td>...</td>\n",
       "    </tr>\n",
       "    <tr>\n",
       "      <th>1245</th>\n",
       "      <td>Cereal Grains and Pasta</td>\n",
       "      <td>Retail</td>\n",
       "      <td>87.500000</td>\n",
       "      <td>50.9</td>\n",
       "      <td>739.000000</td>\n",
       "      <td>4.7</td>\n",
       "      <td>50.000000</td>\n",
       "      <td>50.000000</td>\n",
       "      <td>3640.000000</td>\n",
       "      <td>109.251270</td>\n",
       "    </tr>\n",
       "    <tr>\n",
       "      <th>1246</th>\n",
       "      <td>Cereal Grains and Pasta</td>\n",
       "      <td>Retail</td>\n",
       "      <td>71.900000</td>\n",
       "      <td>38.5</td>\n",
       "      <td>755.000000</td>\n",
       "      <td>96.8</td>\n",
       "      <td>10.000000</td>\n",
       "      <td>100.000000</td>\n",
       "      <td>3650.000000</td>\n",
       "      <td>109.251270</td>\n",
       "    </tr>\n",
       "    <tr>\n",
       "      <th>1247</th>\n",
       "      <td>Cereal Grains and Pasta</td>\n",
       "      <td>Retail</td>\n",
       "      <td>87.500000</td>\n",
       "      <td>50.9</td>\n",
       "      <td>739.000000</td>\n",
       "      <td>4.7</td>\n",
       "      <td>50.000000</td>\n",
       "      <td>50.000000</td>\n",
       "      <td>3640.000000</td>\n",
       "      <td>109.251270</td>\n",
       "    </tr>\n",
       "    <tr>\n",
       "      <th>1248</th>\n",
       "      <td>Baking Decorations &amp; Dessert Toppings</td>\n",
       "      <td>Retail</td>\n",
       "      <td>2000.000000</td>\n",
       "      <td>2000.0</td>\n",
       "      <td>1000.000000</td>\n",
       "      <td>1000.0</td>\n",
       "      <td>0.000000</td>\n",
       "      <td>NaN</td>\n",
       "      <td>30000.000000</td>\n",
       "      <td>NaN</td>\n",
       "    </tr>\n",
       "    <tr>\n",
       "      <th>1249</th>\n",
       "      <td>Vegetables and Vegetable Products</td>\n",
       "      <td>Retail</td>\n",
       "      <td>41.000000</td>\n",
       "      <td>2.5</td>\n",
       "      <td>48.200000</td>\n",
       "      <td>9.0</td>\n",
       "      <td>70.000000</td>\n",
       "      <td>630.000000</td>\n",
       "      <td>290.000000</td>\n",
       "      <td>NaN</td>\n",
       "    </tr>\n",
       "  </tbody>\n",
       "</table>\n",
       "<p>1249 rows × 10 columns</p>\n",
       "</div>"
      ],
      "text/plain": [
       "                                   category pt_name      protein     fat  \\\n",
       "0                            Baked Products  Retail    94.300000    35.9   \n",
       "1                  Other starchy vegetables  Retail    12.600000    32.4   \n",
       "2                  Chips, Pretzels & Snacks  Retail   639.285714   255.0   \n",
       "3                   Cereal Grains and Pasta  Retail    71.900000    38.5   \n",
       "4                   Cereal Grains and Pasta  Retail    71.900000    38.5   \n",
       "...                                     ...     ...          ...     ...   \n",
       "1245                Cereal Grains and Pasta  Retail    87.500000    50.9   \n",
       "1246                Cereal Grains and Pasta  Retail    71.900000    38.5   \n",
       "1247                Cereal Grains and Pasta  Retail    87.500000    50.9   \n",
       "1248  Baking Decorations & Dessert Toppings  Retail  2000.000000  2000.0   \n",
       "1249      Vegetables and Vegetable Products  Retail    41.000000     2.5   \n",
       "\n",
       "             carb   sugar        sodium      calcium          kcal        2019  \n",
       "0      492.000000    34.5   4770.000000  2110.000000  11300.000000  149.895975  \n",
       "1      309.000000    12.0   1160.000000    30.000000   1440.000000  149.895975  \n",
       "2     2167.857143     0.0  14035.714286  3821.428571  14035.714286  149.895975  \n",
       "3      755.000000    96.8     10.000000   100.000000   3650.000000  149.895975  \n",
       "4      755.000000    96.8     10.000000   100.000000   3650.000000  149.895975  \n",
       "...           ...     ...           ...          ...           ...         ...  \n",
       "1245   739.000000     4.7     50.000000    50.000000   3640.000000  109.251270  \n",
       "1246   755.000000    96.8     10.000000   100.000000   3650.000000  109.251270  \n",
       "1247   739.000000     4.7     50.000000    50.000000   3640.000000  109.251270  \n",
       "1248  1000.000000  1000.0      0.000000          NaN  30000.000000         NaN  \n",
       "1249    48.200000     9.0     70.000000   630.000000    290.000000         NaN  \n",
       "\n",
       "[1249 rows x 10 columns]"
      ]
     },
     "execution_count": 193,
     "metadata": {},
     "output_type": "execute_result"
    }
   ],
   "source": [
    "X"
   ]
  },
  {
   "cell_type": "code",
   "execution_count": 195,
   "id": "ccf0e848",
   "metadata": {},
   "outputs": [
    {
     "data": {
      "text/html": [
       "<div>\n",
       "<style scoped>\n",
       "    .dataframe tbody tr th:only-of-type {\n",
       "        vertical-align: middle;\n",
       "    }\n",
       "\n",
       "    .dataframe tbody tr th {\n",
       "        vertical-align: top;\n",
       "    }\n",
       "\n",
       "    .dataframe thead th {\n",
       "        text-align: right;\n",
       "    }\n",
       "</style>\n",
       "<table border=\"1\" class=\"dataframe\">\n",
       "  <thead>\n",
       "    <tr style=\"text-align: right;\">\n",
       "      <th></th>\n",
       "      <th>expensive</th>\n",
       "    </tr>\n",
       "  </thead>\n",
       "  <tbody>\n",
       "    <tr>\n",
       "      <th>0</th>\n",
       "      <td>0</td>\n",
       "    </tr>\n",
       "    <tr>\n",
       "      <th>1</th>\n",
       "      <td>0</td>\n",
       "    </tr>\n",
       "    <tr>\n",
       "      <th>2</th>\n",
       "      <td>0</td>\n",
       "    </tr>\n",
       "    <tr>\n",
       "      <th>3</th>\n",
       "      <td>0</td>\n",
       "    </tr>\n",
       "    <tr>\n",
       "      <th>4</th>\n",
       "      <td>0</td>\n",
       "    </tr>\n",
       "    <tr>\n",
       "      <th>...</th>\n",
       "      <td>...</td>\n",
       "    </tr>\n",
       "    <tr>\n",
       "      <th>1245</th>\n",
       "      <td>0</td>\n",
       "    </tr>\n",
       "    <tr>\n",
       "      <th>1246</th>\n",
       "      <td>0</td>\n",
       "    </tr>\n",
       "    <tr>\n",
       "      <th>1247</th>\n",
       "      <td>0</td>\n",
       "    </tr>\n",
       "    <tr>\n",
       "      <th>1248</th>\n",
       "      <td>0</td>\n",
       "    </tr>\n",
       "    <tr>\n",
       "      <th>1249</th>\n",
       "      <td>0</td>\n",
       "    </tr>\n",
       "  </tbody>\n",
       "</table>\n",
       "<p>1249 rows × 1 columns</p>\n",
       "</div>"
      ],
      "text/plain": [
       "      expensive\n",
       "0             0\n",
       "1             0\n",
       "2             0\n",
       "3             0\n",
       "4             0\n",
       "...         ...\n",
       "1245          0\n",
       "1246          0\n",
       "1247          0\n",
       "1248          0\n",
       "1249          0\n",
       "\n",
       "[1249 rows x 1 columns]"
      ]
     },
     "execution_count": 195,
     "metadata": {},
     "output_type": "execute_result"
    }
   ],
   "source": [
    "pd.DataFrame(y)"
   ]
  },
  {
   "cell_type": "code",
   "execution_count": 197,
   "id": "3aaaf51b",
   "metadata": {},
   "outputs": [
    {
     "data": {
      "text/html": [
       "<div>\n",
       "<style scoped>\n",
       "    .dataframe tbody tr th:only-of-type {\n",
       "        vertical-align: middle;\n",
       "    }\n",
       "\n",
       "    .dataframe tbody tr th {\n",
       "        vertical-align: top;\n",
       "    }\n",
       "\n",
       "    .dataframe thead th {\n",
       "        text-align: right;\n",
       "    }\n",
       "</style>\n",
       "<table border=\"1\" class=\"dataframe\">\n",
       "  <thead>\n",
       "    <tr style=\"text-align: right;\">\n",
       "      <th></th>\n",
       "      <th>expensive</th>\n",
       "    </tr>\n",
       "  </thead>\n",
       "  <tbody>\n",
       "    <tr>\n",
       "      <th>0</th>\n",
       "      <td>976</td>\n",
       "    </tr>\n",
       "    <tr>\n",
       "      <th>1</th>\n",
       "      <td>273</td>\n",
       "    </tr>\n",
       "  </tbody>\n",
       "</table>\n",
       "</div>"
      ],
      "text/plain": [
       "   expensive\n",
       "0        976\n",
       "1        273"
      ]
     },
     "execution_count": 197,
     "metadata": {},
     "output_type": "execute_result"
    }
   ],
   "source": [
    "pd.DataFrame(y.value_counts())"
   ]
  },
  {
   "cell_type": "code",
   "execution_count": 201,
   "id": "afb4fda5",
   "metadata": {},
   "outputs": [
    {
     "ename": "AttributeError",
     "evalue": "'DataFrame' object has no attribute 'unique'",
     "output_type": "error",
     "traceback": [
      "\u001b[0;31m---------------------------------------------------------------------------\u001b[0m",
      "\u001b[0;31mAttributeError\u001b[0m                            Traceback (most recent call last)",
      "\u001b[0;32m/tmp/ipykernel_4240/4109860447.py\u001b[0m in \u001b[0;36m<module>\u001b[0;34m\u001b[0m\n\u001b[0;32m----> 1\u001b[0;31m \u001b[0mclean_merged\u001b[0m\u001b[0;34m.\u001b[0m\u001b[0mfilter\u001b[0m\u001b[0;34m(\u001b[0m\u001b[0mitems\u001b[0m\u001b[0;34m=\u001b[0m\u001b[0;34m[\u001b[0m\u001b[0;34m'adm0_name'\u001b[0m\u001b[0;34m,\u001b[0m\u001b[0;34m'2019'\u001b[0m\u001b[0;34m]\u001b[0m\u001b[0;34m)\u001b[0m\u001b[0;34m.\u001b[0m\u001b[0munique\u001b[0m\u001b[0;34m(\u001b[0m\u001b[0;34m)\u001b[0m\u001b[0;34m\u001b[0m\u001b[0;34m\u001b[0m\u001b[0m\n\u001b[0m",
      "\u001b[0;32m~/.pyenv/versions/3.8.12/envs/lewagon/lib/python3.8/site-packages/pandas/core/generic.py\u001b[0m in \u001b[0;36m__getattr__\u001b[0;34m(self, name)\u001b[0m\n\u001b[1;32m   5485\u001b[0m         ):\n\u001b[1;32m   5486\u001b[0m             \u001b[0;32mreturn\u001b[0m \u001b[0mself\u001b[0m\u001b[0;34m[\u001b[0m\u001b[0mname\u001b[0m\u001b[0;34m]\u001b[0m\u001b[0;34m\u001b[0m\u001b[0;34m\u001b[0m\u001b[0m\n\u001b[0;32m-> 5487\u001b[0;31m         \u001b[0;32mreturn\u001b[0m \u001b[0mobject\u001b[0m\u001b[0;34m.\u001b[0m\u001b[0m__getattribute__\u001b[0m\u001b[0;34m(\u001b[0m\u001b[0mself\u001b[0m\u001b[0;34m,\u001b[0m \u001b[0mname\u001b[0m\u001b[0;34m)\u001b[0m\u001b[0;34m\u001b[0m\u001b[0;34m\u001b[0m\u001b[0m\n\u001b[0m\u001b[1;32m   5488\u001b[0m \u001b[0;34m\u001b[0m\u001b[0m\n\u001b[1;32m   5489\u001b[0m     \u001b[0;32mdef\u001b[0m \u001b[0m__setattr__\u001b[0m\u001b[0;34m(\u001b[0m\u001b[0mself\u001b[0m\u001b[0;34m,\u001b[0m \u001b[0mname\u001b[0m\u001b[0;34m:\u001b[0m \u001b[0mstr\u001b[0m\u001b[0;34m,\u001b[0m \u001b[0mvalue\u001b[0m\u001b[0;34m)\u001b[0m \u001b[0;34m->\u001b[0m \u001b[0;32mNone\u001b[0m\u001b[0;34m:\u001b[0m\u001b[0;34m\u001b[0m\u001b[0;34m\u001b[0m\u001b[0m\n",
      "\u001b[0;31mAttributeError\u001b[0m: 'DataFrame' object has no attribute 'unique'"
     ]
    }
   ],
   "source": [
    "clean_merged.filter(items=['adm0_name','2019'])"
   ]
  },
  {
   "cell_type": "code",
   "execution_count": 252,
   "id": "54bcbc06",
   "metadata": {},
   "outputs": [],
   "source": [
    "clean_cpi = clean_merged.groupby(by='adm0_name').mean().filter(items=['2019']).reset_index()"
   ]
  },
  {
   "cell_type": "code",
   "execution_count": 253,
   "id": "4af0da05",
   "metadata": {},
   "outputs": [
    {
     "data": {
      "text/plain": [
       "434.52994637377054"
      ]
     },
     "execution_count": 253,
     "metadata": {},
     "output_type": "execute_result"
    }
   ],
   "source": [
    "clean_cpi['2019'].mean()"
   ]
  },
  {
   "cell_type": "code",
   "execution_count": 254,
   "id": "6f7df576",
   "metadata": {},
   "outputs": [
    {
     "data": {
      "text/plain": [
       "0     149.895975\n",
       "1     378.883721\n",
       "2            NaN\n",
       "3     129.176007\n",
       "4     179.679822\n",
       "         ...    \n",
       "66    113.310442\n",
       "67    234.437126\n",
       "68    173.871268\n",
       "69           NaN\n",
       "70    212.308759\n",
       "Name: 2019, Length: 71, dtype: float64"
      ]
     },
     "execution_count": 254,
     "metadata": {},
     "output_type": "execute_result"
    }
   ],
   "source": [
    "clean_cpi['2019']"
   ]
  },
  {
   "cell_type": "code",
   "execution_count": 255,
   "id": "b457b6d6",
   "metadata": {},
   "outputs": [
    {
     "data": {
      "text/plain": [
       "434.52994637377054"
      ]
     },
     "execution_count": 255,
     "metadata": {},
     "output_type": "execute_result"
    }
   ],
   "source": [
    "clean_cpi['2019'].mean()"
   ]
  },
  {
   "cell_type": "code",
   "execution_count": 256,
   "id": "dafd7ff2",
   "metadata": {},
   "outputs": [],
   "source": [
    "clean_cpi['2019'].replace(np.nan, 434,inplace=True)"
   ]
  },
  {
   "cell_type": "code",
   "execution_count": 257,
   "id": "62322ab4",
   "metadata": {},
   "outputs": [],
   "source": [
    "clean_cpi.to_csv('../raw_data/country_cpi.csv', index=False)"
   ]
  },
  {
   "cell_type": "code",
   "execution_count": 258,
   "id": "20ba59e5",
   "metadata": {},
   "outputs": [
    {
     "data": {
      "text/html": [
       "<div>\n",
       "<style scoped>\n",
       "    .dataframe tbody tr th:only-of-type {\n",
       "        vertical-align: middle;\n",
       "    }\n",
       "\n",
       "    .dataframe tbody tr th {\n",
       "        vertical-align: top;\n",
       "    }\n",
       "\n",
       "    .dataframe thead th {\n",
       "        text-align: right;\n",
       "    }\n",
       "</style>\n",
       "<table border=\"1\" class=\"dataframe\">\n",
       "  <thead>\n",
       "    <tr style=\"text-align: right;\">\n",
       "      <th></th>\n",
       "      <th>adm0_name</th>\n",
       "      <th>2019</th>\n",
       "    </tr>\n",
       "  </thead>\n",
       "  <tbody>\n",
       "    <tr>\n",
       "      <th>0</th>\n",
       "      <td>Afghanistan</td>\n",
       "      <td>149.895975</td>\n",
       "    </tr>\n",
       "    <tr>\n",
       "      <th>1</th>\n",
       "      <td>Angola</td>\n",
       "      <td>378.883721</td>\n",
       "    </tr>\n",
       "    <tr>\n",
       "      <th>2</th>\n",
       "      <td>Argentina</td>\n",
       "      <td>434.000000</td>\n",
       "    </tr>\n",
       "    <tr>\n",
       "      <th>3</th>\n",
       "      <td>Armenia</td>\n",
       "      <td>129.176007</td>\n",
       "    </tr>\n",
       "    <tr>\n",
       "      <th>4</th>\n",
       "      <td>Bangladesh</td>\n",
       "      <td>179.679822</td>\n",
       "    </tr>\n",
       "    <tr>\n",
       "      <th>...</th>\n",
       "      <td>...</td>\n",
       "      <td>...</td>\n",
       "    </tr>\n",
       "    <tr>\n",
       "      <th>66</th>\n",
       "      <td>Togo</td>\n",
       "      <td>113.310442</td>\n",
       "    </tr>\n",
       "    <tr>\n",
       "      <th>67</th>\n",
       "      <td>Turkey</td>\n",
       "      <td>234.437126</td>\n",
       "    </tr>\n",
       "    <tr>\n",
       "      <th>68</th>\n",
       "      <td>Uganda</td>\n",
       "      <td>173.871268</td>\n",
       "    </tr>\n",
       "    <tr>\n",
       "      <th>69</th>\n",
       "      <td>Yemen</td>\n",
       "      <td>434.000000</td>\n",
       "    </tr>\n",
       "    <tr>\n",
       "      <th>70</th>\n",
       "      <td>Zambia</td>\n",
       "      <td>212.308759</td>\n",
       "    </tr>\n",
       "  </tbody>\n",
       "</table>\n",
       "<p>71 rows × 2 columns</p>\n",
       "</div>"
      ],
      "text/plain": [
       "      adm0_name        2019\n",
       "0   Afghanistan  149.895975\n",
       "1        Angola  378.883721\n",
       "2     Argentina  434.000000\n",
       "3       Armenia  129.176007\n",
       "4    Bangladesh  179.679822\n",
       "..          ...         ...\n",
       "66         Togo  113.310442\n",
       "67       Turkey  234.437126\n",
       "68       Uganda  173.871268\n",
       "69        Yemen  434.000000\n",
       "70       Zambia  212.308759\n",
       "\n",
       "[71 rows x 2 columns]"
      ]
     },
     "execution_count": 258,
     "metadata": {},
     "output_type": "execute_result"
    }
   ],
   "source": [
    "pd.read_csv('../raw_data/country_cpi.csv')"
   ]
  },
  {
   "cell_type": "code",
   "execution_count": 289,
   "id": "3642cc6c",
   "metadata": {},
   "outputs": [
    {
     "name": "stdout",
     "output_type": "stream",
     "text": [
      "switched to branded\n"
     ]
    }
   ],
   "source": [
    "test = nutrients_super('watermelon')"
   ]
  },
  {
   "cell_type": "code",
   "execution_count": 295,
   "id": "47f74493",
   "metadata": {},
   "outputs": [
    {
     "data": {
      "text/plain": [
       "dict_keys(['protein', 'fat', 'carb', 'sugar', 'sodium', 'cholesterol', 'calcium', 'kcal', 'size', 'unit', 'category'])"
      ]
     },
     "execution_count": 295,
     "metadata": {},
     "output_type": "execute_result"
    }
   ],
   "source": [
    "test.keys()"
   ]
  },
  {
   "cell_type": "code",
   "execution_count": 326,
   "id": "dcc627c5",
   "metadata": {},
   "outputs": [
    {
     "data": {
      "text/plain": [
       "{'protein': 0.78,\n",
       " 'fat': 0.25,\n",
       " 'carb': 7.45,\n",
       " 'sugar': 0.0,\n",
       " 'sodium': 0.0,\n",
       " 'cholesterol': 0.0,\n",
       " 'calcium': 'not found',\n",
       " 'kcal': 31.0,\n",
       " 'size': 255.10000610351562,\n",
       " 'unit': 'g',\n",
       " 'category': 'Pre-Packaged Fruit & Vegetables'}"
      ]
     },
     "execution_count": 326,
     "metadata": {},
     "output_type": "execute_result"
    }
   ],
   "source": [
    "test"
   ]
  },
  {
   "cell_type": "code",
   "execution_count": 325,
   "id": "021d17c9",
   "metadata": {},
   "outputs": [
    {
     "ename": "ValueError",
     "evalue": "If using all scalar values, you must pass an index",
     "output_type": "error",
     "traceback": [
      "\u001b[0;31m---------------------------------------------------------------------------\u001b[0m",
      "\u001b[0;31mValueError\u001b[0m                                Traceback (most recent call last)",
      "\u001b[0;32m/tmp/ipykernel_4240/1952165162.py\u001b[0m in \u001b[0;36m<module>\u001b[0;34m\u001b[0m\n\u001b[0;32m----> 1\u001b[0;31m \u001b[0mpd\u001b[0m\u001b[0;34m.\u001b[0m\u001b[0mDataFrame\u001b[0m\u001b[0;34m.\u001b[0m\u001b[0mfrom_dict\u001b[0m\u001b[0;34m(\u001b[0m\u001b[0mtest\u001b[0m\u001b[0;34m)\u001b[0m\u001b[0;34m\u001b[0m\u001b[0;34m\u001b[0m\u001b[0m\n\u001b[0m",
      "\u001b[0;32m~/.pyenv/versions/3.8.12/envs/lewagon/lib/python3.8/site-packages/pandas/core/frame.py\u001b[0m in \u001b[0;36mfrom_dict\u001b[0;34m(cls, data, orient, dtype, columns)\u001b[0m\n\u001b[1;32m   1591\u001b[0m             \u001b[0;32mraise\u001b[0m \u001b[0mValueError\u001b[0m\u001b[0;34m(\u001b[0m\u001b[0;34m\"only recognize index or columns for orient\"\u001b[0m\u001b[0;34m)\u001b[0m\u001b[0;34m\u001b[0m\u001b[0;34m\u001b[0m\u001b[0m\n\u001b[1;32m   1592\u001b[0m \u001b[0;34m\u001b[0m\u001b[0m\n\u001b[0;32m-> 1593\u001b[0;31m         \u001b[0;32mreturn\u001b[0m \u001b[0mcls\u001b[0m\u001b[0;34m(\u001b[0m\u001b[0mdata\u001b[0m\u001b[0;34m,\u001b[0m \u001b[0mindex\u001b[0m\u001b[0;34m=\u001b[0m\u001b[0mindex\u001b[0m\u001b[0;34m,\u001b[0m \u001b[0mcolumns\u001b[0m\u001b[0;34m=\u001b[0m\u001b[0mcolumns\u001b[0m\u001b[0;34m,\u001b[0m \u001b[0mdtype\u001b[0m\u001b[0;34m=\u001b[0m\u001b[0mdtype\u001b[0m\u001b[0;34m)\u001b[0m\u001b[0;34m\u001b[0m\u001b[0;34m\u001b[0m\u001b[0m\n\u001b[0m\u001b[1;32m   1594\u001b[0m \u001b[0;34m\u001b[0m\u001b[0m\n\u001b[1;32m   1595\u001b[0m     def to_numpy(\n",
      "\u001b[0;32m~/.pyenv/versions/3.8.12/envs/lewagon/lib/python3.8/site-packages/pandas/core/frame.py\u001b[0m in \u001b[0;36m__init__\u001b[0;34m(self, data, index, columns, dtype, copy)\u001b[0m\n\u001b[1;32m    612\u001b[0m         \u001b[0;32melif\u001b[0m \u001b[0misinstance\u001b[0m\u001b[0;34m(\u001b[0m\u001b[0mdata\u001b[0m\u001b[0;34m,\u001b[0m \u001b[0mdict\u001b[0m\u001b[0;34m)\u001b[0m\u001b[0;34m:\u001b[0m\u001b[0;34m\u001b[0m\u001b[0;34m\u001b[0m\u001b[0m\n\u001b[1;32m    613\u001b[0m             \u001b[0;31m# GH#38939 de facto copy defaults to False only in non-dict cases\u001b[0m\u001b[0;34m\u001b[0m\u001b[0;34m\u001b[0m\u001b[0;34m\u001b[0m\u001b[0m\n\u001b[0;32m--> 614\u001b[0;31m             \u001b[0mmgr\u001b[0m \u001b[0;34m=\u001b[0m \u001b[0mdict_to_mgr\u001b[0m\u001b[0;34m(\u001b[0m\u001b[0mdata\u001b[0m\u001b[0;34m,\u001b[0m \u001b[0mindex\u001b[0m\u001b[0;34m,\u001b[0m \u001b[0mcolumns\u001b[0m\u001b[0;34m,\u001b[0m \u001b[0mdtype\u001b[0m\u001b[0;34m=\u001b[0m\u001b[0mdtype\u001b[0m\u001b[0;34m,\u001b[0m \u001b[0mcopy\u001b[0m\u001b[0;34m=\u001b[0m\u001b[0mcopy\u001b[0m\u001b[0;34m,\u001b[0m \u001b[0mtyp\u001b[0m\u001b[0;34m=\u001b[0m\u001b[0mmanager\u001b[0m\u001b[0;34m)\u001b[0m\u001b[0;34m\u001b[0m\u001b[0;34m\u001b[0m\u001b[0m\n\u001b[0m\u001b[1;32m    615\u001b[0m         \u001b[0;32melif\u001b[0m \u001b[0misinstance\u001b[0m\u001b[0;34m(\u001b[0m\u001b[0mdata\u001b[0m\u001b[0;34m,\u001b[0m \u001b[0mma\u001b[0m\u001b[0;34m.\u001b[0m\u001b[0mMaskedArray\u001b[0m\u001b[0;34m)\u001b[0m\u001b[0;34m:\u001b[0m\u001b[0;34m\u001b[0m\u001b[0;34m\u001b[0m\u001b[0m\n\u001b[1;32m    616\u001b[0m             \u001b[0;32mimport\u001b[0m \u001b[0mnumpy\u001b[0m\u001b[0;34m.\u001b[0m\u001b[0mma\u001b[0m\u001b[0;34m.\u001b[0m\u001b[0mmrecords\u001b[0m \u001b[0;32mas\u001b[0m \u001b[0mmrecords\u001b[0m\u001b[0;34m\u001b[0m\u001b[0;34m\u001b[0m\u001b[0m\n",
      "\u001b[0;32m~/.pyenv/versions/3.8.12/envs/lewagon/lib/python3.8/site-packages/pandas/core/internals/construction.py\u001b[0m in \u001b[0;36mdict_to_mgr\u001b[0;34m(data, index, columns, dtype, typ, copy)\u001b[0m\n\u001b[1;32m    462\u001b[0m         \u001b[0;31m# TODO: can we get rid of the dt64tz special case above?\u001b[0m\u001b[0;34m\u001b[0m\u001b[0;34m\u001b[0m\u001b[0;34m\u001b[0m\u001b[0m\n\u001b[1;32m    463\u001b[0m \u001b[0;34m\u001b[0m\u001b[0m\n\u001b[0;32m--> 464\u001b[0;31m     return arrays_to_mgr(\n\u001b[0m\u001b[1;32m    465\u001b[0m         \u001b[0marrays\u001b[0m\u001b[0;34m,\u001b[0m \u001b[0mdata_names\u001b[0m\u001b[0;34m,\u001b[0m \u001b[0mindex\u001b[0m\u001b[0;34m,\u001b[0m \u001b[0mcolumns\u001b[0m\u001b[0;34m,\u001b[0m \u001b[0mdtype\u001b[0m\u001b[0;34m=\u001b[0m\u001b[0mdtype\u001b[0m\u001b[0;34m,\u001b[0m \u001b[0mtyp\u001b[0m\u001b[0;34m=\u001b[0m\u001b[0mtyp\u001b[0m\u001b[0;34m,\u001b[0m \u001b[0mconsolidate\u001b[0m\u001b[0;34m=\u001b[0m\u001b[0mcopy\u001b[0m\u001b[0;34m\u001b[0m\u001b[0;34m\u001b[0m\u001b[0m\n\u001b[1;32m    466\u001b[0m     )\n",
      "\u001b[0;32m~/.pyenv/versions/3.8.12/envs/lewagon/lib/python3.8/site-packages/pandas/core/internals/construction.py\u001b[0m in \u001b[0;36marrays_to_mgr\u001b[0;34m(arrays, arr_names, index, columns, dtype, verify_integrity, typ, consolidate)\u001b[0m\n\u001b[1;32m    117\u001b[0m         \u001b[0;31m# figure out the index, if necessary\u001b[0m\u001b[0;34m\u001b[0m\u001b[0;34m\u001b[0m\u001b[0;34m\u001b[0m\u001b[0m\n\u001b[1;32m    118\u001b[0m         \u001b[0;32mif\u001b[0m \u001b[0mindex\u001b[0m \u001b[0;32mis\u001b[0m \u001b[0;32mNone\u001b[0m\u001b[0;34m:\u001b[0m\u001b[0;34m\u001b[0m\u001b[0;34m\u001b[0m\u001b[0m\n\u001b[0;32m--> 119\u001b[0;31m             \u001b[0mindex\u001b[0m \u001b[0;34m=\u001b[0m \u001b[0m_extract_index\u001b[0m\u001b[0;34m(\u001b[0m\u001b[0marrays\u001b[0m\u001b[0;34m)\u001b[0m\u001b[0;34m\u001b[0m\u001b[0;34m\u001b[0m\u001b[0m\n\u001b[0m\u001b[1;32m    120\u001b[0m         \u001b[0;32melse\u001b[0m\u001b[0;34m:\u001b[0m\u001b[0;34m\u001b[0m\u001b[0;34m\u001b[0m\u001b[0m\n\u001b[1;32m    121\u001b[0m             \u001b[0mindex\u001b[0m \u001b[0;34m=\u001b[0m \u001b[0mensure_index\u001b[0m\u001b[0;34m(\u001b[0m\u001b[0mindex\u001b[0m\u001b[0;34m)\u001b[0m\u001b[0;34m\u001b[0m\u001b[0;34m\u001b[0m\u001b[0m\n",
      "\u001b[0;32m~/.pyenv/versions/3.8.12/envs/lewagon/lib/python3.8/site-packages/pandas/core/internals/construction.py\u001b[0m in \u001b[0;36m_extract_index\u001b[0;34m(data)\u001b[0m\n\u001b[1;32m    623\u001b[0m \u001b[0;34m\u001b[0m\u001b[0m\n\u001b[1;32m    624\u001b[0m         \u001b[0;32mif\u001b[0m \u001b[0;32mnot\u001b[0m \u001b[0mindexes\u001b[0m \u001b[0;32mand\u001b[0m \u001b[0;32mnot\u001b[0m \u001b[0mraw_lengths\u001b[0m\u001b[0;34m:\u001b[0m\u001b[0;34m\u001b[0m\u001b[0;34m\u001b[0m\u001b[0m\n\u001b[0;32m--> 625\u001b[0;31m             \u001b[0;32mraise\u001b[0m \u001b[0mValueError\u001b[0m\u001b[0;34m(\u001b[0m\u001b[0;34m\"If using all scalar values, you must pass an index\"\u001b[0m\u001b[0;34m)\u001b[0m\u001b[0;34m\u001b[0m\u001b[0;34m\u001b[0m\u001b[0m\n\u001b[0m\u001b[1;32m    626\u001b[0m \u001b[0;34m\u001b[0m\u001b[0m\n\u001b[1;32m    627\u001b[0m         \u001b[0;32mif\u001b[0m \u001b[0mhave_series\u001b[0m\u001b[0;34m:\u001b[0m\u001b[0;34m\u001b[0m\u001b[0;34m\u001b[0m\u001b[0m\n",
      "\u001b[0;31mValueError\u001b[0m: If using all scalar values, you must pass an index"
     ]
    }
   ],
   "source": [
    "pd.DataFrame.from_dict(test)"
   ]
  },
  {
   "cell_type": "code",
   "execution_count": 320,
   "id": "f8dc8a83",
   "metadata": {},
   "outputs": [
    {
     "data": {
      "text/plain": [
       "dict"
      ]
     },
     "execution_count": 320,
     "metadata": {},
     "output_type": "execute_result"
    }
   ],
   "source": [
    "type(test)"
   ]
  },
  {
   "cell_type": "code",
   "execution_count": 347,
   "id": "1938126a",
   "metadata": {},
   "outputs": [
    {
     "ename": "AttributeError",
     "evalue": "'dict_values' object has no attribute 'transpose'",
     "output_type": "error",
     "traceback": [
      "\u001b[0;31m---------------------------------------------------------------------------\u001b[0m",
      "\u001b[0;31mAttributeError\u001b[0m                            Traceback (most recent call last)",
      "\u001b[0;32m/tmp/ipykernel_4240/2069717473.py\u001b[0m in \u001b[0;36m<module>\u001b[0;34m\u001b[0m\n\u001b[0;32m----> 1\u001b[0;31m \u001b[0mpd\u001b[0m\u001b[0;34m.\u001b[0m\u001b[0mDataFrame\u001b[0m\u001b[0;34m(\u001b[0m\u001b[0mlist\u001b[0m\u001b[0;34m(\u001b[0m\u001b[0mtest\u001b[0m\u001b[0;34m.\u001b[0m\u001b[0mvalues\u001b[0m\u001b[0;34m(\u001b[0m\u001b[0;34m)\u001b[0m\u001b[0;34m.\u001b[0m\u001b[0mtranspose\u001b[0m\u001b[0;34m(\u001b[0m\u001b[0;34m)\u001b[0m\u001b[0;34m)\u001b[0m\u001b[0;34m,\u001b[0m \u001b[0mcolumns\u001b[0m\u001b[0;34m=\u001b[0m\u001b[0mlist\u001b[0m\u001b[0;34m(\u001b[0m\u001b[0mtest\u001b[0m\u001b[0;34m)\u001b[0m\u001b[0;34m)\u001b[0m\u001b[0;34m\u001b[0m\u001b[0;34m\u001b[0m\u001b[0m\n\u001b[0m",
      "\u001b[0;31mAttributeError\u001b[0m: 'dict_values' object has no attribute 'transpose'"
     ]
    }
   ],
   "source": [
    "pd.DataFrame(list(test.values().transpose()), columns=list(test))"
   ]
  },
  {
   "cell_type": "code",
   "execution_count": 287,
   "id": "3b39cc68",
   "metadata": {},
   "outputs": [],
   "source": [
    "country = \"Belarus\"\n",
    "answer = clean_cpi.loc[clean_cpi['adm0_name'] == country]['2019'].to_list()[0]"
   ]
  },
  {
   "cell_type": "code",
   "execution_count": 286,
   "id": "a360ebe7",
   "metadata": {},
   "outputs": [
    {
     "data": {
      "text/plain": [
       "508.3392944"
      ]
     },
     "execution_count": 286,
     "metadata": {},
     "output_type": "execute_result"
    }
   ],
   "source": [
    "answer"
   ]
  },
  {
   "cell_type": "code",
   "execution_count": 276,
   "id": "aeaa4856",
   "metadata": {},
   "outputs": [
    {
     "data": {
      "text/html": [
       "<div>\n",
       "<style scoped>\n",
       "    .dataframe tbody tr th:only-of-type {\n",
       "        vertical-align: middle;\n",
       "    }\n",
       "\n",
       "    .dataframe tbody tr th {\n",
       "        vertical-align: top;\n",
       "    }\n",
       "\n",
       "    .dataframe thead th {\n",
       "        text-align: right;\n",
       "    }\n",
       "</style>\n",
       "<table border=\"1\" class=\"dataframe\">\n",
       "  <thead>\n",
       "    <tr style=\"text-align: right;\">\n",
       "      <th></th>\n",
       "      <th>adm0_name</th>\n",
       "      <th>2019</th>\n",
       "    </tr>\n",
       "  </thead>\n",
       "  <tbody>\n",
       "    <tr>\n",
       "      <th>0</th>\n",
       "      <td>Afghanistan</td>\n",
       "      <td>149.895975</td>\n",
       "    </tr>\n",
       "    <tr>\n",
       "      <th>1</th>\n",
       "      <td>Angola</td>\n",
       "      <td>378.883721</td>\n",
       "    </tr>\n",
       "    <tr>\n",
       "      <th>2</th>\n",
       "      <td>Argentina</td>\n",
       "      <td>434.000000</td>\n",
       "    </tr>\n",
       "    <tr>\n",
       "      <th>3</th>\n",
       "      <td>Armenia</td>\n",
       "      <td>129.176007</td>\n",
       "    </tr>\n",
       "    <tr>\n",
       "      <th>4</th>\n",
       "      <td>Bangladesh</td>\n",
       "      <td>179.679822</td>\n",
       "    </tr>\n",
       "    <tr>\n",
       "      <th>...</th>\n",
       "      <td>...</td>\n",
       "      <td>...</td>\n",
       "    </tr>\n",
       "    <tr>\n",
       "      <th>66</th>\n",
       "      <td>Togo</td>\n",
       "      <td>113.310442</td>\n",
       "    </tr>\n",
       "    <tr>\n",
       "      <th>67</th>\n",
       "      <td>Turkey</td>\n",
       "      <td>234.437126</td>\n",
       "    </tr>\n",
       "    <tr>\n",
       "      <th>68</th>\n",
       "      <td>Uganda</td>\n",
       "      <td>173.871268</td>\n",
       "    </tr>\n",
       "    <tr>\n",
       "      <th>69</th>\n",
       "      <td>Yemen</td>\n",
       "      <td>434.000000</td>\n",
       "    </tr>\n",
       "    <tr>\n",
       "      <th>70</th>\n",
       "      <td>Zambia</td>\n",
       "      <td>212.308759</td>\n",
       "    </tr>\n",
       "  </tbody>\n",
       "</table>\n",
       "<p>71 rows × 2 columns</p>\n",
       "</div>"
      ],
      "text/plain": [
       "      adm0_name        2019\n",
       "0   Afghanistan  149.895975\n",
       "1        Angola  378.883721\n",
       "2     Argentina  434.000000\n",
       "3       Armenia  129.176007\n",
       "4    Bangladesh  179.679822\n",
       "..          ...         ...\n",
       "66         Togo  113.310442\n",
       "67       Turkey  234.437126\n",
       "68       Uganda  173.871268\n",
       "69        Yemen  434.000000\n",
       "70       Zambia  212.308759\n",
       "\n",
       "[71 rows x 2 columns]"
      ]
     },
     "execution_count": 276,
     "metadata": {},
     "output_type": "execute_result"
    }
   ],
   "source": [
    "clean_cpi"
   ]
  },
  {
   "cell_type": "code",
   "execution_count": 337,
   "id": "d21ff99d",
   "metadata": {},
   "outputs": [
    {
     "data": {
      "text/plain": [
       "dict_items([('protein', 0.78), ('fat', 0.25), ('carb', 7.45), ('sugar', 0.0), ('sodium', 0.0), ('cholesterol', 0.0), ('calcium', 'not found'), ('kcal', 31.0), ('size', 255.10000610351562), ('unit', 'g'), ('category', 'Pre-Packaged Fruit & Vegetables')])"
      ]
     },
     "execution_count": 337,
     "metadata": {},
     "output_type": "execute_result"
    }
   ],
   "source": [
    "test.items()"
   ]
  },
  {
   "cell_type": "code",
   "execution_count": 363,
   "id": "da965fed",
   "metadata": {},
   "outputs": [],
   "source": [
    "test2 =pd.DataFrame.from_dict(test.items()).transpose()"
   ]
  },
  {
   "cell_type": "code",
   "execution_count": 364,
   "id": "f91e681b",
   "metadata": {},
   "outputs": [
    {
     "data": {
      "text/html": [
       "<div>\n",
       "<style scoped>\n",
       "    .dataframe tbody tr th:only-of-type {\n",
       "        vertical-align: middle;\n",
       "    }\n",
       "\n",
       "    .dataframe tbody tr th {\n",
       "        vertical-align: top;\n",
       "    }\n",
       "\n",
       "    .dataframe thead th {\n",
       "        text-align: right;\n",
       "    }\n",
       "</style>\n",
       "<table border=\"1\" class=\"dataframe\">\n",
       "  <thead>\n",
       "    <tr style=\"text-align: right;\">\n",
       "      <th></th>\n",
       "      <th>0</th>\n",
       "      <th>1</th>\n",
       "      <th>2</th>\n",
       "      <th>3</th>\n",
       "      <th>4</th>\n",
       "      <th>5</th>\n",
       "      <th>6</th>\n",
       "      <th>7</th>\n",
       "      <th>8</th>\n",
       "      <th>9</th>\n",
       "      <th>10</th>\n",
       "    </tr>\n",
       "  </thead>\n",
       "  <tbody>\n",
       "    <tr>\n",
       "      <th>0</th>\n",
       "      <td>protein</td>\n",
       "      <td>fat</td>\n",
       "      <td>carb</td>\n",
       "      <td>sugar</td>\n",
       "      <td>sodium</td>\n",
       "      <td>cholesterol</td>\n",
       "      <td>calcium</td>\n",
       "      <td>kcal</td>\n",
       "      <td>size</td>\n",
       "      <td>unit</td>\n",
       "      <td>category</td>\n",
       "    </tr>\n",
       "    <tr>\n",
       "      <th>1</th>\n",
       "      <td>0.78</td>\n",
       "      <td>0.25</td>\n",
       "      <td>7.45</td>\n",
       "      <td>0.0</td>\n",
       "      <td>0.0</td>\n",
       "      <td>0.0</td>\n",
       "      <td>not found</td>\n",
       "      <td>31.0</td>\n",
       "      <td>255.100006</td>\n",
       "      <td>g</td>\n",
       "      <td>Pre-Packaged Fruit &amp; Vegetables</td>\n",
       "    </tr>\n",
       "  </tbody>\n",
       "</table>\n",
       "</div>"
      ],
      "text/plain": [
       "        0     1     2      3       4            5          6     7   \\\n",
       "0  protein   fat  carb  sugar  sodium  cholesterol    calcium  kcal   \n",
       "1     0.78  0.25  7.45    0.0     0.0          0.0  not found  31.0   \n",
       "\n",
       "           8     9                                10  \n",
       "0        size  unit                         category  \n",
       "1  255.100006     g  Pre-Packaged Fruit & Vegetables  "
      ]
     },
     "execution_count": 364,
     "metadata": {},
     "output_type": "execute_result"
    }
   ],
   "source": [
    "test2"
   ]
  },
  {
   "cell_type": "code",
   "execution_count": 365,
   "id": "a87d34ff",
   "metadata": {},
   "outputs": [],
   "source": [
    "test2.columns = test2.iloc[0]"
   ]
  },
  {
   "cell_type": "code",
   "execution_count": 367,
   "id": "4b3b1667",
   "metadata": {},
   "outputs": [
    {
     "data": {
      "text/plain": [
       "0\n",
       "protein                                   0.78\n",
       "fat                                       0.25\n",
       "carb                                      7.45\n",
       "sugar                                      0.0\n",
       "sodium                                     0.0\n",
       "cholesterol                                0.0\n",
       "calcium                              not found\n",
       "kcal                                      31.0\n",
       "size                                255.100006\n",
       "unit                                         g\n",
       "category       Pre-Packaged Fruit & Vegetables\n",
       "Name: 1, dtype: object"
      ]
     },
     "execution_count": 367,
     "metadata": {},
     "output_type": "execute_result"
    }
   ],
   "source": [
    "test2.iloc[1]"
   ]
  },
  {
   "cell_type": "code",
   "execution_count": 358,
   "id": "e3d43c1b",
   "metadata": {},
   "outputs": [
    {
     "data": {
      "text/plain": [
       "0\n",
       "protein            protein\n",
       "fat                    fat\n",
       "carb                  carb\n",
       "sugar                sugar\n",
       "sodium              sodium\n",
       "cholesterol    cholesterol\n",
       "calcium            calcium\n",
       "kcal                  kcal\n",
       "size                  size\n",
       "unit                  unit\n",
       "category          category\n",
       "Name: 0, dtype: object"
      ]
     },
     "execution_count": 358,
     "metadata": {},
     "output_type": "execute_result"
    }
   ],
   "source": [
    "test2"
   ]
  },
  {
   "cell_type": "code",
   "execution_count": 419,
   "id": "7ef5421d",
   "metadata": {
    "scrolled": true
   },
   "outputs": [
    {
     "name": "stdout",
     "output_type": "stream",
     "text": [
      "protein 0.78\n",
      "fat 0.25\n",
      "carb 7.45\n",
      "sugar 0.0\n",
      "sodium 0.0\n",
      "cholesterol 0.0\n",
      "calcium not found\n",
      "kcal 31.0\n",
      "size 255.10000610351562\n",
      "unit g\n",
      "category Pre-Packaged Fruit & Vegetables\n"
     ]
    }
   ],
   "source": [
    "dict2 = {}\n",
    "for k,v in test.items():\n",
    "    dict2[k] = [v]\n",
    "    print(k, v)"
   ]
  },
  {
   "cell_type": "code",
   "execution_count": 422,
   "id": "40d528f0",
   "metadata": {},
   "outputs": [
    {
     "data": {
      "text/html": [
       "<div>\n",
       "<style scoped>\n",
       "    .dataframe tbody tr th:only-of-type {\n",
       "        vertical-align: middle;\n",
       "    }\n",
       "\n",
       "    .dataframe tbody tr th {\n",
       "        vertical-align: top;\n",
       "    }\n",
       "\n",
       "    .dataframe thead th {\n",
       "        text-align: right;\n",
       "    }\n",
       "</style>\n",
       "<table border=\"1\" class=\"dataframe\">\n",
       "  <thead>\n",
       "    <tr style=\"text-align: right;\">\n",
       "      <th></th>\n",
       "      <th>protein</th>\n",
       "      <th>fat</th>\n",
       "      <th>carb</th>\n",
       "      <th>sugar</th>\n",
       "      <th>sodium</th>\n",
       "      <th>cholesterol</th>\n",
       "      <th>calcium</th>\n",
       "      <th>kcal</th>\n",
       "      <th>size</th>\n",
       "      <th>unit</th>\n",
       "      <th>category</th>\n",
       "    </tr>\n",
       "  </thead>\n",
       "  <tbody>\n",
       "    <tr>\n",
       "      <th>0</th>\n",
       "      <td>0.78</td>\n",
       "      <td>0.25</td>\n",
       "      <td>7.45</td>\n",
       "      <td>0.0</td>\n",
       "      <td>0.0</td>\n",
       "      <td>0.0</td>\n",
       "      <td>NaN</td>\n",
       "      <td>31.0</td>\n",
       "      <td>255.100006</td>\n",
       "      <td>g</td>\n",
       "      <td>Pre-Packaged Fruit &amp; Vegetables</td>\n",
       "    </tr>\n",
       "  </tbody>\n",
       "</table>\n",
       "</div>"
      ],
      "text/plain": [
       "   protein   fat  carb  sugar  sodium  cholesterol  calcium  kcal        size  \\\n",
       "0     0.78  0.25  7.45    0.0     0.0          0.0      NaN  31.0  255.100006   \n",
       "\n",
       "  unit                         category  \n",
       "0    g  Pre-Packaged Fruit & Vegetables  "
      ]
     },
     "execution_count": 422,
     "metadata": {},
     "output_type": "execute_result"
    }
   ],
   "source": [
    "pd.DataFrame.from_dict(dict2).replace('not found', np.nan)"
   ]
  },
  {
   "cell_type": "code",
   "execution_count": 421,
   "id": "82897b44",
   "metadata": {},
   "outputs": [
    {
     "data": {
      "text/plain": [
       "{'protein': [0.78],\n",
       " 'fat': [0.25],\n",
       " 'carb': [7.45],\n",
       " 'sugar': [0.0],\n",
       " 'sodium': [0.0],\n",
       " 'cholesterol': [0.0],\n",
       " 'calcium': ['not found'],\n",
       " 'kcal': [31.0],\n",
       " 'size': [255.10000610351562],\n",
       " 'unit': ['g'],\n",
       " 'category': ['Pre-Packaged Fruit & Vegetables']}"
      ]
     },
     "execution_count": 421,
     "metadata": {},
     "output_type": "execute_result"
    }
   ],
   "source": [
    "dict2"
   ]
  },
  {
   "cell_type": "code",
   "execution_count": null,
   "id": "5fd06e27",
   "metadata": {},
   "outputs": [],
   "source": []
  }
 ],
 "metadata": {
  "kernelspec": {
   "display_name": "Python 3 (ipykernel)",
   "language": "python",
   "name": "python3"
  },
  "language_info": {
   "codemirror_mode": {
    "name": "ipython",
    "version": 3
   },
   "file_extension": ".py",
   "mimetype": "text/x-python",
   "name": "python",
   "nbconvert_exporter": "python",
   "pygments_lexer": "ipython3",
   "version": "3.8.12"
  },
  "toc": {
   "base_numbering": 1,
   "nav_menu": {},
   "number_sections": true,
   "sideBar": true,
   "skip_h1_title": false,
   "title_cell": "Table of Contents",
   "title_sidebar": "Contents",
   "toc_cell": false,
   "toc_position": {},
   "toc_section_display": true,
   "toc_window_display": false
  }
 },
 "nbformat": 4,
 "nbformat_minor": 5
}
