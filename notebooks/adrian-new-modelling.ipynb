{
 "cells": [
  {
   "cell_type": "code",
   "execution_count": 1,
   "id": "689be8f8",
   "metadata": {},
   "outputs": [
    {
     "name": "stderr",
     "output_type": "stream",
     "text": [
      "Matplotlib created a temporary config/cache directory at /tmp/matplotlib-dm8b0zzs because the default path (/home/drifter/.cache/matplotlib) is not a writable directory; it is highly recommended to set the MPLCONFIGDIR environment variable to a writable directory, in particular to speed up the import of Matplotlib and to better support multiprocessing.\n"
     ]
    }
   ],
   "source": [
    "import numpy as np\n",
    "import pandas as pd\n",
    "import matplotlib.pyplot as plt\n",
    "import seaborn as sns"
   ]
  },
  {
   "cell_type": "code",
   "execution_count": 36,
   "id": "8f450f1b",
   "metadata": {},
   "outputs": [],
   "source": [
    "food_data = pd.read_csv('../raw_data/food_types_v2.csv')\n",
    "country_data = pd.read_csv('../raw_data/clean_data.csv')\n",
    "merged = pd.read_csv('../raw_data/merged_data.csv')\n",
    "cpi = pd.read_csv('../raw_data/cpi_short.csv')"
   ]
  },
  {
   "cell_type": "code",
   "execution_count": 4,
   "id": "906a5518",
   "metadata": {},
   "outputs": [
    {
     "data": {
      "text/html": [
       "<div>\n",
       "<style scoped>\n",
       "    .dataframe tbody tr th:only-of-type {\n",
       "        vertical-align: middle;\n",
       "    }\n",
       "\n",
       "    .dataframe tbody tr th {\n",
       "        vertical-align: top;\n",
       "    }\n",
       "\n",
       "    .dataframe thead th {\n",
       "        text-align: right;\n",
       "    }\n",
       "</style>\n",
       "<table border=\"1\" class=\"dataframe\">\n",
       "  <thead>\n",
       "    <tr style=\"text-align: right;\">\n",
       "      <th></th>\n",
       "      <th>food_type</th>\n",
       "      <th>protein</th>\n",
       "      <th>fat</th>\n",
       "      <th>carb</th>\n",
       "      <th>sugar</th>\n",
       "      <th>sodium</th>\n",
       "      <th>cholesterol</th>\n",
       "      <th>calcium</th>\n",
       "      <th>kcal</th>\n",
       "    </tr>\n",
       "  </thead>\n",
       "  <tbody>\n",
       "    <tr>\n",
       "      <th>0</th>\n",
       "      <td>Bread</td>\n",
       "      <td>9.43</td>\n",
       "      <td>3.59</td>\n",
       "      <td>49.2</td>\n",
       "      <td>5.34</td>\n",
       "      <td>477</td>\n",
       "      <td>not found</td>\n",
       "      <td>211</td>\n",
       "      <td>1130.0</td>\n",
       "    </tr>\n",
       "    <tr>\n",
       "      <th>1</th>\n",
       "      <td>Oil (cooking)</td>\n",
       "      <td>1.26</td>\n",
       "      <td>3.24</td>\n",
       "      <td>30.9</td>\n",
       "      <td>not found</td>\n",
       "      <td>116</td>\n",
       "      <td>0.0</td>\n",
       "      <td>3.0</td>\n",
       "      <td>144</td>\n",
       "    </tr>\n",
       "    <tr>\n",
       "      <th>2</th>\n",
       "      <td>Pulses</td>\n",
       "      <td>17.9</td>\n",
       "      <td>7.14</td>\n",
       "      <td>60.7</td>\n",
       "      <td>not found</td>\n",
       "      <td>393</td>\n",
       "      <td>0.0</td>\n",
       "      <td>107</td>\n",
       "      <td>393</td>\n",
       "    </tr>\n",
       "    <tr>\n",
       "      <th>3</th>\n",
       "      <td>Rice (high quality)</td>\n",
       "      <td>7.19</td>\n",
       "      <td>3.85</td>\n",
       "      <td>75.5</td>\n",
       "      <td>not found</td>\n",
       "      <td>1.0</td>\n",
       "      <td>not found</td>\n",
       "      <td>10.0</td>\n",
       "      <td>365</td>\n",
       "    </tr>\n",
       "    <tr>\n",
       "      <th>4</th>\n",
       "      <td>Rice (low quality)</td>\n",
       "      <td>7.19</td>\n",
       "      <td>3.85</td>\n",
       "      <td>75.5</td>\n",
       "      <td>not found</td>\n",
       "      <td>1.0</td>\n",
       "      <td>not found</td>\n",
       "      <td>10.0</td>\n",
       "      <td>365</td>\n",
       "    </tr>\n",
       "  </tbody>\n",
       "</table>\n",
       "</div>"
      ],
      "text/plain": [
       "              food_type protein   fat  carb      sugar sodium cholesterol  \\\n",
       "0                Bread     9.43  3.59  49.2       5.34    477   not found   \n",
       "1        Oil (cooking)     1.26  3.24  30.9  not found    116         0.0   \n",
       "2               Pulses     17.9  7.14  60.7  not found    393         0.0   \n",
       "3  Rice (high quality)     7.19  3.85  75.5  not found    1.0   not found   \n",
       "4   Rice (low quality)     7.19  3.85  75.5  not found    1.0   not found   \n",
       "\n",
       "  calcium    kcal  \n",
       "0     211  1130.0  \n",
       "1     3.0     144  \n",
       "2     107     393  \n",
       "3    10.0     365  \n",
       "4    10.0     365  "
      ]
     },
     "execution_count": 4,
     "metadata": {},
     "output_type": "execute_result"
    }
   ],
   "source": [
    "food_data.head()"
   ]
  },
  {
   "cell_type": "code",
   "execution_count": 5,
   "id": "2104ccd5",
   "metadata": {},
   "outputs": [
    {
     "data": {
      "text/html": [
       "<div>\n",
       "<style scoped>\n",
       "    .dataframe tbody tr th:only-of-type {\n",
       "        vertical-align: middle;\n",
       "    }\n",
       "\n",
       "    .dataframe tbody tr th {\n",
       "        vertical-align: top;\n",
       "    }\n",
       "\n",
       "    .dataframe thead th {\n",
       "        text-align: right;\n",
       "    }\n",
       "</style>\n",
       "<table border=\"1\" class=\"dataframe\">\n",
       "  <thead>\n",
       "    <tr style=\"text-align: right;\">\n",
       "      <th></th>\n",
       "      <th>adm0_name</th>\n",
       "      <th>pt_name</th>\n",
       "      <th>um_name</th>\n",
       "      <th>mp_price</th>\n",
       "      <th>conv_rate</th>\n",
       "      <th>usd_rate</th>\n",
       "      <th>food_type</th>\n",
       "      <th>protein</th>\n",
       "      <th>fat</th>\n",
       "      <th>carb</th>\n",
       "      <th>sugar</th>\n",
       "      <th>sodium</th>\n",
       "      <th>cholesterol</th>\n",
       "      <th>calcium</th>\n",
       "      <th>kcal</th>\n",
       "    </tr>\n",
       "  </thead>\n",
       "  <tbody>\n",
       "    <tr>\n",
       "      <th>0</th>\n",
       "      <td>Afghanistan</td>\n",
       "      <td>Retail</td>\n",
       "      <td>KG</td>\n",
       "      <td>50.344430</td>\n",
       "      <td>96.252560</td>\n",
       "      <td>0.523045</td>\n",
       "      <td>Bread</td>\n",
       "      <td>9.43</td>\n",
       "      <td>3.59</td>\n",
       "      <td>49.2</td>\n",
       "      <td>5.34</td>\n",
       "      <td>477</td>\n",
       "      <td>not found</td>\n",
       "      <td>211</td>\n",
       "      <td>1130.0</td>\n",
       "    </tr>\n",
       "    <tr>\n",
       "      <th>1</th>\n",
       "      <td>Argentina</td>\n",
       "      <td>Retail</td>\n",
       "      <td>KG</td>\n",
       "      <td>114.238000</td>\n",
       "      <td>101.364698</td>\n",
       "      <td>1.127000</td>\n",
       "      <td>Bread</td>\n",
       "      <td>9.43</td>\n",
       "      <td>3.59</td>\n",
       "      <td>49.2</td>\n",
       "      <td>5.34</td>\n",
       "      <td>477</td>\n",
       "      <td>not found</td>\n",
       "      <td>211</td>\n",
       "      <td>1130.0</td>\n",
       "    </tr>\n",
       "    <tr>\n",
       "      <th>2</th>\n",
       "      <td>Congo</td>\n",
       "      <td>Retail</td>\n",
       "      <td>KG</td>\n",
       "      <td>1078.371429</td>\n",
       "      <td>581.547941</td>\n",
       "      <td>1.854312</td>\n",
       "      <td>Bread</td>\n",
       "      <td>9.43</td>\n",
       "      <td>3.59</td>\n",
       "      <td>49.2</td>\n",
       "      <td>5.34</td>\n",
       "      <td>477</td>\n",
       "      <td>not found</td>\n",
       "      <td>211</td>\n",
       "      <td>1130.0</td>\n",
       "    </tr>\n",
       "    <tr>\n",
       "      <th>3</th>\n",
       "      <td>Gambia</td>\n",
       "      <td>Retail</td>\n",
       "      <td>KG</td>\n",
       "      <td>27.529414</td>\n",
       "      <td>52.500260</td>\n",
       "      <td>0.524367</td>\n",
       "      <td>Bread</td>\n",
       "      <td>9.43</td>\n",
       "      <td>3.59</td>\n",
       "      <td>49.2</td>\n",
       "      <td>5.34</td>\n",
       "      <td>477</td>\n",
       "      <td>not found</td>\n",
       "      <td>211</td>\n",
       "      <td>1130.0</td>\n",
       "    </tr>\n",
       "    <tr>\n",
       "      <th>4</th>\n",
       "      <td>Kyrgyzstan</td>\n",
       "      <td>Retail</td>\n",
       "      <td>KG</td>\n",
       "      <td>52.387667</td>\n",
       "      <td>84.797101</td>\n",
       "      <td>0.617800</td>\n",
       "      <td>Bread</td>\n",
       "      <td>9.43</td>\n",
       "      <td>3.59</td>\n",
       "      <td>49.2</td>\n",
       "      <td>5.34</td>\n",
       "      <td>477</td>\n",
       "      <td>not found</td>\n",
       "      <td>211</td>\n",
       "      <td>1130.0</td>\n",
       "    </tr>\n",
       "  </tbody>\n",
       "</table>\n",
       "</div>"
      ],
      "text/plain": [
       "     adm0_name pt_name um_name     mp_price   conv_rate  usd_rate food_type  \\\n",
       "0  Afghanistan  Retail      KG    50.344430   96.252560  0.523045    Bread    \n",
       "1    Argentina  Retail      KG   114.238000  101.364698  1.127000    Bread    \n",
       "2        Congo  Retail      KG  1078.371429  581.547941  1.854312    Bread    \n",
       "3       Gambia  Retail      KG    27.529414   52.500260  0.524367    Bread    \n",
       "4   Kyrgyzstan  Retail      KG    52.387667   84.797101  0.617800    Bread    \n",
       "\n",
       "  protein   fat  carb sugar sodium cholesterol calcium    kcal  \n",
       "0    9.43  3.59  49.2  5.34    477   not found     211  1130.0  \n",
       "1    9.43  3.59  49.2  5.34    477   not found     211  1130.0  \n",
       "2    9.43  3.59  49.2  5.34    477   not found     211  1130.0  \n",
       "3    9.43  3.59  49.2  5.34    477   not found     211  1130.0  \n",
       "4    9.43  3.59  49.2  5.34    477   not found     211  1130.0  "
      ]
     },
     "execution_count": 5,
     "metadata": {},
     "output_type": "execute_result"
    }
   ],
   "source": [
    "merged.head()"
   ]
  },
  {
   "cell_type": "code",
   "execution_count": 37,
   "id": "80f56542",
   "metadata": {},
   "outputs": [
    {
     "data": {
      "text/html": [
       "<div>\n",
       "<style scoped>\n",
       "    .dataframe tbody tr th:only-of-type {\n",
       "        vertical-align: middle;\n",
       "    }\n",
       "\n",
       "    .dataframe tbody tr th {\n",
       "        vertical-align: top;\n",
       "    }\n",
       "\n",
       "    .dataframe thead th {\n",
       "        text-align: right;\n",
       "    }\n",
       "</style>\n",
       "<table border=\"1\" class=\"dataframe\">\n",
       "  <thead>\n",
       "    <tr style=\"text-align: right;\">\n",
       "      <th></th>\n",
       "      <th>adm0_name</th>\n",
       "      <th>pt_name</th>\n",
       "      <th>um_name</th>\n",
       "      <th>mp_price</th>\n",
       "      <th>conv_rate</th>\n",
       "      <th>usd_rate</th>\n",
       "      <th>food_type</th>\n",
       "      <th>protein</th>\n",
       "      <th>fat</th>\n",
       "      <th>carb</th>\n",
       "      <th>sugar</th>\n",
       "      <th>sodium</th>\n",
       "      <th>cholesterol</th>\n",
       "      <th>calcium</th>\n",
       "      <th>kcal</th>\n",
       "      <th>Unnamed: 0</th>\n",
       "      <th>Country Name</th>\n",
       "      <th>2019</th>\n",
       "    </tr>\n",
       "  </thead>\n",
       "  <tbody>\n",
       "    <tr>\n",
       "      <th>0</th>\n",
       "      <td>Afghanistan</td>\n",
       "      <td>Retail</td>\n",
       "      <td>KG</td>\n",
       "      <td>50.34443</td>\n",
       "      <td>96.25256</td>\n",
       "      <td>0.523045</td>\n",
       "      <td>Bread</td>\n",
       "      <td>9.43</td>\n",
       "      <td>3.59</td>\n",
       "      <td>49.2</td>\n",
       "      <td>5.34</td>\n",
       "      <td>477</td>\n",
       "      <td>not found</td>\n",
       "      <td>211</td>\n",
       "      <td>1130.0</td>\n",
       "      <td>2</td>\n",
       "      <td>Afghanistan</td>\n",
       "      <td>149.895975</td>\n",
       "    </tr>\n",
       "  </tbody>\n",
       "</table>\n",
       "</div>"
      ],
      "text/plain": [
       "     adm0_name pt_name um_name  mp_price  conv_rate  usd_rate food_type  \\\n",
       "0  Afghanistan  Retail      KG  50.34443   96.25256  0.523045    Bread    \n",
       "\n",
       "  protein   fat  carb sugar sodium cholesterol calcium    kcal  Unnamed: 0  \\\n",
       "0    9.43  3.59  49.2  5.34    477   not found     211  1130.0           2   \n",
       "\n",
       "  Country Name        2019  \n",
       "0  Afghanistan  149.895975  "
      ]
     },
     "execution_count": 37,
     "metadata": {},
     "output_type": "execute_result"
    }
   ],
   "source": [
    "#mergin the merged data with the cpi of 2019\n",
    "\n",
    "merged = pd.merge(left=merged,right=cpi,left_on='adm0_name', right_on='Country Name')\n",
    "merged.head(1)"
   ]
  },
  {
   "cell_type": "code",
   "execution_count": 41,
   "id": "1c20b94c",
   "metadata": {},
   "outputs": [],
   "source": [
    "merged.drop(columns=['Country Name', 'Unnamed: 0'], inplace=True)"
   ]
  },
  {
   "cell_type": "code",
   "execution_count": 42,
   "id": "ba281ba8",
   "metadata": {},
   "outputs": [
    {
     "data": {
      "text/html": [
       "<div>\n",
       "<style scoped>\n",
       "    .dataframe tbody tr th:only-of-type {\n",
       "        vertical-align: middle;\n",
       "    }\n",
       "\n",
       "    .dataframe tbody tr th {\n",
       "        vertical-align: top;\n",
       "    }\n",
       "\n",
       "    .dataframe thead th {\n",
       "        text-align: right;\n",
       "    }\n",
       "</style>\n",
       "<table border=\"1\" class=\"dataframe\">\n",
       "  <thead>\n",
       "    <tr style=\"text-align: right;\">\n",
       "      <th></th>\n",
       "      <th>adm0_name</th>\n",
       "      <th>pt_name</th>\n",
       "      <th>um_name</th>\n",
       "      <th>mp_price</th>\n",
       "      <th>conv_rate</th>\n",
       "      <th>usd_rate</th>\n",
       "      <th>food_type</th>\n",
       "      <th>protein</th>\n",
       "      <th>fat</th>\n",
       "      <th>carb</th>\n",
       "      <th>sugar</th>\n",
       "      <th>sodium</th>\n",
       "      <th>cholesterol</th>\n",
       "      <th>calcium</th>\n",
       "      <th>kcal</th>\n",
       "      <th>2019</th>\n",
       "    </tr>\n",
       "  </thead>\n",
       "  <tbody>\n",
       "    <tr>\n",
       "      <th>0</th>\n",
       "      <td>Afghanistan</td>\n",
       "      <td>Retail</td>\n",
       "      <td>KG</td>\n",
       "      <td>50.34443</td>\n",
       "      <td>96.25256</td>\n",
       "      <td>0.523045</td>\n",
       "      <td>Bread</td>\n",
       "      <td>9.43</td>\n",
       "      <td>3.59</td>\n",
       "      <td>49.2</td>\n",
       "      <td>5.34</td>\n",
       "      <td>477</td>\n",
       "      <td>not found</td>\n",
       "      <td>211</td>\n",
       "      <td>1130.0</td>\n",
       "      <td>149.895975</td>\n",
       "    </tr>\n",
       "  </tbody>\n",
       "</table>\n",
       "</div>"
      ],
      "text/plain": [
       "     adm0_name pt_name um_name  mp_price  conv_rate  usd_rate food_type  \\\n",
       "0  Afghanistan  Retail      KG  50.34443   96.25256  0.523045    Bread    \n",
       "\n",
       "  protein   fat  carb sugar sodium cholesterol calcium    kcal        2019  \n",
       "0    9.43  3.59  49.2  5.34    477   not found     211  1130.0  149.895975  "
      ]
     },
     "execution_count": 42,
     "metadata": {},
     "output_type": "execute_result"
    }
   ],
   "source": [
    "merged.head(1)"
   ]
  },
  {
   "cell_type": "code",
   "execution_count": 43,
   "id": "1810a358",
   "metadata": {},
   "outputs": [
    {
     "data": {
      "text/plain": [
       "54"
      ]
     },
     "execution_count": 43,
     "metadata": {},
     "output_type": "execute_result"
    }
   ],
   "source": [
    "len(merged[merged['adm0_name'] == 'Gambia'])"
   ]
  },
  {
   "cell_type": "code",
   "execution_count": 44,
   "id": "1876ea0a",
   "metadata": {},
   "outputs": [
    {
     "data": {
      "text/plain": [
       "array(['Afghanistan', 'Argentina', 'Congo', 'Gambia', 'Kyrgyzstan',\n",
       "       'Peru', 'State of Palestine', 'Ecuador', 'Pakistan', 'Myanmar',\n",
       "       'Colombia', 'Guinea-Bissau', 'Indonesia', 'Armenia',\n",
       "       'Bassas da India', 'Bolivia', 'Democratic Republic of the Congo',\n",
       "       'Djibouti', 'Egypt', 'Ethiopia', 'Guinea',\n",
       "       'Iran  (Islamic Republic of)', 'Iraq', 'Japan', 'Jordan', 'Libya',\n",
       "       'Mali', 'Mauritania', 'Rwanda', 'Sierra Leone', 'Sri Lanka',\n",
       "       'Syrian Arab Republic', 'Tajikistan', 'Turkey', 'Yemen', 'Benin',\n",
       "       'Chad', 'Angola', 'Bangladesh', 'Burundi',\n",
       "       'Central African Republic', \"Cote d'Ivoire\",\n",
       "       \"Lao People's Democratic Republic\", 'Nigeria', 'Nepal',\n",
       "       'Kazakhstan', 'Mongolia', 'South Sudan', 'Belarus', 'Bhutan',\n",
       "       'Cape Verde', 'Lebanon', 'Namibia', 'Swaziland', 'Malawi',\n",
       "       'Uganda', 'Ghana', 'Thailand', 'Philippines', 'Cambodia', 'Kenya',\n",
       "       'Somalia', 'Mozambique', 'Paraguay', 'Togo', 'Niger',\n",
       "       'Burkina Faso', 'Mexico', 'Zambia', 'Senegal', 'Liberia'],\n",
       "      dtype=object)"
      ]
     },
     "execution_count": 44,
     "metadata": {},
     "output_type": "execute_result"
    }
   ],
   "source": [
    "merged['adm0_name'].unique()"
   ]
  },
  {
   "cell_type": "code",
   "execution_count": 45,
   "id": "9e74a45a",
   "metadata": {},
   "outputs": [],
   "source": [
    "#cecking for which country we have more types of food, so we will select that country to perform the model\n",
    "length = []\n",
    "for country in merged['adm0_name'].unique():\n",
    "    length.append({'country': country, 'foods': len(merged[merged['adm0_name'] == country])})"
   ]
  },
  {
   "cell_type": "code",
   "execution_count": 46,
   "id": "4f5c04a1",
   "metadata": {},
   "outputs": [
    {
     "data": {
      "text/html": [
       "<div>\n",
       "<style scoped>\n",
       "    .dataframe tbody tr th:only-of-type {\n",
       "        vertical-align: middle;\n",
       "    }\n",
       "\n",
       "    .dataframe tbody tr th {\n",
       "        vertical-align: top;\n",
       "    }\n",
       "\n",
       "    .dataframe thead th {\n",
       "        text-align: right;\n",
       "    }\n",
       "</style>\n",
       "<table border=\"1\" class=\"dataframe\">\n",
       "  <thead>\n",
       "    <tr style=\"text-align: right;\">\n",
       "      <th></th>\n",
       "      <th>country</th>\n",
       "      <th>foods</th>\n",
       "    </tr>\n",
       "  </thead>\n",
       "  <tbody>\n",
       "    <tr>\n",
       "      <th>10</th>\n",
       "      <td>Colombia</td>\n",
       "      <td>68</td>\n",
       "    </tr>\n",
       "    <tr>\n",
       "      <th>30</th>\n",
       "      <td>Sri Lanka</td>\n",
       "      <td>61</td>\n",
       "    </tr>\n",
       "    <tr>\n",
       "      <th>7</th>\n",
       "      <td>Ecuador</td>\n",
       "      <td>56</td>\n",
       "    </tr>\n",
       "    <tr>\n",
       "      <th>3</th>\n",
       "      <td>Gambia</td>\n",
       "      <td>54</td>\n",
       "    </tr>\n",
       "    <tr>\n",
       "      <th>35</th>\n",
       "      <td>Benin</td>\n",
       "      <td>50</td>\n",
       "    </tr>\n",
       "    <tr>\n",
       "      <th>...</th>\n",
       "      <td>...</td>\n",
       "      <td>...</td>\n",
       "    </tr>\n",
       "    <tr>\n",
       "      <th>48</th>\n",
       "      <td>Belarus</td>\n",
       "      <td>3</td>\n",
       "    </tr>\n",
       "    <tr>\n",
       "      <th>37</th>\n",
       "      <td>Angola</td>\n",
       "      <td>2</td>\n",
       "    </tr>\n",
       "    <tr>\n",
       "      <th>70</th>\n",
       "      <td>Liberia</td>\n",
       "      <td>2</td>\n",
       "    </tr>\n",
       "    <tr>\n",
       "      <th>57</th>\n",
       "      <td>Thailand</td>\n",
       "      <td>1</td>\n",
       "    </tr>\n",
       "    <tr>\n",
       "      <th>49</th>\n",
       "      <td>Bhutan</td>\n",
       "      <td>1</td>\n",
       "    </tr>\n",
       "  </tbody>\n",
       "</table>\n",
       "<p>71 rows × 2 columns</p>\n",
       "</div>"
      ],
      "text/plain": [
       "      country  foods\n",
       "10   Colombia     68\n",
       "30  Sri Lanka     61\n",
       "7     Ecuador     56\n",
       "3      Gambia     54\n",
       "35      Benin     50\n",
       "..        ...    ...\n",
       "48    Belarus      3\n",
       "37     Angola      2\n",
       "70    Liberia      2\n",
       "57   Thailand      1\n",
       "49     Bhutan      1\n",
       "\n",
       "[71 rows x 2 columns]"
      ]
     },
     "execution_count": 46,
     "metadata": {},
     "output_type": "execute_result"
    }
   ],
   "source": [
    "pd.DataFrame(length).sort_values(by='foods', ascending=False)"
   ]
  },
  {
   "cell_type": "code",
   "execution_count": 47,
   "id": "f4d9880b",
   "metadata": {},
   "outputs": [],
   "source": [
    "#we can see Colombia is the country with more data with 68 types of food\n",
    "\n",
    "colombia_df = merged[merged['adm0_name'] == 'Colombia']"
   ]
  },
  {
   "cell_type": "code",
   "execution_count": 48,
   "id": "3536ba8a",
   "metadata": {},
   "outputs": [
    {
     "data": {
      "text/plain": [
       "(68, 16)"
      ]
     },
     "execution_count": 48,
     "metadata": {},
     "output_type": "execute_result"
    }
   ],
   "source": [
    "colombia_df.shape"
   ]
  },
  {
   "cell_type": "code",
   "execution_count": 49,
   "id": "eb0dda8e",
   "metadata": {},
   "outputs": [
    {
     "data": {
      "text/html": [
       "<div>\n",
       "<style scoped>\n",
       "    .dataframe tbody tr th:only-of-type {\n",
       "        vertical-align: middle;\n",
       "    }\n",
       "\n",
       "    .dataframe tbody tr th {\n",
       "        vertical-align: top;\n",
       "    }\n",
       "\n",
       "    .dataframe thead th {\n",
       "        text-align: right;\n",
       "    }\n",
       "</style>\n",
       "<table border=\"1\" class=\"dataframe\">\n",
       "  <thead>\n",
       "    <tr style=\"text-align: right;\">\n",
       "      <th></th>\n",
       "      <th>adm0_name</th>\n",
       "      <th>pt_name</th>\n",
       "      <th>um_name</th>\n",
       "      <th>mp_price</th>\n",
       "      <th>conv_rate</th>\n",
       "      <th>usd_rate</th>\n",
       "      <th>food_type</th>\n",
       "      <th>protein</th>\n",
       "      <th>fat</th>\n",
       "      <th>carb</th>\n",
       "      <th>sugar</th>\n",
       "      <th>sodium</th>\n",
       "      <th>cholesterol</th>\n",
       "      <th>calcium</th>\n",
       "      <th>kcal</th>\n",
       "      <th>2019</th>\n",
       "    </tr>\n",
       "  </thead>\n",
       "  <tbody>\n",
       "    <tr>\n",
       "      <th>235</th>\n",
       "      <td>Colombia</td>\n",
       "      <td>Wholesale</td>\n",
       "      <td>KG</td>\n",
       "      <td>3147.391304</td>\n",
       "      <td>3910.98</td>\n",
       "      <td>0.804758</td>\n",
       "      <td>Rice (high quality)</td>\n",
       "      <td>7.19</td>\n",
       "      <td>3.85</td>\n",
       "      <td>75.5</td>\n",
       "      <td>not found</td>\n",
       "      <td>1.0</td>\n",
       "      <td>not found</td>\n",
       "      <td>10.0</td>\n",
       "      <td>365</td>\n",
       "      <td>140.950374</td>\n",
       "    </tr>\n",
       "    <tr>\n",
       "      <th>236</th>\n",
       "      <td>Colombia</td>\n",
       "      <td>Wholesale</td>\n",
       "      <td>KG</td>\n",
       "      <td>2753.642857</td>\n",
       "      <td>3910.98</td>\n",
       "      <td>0.704080</td>\n",
       "      <td>Sugar</td>\n",
       "      <td>0.0</td>\n",
       "      <td>0.32</td>\n",
       "      <td>99.6</td>\n",
       "      <td>99.8</td>\n",
       "      <td>1.0</td>\n",
       "      <td>not found</td>\n",
       "      <td>1.0</td>\n",
       "      <td>385</td>\n",
       "      <td>140.950374</td>\n",
       "    </tr>\n",
       "    <tr>\n",
       "      <th>237</th>\n",
       "      <td>Colombia</td>\n",
       "      <td>Wholesale</td>\n",
       "      <td>KG</td>\n",
       "      <td>7377.058824</td>\n",
       "      <td>3910.98</td>\n",
       "      <td>1.886243</td>\n",
       "      <td>Wheat</td>\n",
       "      <td>15.1</td>\n",
       "      <td>2.73</td>\n",
       "      <td>71.2</td>\n",
       "      <td>not found</td>\n",
       "      <td>3.0</td>\n",
       "      <td>not found</td>\n",
       "      <td>38.0</td>\n",
       "      <td>1550.0</td>\n",
       "      <td>140.950374</td>\n",
       "    </tr>\n",
       "    <tr>\n",
       "      <th>238</th>\n",
       "      <td>Colombia</td>\n",
       "      <td>Wholesale</td>\n",
       "      <td>KG</td>\n",
       "      <td>17130.578703</td>\n",
       "      <td>3910.98</td>\n",
       "      <td>4.380124</td>\n",
       "      <td>Meat (beef)</td>\n",
       "      <td>11.7</td>\n",
       "      <td>28.0</td>\n",
       "      <td>2.89</td>\n",
       "      <td>1.26</td>\n",
       "      <td>872</td>\n",
       "      <td>not found</td>\n",
       "      <td>15.0</td>\n",
       "      <td>1310.0</td>\n",
       "      <td>140.950374</td>\n",
       "    </tr>\n",
       "    <tr>\n",
       "      <th>239</th>\n",
       "      <td>Colombia</td>\n",
       "      <td>Wholesale</td>\n",
       "      <td>KG</td>\n",
       "      <td>936.285714</td>\n",
       "      <td>3910.98</td>\n",
       "      <td>0.239399</td>\n",
       "      <td>Potatoes</td>\n",
       "      <td>2.7</td>\n",
       "      <td>0.0</td>\n",
       "      <td>16.9</td>\n",
       "      <td>not found</td>\n",
       "      <td>0.0</td>\n",
       "      <td>0.0</td>\n",
       "      <td>0.0</td>\n",
       "      <td>74.0</td>\n",
       "      <td>140.950374</td>\n",
       "    </tr>\n",
       "  </tbody>\n",
       "</table>\n",
       "</div>"
      ],
      "text/plain": [
       "    adm0_name    pt_name um_name      mp_price  conv_rate  usd_rate  \\\n",
       "235  Colombia  Wholesale      KG   3147.391304    3910.98  0.804758   \n",
       "236  Colombia  Wholesale      KG   2753.642857    3910.98  0.704080   \n",
       "237  Colombia  Wholesale      KG   7377.058824    3910.98  1.886243   \n",
       "238  Colombia  Wholesale      KG  17130.578703    3910.98  4.380124   \n",
       "239  Colombia  Wholesale      KG    936.285714    3910.98  0.239399   \n",
       "\n",
       "                food_type protein   fat  carb      sugar sodium cholesterol  \\\n",
       "235  Rice (high quality)     7.19  3.85  75.5  not found    1.0   not found   \n",
       "236                Sugar      0.0  0.32  99.6       99.8    1.0   not found   \n",
       "237                Wheat     15.1  2.73  71.2  not found    3.0   not found   \n",
       "238          Meat (beef)     11.7  28.0  2.89       1.26    872   not found   \n",
       "239             Potatoes      2.7   0.0  16.9  not found    0.0         0.0   \n",
       "\n",
       "    calcium    kcal        2019  \n",
       "235    10.0     365  140.950374  \n",
       "236     1.0     385  140.950374  \n",
       "237    38.0  1550.0  140.950374  \n",
       "238    15.0  1310.0  140.950374  \n",
       "239     0.0    74.0  140.950374  "
      ]
     },
     "execution_count": 49,
     "metadata": {},
     "output_type": "execute_result"
    }
   ],
   "source": [
    "colombia_df.head()"
   ]
  },
  {
   "cell_type": "code",
   "execution_count": 50,
   "id": "d5582671",
   "metadata": {},
   "outputs": [
    {
     "data": {
      "text/plain": [
       "Wholesale    68\n",
       "Name: pt_name, dtype: int64"
      ]
     },
     "execution_count": 50,
     "metadata": {},
     "output_type": "execute_result"
    }
   ],
   "source": [
    "colombia_df['pt_name'].value_counts()"
   ]
  },
  {
   "cell_type": "code",
   "execution_count": 51,
   "id": "34b8d68a",
   "metadata": {},
   "outputs": [],
   "source": [
    "#there are not retail prices in the colombian dataset"
   ]
  },
  {
   "cell_type": "markdown",
   "id": "42c2a7ce",
   "metadata": {},
   "source": [
    "Declaring the y and X features"
   ]
  },
  {
   "cell_type": "code",
   "execution_count": 241,
   "id": "3ff64833",
   "metadata": {},
   "outputs": [],
   "source": [
    "y=colombia_df['usd_rate']\n",
    "X = colombia_df[['food_type','protein','fat','carb','sodium','calcium','kcal']]"
   ]
  },
  {
   "cell_type": "code",
   "execution_count": 242,
   "id": "23e01939",
   "metadata": {},
   "outputs": [],
   "source": [
    "X = X.replace('not found', np.nan)"
   ]
  },
  {
   "cell_type": "markdown",
   "id": "b821896e",
   "metadata": {},
   "source": [
    "### Preparing the imputing and the pipeline"
   ]
  },
  {
   "cell_type": "code",
   "execution_count": 243,
   "id": "1f2af365",
   "metadata": {},
   "outputs": [],
   "source": [
    "from sklearn.impute import KNNImputer\n",
    "from sklearn.preprocessing import MinMaxScaler\n",
    "\n",
    "\n",
    "scaler = MinMaxScaler()\n",
    "\n",
    "k_imputer = KNNImputer(n_neighbors=4)"
   ]
  },
  {
   "cell_type": "code",
   "execution_count": 244,
   "id": "8c3254b0",
   "metadata": {},
   "outputs": [],
   "source": [
    "from sklearn.pipeline import Pipeline\n",
    "from sklearn.compose import ColumnTransformer\n",
    "from sklearn.preprocessing import LabelEncoder, OneHotEncoder\n",
    "\n",
    "\n",
    "num_trans = Pipeline([\n",
    "    ('imputer', KNNImputer(n_neighbors=4)),\n",
    "    ('sclaer', MinMaxScaler())\n",
    "])\n",
    "\n",
    "cat_trans = OneHotEncoder(handle_unknown='ignore', sparse=False)\n",
    "\n",
    "preprocessor = ColumnTransformer([\n",
    "    ('num_trans', num_trans,['protein','fat','carb','sodium','calcium','kcal']),\n",
    "    ('cat_trans', cat_trans, ['food_type'])\n",
    "])\n",
    "\n",
    "#['protein','fat','carb','sodium','calcium','kcal','2019']"
   ]
  },
  {
   "cell_type": "code",
   "execution_count": 245,
   "id": "ce81c352",
   "metadata": {},
   "outputs": [
    {
     "data": {
      "text/plain": [
       "array([[0.08998748, 0.0385    , 0.75803213, ..., 0.        , 0.        ,\n",
       "        0.        ],\n",
       "       [0.        , 0.0032    , 1.        , ..., 0.        , 0.        ,\n",
       "        0.        ],\n",
       "       [0.18898623, 0.0273    , 0.71485944, ..., 0.        , 0.        ,\n",
       "        0.        ],\n",
       "       ...,\n",
       "       [1.        , 0.0065    , 0.06044177, ..., 0.        , 0.        ,\n",
       "        0.        ],\n",
       "       [0.00871089, 0.00425   , 0.03855422, ..., 0.        , 0.        ,\n",
       "        0.        ],\n",
       "       [0.18898623, 0.0273    , 0.71485944, ..., 0.        , 1.        ,\n",
       "        0.        ]])"
      ]
     },
     "execution_count": 245,
     "metadata": {},
     "output_type": "execute_result"
    }
   ],
   "source": [
    "X_t =  preprocessor.fit_transform(X)\n",
    "#X2_t =  preprocessor2.fit_transform(X2)\n",
    "X_t"
   ]
  },
  {
   "cell_type": "markdown",
   "id": "a88824e1",
   "metadata": {},
   "source": [
    "### Splitting the x and y"
   ]
  },
  {
   "cell_type": "code",
   "execution_count": 312,
   "id": "8e363801",
   "metadata": {},
   "outputs": [],
   "source": [
    "from sklearn.model_selection import train_test_split\n",
    "from sklearn.model_selection import cross_val_score"
   ]
  },
  {
   "cell_type": "code",
   "execution_count": 313,
   "id": "fb741d45",
   "metadata": {},
   "outputs": [],
   "source": [
    "X_train, X_test, y_train, y_test = train_test_split(X_t, y, test_size=0.3)"
   ]
  },
  {
   "cell_type": "markdown",
   "id": "486a8008",
   "metadata": {},
   "source": [
    "### Basic linear regression"
   ]
  },
  {
   "cell_type": "code",
   "execution_count": 314,
   "id": "c222a432",
   "metadata": {},
   "outputs": [],
   "source": [
    "from sklearn.linear_model import LinearRegression\n",
    "from sklearn.model_selection import cross_validate"
   ]
  },
  {
   "cell_type": "code",
   "execution_count": 315,
   "id": "4cc9dbf2",
   "metadata": {},
   "outputs": [
    {
     "data": {
      "text/plain": [
       "{'fit_time': array([0.00215197, 0.00131917, 0.00389147, 0.00190496, 0.00160909]),\n",
       " 'score_time': array([0.00219202, 0.00183821, 0.0044291 , 0.00271654, 0.00117397]),\n",
       " 'test_max_error': array([-1.18088225, -4.87989614, -4.73361222, -3.08010775, -1.15271603]),\n",
       " 'test_r2': array([-22.47787486,   0.07624611,   0.20566352,   0.04957641,\n",
       "          0.30544593]),\n",
       " 'test_neg_mean_squared_error': array([-0.73296811, -3.28298565, -2.7959454 , -1.32922636, -0.82071571]),\n",
       " 'test_neg_mean_absolute_error': array([-0.83260868, -1.10138324, -1.00348108, -0.76174371, -0.88130004])}"
      ]
     },
     "execution_count": 315,
     "metadata": {},
     "output_type": "execute_result"
    }
   ],
   "source": [
    "base_model = LinearRegression()\n",
    "\n",
    "cv_results = cross_validate(base_model, X_train, y_train, cv=5, scoring = ['max_error','r2','neg_mean_squared_error','neg_mean_absolute_error'])\n",
    "cv_results"
   ]
  },
  {
   "cell_type": "code",
   "execution_count": 316,
   "id": "0055059a",
   "metadata": {},
   "outputs": [
    {
     "data": {
      "text/plain": [
       "{'test_max_error': -3.0054428792890144,\n",
       " 'test_r2': -4.368188577435199,\n",
       " 'test_neg_mean_squared_error': -1.7923682458519845,\n",
       " 'test_neg_mean_absolute_error': -0.9161033486079415}"
      ]
     },
     "execution_count": 316,
     "metadata": {},
     "output_type": "execute_result"
    }
   ],
   "source": [
    "base_results = {\n",
    "    'test_max_error': cv_results['test_max_error'].mean(),\n",
    "    'test_r2': cv_results['test_r2'].mean(),\n",
    "    'test_neg_mean_squared_error': cv_results['test_neg_mean_squared_error'].mean(),\n",
    "    'test_neg_mean_absolute_error': cv_results['test_neg_mean_absolute_error'].mean()\n",
    "}\n",
    "base_results"
   ]
  },
  {
   "cell_type": "code",
   "execution_count": 317,
   "id": "33fcb6d6",
   "metadata": {},
   "outputs": [
    {
     "data": {
      "text/plain": [
       "-1.8743363376510707"
      ]
     },
     "execution_count": 317,
     "metadata": {},
     "output_type": "execute_result"
    }
   ],
   "source": [
    "base_model.fit(X_train, y_train)\n",
    "base_model.score(X_test, y_test)"
   ]
  },
  {
   "cell_type": "code",
   "execution_count": 318,
   "id": "f750d329",
   "metadata": {},
   "outputs": [
    {
     "data": {
      "text/plain": [
       "-14.2274063776306"
      ]
     },
     "execution_count": 318,
     "metadata": {},
     "output_type": "execute_result"
    }
   ],
   "source": [
    "scores = cross_val_score(base_model, X_train, y_train, cv=10)\n",
    "scores.mean()"
   ]
  },
  {
   "cell_type": "markdown",
   "id": "43b70b3f",
   "metadata": {},
   "source": [
    "### Basic KNN regressor"
   ]
  },
  {
   "cell_type": "code",
   "execution_count": 319,
   "id": "33b7bde0",
   "metadata": {},
   "outputs": [],
   "source": [
    "from sklearn.neighbors import KNeighborsRegressor\n",
    "\n",
    "k_model = KNeighborsRegressor(n_neighbors=5)"
   ]
  },
  {
   "cell_type": "code",
   "execution_count": 320,
   "id": "33cfec73",
   "metadata": {},
   "outputs": [],
   "source": [
    "cv_results_k = cross_validate(k_model, X_train, y_train, cv=5, scoring = ['max_error','r2','neg_mean_squared_error','neg_mean_absolute_error'])"
   ]
  },
  {
   "cell_type": "code",
   "execution_count": 321,
   "id": "66c95619",
   "metadata": {},
   "outputs": [
    {
     "data": {
      "text/plain": [
       "{'test_max_error': -3.012300342190014,\n",
       " 'test_r2': -0.6044676207026486,\n",
       " 'test_neg_mean_squared_error': -1.5900675617047444,\n",
       " 'test_neg_mean_absolute_error': -0.7397679039879977}"
      ]
     },
     "execution_count": 321,
     "metadata": {},
     "output_type": "execute_result"
    }
   ],
   "source": [
    "k_model_results = {\n",
    "    'test_max_error': cv_results_k['test_max_error'].mean(),\n",
    "    'test_r2': cv_results_k['test_r2'].mean(),\n",
    "    'test_neg_mean_squared_error': cv_results_k['test_neg_mean_squared_error'].mean(),\n",
    "    'test_neg_mean_absolute_error': cv_results_k['test_neg_mean_absolute_error'].mean()\n",
    "}\n",
    "k_model_results"
   ]
  },
  {
   "cell_type": "code",
   "execution_count": 322,
   "id": "7013cbf2",
   "metadata": {},
   "outputs": [
    {
     "data": {
      "text/plain": [
       "-0.768468104982633"
      ]
     },
     "execution_count": 322,
     "metadata": {},
     "output_type": "execute_result"
    }
   ],
   "source": [
    "k_model.fit(X_train, y_train)\n",
    "k_model.score(X_test, y_test)"
   ]
  },
  {
   "cell_type": "code",
   "execution_count": 323,
   "id": "49634be6",
   "metadata": {},
   "outputs": [
    {
     "data": {
      "text/plain": [
       "-4.257965939090039"
      ]
     },
     "execution_count": 323,
     "metadata": {},
     "output_type": "execute_result"
    }
   ],
   "source": [
    "scores = cross_val_score(k_model, X_train, y_train, cv=10)\n",
    "scores.mean()"
   ]
  },
  {
   "cell_type": "markdown",
   "id": "05795223",
   "metadata": {},
   "source": [
    "### Basic Ridge Regressor"
   ]
  },
  {
   "cell_type": "code",
   "execution_count": 324,
   "id": "5e87800a",
   "metadata": {},
   "outputs": [],
   "source": [
    "from sklearn.linear_model import Ridge\n",
    "\n",
    "r_model = Ridge(alpha=4)"
   ]
  },
  {
   "cell_type": "code",
   "execution_count": 325,
   "id": "8594ecda",
   "metadata": {},
   "outputs": [],
   "source": [
    "cv_results_r = cross_validate(r_model, X_train, y_train, cv=5, scoring = ['max_error','r2','neg_mean_squared_error','neg_mean_absolute_error'])"
   ]
  },
  {
   "cell_type": "code",
   "execution_count": 326,
   "id": "3efd418c",
   "metadata": {},
   "outputs": [
    {
     "data": {
      "text/plain": [
       "{'test_max_error': -3.0734461985644175,\n",
       " 'test_r2': -5.732558470843849,\n",
       " 'test_neg_mean_squared_error': -2.034454420115477,\n",
       " 'test_neg_mean_absolute_error': -0.9888526073247308}"
      ]
     },
     "execution_count": 326,
     "metadata": {},
     "output_type": "execute_result"
    }
   ],
   "source": [
    "r_model_results = {\n",
    "    'test_max_error': cv_results_r['test_max_error'].mean(),\n",
    "    'test_r2': cv_results_r['test_r2'].mean(),\n",
    "    'test_neg_mean_squared_error': cv_results_r['test_neg_mean_squared_error'].mean(),\n",
    "    'test_neg_mean_absolute_error': cv_results_r['test_neg_mean_absolute_error'].mean()\n",
    "}\n",
    "r_model_results"
   ]
  },
  {
   "cell_type": "code",
   "execution_count": 327,
   "id": "3d5ef7c4",
   "metadata": {},
   "outputs": [
    {
     "data": {
      "text/plain": [
       "-0.5907815411886241"
      ]
     },
     "execution_count": 327,
     "metadata": {},
     "output_type": "execute_result"
    }
   ],
   "source": [
    "r_model.fit(X_train, y_train)\n",
    "r_model.score(X_test, y_test)"
   ]
  },
  {
   "cell_type": "code",
   "execution_count": 328,
   "id": "c530ea9c",
   "metadata": {},
   "outputs": [
    {
     "data": {
      "text/plain": [
       "-17.587450704110868"
      ]
     },
     "execution_count": 328,
     "metadata": {},
     "output_type": "execute_result"
    }
   ],
   "source": [
    "scores = cross_val_score(r_model, X_train, y_train, cv=10)\n",
    "scores.mean()"
   ]
  },
  {
   "cell_type": "markdown",
   "id": "e566d409",
   "metadata": {},
   "source": [
    "### Basic SVR "
   ]
  },
  {
   "cell_type": "code",
   "execution_count": 294,
   "id": "0d6b64c4",
   "metadata": {},
   "outputs": [],
   "source": [
    "from sklearn.svm import SVR\n",
    "\n",
    "svr_model = SVR(kernel='poly', C=0.2, epsilon=0.2)"
   ]
  },
  {
   "cell_type": "code",
   "execution_count": 295,
   "id": "7b6a6191",
   "metadata": {},
   "outputs": [],
   "source": [
    "cv_results_svr = cross_validate(svr_model, X_train, y_train, cv=5, scoring = ['max_error','r2','neg_mean_squared_error','neg_mean_absolute_error'])"
   ]
  },
  {
   "cell_type": "code",
   "execution_count": 296,
   "id": "906b0c88",
   "metadata": {},
   "outputs": [
    {
     "data": {
      "text/plain": [
       "{'test_max_error': -2.7791871528915904,\n",
       " 'test_r2': -0.19684598260481248,\n",
       " 'test_neg_mean_squared_error': -1.698884270940071,\n",
       " 'test_neg_mean_absolute_error': -0.8113052309125038}"
      ]
     },
     "execution_count": 296,
     "metadata": {},
     "output_type": "execute_result"
    }
   ],
   "source": [
    "svr_model_results = {\n",
    "    'test_max_error': cv_results_svr['test_max_error'].mean(),\n",
    "    'test_r2': cv_results_svr['test_r2'].mean(),\n",
    "    'test_neg_mean_squared_error': cv_results_svr['test_neg_mean_squared_error'].mean(),\n",
    "    'test_neg_mean_absolute_error': cv_results_svr['test_neg_mean_absolute_error'].mean()\n",
    "}\n",
    "svr_model_results"
   ]
  },
  {
   "cell_type": "code",
   "execution_count": 297,
   "id": "0e6ab740",
   "metadata": {},
   "outputs": [
    {
     "data": {
      "text/plain": [
       "-0.04392194091464385"
      ]
     },
     "execution_count": 297,
     "metadata": {},
     "output_type": "execute_result"
    }
   ],
   "source": [
    "svr_model.fit(X_train, y_train)\n",
    "svr_model.score(X_test, y_test)"
   ]
  },
  {
   "cell_type": "code",
   "execution_count": 311,
   "id": "5b5829e1",
   "metadata": {},
   "outputs": [
    {
     "data": {
      "text/plain": [
       "-0.23841508512903306"
      ]
     },
     "execution_count": 311,
     "metadata": {},
     "output_type": "execute_result"
    }
   ],
   "source": [
    "scores = cross_val_score(svr_model, X_train, y_train, cv=10)\n",
    "scores.mean()"
   ]
  },
  {
   "cell_type": "markdown",
   "id": "de41b8bb",
   "metadata": {},
   "source": [
    "### Partial conclusions\n",
    "\n",
    "- Selecting one country does not improve the metrics\n",
    "- Within one country, selecting only nutrients does worsen the model\n",
    "- Keep the food type as an X feature prevents the metrics to go negative\n",
    "\n",
    "- The holdout method shows different results with great variation\n",
    "\n",
    "- The best score has been obtained by the KNN regressor with a r2 of 0.42"
   ]
  },
  {
   "cell_type": "markdown",
   "id": "9f7e740a",
   "metadata": {},
   "source": [
    "# Performing a random search"
   ]
  },
  {
   "cell_type": "code",
   "execution_count": 329,
   "id": "d6712a7b",
   "metadata": {},
   "outputs": [
    {
     "data": {
      "text/plain": [
       "(68, 7)"
      ]
     },
     "execution_count": 329,
     "metadata": {},
     "output_type": "execute_result"
    }
   ],
   "source": [
    "X.shape"
   ]
  },
  {
   "cell_type": "code",
   "execution_count": null,
   "id": "95ea28bc",
   "metadata": {},
   "outputs": [],
   "source": []
  }
 ],
 "metadata": {
  "kernelspec": {
   "display_name": "Python 3 (ipykernel)",
   "language": "python",
   "name": "python3"
  },
  "language_info": {
   "codemirror_mode": {
    "name": "ipython",
    "version": 3
   },
   "file_extension": ".py",
   "mimetype": "text/x-python",
   "name": "python",
   "nbconvert_exporter": "python",
   "pygments_lexer": "ipython3",
   "version": "3.8.12"
  }
 },
 "nbformat": 4,
 "nbformat_minor": 5
}
